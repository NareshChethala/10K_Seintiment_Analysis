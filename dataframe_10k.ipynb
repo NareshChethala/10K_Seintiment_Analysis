{
 "cells": [
  {
   "cell_type": "code",
   "execution_count": 6,
   "id": "3a02ead3-dd98-4079-9873-05805991a63f",
   "metadata": {},
   "outputs": [],
   "source": [
    "import os\n",
    "import pandas as pd\n",
    "from datetime import datetime\n",
    "from tqdm import tqdm\n",
    "import re"
   ]
  },
  {
   "cell_type": "markdown",
   "id": "04d1ac39",
   "metadata": {},
   "source": [
    "## Download .idx master files in between required Time Period"
   ]
  },
  {
   "cell_type": "code",
   "execution_count": 2,
   "id": "ffa62d28",
   "metadata": {},
   "outputs": [
    {
     "name": "stdout",
     "output_type": "stream",
     "text": [
      "Attempting to download https://www.sec.gov/Archives/edgar/full-index/2013/QTR1/company.idx...\n",
      "Successfully downloaded https://www.sec.gov/Archives/edgar/full-index/2013/QTR1/company.idx\n",
      "Attempting to download https://www.sec.gov/Archives/edgar/full-index/2013/QTR2/company.idx...\n",
      "Successfully downloaded https://www.sec.gov/Archives/edgar/full-index/2013/QTR2/company.idx\n",
      "Attempting to download https://www.sec.gov/Archives/edgar/full-index/2013/QTR3/company.idx...\n",
      "Successfully downloaded https://www.sec.gov/Archives/edgar/full-index/2013/QTR3/company.idx\n",
      "Attempting to download https://www.sec.gov/Archives/edgar/full-index/2013/QTR4/company.idx...\n",
      "Successfully downloaded https://www.sec.gov/Archives/edgar/full-index/2013/QTR4/company.idx\n",
      "Attempting to download https://www.sec.gov/Archives/edgar/full-index/2014/QTR1/company.idx...\n",
      "Successfully downloaded https://www.sec.gov/Archives/edgar/full-index/2014/QTR1/company.idx\n",
      "Attempting to download https://www.sec.gov/Archives/edgar/full-index/2014/QTR2/company.idx...\n",
      "Successfully downloaded https://www.sec.gov/Archives/edgar/full-index/2014/QTR2/company.idx\n",
      "Attempting to download https://www.sec.gov/Archives/edgar/full-index/2014/QTR3/company.idx...\n",
      "Successfully downloaded https://www.sec.gov/Archives/edgar/full-index/2014/QTR3/company.idx\n",
      "Attempting to download https://www.sec.gov/Archives/edgar/full-index/2014/QTR4/company.idx...\n",
      "Successfully downloaded https://www.sec.gov/Archives/edgar/full-index/2014/QTR4/company.idx\n",
      "Attempting to download https://www.sec.gov/Archives/edgar/full-index/2015/QTR1/company.idx...\n",
      "Successfully downloaded https://www.sec.gov/Archives/edgar/full-index/2015/QTR1/company.idx\n",
      "Attempting to download https://www.sec.gov/Archives/edgar/full-index/2015/QTR2/company.idx...\n",
      "Successfully downloaded https://www.sec.gov/Archives/edgar/full-index/2015/QTR2/company.idx\n",
      "Attempting to download https://www.sec.gov/Archives/edgar/full-index/2015/QTR3/company.idx...\n",
      "Successfully downloaded https://www.sec.gov/Archives/edgar/full-index/2015/QTR3/company.idx\n",
      "Attempting to download https://www.sec.gov/Archives/edgar/full-index/2015/QTR4/company.idx...\n",
      "Successfully downloaded https://www.sec.gov/Archives/edgar/full-index/2015/QTR4/company.idx\n",
      "Attempting to download https://www.sec.gov/Archives/edgar/full-index/2016/QTR1/company.idx...\n",
      "Successfully downloaded https://www.sec.gov/Archives/edgar/full-index/2016/QTR1/company.idx\n",
      "Attempting to download https://www.sec.gov/Archives/edgar/full-index/2016/QTR2/company.idx...\n",
      "Successfully downloaded https://www.sec.gov/Archives/edgar/full-index/2016/QTR2/company.idx\n",
      "Attempting to download https://www.sec.gov/Archives/edgar/full-index/2016/QTR3/company.idx...\n",
      "Successfully downloaded https://www.sec.gov/Archives/edgar/full-index/2016/QTR3/company.idx\n",
      "Attempting to download https://www.sec.gov/Archives/edgar/full-index/2016/QTR4/company.idx...\n",
      "Successfully downloaded https://www.sec.gov/Archives/edgar/full-index/2016/QTR4/company.idx\n",
      "Attempting to download https://www.sec.gov/Archives/edgar/full-index/2017/QTR1/company.idx...\n",
      "Successfully downloaded https://www.sec.gov/Archives/edgar/full-index/2017/QTR1/company.idx\n",
      "Attempting to download https://www.sec.gov/Archives/edgar/full-index/2017/QTR2/company.idx...\n",
      "Successfully downloaded https://www.sec.gov/Archives/edgar/full-index/2017/QTR2/company.idx\n",
      "Attempting to download https://www.sec.gov/Archives/edgar/full-index/2017/QTR3/company.idx...\n",
      "Successfully downloaded https://www.sec.gov/Archives/edgar/full-index/2017/QTR3/company.idx\n",
      "Attempting to download https://www.sec.gov/Archives/edgar/full-index/2017/QTR4/company.idx...\n",
      "Successfully downloaded https://www.sec.gov/Archives/edgar/full-index/2017/QTR4/company.idx\n",
      "Attempting to download https://www.sec.gov/Archives/edgar/full-index/2018/QTR1/company.idx...\n",
      "Successfully downloaded https://www.sec.gov/Archives/edgar/full-index/2018/QTR1/company.idx\n",
      "Attempting to download https://www.sec.gov/Archives/edgar/full-index/2018/QTR2/company.idx...\n",
      "Successfully downloaded https://www.sec.gov/Archives/edgar/full-index/2018/QTR2/company.idx\n",
      "Attempting to download https://www.sec.gov/Archives/edgar/full-index/2018/QTR3/company.idx...\n",
      "Successfully downloaded https://www.sec.gov/Archives/edgar/full-index/2018/QTR3/company.idx\n",
      "Attempting to download https://www.sec.gov/Archives/edgar/full-index/2018/QTR4/company.idx...\n",
      "Successfully downloaded https://www.sec.gov/Archives/edgar/full-index/2018/QTR4/company.idx\n",
      "Attempting to download https://www.sec.gov/Archives/edgar/full-index/2019/QTR1/company.idx...\n",
      "Successfully downloaded https://www.sec.gov/Archives/edgar/full-index/2019/QTR1/company.idx\n",
      "Attempting to download https://www.sec.gov/Archives/edgar/full-index/2019/QTR2/company.idx...\n",
      "Successfully downloaded https://www.sec.gov/Archives/edgar/full-index/2019/QTR2/company.idx\n",
      "Attempting to download https://www.sec.gov/Archives/edgar/full-index/2019/QTR3/company.idx...\n",
      "Successfully downloaded https://www.sec.gov/Archives/edgar/full-index/2019/QTR3/company.idx\n",
      "Attempting to download https://www.sec.gov/Archives/edgar/full-index/2019/QTR4/company.idx...\n",
      "Successfully downloaded https://www.sec.gov/Archives/edgar/full-index/2019/QTR4/company.idx\n",
      "Attempting to download https://www.sec.gov/Archives/edgar/full-index/2020/QTR1/company.idx...\n",
      "Successfully downloaded https://www.sec.gov/Archives/edgar/full-index/2020/QTR1/company.idx\n",
      "Attempting to download https://www.sec.gov/Archives/edgar/full-index/2020/QTR2/company.idx...\n",
      "Successfully downloaded https://www.sec.gov/Archives/edgar/full-index/2020/QTR2/company.idx\n",
      "Attempting to download https://www.sec.gov/Archives/edgar/full-index/2020/QTR3/company.idx...\n",
      "Successfully downloaded https://www.sec.gov/Archives/edgar/full-index/2020/QTR3/company.idx\n",
      "Attempting to download https://www.sec.gov/Archives/edgar/full-index/2020/QTR4/company.idx...\n",
      "Successfully downloaded https://www.sec.gov/Archives/edgar/full-index/2020/QTR4/company.idx\n",
      "Attempting to download https://www.sec.gov/Archives/edgar/full-index/2021/QTR1/company.idx...\n",
      "Successfully downloaded https://www.sec.gov/Archives/edgar/full-index/2021/QTR1/company.idx\n",
      "Attempting to download https://www.sec.gov/Archives/edgar/full-index/2021/QTR2/company.idx...\n",
      "Successfully downloaded https://www.sec.gov/Archives/edgar/full-index/2021/QTR2/company.idx\n",
      "Attempting to download https://www.sec.gov/Archives/edgar/full-index/2021/QTR3/company.idx...\n",
      "Successfully downloaded https://www.sec.gov/Archives/edgar/full-index/2021/QTR3/company.idx\n",
      "Attempting to download https://www.sec.gov/Archives/edgar/full-index/2021/QTR4/company.idx...\n",
      "Successfully downloaded https://www.sec.gov/Archives/edgar/full-index/2021/QTR4/company.idx\n",
      "Attempting to download https://www.sec.gov/Archives/edgar/full-index/2022/QTR1/company.idx...\n",
      "Successfully downloaded https://www.sec.gov/Archives/edgar/full-index/2022/QTR1/company.idx\n",
      "Attempting to download https://www.sec.gov/Archives/edgar/full-index/2022/QTR2/company.idx...\n",
      "Successfully downloaded https://www.sec.gov/Archives/edgar/full-index/2022/QTR2/company.idx\n",
      "Attempting to download https://www.sec.gov/Archives/edgar/full-index/2022/QTR3/company.idx...\n",
      "Successfully downloaded https://www.sec.gov/Archives/edgar/full-index/2022/QTR3/company.idx\n",
      "Attempting to download https://www.sec.gov/Archives/edgar/full-index/2022/QTR4/company.idx...\n",
      "Successfully downloaded https://www.sec.gov/Archives/edgar/full-index/2022/QTR4/company.idx\n",
      "Attempting to download https://www.sec.gov/Archives/edgar/full-index/2023/QTR1/company.idx...\n",
      "Successfully downloaded https://www.sec.gov/Archives/edgar/full-index/2023/QTR1/company.idx\n",
      "Attempting to download https://www.sec.gov/Archives/edgar/full-index/2023/QTR2/company.idx...\n",
      "Successfully downloaded https://www.sec.gov/Archives/edgar/full-index/2023/QTR2/company.idx\n",
      "Attempting to download https://www.sec.gov/Archives/edgar/full-index/2023/QTR3/company.idx...\n",
      "Successfully downloaded https://www.sec.gov/Archives/edgar/full-index/2023/QTR3/company.idx\n",
      "Attempting to download https://www.sec.gov/Archives/edgar/full-index/2023/QTR4/company.idx...\n",
      "Successfully downloaded https://www.sec.gov/Archives/edgar/full-index/2023/QTR4/company.idx\n",
      "All requested files have been attempted to download.\n"
     ]
    }
   ],
   "source": [
    "import requests\n",
    "import os\n",
    "import time\n",
    "\n",
    "# Base URL for the SEC EDGAR full index\n",
    "base_url = 'https://www.sec.gov/Archives/edgar/full-index/'\n",
    "\n",
    "# Function to download the file, now includes headers parameter\n",
    "def download_file(url, path, headers):\n",
    "    with requests.get(url, headers=headers, stream=True) as r:\n",
    "        r.raise_for_status()\n",
    "        with open(path, 'wb') as f:\n",
    "            for chunk in r.iter_content(chunk_size=8192):\n",
    "                f.write(chunk)\n",
    "\n",
    "# Prompt for start and end year\n",
    "start_year = int(input(\"Enter the start year (YYYY): \"))\n",
    "end_year = int(input(\"Enter the end year (YYYY): \"))\n",
    "save_dir = input('Please Input Path to Your Directory to Download Files:')\n",
    "\n",
    "# Add your user-agent string here\n",
    "headers = {'User-Agent': 'useremail@email.com'}\n",
    "\n",
    "# Iterate over each year and quarter within the specified range\n",
    "for year in range(start_year, end_year + 1):\n",
    "    for quarter in ['QTR1', 'QTR2', 'QTR3', 'QTR4']:\n",
    "        file_url = f\"{base_url}{year}/{quarter}/company.idx\"\n",
    "        save_path = os.path.join(save_dir, f\"{year}_{quarter}_company.idx\")\n",
    "\n",
    "        print(f\"Attempting to download {file_url}...\")\n",
    "\n",
    "        # Make the download attempt\n",
    "        try:\n",
    "            download_file(file_url, save_path, headers)\n",
    "            print(f\"Successfully downloaded {file_url}\")\n",
    "        except Exception as e:\n",
    "            print(f\"Failed to download {file_url}. Error: {e}\")\n",
    "\n",
    "        # Respect the SEC's rate limiting\n",
    "        time.sleep(1)  # Sleep for 1 second to avoid hitting rate limit\n",
    "\n",
    "print(\"All requested files have been attempted to download.\")"
   ]
  },
  {
   "cell_type": "markdown",
   "id": "a448d39e",
   "metadata": {},
   "source": [
    "## Combine all the .idx files into a single dataframe/.csv file"
   ]
  },
  {
   "cell_type": "code",
   "execution_count": 3,
   "id": "ae21b83e",
   "metadata": {},
   "outputs": [
    {
     "name": "stdout",
     "output_type": "stream",
     "text": [
      "Data saved successfully to /Users/nareshchethala/Desktop/University/Spring_25/BAIM_660/combined_data.csv\n"
     ]
    },
    {
     "data": {
      "text/html": [
       "<div>\n",
       "<style scoped>\n",
       "    .dataframe tbody tr th:only-of-type {\n",
       "        vertical-align: middle;\n",
       "    }\n",
       "\n",
       "    .dataframe tbody tr th {\n",
       "        vertical-align: top;\n",
       "    }\n",
       "\n",
       "    .dataframe thead th {\n",
       "        text-align: right;\n",
       "    }\n",
       "</style>\n",
       "<table border=\"1\" class=\"dataframe\">\n",
       "  <thead>\n",
       "    <tr style=\"text-align: right;\">\n",
       "      <th></th>\n",
       "      <th>Company Name</th>\n",
       "      <th>Form Type</th>\n",
       "      <th>CIK</th>\n",
       "      <th>Date Filed</th>\n",
       "      <th>Filename</th>\n",
       "    </tr>\n",
       "  </thead>\n",
       "  <tbody>\n",
       "    <tr>\n",
       "      <th>0</th>\n",
       "      <td>--------------------------------------------------------------</td>\n",
       "      <td>------------</td>\n",
       "      <td>------------</td>\n",
       "      <td>------------</td>\n",
       "      <td>-------------------------------------------</td>\n",
       "    </tr>\n",
       "    <tr>\n",
       "      <th>1</th>\n",
       "      <td>1 800 FLOWERS COM INC</td>\n",
       "      <td>10-K</td>\n",
       "      <td>1084869</td>\n",
       "      <td>2020-09</td>\n",
       "      <td>-11  edgar/data/1084869/0001437749-20-019622.txt</td>\n",
       "    </tr>\n",
       "    <tr>\n",
       "      <th>2</th>\n",
       "      <td>1 800 FLOWERS COM INC</td>\n",
       "      <td>3</td>\n",
       "      <td>1084869</td>\n",
       "      <td>2020-07</td>\n",
       "      <td>-02  edgar/data/1084869/0001437749-20-014500.txt</td>\n",
       "    </tr>\n",
       "    <tr>\n",
       "      <th>3</th>\n",
       "      <td>1 800 FLOWERS COM INC</td>\n",
       "      <td>4</td>\n",
       "      <td>1084869</td>\n",
       "      <td>2020-09</td>\n",
       "      <td>-02  edgar/data/1084869/0001437749-20-019189.txt</td>\n",
       "    </tr>\n",
       "    <tr>\n",
       "      <th>4</th>\n",
       "      <td>1 800 FLOWERS COM INC</td>\n",
       "      <td>4</td>\n",
       "      <td>1084869</td>\n",
       "      <td>2020-09</td>\n",
       "      <td>-02  edgar/data/1084869/0001437749-20-019193.txt</td>\n",
       "    </tr>\n",
       "  </tbody>\n",
       "</table>\n",
       "</div>"
      ],
      "text/plain": [
       "                                                     Company Name  \\\n",
       "0  --------------------------------------------------------------   \n",
       "1                                           1 800 FLOWERS COM INC   \n",
       "2                                           1 800 FLOWERS COM INC   \n",
       "3                                           1 800 FLOWERS COM INC   \n",
       "4                                           1 800 FLOWERS COM INC   \n",
       "\n",
       "      Form Type           CIK    Date Filed  \\\n",
       "0  ------------  ------------  ------------   \n",
       "1          10-K       1084869       2020-09   \n",
       "2             3       1084869       2020-07   \n",
       "3             4       1084869       2020-09   \n",
       "4             4       1084869       2020-09   \n",
       "\n",
       "                                           Filename  \n",
       "0       -------------------------------------------  \n",
       "1  -11  edgar/data/1084869/0001437749-20-019622.txt  \n",
       "2  -02  edgar/data/1084869/0001437749-20-014500.txt  \n",
       "3  -02  edgar/data/1084869/0001437749-20-019189.txt  \n",
       "4  -02  edgar/data/1084869/0001437749-20-019193.txt  "
      ]
     },
     "execution_count": 3,
     "metadata": {},
     "output_type": "execute_result"
    }
   ],
   "source": [
    "import pandas as pd\n",
    "import os\n",
    "\n",
    "# Adjusting pandas display options for more optimized data viewing\n",
    "pd.set_option('display.max_rows', None)  # Display all rows\n",
    "pd.set_option('display.max_columns', None)  # Display all columns\n",
    "pd.set_option('display.width', None)  # Automatically adjust display width to terminal size\n",
    "pd.set_option('display.max_colwidth', None)  # Display full content of each cell\n",
    "\n",
    "#Load data from all EDGAR index files in the specified director\n",
    "def load_data_from_directory(source_dir):\n",
    "    colspecs = [(0, 62), (62, 74), (74, 86), (86, 98), (98, None)]\n",
    "    column_names = ['Company Name', 'Form Type', 'CIK', 'Date Filed', 'Filename']\n",
    "    dataframe_collection = []\n",
    "\n",
    "    # Iterate over each file in the directory\n",
    "    for file_name in os.listdir(source_dir):\n",
    "        if file_name.endswith('.idx'):  # Check for .idx files\n",
    "            file_path = os.path.join(source_dir, file_name)\n",
    "            try:\n",
    "                # Read fixed-width file with specified columns and skip header rows\n",
    "                temp_df = pd.read_fwf(file_path, colspecs=colspecs, skiprows=9, names=column_names)\n",
    "                dataframe_collection.append(temp_df)\n",
    "            except UnicodeDecodeError as e:\n",
    "                print(f'Error reading {file_name}: {e}')\n",
    "                continue\n",
    "            except Exception as e:\n",
    "                print(f'An unexpected error occurred while reading {file_name}: {e}')\n",
    "                continue\n",
    "\n",
    "    if not dataframe_collection:\n",
    "        print(\"No data was loaded. Please check your file paths and names.\")\n",
    "        return pd.DataFrame()\n",
    "\n",
    "    # Concatenate all DataFrames into one DataFrame\n",
    "    combined_df = pd.concat(dataframe_collection, ignore_index=True)\n",
    "    combined_df.columns = combined_df.columns.str.strip()  # Strip any leading/trailing whitespace from column names\n",
    "    return combined_df\n",
    "\n",
    "def save_to_csv(df, output_path):\n",
    "    \"\"\"Save DataFrame to a CSV file.\"\"\"\n",
    "    try:\n",
    "        df.to_csv(output_path, index=False)\n",
    "        print(f\"Data saved successfully to {output_path}\")\n",
    "    except Exception as e:\n",
    "        print(f\"Failed to save the DataFrame: {e}\")\n",
    "\n",
    "# Main execution logic\n",
    "if __name__ == \"__main__\":\n",
    "    source_directory = input('Enter/path/to/data/directory: ')  # Get directory containing the data files from user\n",
    "    csv_name = input('Enter the filename for the CSV (e.g., combined_data.csv): ')\n",
    "    output_path = os.path.join(source_directory, csv_name)  # Construct the full path to save the CSV file\n",
    "\n",
    "    # Load data from the specified directory\n",
    "    all_data_df = load_data_from_directory(source_directory)\n",
    "\n",
    "    # Save the data to a CSV file\n",
    "    if not all_data_df.empty:\n",
    "        save_to_csv(all_data_df, output_path)\n",
    "    else:\n",
    "        print(\"No data to save.\")\n",
    "\n",
    "all_data_df.head()"
   ]
  },
  {
   "cell_type": "markdown",
   "id": "4362eef5",
   "metadata": {},
   "source": [
    "## Load the combined data csv file"
   ]
  },
  {
   "cell_type": "code",
   "execution_count": 15,
   "id": "807c1c61",
   "metadata": {},
   "outputs": [
    {
     "name": "stderr",
     "output_type": "stream",
     "text": [
      "/var/folders/w1/vt1xc8rs7w9f0fs5spyxbzcc0000gn/T/ipykernel_49976/1991040894.py:2: DtypeWarning: Columns (2) have mixed types. Specify dtype option on import or set low_memory=False.\n",
      "  all_data_df = pd.read_csv(output_path) # If running seperately wihtout the download or comined data then replace output_path with the path to the csv file\n"
     ]
    }
   ],
   "source": [
    "output_path = \"/Users/nareshchethala/Desktop/University/Spring_25/BAIM_660/combined_data.csv\" # No need to run this if you are running the code in one go\n",
    "all_data_df = pd.read_csv(output_path) # If running seperately wihtout the download or comined data then replace output_path with the path to the csv file"
   ]
  },
  {
   "cell_type": "markdown",
   "id": "54587e0c",
   "metadata": {},
   "source": [
    "## To extract the html content from the company filings"
   ]
  },
  {
   "cell_type": "code",
   "execution_count": 16,
   "id": "18276943",
   "metadata": {},
   "outputs": [],
   "source": [
    "#This one works\n",
    "import requests\n",
    "from bs4 import BeautifulSoup\n",
    "import pandas as pd\n",
    "\n",
    "def extract_filing_html_directly(row, user_agent_email):\n",
    "    \"\"\"\n",
    "    Extracts the actual 10-K filing HTML content from a row in .idx using the real HTML URL.\n",
    "    \"\"\"\n",
    "    try:\n",
    "        filename = row['Filename'].strip().replace(\" \", \"\")\n",
    "        path_parts = filename.split(\"/\")\n",
    "\n",
    "        if len(path_parts) < 4:\n",
    "            print(f\"Invalid path in Filename: {filename}\")\n",
    "            return None, None\n",
    "\n",
    "        cik = path_parts[2]\n",
    "        accession_with_dashes = path_parts[3]\n",
    "        accession_nodashes = accession_with_dashes.replace(\"-\", \"\")\n",
    "        index_filename = accession_with_dashes + \"-index.htm\"\n",
    "\n",
    "        index_url = f\"https://www.sec.gov/Archives/edgar/data/{cik}/{accession_nodashes}/{index_filename}\"\n",
    "        headers = {\"User-Agent\": user_agent_email}\n",
    "\n",
    "        response = requests.get(index_url, headers=headers, timeout=10)\n",
    "        if response.status_code != 200:\n",
    "            print(f\"Failed to load index page: {index_url}\")\n",
    "            return None, None\n",
    "\n",
    "        soup = BeautifulSoup(response.text, \"html.parser\")\n",
    "        doc_table = soup.find(\"table\", class_=\"tableFile\")\n",
    "        if doc_table is None:\n",
    "            print(f\"Could not find document table at: {index_url}\")\n",
    "            return None, None\n",
    "\n",
    "        doc_link_tag = doc_table.find(\"a\", href=lambda href: href and href.endswith(\".htm\") and not href.endswith(\"-index.htm\"))\n",
    "        if doc_link_tag is None:\n",
    "            print(f\"No .htm filing document found in index page: {index_url}\")\n",
    "            return None, None\n",
    "\n",
    "        primary_doc = doc_link_tag['href'].lstrip(\"/\")  # remove leading slash\n",
    "        filing_url = f\"https://www.sec.gov/{primary_doc}\"  # FIXED — no double Archives\n",
    "\n",
    "        filing_response = requests.get(filing_url, headers=headers, timeout=15)\n",
    "        if filing_response.status_code == 200:\n",
    "            print(f\"Downloaded: {filing_url}\")\n",
    "            return filing_url, filing_response.text\n",
    "        else:\n",
    "            print(f\"Failed to download filing from: {filing_url}\")\n",
    "            return filing_url, None\n",
    "\n",
    "    except Exception as e:\n",
    "        print(f\"Exception occurred: {e}\")\n",
    "        return None, None"
   ]
  },
  {
   "cell_type": "code",
   "execution_count": null,
   "id": "20b9248c",
   "metadata": {},
   "outputs": [],
   "source": [
    "# def download_multiple_10k_filings(df, user_agent_email):\n",
    "#     \"\"\"\n",
    "#     Show how many 10-Ks are available, let the user choose how many to download,\n",
    "#     and return a DataFrame with filing metadata and text.\n",
    "#     \"\"\"\n",
    "#     # Step 1: Filter for 10-Ks\n",
    "#     tenk_df = df[df['Form Type'].str.upper() == '10-K'].reset_index(drop=True)\n",
    "#     total = len(tenk_df)\n",
    "\n",
    "#     if total == 0:\n",
    "#         print(\"No 10-K filings found in the dataset.\")\n",
    "#         return pd.DataFrame()\n",
    "\n",
    "#     print(f\"Found {total} 10-K filings in the dataset.\")\n",
    "    \n",
    "#     # Step 2: Ask user for how many to download\n",
    "#     while True:\n",
    "#         try:\n",
    "#             limit = int(input(f\"Enter the number of 10-K filings to download (1 to {total}): \"))\n",
    "#             if 1 <= limit <= total:\n",
    "#                 break\n",
    "#             else:\n",
    "#                 print(f\"Please enter a number between 1 and {total}.\")\n",
    "#         except ValueError:\n",
    "#             print(\"Please enter a valid integer.\")\n",
    "\n",
    "#     # Step 3: Download filings\n",
    "#     results = []\n",
    "#     for idx, row in tenk_df.head(limit).iterrows():\n",
    "#         url, html_text = extract_filing_html_directly(row, user_agent_email)\n",
    "#         if html_text:\n",
    "#             results.append({\n",
    "#                 \"Company Name\": row['Company Name'],\n",
    "#                 \"CIK\": row['CIK'],\n",
    "#                 \"Date Filed\": row['Date Filed'],\n",
    "#                 \"Filing URL\": url,\n",
    "#                 \"Filing Text\": html_text\n",
    "#             })\n",
    "\n",
    "#     return pd.DataFrame(results)"
   ]
  },
  {
   "cell_type": "code",
   "execution_count": null,
   "id": "3b15e68b",
   "metadata": {},
   "outputs": [],
   "source": [
    "# df = input(\"Please input the dataframe name if loaded already:\")\n",
    "\n",
    "# # Downloading mulitple 10K filings\n",
    "# filings_df = download_multiple_10k_filings(df, \"nareshchandra.chethala@gmail.com\")\n",
    "\n",
    "# # Preview\n",
    "# print(filings_df[['Company Name', 'Filing URL']].head())"
   ]
  },
  {
   "cell_type": "code",
   "execution_count": null,
   "id": "0b7953e6",
   "metadata": {},
   "outputs": [],
   "source": [
    "# sample_row = df[df['Form Type'] == '10-K'].iloc[0]\n",
    "# url, html_text = extract_filing_html_directly(sample_row, \"nareshchandra.chethala@gmail.com\")\n",
    "\n",
    "# if html_text:\n",
    "#     print(\" Filing text preview:\\n\")\n",
    "#     print(html_text[:1000])\n",
    "# else:\n",
    "#     print(\"No filing text returned.\")"
   ]
  },
  {
   "cell_type": "code",
   "execution_count": null,
   "id": "7cae2c2f",
   "metadata": {},
   "outputs": [],
   "source": [
    "# print(html_text)"
   ]
  },
  {
   "cell_type": "code",
   "execution_count": 17,
   "id": "974afb41",
   "metadata": {},
   "outputs": [],
   "source": [
    "from bs4 import BeautifulSoup\n",
    "\n",
    "def clean_filing_html(filing_html):\n",
    "    \"\"\"\n",
    "    Cleans the full HTML of a 10-K filing to extract readable plain text.\n",
    "    Removes scripts, styles, and unnecessary whitespace.\n",
    "    \"\"\"\n",
    "    try:\n",
    "        soup = BeautifulSoup(filing_html, \"html.parser\")\n",
    "\n",
    "        # Remove unwanted tags\n",
    "        for tag in soup([\"script\", \"style\", \"header\", \"footer\", \"nav\", \"noscript\"]):\n",
    "            tag.decompose()\n",
    "\n",
    "        # Extract text from the body if present\n",
    "        body = soup.find(\"body\")\n",
    "        raw_text = body.get_text(separator=\"\\n\") if body else soup.get_text(separator=\"\\n\")\n",
    "\n",
    "        # Normalize whitespace\n",
    "        lines = [line.strip() for line in raw_text.splitlines()]\n",
    "        clean_text = \"\\n\".join(line for line in lines if line)\n",
    "\n",
    "        return clean_text\n",
    "\n",
    "    except Exception as e:\n",
    "        print(f\" Error cleaning HTML: {e}\")\n",
    "        return \"\""
   ]
  },
  {
   "cell_type": "code",
   "execution_count": null,
   "id": "6d8da765",
   "metadata": {},
   "outputs": [],
   "source": [
    "# clean_text = clean_filing_html(html_text)\n",
    "# print(\" Cleaned text preview:\\n\")\n",
    "# print(clean_text)"
   ]
  },
  {
   "cell_type": "code",
   "execution_count": null,
   "id": "f07a6847",
   "metadata": {},
   "outputs": [],
   "source": [
    "# print(len(clean_text))"
   ]
  },
  {
   "cell_type": "code",
   "execution_count": 18,
   "id": "f45e990f",
   "metadata": {},
   "outputs": [],
   "source": [
    "def download_multiple_10k_filings(df, user_agent_email):\n",
    "    \"\"\"\n",
    "    Show how many 10-Ks are available, let the user choose how many to download,\n",
    "    and return a DataFrame with filing metadata and text.\n",
    "    \"\"\"\n",
    "    tenk_df = df[df['Form Type'].str.upper() == '10-K'].reset_index(drop=True)\n",
    "    total = len(tenk_df)\n",
    "\n",
    "    if total == 0:\n",
    "        print(\"No 10-K filings found in the dataset.\")\n",
    "        return pd.DataFrame()\n",
    "\n",
    "    print(f\"🔍 Found {total} 10-K filings in the dataset.\")\n",
    "    \n",
    "    while True:\n",
    "        try:\n",
    "            limit = int(input(f\"Enter the number of 10-K filings to download (1 to {total}): \"))\n",
    "            if 1 <= limit <= total:\n",
    "                break\n",
    "            else:\n",
    "                print(f\"⚠️ Please enter a number between 1 and {total}.\")\n",
    "        except ValueError:\n",
    "            print(\"⚠️ Please enter a valid integer.\")\n",
    "\n",
    "    results = []\n",
    "    for idx, row in tenk_df.head(limit).iterrows():\n",
    "        url, html_text = extract_filing_html_directly(row, user_agent_email)\n",
    "        if html_text:\n",
    "            cleaned_text = clean_filing_html(html_text)\n",
    "            results.append({\n",
    "                \"Company Name\": row['Company Name'],\n",
    "                \"CIK\": row['CIK'],\n",
    "                \"Date Filed\": row['Date Filed'],\n",
    "                \"Filing URL\": url,\n",
    "                \"Filing Text\": html_text,\n",
    "                \"Cleaned Text\": cleaned_text\n",
    "            })\n",
    "\n",
    "    return pd.DataFrame(results)"
   ]
  },
  {
   "cell_type": "code",
   "execution_count": 20,
   "id": "25b13555",
   "metadata": {},
   "outputs": [
    {
     "name": "stderr",
     "output_type": "stream",
     "text": [
      "/var/folders/w1/vt1xc8rs7w9f0fs5spyxbzcc0000gn/T/ipykernel_49976/2415060183.py:1: DtypeWarning: Columns (2) have mixed types. Specify dtype option on import or set low_memory=False.\n",
      "  df = pd.read_csv(\"/Users/nareshchethala/Desktop/University/Spring_25/BAIM_660/combined_data.csv\")\n"
     ]
    },
    {
     "name": "stdout",
     "output_type": "stream",
     "text": [
      "🔍 Found 82134 10-K filings in the dataset.\n",
      "Downloaded: https://www.sec.gov/Archives/edgar/data/1084869/000143774920019622/flws20200628b_10k.htm\n",
      "Downloaded: https://www.sec.gov/Archives/edgar/data/1667615/000107878220000695/f10k053120_10k.htm\n",
      "Downloaded: https://www.sec.gov/Archives/edgar/data/1753648/000149315220017860/form10-k.htm\n",
      "Downloaded: https://www.sec.gov/Archives/edgar/data/1591588/000156459020043316/amrk-10k_20200630.htm\n",
      "Downloaded: https://www.sec.gov/ix?doc=/Archives/edgar/data/1750/000110465920085310/air-20200531x10k.htm\n",
      "Downloaded: https://www.sec.gov/Archives/edgar/data/1300938/000118518520001098/abcoenergy20191231_10k.htm\n",
      "Downloaded: https://www.sec.gov/ix?doc=/Archives/edgar/data/1138723/000156459020041201/aray-10k_20200630.htm\n",
      "Downloaded: https://www.sec.gov/Archives/edgar/data/849401/000143774920015110/admt20200331_10k.htm\n",
      "Downloaded: https://www.sec.gov/Archives/edgar/data/828530/000155335020000885/adfk_10k.htm\n",
      "Downloaded: https://www.sec.gov/Archives/edgar/data/352991/000173112220000902/e2089_10k.htm\n",
      "Downloaded: https://www.sec.gov/Archives/edgar/data/1040470/000165495420009618/aehr_10k.htm\n",
      "Downloaded: https://www.sec.gov/Archives/edgar/data/1532390/000106299320003916/form10k.htm\n",
      "Downloaded: https://www.sec.gov/Archives/edgar/data/874710/000110465920109282/tm2024734d1_10k.htm\n",
      "Downloaded: https://www.sec.gov/ix?doc=/Archives/edgar/data/1387467/000138746720000047/aosl630202010k.htm\n",
      "Downloaded: https://www.sec.gov/Archives/edgar/data/855787/000143774920020157/aphe20201231_10k.htm\n",
      "Downloaded: https://www.sec.gov/Archives/edgar/data/713425/000162828020010300/amswa-20200430x10k.htm\n",
      "Downloaded: https://www.sec.gov/ix?doc=/Archives/edgar/data/945828/000118518520001310/amerityre20200630_10k.htm\n",
      "Downloaded: https://www.sec.gov/Archives/edgar/data/1015383/000149315220016303/form10-k.htm\n",
      "Downloaded: https://www.sec.gov/Archives/edgar/data/6207/000110465920086542/tm2024144d1_10k.htm\n",
      "Downloaded: https://www.sec.gov/Archives/edgar/data/1650205/000126246320000368/andes7123119.htm\n",
      "Downloaded: https://www.sec.gov/ix?doc=/Archives/edgar/data/1275187/000127518720000024/ango-20200531.htm\n",
      "Downloaded: https://www.sec.gov/Archives/edgar/data/1570132/000155335020000589/anvi_10k.htm\n",
      "Downloaded: https://www.sec.gov/Archives/edgar/data/1490054/000144586620001088/vbhi_10k.htm\n",
      "Downloaded: https://www.sec.gov/Archives/edgar/data/1273636/000119312520249103/d864197d10k.htm\n",
      "Downloaded: https://www.sec.gov/ix?doc=/Archives/edgar/data/109563/000010956320000083/ait-2020630x10k.htm\n",
      "Downloaded: https://www.sec.gov/Archives/edgar/data/1755101/000144586620001404/alds_10k.htm\n",
      "Downloaded: https://www.sec.gov/ix?doc=/Archives/edgar/data/1487198/000148719820000010/aspu-20200430.htm\n",
      "Downloaded: https://www.sec.gov/Archives/edgar/data/1001907/000156459020042788/astc-10k_20200630.htm\n",
      "Downloaded: https://www.sec.gov/Archives/edgar/data/826253/000121390020017386/f10k2020_aurasystemsinc.htm\n",
      "Downloaded: https://www.sec.gov/ix?doc=/Archives/edgar/data/8670/000000867020000032/adp-20200630.htm\n",
      "Downloaded: https://www.sec.gov/ix?doc=/Archives/edgar/data/1377789/000137778920000062/avnw-20200703.htm\n",
      "Downloaded: https://www.sec.gov/ix?doc=/Archives/edgar/data/8858/000000885820000025/avt-20200627x10k.htm\n",
      "Downloaded: https://www.sec.gov/Archives/edgar/data/1724001/000147793220004445/axel_10k.htm\n",
      "Downloaded: https://www.sec.gov/Archives/edgar/data/1672571/000101738620000200/achison_20200331-10k.htm\n",
      "Downloaded: https://www.sec.gov/ix?doc=/Archives/edgar/data/1468328/000156459020038909/adus-10k_20191231.htm\n",
      "Downloaded: https://www.sec.gov/ix?doc=/Archives/edgar/data/730464/000155837020010728/atge-20200630x10k.htm\n",
      "Downloaded: https://www.sec.gov/Archives/edgar/data/1755953/000121390020028737/MainDocument.htm\n",
      "Downloaded: https://www.sec.gov/Archives/edgar/data/1584754/000121390020023254/f10k2020_akoustistech.htm\n",
      "Downloaded: https://www.sec.gov/Archives/edgar/data/745543/000074554320000014/atpt06202018_10k.htm\n",
      "Downloaded: https://www.sec.gov/Archives/edgar/data/745543/000074554320000025/atpt06302020_10k.htm\n",
      "Downloaded: https://www.sec.gov/ix?doc=/Archives/edgar/data/1748790/000174879020000025/amcr-20200630.htm\n",
      "Downloaded: https://www.sec.gov/Archives/edgar/data/1707258/000121390020026967/f10k2020_amesiteinc.htm\n",
      "Downloaded: https://www.sec.gov/Archives/edgar/data/1681282/000149315220012502/form10-k.htm\n",
      "Downloaded: https://www.sec.gov/ix?doc=/Archives/edgar/data/1499684/000164033420001697/acez_10k.htm\n",
      "Downloaded: https://www.sec.gov/Archives/edgar/data/1625285/000162528520000004/reviewedform-10-k-20181031.htm\n",
      "Downloaded: https://www.sec.gov/Archives/edgar/data/1666267/000121390020025697/f10k2019_arrestageintern.htm\n",
      "Downloaded: https://www.sec.gov/Archives/edgar/data/1498148/000116169720000334/form_10-k.htm\n",
      "Downloaded: https://www.sec.gov/Archives/edgar/data/1762303/000119312520233145/d80602d10k.htm\n",
      "Downloaded: https://www.sec.gov/ix?doc=/Archives/edgar/data/1299709/000129970920000156/a10-k20200630doc.htm\n",
      "Downloaded: https://www.sec.gov/Archives/edgar/data/725929/000168316820002821/b2digital_10k-033120.htm\n",
      "                       Company Name  \\\n",
      "0             1 800 FLOWERS COM INC   \n",
      "1              3AM TECHNOLOGIES INC   \n",
      "2  8i Enterprises Acquisition Corp.   \n",
      "3      A-Mark Precious Metals, Inc.   \n",
      "4                          AAR CORP   \n",
      "\n",
      "                                                                                     Filing URL  \n",
      "0      https://www.sec.gov/Archives/edgar/data/1084869/000143774920019622/flws20200628b_10k.htm  \n",
      "1         https://www.sec.gov/Archives/edgar/data/1667615/000107878220000695/f10k053120_10k.htm  \n",
      "2               https://www.sec.gov/Archives/edgar/data/1753648/000149315220017860/form10-k.htm  \n",
      "3      https://www.sec.gov/Archives/edgar/data/1591588/000156459020043316/amrk-10k_20200630.htm  \n",
      "4  https://www.sec.gov/ix?doc=/Archives/edgar/data/1750/000110465920085310/air-20200531x10k.htm  \n",
      "\n",
      " Sample Cleaned Filing Text:\n",
      "\n",
      "Table of Contents\n",
      "UNITED STATES SECURITIES AND EXCHANGE COMMISSION\n",
      "WASHINGTON, D.C. 20549\n",
      "FORM 10-K\n",
      "☒     ANNUAL REPORT PURSUANT TO SECTION 13 OR 15(d) OF THE SECURITIES EXCHANGE ACT OF 1934\n",
      "For the fiscal year ended\n",
      "June 28, 2020\n",
      "or\n",
      "☐     TRANSITION REPORT PURSUANT TO SECTION 13 OR 15(d) OF THE SECURITIES EXCHANGE ACT OF 1934\n",
      "Commission File No.\n",
      "0-26841\n",
      "1-800-FLOWERS.COM, Inc.\n",
      "(Exact name of registrant as specified in its charter)\n",
      "DELAWARE\n",
      "(State or other jurisdiction of incorporation or organization)\n",
      "11-3117311\n",
      "(I.R.S. Employer Identification No.)\n",
      "One Old Country Road, Carle Place, New York, 11514\n",
      "(Address of principal executive offices) (Zip code)\n",
      "(516) 237-6000\n",
      "(Registrant’s telephone number, including area code)\n",
      "Securities registered pursuant to Section 12(b) of the Act:\n",
      "Title of each class\n",
      "Trading symbol(s)\n",
      "Name of each exchange on which registered\n",
      "Class A common stock\n",
      "FLWS\n",
      "The Nasdaq Stock Market\n",
      "Securities registered pursuant to Section 12(g) of the Act: None\n",
      "Indicate by check mark if the registrant is a well-known seasoned issuer, as defined in Rule 405 of the Securities Act. Yes ☐ No ☒\n",
      "Indicate by check mark if the registrant is not required to file reports pursuant to Section 13 or Section 15 (d) of the Act. Yes ☐ No ☒\n",
      "Indicate by check mark whether the registrant (1) has filed all reports required to be filed by Section 13 or 15(d) of the Securities Exchange Act of 1934 during the preceding 12 months (or for such shorter period that the registrant was required to file such reports), and (2) has been subject to such filing requirements for the past 90 days. Yes ☒ No ☐\n",
      "Indicate by check mark whether the registrant has submitted electronically every Interactive Data File required to be submitted pursuant to Rule 405 of Regulation S-T (Section 232.405 of this chapter) during the preceding 12 months (or for such shorter period that the registrant was required to submit such files). Yes ☒ No ☐\n",
      "Indicate by check mark whether the registrant is a large accelerate\n"
     ]
    }
   ],
   "source": [
    "df = pd.read_csv(\"/Users/nareshchethala/Desktop/University/Spring_25/BAIM_660/combined_data.csv\")\n",
    "\n",
    "# Run the full process\n",
    "filings_df = download_multiple_10k_filings(df, \"nareshchandra.chethala@gmail.com\")\n",
    "\n",
    "# Preview results\n",
    "print(filings_df[[\"Company Name\", \"Filing URL\"]].head())\n",
    "print(\"\\n Sample Cleaned Filing Text:\\n\")\n",
    "print(filings_df[\"Cleaned Text\"][0][:2000])"
   ]
  },
  {
   "cell_type": "code",
   "execution_count": 21,
   "id": "6bc19f5a",
   "metadata": {},
   "outputs": [
    {
     "name": "stdout",
     "output_type": "stream",
     "text": [
      "<class 'pandas.core.frame.DataFrame'>\n",
      "RangeIndex: 50 entries, 0 to 49\n",
      "Data columns (total 6 columns):\n",
      " #   Column        Non-Null Count  Dtype \n",
      "---  ------        --------------  ----- \n",
      " 0   Company Name  50 non-null     object\n",
      " 1   CIK           50 non-null     object\n",
      " 2   Date Filed    50 non-null     object\n",
      " 3   Filing URL    50 non-null     object\n",
      " 4   Filing Text   50 non-null     object\n",
      " 5   Cleaned Text  50 non-null     object\n",
      "dtypes: object(6)\n",
      "memory usage: 2.5+ KB\n"
     ]
    }
   ],
   "source": [
    "filings_df.info()"
   ]
  },
  {
   "cell_type": "code",
   "execution_count": 22,
   "id": "fc4e0379",
   "metadata": {},
   "outputs": [],
   "source": [
    "filings_df = filings_df.dropna()"
   ]
  },
  {
   "cell_type": "code",
   "execution_count": 23,
   "id": "67a7ec86",
   "metadata": {},
   "outputs": [
    {
     "name": "stdout",
     "output_type": "stream",
     "text": [
      "<class 'pandas.core.frame.DataFrame'>\n",
      "RangeIndex: 50 entries, 0 to 49\n",
      "Data columns (total 6 columns):\n",
      " #   Column        Non-Null Count  Dtype \n",
      "---  ------        --------------  ----- \n",
      " 0   Company Name  50 non-null     object\n",
      " 1   CIK           50 non-null     object\n",
      " 2   Date Filed    50 non-null     object\n",
      " 3   Filing URL    50 non-null     object\n",
      " 4   Filing Text   50 non-null     object\n",
      " 5   Cleaned Text  50 non-null     object\n",
      "dtypes: object(6)\n",
      "memory usage: 2.5+ KB\n"
     ]
    }
   ],
   "source": [
    "filings_df.info()"
   ]
  },
  {
   "cell_type": "code",
   "execution_count": 26,
   "id": "bceecc3d",
   "metadata": {},
   "outputs": [
    {
     "data": {
      "text/plain": [
       "0    Table of Contents\\nUNITED STATES SECURITIES AND EXCHANGE COMMISSION\\nWASHINGTON, D.C. 20549\\nFORM 10-K\\n☒     ANNUAL REPORT PURSUANT TO SECTION 13 OR 15(d) OF THE SECURITIES EXCHANGE ACT OF 1934\\nFor the fiscal year ended\\nJune 28, 2020\\nor\\n☐     TRANSITION REPORT PURSUANT TO SECTION 13 OR 15(d) OF THE SECURITIES EXCHANGE ACT OF 1934\\nCommission File No.\\n0-26841\\n1-800-FLOWERS.COM, Inc.\\n(Exact name of registrant as specified in its charter)\\nDELAWARE\\n(State or other jurisdiction of incorporation or organization)\\n11-3117311\\n(I.R.S. Employer Identification No.)\\nOne Old Country Road, Carle Place, New York, 11514\\n(Address of principal executive offices) (Zip code)\\n(516) 237-6000\\n(Registrant’s telephone number, including area code)\\nSecurities registered pursuant to Section 12(b) of the Act:\\nTitle of each class\\nTrading symbol(s)\\nName of each exchange on which registered\\nClass A common stock\\nFLWS\\nThe Nasdaq Stock Market\\nSecurities registered pursuant to Section 12(g) of the Act: None\\nIndicate by check mark if the registrant is a well-known seasoned issuer, as defined in Rule 405 of the Securities Act. Yes ☐ No ☒\\nIndicate by check mark if the registrant is not required to file reports pursuant to Section 13 or Section 15 (d) of the Act. Yes ☐ No ☒\\nIndicate by check mark whether the registrant (1) has filed all reports required to be filed by Section 13 or 15(d) of the Securities Exchange Act of 1934 during the preceding 12 months (or for such shorter period that the registrant was required to file such reports), and (2) has been subject to such filing requirements for the past 90 days. Yes ☒ No ☐\\nIndicate by check mark whether the registrant has submitted electronically every Interactive Data File required to be submitted pursuant to Rule 405 of Regulation S-T (Section 232.405 of this chapter) during the preceding 12 months (or for such shorter period that the registrant was required to submit such files). Yes ☒ No ☐\\nIndicate by check mark whether the registrant is a large accelerated filer, an accelerated filer, a non-accelerated filer, a smaller reporting company, or an emerging growth company. See the definitions of “large accelerated filer,” “accelerated filer,” “smaller reporting company,” and \"emerging growth company\" in Rule 12b-2 of the Exchange Act.\\n☐ Large accelerated filer\\n☒ Accelerated filer\\n☐ Non-accelerated filer\\n☐ Smaller reporting company\\n☐ Emerging growth company\\nIf an emerging growth company, indicate by check mark if the registrant has elected not to use the extended transition period for complying with any new or revised financial accounting standards provided pursuant to Section 13(a) of the Exchange Act. ☐\\nIndicate by check mark whether the registrant has filed a report on and attestation to its management’s assessment of the effectiveness of its internal control over financial reporting under Section 404(b) of the Sarbanes-Oxley Act (15 U.S.C.7262(b)) by the registered public accounting firm that prepared or issued its audit report. ☒\\nIndicate by check mark whether the registrant is a shell company (as defined in Rule 12b-2 of the Exchange Act). Yes ☐ No ☒\\nThe aggregate market value of the voting stock held by non-affiliates of the registrant, computed by reference to the closing price as of the last business day of the registrant’s most recently completed second fiscal quarter, December 29, 2019, was approximately $347,718,000. The registrant has no non-voting common stock.\\n36,052,706\\n(Number of shares of class A common stock outstanding as of September 4, 2020)\\n28,358,614\\n(Number of shares of class B common stock outstanding as of September 4, 2020)\\nDOCUMENTS INCORPORATED BY REFERENCE:\\nPortions of the Registrant’s Definitive Proxy Statement for the 2020 Annual Meeting of Stockholders (the Definitive Proxy Statement) are incorporated by reference into Part III of this Report.\\nTable of Contents\\n1-800-FLOWERS.COM, INC.\\nFORM 10-K\\nFor the fiscal year ended\\nJune 28, 2020\\nTABLE OF CONTENTS\\nPart I.\\nItem 1.\\nBusiness\\n1\\nItem 1A.\\nRisk Factors\\n9\\nItem 1B.\\nUnresolved Staff Comments\\n15\\nItem 2.\\nProperties\\n15\\nItem 3.\\nLegal Proceedings\\n15\\nItem 4.\\nMine Safety Disclosures\\n15\\nPart II\\n.\\nItem 5.\\nMarket for Registrant’s Common Equity, Related Stockholder Matters and Issuer Purchases of Equity Securities\\n16\\nItem 6.\\nSelected Financial Data\\n17\\nItem 7.\\nManagement’s Discussion and Analysis of Financial Condition and Results of Operations\\n19\\nItem 7A.\\nQuantitative and Qualitative Disclosures about Market Risk\\n30\\nItem 8.\\nFinancial Statements and Supplementary Data\\n30\\nItem 9.\\nChanges in and Disagreements with Accountants on Accounting and Financial Disclosure\\n30\\nItem 9A.\\nControls and Procedures\\n30\\nItem 9B.\\nOther Information\\n33\\nPart III.\\nItem 10.\\nDirectors, Executive Officers and Corporate Governance\\n33\\nItem 11.\\nExecutive Compensation\\n33\\nItem 12.\\nSecurity Ownership of Certain Beneficial Owners and Management and Related Stockholder Matters\\n33\\nItem 13.\\nCertain Relationships and Related Transactions, and Director Independence\\n33\\nItem 14.\\nPrincipal Accounting Fees and Services\\n33\\nPart IV.\\nItem 15.\\nExhibits, Financial Statement Schedules\\n34\\nItem 16.\\nForm 10-K Summary\\n35\\nSignatures\\n36\\nTable of Contents\\nPART I\\nItem 1.\\nBUSINESS\\nThe Company\\n1-800-FLOWERS.COM, Inc. and its subsidiaries (collectively, the “Company”) is a leading provider of gifts designed to help customers express, connect and celebrate. The Company’s business platform features our all-star family of brands, including: 1-800-Flowers.com®, 1-800-Baskets.com®, Cheryl’s Cookies®, Harry & David®, PersonalizationMall.com®, Shari’s Berries®, FruitBouquets.com®, Moose Munch®, The Popcorn Factory®, Wolferman’s Bakery® and Simply Chocolate®. We also offer top-quality steaks and chops from Stock Yards®. Through the Celebrations Passport® loyalty program, which provides members with free standard shipping and no service charge across our portfolio of brands, 1-800-FLOWERS.COM, Inc. strives to deepen relationships with customers. The Company also operates BloomNet®, an international floral service provider offering a broad-range of products and services designed to help professional florists grow their businesses profitably; Napco℠, a resource for floral gifts and seasonal décor; and DesignPac Gifts, LLC, a manufacturer of gift baskets and towers.\\nIn November 2019, 1-800-Flowers.com was awarded Best Digital Transformation as part of the first-ever Modern Retail Awards from Digiday Media. Our floral brand was honored for being a pioneer of conversational commerce and becoming one of the first retailers on all five major voice and messaging platforms, including Apple Business Chat, Google Assistant, Amazon Alexa, Samsung Bixby and Facebook Messenger. 1-800-FLOWERS.COM, Inc. was recognized as the 2019 Mid-Market Company of the Year by CEO Connection. 1-800-FLOWERS.COM, Inc. received the Gold award in the “Mobile Payments and Commerce” category at the Mobile Marketing Association 2018 Global Smarties Awards, and Harry & David was named to the Internet Retailers 2019 “The Hot 100” list.\\nOn August 3, 2020, the Company completed its acquisition of PersonalizationMall.com LLC (\"PersonalizationMall\"), a leading ecommerce provider of personalized products. The extensive offerings of PersonalizationMall include a wide variety of personalization processes such as sublimation, embroidery, digital printing, engraving and sandblasting, while providing an industry-leading customer experience based on a fully integrated business platform that includes a highly automated personalization process and rapid order fulfillment. The Company used a combination of cash on its balance sheet and its existing credit facility to fund the $245.0 million purchase (subject to certain working capital and other adjustments), which included its newly renovated, leased 360,000 square foot state-of-the-art production and distribution facility, as well as customer database, tradenames and website. PersonalizationMall’s revenues were approximately $171.2 million in its fiscal 2020.\\nOn August 20, 2020, the Company, JPMorgan Chase Bank, N.A. as administrative agent, and a group of lenders, entered into a First Amendment (the “First Amendment”) to its exiting 2019 Credit Agreement. The First Amendment amends the 2019 Credit Agreement to, among other modifications, (i) increase the aggregate principal amount of the existing revolving credit commitments from $200.0 million to $250.0 million, (ii) establish a new tranche of term A-1 loans in an aggregate principal amount of $100.0 million, (iii) increase the working capital sublimit with respect to the revolving credit facility from $175.0 million to $200.0 million and (iv) increase the seasonally-reduced revolving credit commitments from $100.0 million to $125.0 million for the period from January 1 through August 1 for each fiscal year of the Company.\\nShares in 1-800-FLOWERS.COM, Inc. are traded on the NASDAQ Global Select Market, ticker symbol: FLWS.\\nReferences in this Annual Report on Form 10-K to “1-800-FLOWERS.COM” and the “Company” refer to 1-800-FLOWERS.COM, Inc. and its subsidiaries. The Company’s principal offices are located at One Old Country Road, Suite 500, Carle Place, NY 11514 and its telephone number at that location is (516) 237-6000.\\nThe Origins of 1-800-FLOWERS.COM\\nThe Company’s operations began in 1976 when James F. McCann, the Company’s founder and current Executive Chairman of the Board of Directors, acquired a single retail florist in New York City, which he subsequently expanded to a 14-store chain. Thereafter, the Company modified its business strategy to take advantage of the rapid emergence of toll-free calling. The Company acquired the right to use the toll-free telephone number 1-800-FLOWERS, adopted it as its corporate identity and began to aggressively build a national brand around it. The Company believes it was one of the first companies to embrace this new way of conducting business.\\nIn order to support the growth of its toll-free business and to provide superior customer service, the Company developed an operating infrastructure that incorporated the best available technologies. Over time, the Company implemented a sophisticated transaction processing system that facilitated rapid order entry and fulfillment, on a same-day or next-day basis, while adding customer service capabilities to handle increasing call volume.\\n1-800-FLOWERS.COM offers a broad range of truly original gifts through a multi-channel strategy, making it easy for millions of customers to deliver smiles for every occasion. Complementing its retail, telephonic and e-commerce channels, 1-800-FLOWERS.COM is a pacesetter in social and mobile platforms, pioneering award-winning marketing programs and applications. As a result, the Company has developed relationships with customers who purchase products for both a wide range of celebratory gifting occasions as well as for everyday personal use. In addition to offering a broad selection of unique products that a customer could expect to find in a high-end florist and gift shop, including a wide assortment of cut flowers and plants, candy, balloons, plush toys, giftware, gourmet gift baskets, and fruit bouquet arrangements, the Company has also significantly expanded its presence in the gourmet foods and gift baskets category. Through a combination of organic initiatives and strategic acquisitions, the Company has leveraged its leadership position in the floral gifting category to create a leading position in the growing Gourmet Foods & Gift Baskets category, now the Company’s largest segment, comprising over 50% over its total revenues.\\n1\\nTable of Contents\\nThe Company’s Strategy\\n1-800-FLOWERS.COM’s objective is to be the leading authority on thoughtful gifting, to serve an expanding range of our customers’ celebratory needs, thereby helping our customers express themselves and connect with the important people in their lives. The Company will continue to build on the trusted relationships with our customers by providing them with ease of access, tasteful and appropriate gifts, and superior service. By engaging with our customers, we help to inspire more human expression and connection – sentiments that are more important than ever in the current environment.\\nThe Company believes that 1-800-FLOWERS.COM is one of the most recognized brands in the floral and gift industry. The strength of its brand has enabled the Company to extend its product offerings beyond the floral category into complementary products, which include gourmet popcorn, cookies and related baked and snack food products, premium chocolate and confections, wine gifts, gourmet gift baskets, fruit bouquet arrangements, and gift-quality fruit baskets, dipped berries, as well as steaks, chops and prepared meals. The recent acquisition of PersonalizationMall has added an extensive selection of personalized products to our offerings. This extended line of gift offerings helps our customers with all of their celebratory occasions, and will enable the Company to increase the number of purchases and the average order value by existing customers who have come to trust the 1-800-FLOWERS.COM brand, as well as continue to attract new customers. The Company’s consolidated customer database and multi-brand website is designed to expose all of our brands to our customers, further enhancing the Company’s position as a leading, one-stop destination for all of our customers’ gifting and celebratory needs.\\nThe Company believes its brands are characterized by:\\n●\\nConvenience\\n. The Company’s product offerings can be purchased through the Company’s website via desktop or mobile devices, as well as through Amazon Alexa, Facebook Messenger, Google Assistant, Apple Business Chat, Samsung Chatbot, or Google Rich Business Messaging, to help guide customers to the perfect gift across our brands. For those customers who prefer a personal gift advisor to assist them, the Company’s toll-free telephone numbers are available 24 hours a day, seven days a week.\\n●\\nQuality\\n. High-quality products are critical to the Company’s continued brand strength and are integral to the brand loyalty that it has built over the years. The Company offers its customers a 100% satisfaction guarantee on all of its products.\\n●\\nDelivery Capability\\n. The Company has developed a market-proven fulfillment infrastructure that allows delivery on a same-day, next-day and any-day basis. Key to the Company’s fulfillment capability is an innovative “hybrid” model which combines BloomNet (comprised of independent florists operating retail flower shops, Company-owned stores, and franchised stores), with its manufacturing and distribution centers located across the country, and third-party vendors who ship directly to the Company’s customers.\\n●\\nSelection\\n. Over the course of a year, the Company offers thousands of varieties of fresh-cut flowers, floral and fruit bouquets and plants, and thousands of SKUs of gifts, gourmet foods and gift baskets, cookies and chocolates.\\n●\\nCustomer Service\\n. The Company strives to ensure that customer service, whether online, wireless, via the telephone, or in one of its retail stores is of the highest caliber. The Company operates customer service centers in Ohio and Oregon, while also utilizing a network of home agents and outsourcers to provide helpful assistance on everything from advice on product selection to the monitoring of the fulfillment and delivery process.\\nAs part of the Company’s continuing effort to serve the thoughtful gifting needs of its customers, and leverage its business platform, the Company continues to execute its vision to build a “Celebratory Ecosystem”, including a collection of premium gifting brands, and an increasing suite of products and services designed to help our customers deliver smiles to the important people in their lives.\\nThe platform that the Company has built allows it to expand rapidly into new product categories using a “marketplace” concept, providing its customers with a wider selection of solutions to help them express, connect and celebrate for all occasions and recipients – including themselves. The Company intends to accomplish this through organic development, and where appropriate, through acquisition of complementary businesses. A summary of the Company’s more significant brands and/or businesses follows:\\n2\\nTable of Contents\\nCONSUMER FLORAL SEGMENT\\nDirect-to-consumer, multi-channel provider of fresh flowers, plants, fruit and gift basket products, balloons, candles, keepsake gifts, jewelry and plush stuffed animals.\\nDirect-to-consumer, multi-channel provider of artistically carved fresh fruit arrangements.\\nFranchisor and operator of retail flower shops, acquired in August 2011.\\nDirect-to-consumer provider of fresh flowers, plants, fruits and gift baskets.\\nE-commerce provider of personalized gifts and keepsakes, acquired in August 2020.\\nE-commerce marketplace bringing our customers unique products from the best companies. Find it. Love it. Gift it.\\nBLOOMNET\\nProvider of products and services to the professional florist.\\nWholesale merchandiser and marketer of floral industry and related products, acquired in July 2008.\\nGOURMET FOODS & GIFT BASKETS SEGMENT\\nMulti-channel specialty retailer and producer of premium gift quality fruit, gourmet food products and other gifts marketed under the Harry & David® and Cushman’s® brands, acquired in September 2014.\\nManufacturer and retailer of indulgent bakery gifts, including super-thick English muffins, toppings, and desserts, acquired in September 2014 in conjunction with the purchase of Harry & David.\\nMulti-channel retailer and manufacturer of small batch gourmet buttery caramel and chocolate covered popcorn, acquired in September 2014 in conjunction with the purchase of Harry & David.\\n3\\nTable of Contents\\nE-commerce provider of gourmet steaks, chops, burgers and other gourmet meat gifts.\\nManufacturer of giftable premium popcorn and specialty treats, acquired in May 2002.\\nBaker of premium cookies and related baked gifts, acquired in March 2005. Includes Mrs. Beasley’s, a baker of cakes, muffins and gourmet gift baskets, acquired in March 2011.\\nE-commerce retailer of gift baskets and towers.\\nDesigner, assembler and distributor of wholesale gift baskets, gourmet food towers and gift sets, acquired in April 2008.\\nE-commerce retailer of artisan chocolates and confections.\\nE-commerce retailer of dipped berries and other specialty treats, acquired in August 2019.\\nAs a complement to the Company’s own brands and signature product lines, the Company has formed strategic relationships with brands such as Lenox®, Waterford®, Real Simple®, Yankee Candle®, Junior’s® Cheesecakes, Southern Living®,and Swarovski®, as well as with celebrities such as Jason Wu.\\nAlthough the Company’s family of brands maintain their own sense of identity, the Company has taken a holistic approach towards operating its brand portfolio. A key feature of this approach is that the Company proactively shares best practices across its functional areas, through centralized operational centers of excellence focused on identifying initiatives designed to enhance top and bottom-line growth opportunities.\\nThe Company believes that these initiatives and its continued focus on the following core values will drive long-term profitable growth:\\n●\\nEngagement - Know and Take Care of Our Customers – deepening our customer relationships through marketing and social initiatives focused on the emotional connection between our customer and their gift recipient, to help them express themselves and deliver smiles. Through this engagement we expect to continue to grow our customer file, acquiring more “givers” by creating a frictionless experience. By creating a better value proposition, through our Passport program, innovative social and mobile technology platforms, combined with our superior customer service, differentiated and broad product lineup, the Company expects to grow its multi-branded customer base, which in turn will increase purchase frequency through incremental penetration of its suite of gift products.\\n●\\nMaintain and Enhance our Financial Strength and Flexibility - by seeking ways to reduce our operating costs while strengthening our balance sheet and adding flexibility to our capital structure. In May 2017, the Company sold its underperforming Fannie May business, generating more than $100 million in cash, while in April 2020, the Company made the strategic decision to permanently close all but one of its Harry & David retail stores. While this decision will negatively impact future revenue growth, this channel was marginally break-even, and the closure will result in improved operational efficiency and focus. The Company reinvested the proceeds from the Fannie May disposition to acquire PersonalizationMall on August 3, 2020, and then on August 20, 2020, the Company amended its exiting 2019 Credit Agreement to, among other modifications, (i) increase the aggregate principal amount of the existing revolving credit commitments from $200.0 million to $250.0 million, (ii) establish a new tranche of term A-1 loans in an aggregate principal amount of $100.0 million, (iii) increase the working capital sublimit with respect to the revolving credit facility from $175.0 million to $200.0 million and (iv) increase the seasonally-reduced revolving credit commitments from $100.0 million to $125.0 million for the period from January 1 through August 1 for each fiscal year of the Company. Combined with cash flows generated from operations, the new agreement provides us with flexibility to continue growing our business by investing in our existing platform and seeking acquisitions that can accelerate our top and bottom-line growth.\\n●\\nInnovate and Invest for the Future to Achieve Operational Excellence – we plan to continue to invest to: (i) build the premium status of our brands, through the development of innovative and unique products and services, including the expanded deployment of Passport to drive loyalty, (ii) improve our customer experience and service platforms focusing on efficiency, with both VIP level touch, and automated self-service portals that allow customers to track and modify their orders, (iii) extend our successful mobile Progressive Web Application “PWA” technology to our desktop application, and (iv) implement our IT roadmap designed to drive integrated order management systems and improved back-end production, logistics and warehousing/fulfillment systems to build upon our same-day, next day delivery capabilities to meet our customers’ expectations.\\n4\\nTable of Contents\\nThe Company’s Products and Service Offerings\\nThe Company offers a wide range of products including fresh-cut flowers, floral and fruit arrangements and plants, gifts, dipped berries, popcorn, gourmet foods and gift baskets, cookies, chocolates, candy, wine, and gift-quality fruit. In order to maximize sales opportunities, products are not exclusive to certain brands, and may be sold across business categories. The Company’s differentiated and value-added product offerings create the opportunity to have a relationship with customers who purchase items not only for gift-giving occasions but also for everyday consumption. The Company’s product development team works closely with its production team to select and design its floral, gourmet foods and gift baskets, as well as other gift-related products that accommodate our customers' needs to celebrate a special occasion or convey a sentiment. As part of this continuing effort, the Company intends to continue to develop differentiated products and signature collections that customers have embraced and come to expect.\\nThe Company’s net revenues from international sources were not material during fiscal years 2020, 2019 and 2018.\\nFlowers and Plants.\\nThe Company offers fresh-cut flowers and floral and fruit arrangements for all occasions and holidays, available for same-day delivery. The Company provides its customers with a choice of florist designed products, including traditional floral and gift offerings, and the Company’s line of fruit arrangements, under the Fruit Bouquets brand, and flowers delivered fresh from the farm. The Company also offers a wide variety of popular plants to brighten the home and/or office, and accent gardens and landscapes.\\nGourmet Foods\\n&\\nGift Baskets.\\nHarry & David is a vertically integrated, multi-channel specialty retailer and producer of branded premium gift-quality fruit, food products and gifts marketed under the Harry & David, Wolferman’s, Cushman’s and Moose Munch brands. The Company also licenses the Stock Yards name through which it sells premium meats. The Company manufactures premium cookies and baked gift items under the Cheryl’s and Mrs. Beasley’s brands, which are delivered in beautiful and innovative gift boxes and containers, providing customers with a variety of assortments from which to choose. The Popcorn Factory brand pops premium popcorn and specialty snack products. The 1-800-BASKETS.COM brand features a collection of gourmet gift baskets and related products confected by DesignPac, as well as through third parties. Simply Chocolate offers artisan chocolates and confections. Many of the Company’s gourmet products are packaged in seasonal, occasion specific or decorative tins, fitting the “giftable” requirement of individual customers, while also adding the capability to customize the tins with corporate logos and other personalized features for the Company’s corporate customers’ gifting needs.\\nBloomNet Products and Services.\\nThe Company’s BloomNet business provides its members with products and services, including: (i) settlement processing, consisting of the settlement of orders between sending florists (including the 1-800-Flowers.com brand) and receiving florists, (ii) advertising, in the form of member directories, including the industry’s first on-line directory, (iii) access services, by which BloomNet florists are able to send and receive orders and communicate between members, using Bloomlink®, the Company’s proprietary Internet-based system, (iv) other products and services, including web hosting, marketing, designer education and point of sale systems, and (v) wholesale products, which consist of branded and non-branded floral supplies, enabling member florists to reduce their costs through 1-800-Flowers purchasing leverage, while also ensuring that member florists will be able to fulfill 1-800-Flowers.com brand orders based on recipe specifications. While maintaining industry-high quality standards for its 1-800-Flowers.com brand customers, the Company offers florists a compelling value proposition, offering products and services that its florists need to grow their business and to enhance profitability.\\nMarketing and Promotion\\nThe Company’s marketing and promotional strategy is designed to strengthen the 1-800-FLOWERS.COM brands, engage with its customers, increase customer acquisition, build customer loyalty, encourage repeat purchases and drive long-term growth. The Company’s goal is to create a celebratory ecosystem that makes its brands synonymous with thoughtful gifting and to help our customers “send smiles” every day. To do this, the Company intends to invest in its brands and acquire new customers through the use of selective on and off-line media, direct marketing, public relations and strategic relationships, while cost-effectively capitalizing on the Company’s large and loyal customer base. The Company’s focus is to create marketing messaging that is more relevant to the customer, to engage with our customers in a two-way dialog and to focus on the experience of the connection.\\nThe Company’s strong appeal and brand recognition provide it with significant marketing opportunities. For example, the Company was featured in an episode of the CBS TV hit reality show\\nUndercover Boss\\n, providing a great opportunity for its brands to receive broad national exposure in front of an estimated 15 million viewers, while also being included in the\\nWalk of Shame\\nmovie. Our “Summer of a Million Smiles” charitable efforts deliver smiles to local charities, communities and service initiatives across the country. We also introduced our enterprise-wide “Gifts That Give Back” collection in support of our Smiles Farms philanthropic initiative, which is focused on creating meaningful employment opportunities for individuals with developmental disabilities – a program that we are proud to have founded. And, in what can be considered one of the best compliments a brand can receive, 1-800-Flowers.com’s place in America’s cultural fabric was confirmed when the brand was featured in a great spoof on Mother’s Day family relations during a Saturday Night Live skit.\\nEnhance its Customer Relationships.\\nThe Company intends to deepen its relationship with its customers and be their trusted resource to fulfill their need for quality, tasteful gifts, while helping them to engage and connect with the important people in their lives. It plans to improve customer purchase frequency via product exposure through its multi-brand portal, by providing value-added loyalty programs such as Celebrations Reminders and Passport and continually investing and innovating how and where it engages with its customers. Examples of these efforts include the Company’s active social media presence, and use of new and innovative platforms to reach customers, whether it be Facebook’s Messenger, Amazon’s Alexa voice-enabled platform, Google Assistant, Apple Business Chat, Samsung Chatbot or Google Rich Business Management. The Company also partnered with\\nSmart Gift\\n, a digital gifting application that enables customers to send a gift even when they don’t have their recipient’s address. The Company strives to improve our customer’s experience, and recently launched a digital self-service portal, allowing customers to track their orders, make modifications to delivery dates, addresses, and even their gift message, further enhancing the Company’s already historically high customer satisfaction metrics. In addition, through customer panel research, the Company has created a number of signature products designed to increase everyday purchases, including the “a DOG-able®” and “Fabulous Feline™” collections, the Unicorn line, succulents collection, Conversation Roses collection with heartfelt sentiments printed on the rose petals, Jason Wu’s Wild Beauty line, featuring the exclusive floral creations of one of the hottest fashion trend setters on the scene today, Cheryl’s Cookie Card® and Sentiments line, The Popcorn Factory’s “Tins With Pop® and Cards With Pop™”. Offerings such as Dipped Berries from Shari’s Berries, as well as Harry & David’s signature Comice pears, Moose Munch popcorn, and Gourmet line, all build upon the Company’s efforts to offer unique, heartfelt products, a strategy which stems back to the Company’s earliest signature collections, such as the still popular “Birthday Flower Cake®” and “Happy Hour Bouquets®” collections.\\nStrategic Online and Digital Relationships.\\nThe Company promotes its products through strategic relationships with leading Internet portals, search engines, and mobile and online social networks. The Company continues to leverage its experience and expertise in digital marketing where it is increasingly utilizing machine-learning in our search, display, video and other marketing programs.\\nAffiliate and Co-Marketing Promotions.\\nIn addition to securing alliances with frequently visited websites, the Company has developed an affiliate network that includes thousands of websites operated by third parties. Affiliate participation may be terminated by them or by the Company at any time. These websites earn commissions on purchases made by customers referred from their sites to the Company’s website. In order to expand the reach of its marketing programs and stretch its marketing dollars, the Company has established a number of co-marketing relationships and promotions to advertise its products.\\n5\\nTable of Contents\\nE-mails.\\nThe Company is able to capitalize on its customer database by utilizing cost-effective, targeted e-mails to notify customers of product promotions, remind them of upcoming gifting occasions and convey other marketing messages, while maintaining user privacy.\\nDirect Mail and Catalogs.\\nThe Company uses its direct mail promotions and catalogs to increase the number of new customers and to increase purchase frequency of its existing customers. Through the use of catalogs, the Company can utilize its extensive customer database to effectively cross-promote its products. In addition to providing a direct sale mechanism, these catalogs drive on-line sales and will attract additional customers to the Company’s websites.\\nOff-line Media.\\nThe Company utilizes off-line media, including television, radio and print to market its brands and products. Off-line media allows the Company to reach a large number of customers and to target particular market segments.\\nThe Company’s Websites\\nThe Company offers its products primarily through its multi-branded 1-800-FLOWERS.COM (www.1800flowers.com) website. The Company’s customers can access its family of brands through “tabs” on this Universal Resource Locator (“URL”), as well as through the URL of any of our family of brands, all with multi-brand functionality. Customers can come directly to the Company’s websites or be linked by one of the Company’s portal providers, search engine, affiliate or social media relationships. A majority of the Company’s online revenues are derived from traffic coming directly to one of the Company’s URLs.\\nThe Company’s websites allow customers to easily browse and purchase its products, promote brand loyalty and encourage repeat purchases by providing an inviting customer experience. The Company’s websites offer customers detailed product information, complete with photographs, personalized shopping services, including search and order tracking, contests, gift-giving suggestions and reminder programs, party tips and planning, and information about special events and offers. The Company has designed its desktop and mobile websites to be fast, secure and easy to use and allows customers to order products with minimal effort.\\nTechnology Infrastructure\\nThe Company believes it has been and continues to be a leader in implementing new technologies to give its customers the best possible shopping experience, whether online or over the telephone. Through the use of customized software applications, the Company is able to retrieve, sort and analyze customer information to enable it to better serve its customers and target its product offerings. The Company’s online and telephonic orders are fed directly from the Company’s secure websites, or with the assistance of a gift advisor, into a transaction processing system which captures the required customer and recipient information. The system then routes the order to the appropriate Company distribution center or, for florist fulfilled or drop-shipped items, selects a florist or vendor to fulfill the customer's order and electronically refers the necessary information using BloomLink, the Company’s proprietary Internet-based system, assuring timely delivery. In addition, the Company’s gift advisors have electronic access to this system, enabling them to assist in order fulfillment and subsequently track other customer and/or order information. The Company also utilizes an interactive, telephonic virtual assistant, integrating artificial intelligence and human understanding to reduce customer wait times and improve the customer experience.\\nThe Company’s technology infrastructure, primarily consisting of the Company’s websites, transaction processing, manufacturing and warehouse management, customer databases and telecommunications systems, is built and maintained for reliability, security, scalability and flexibility. To minimize the risk of service interruptions from unexpected component or telecommunications failure, maintenance and upgrades, the Company has built back-up and system redundancies into those components of its systems that have been identified as critical.\\nFulfillment and Manufacturing Operations\\nThe Company’s customers primarily place their orders either online or over the telephone. The Company’s hybrid fulfillment system, which enables the Company to offer same-day, next-day and any-day delivery, combines the use of BloomNet (comprised of independent florists operating retail flower shops and franchise florist shops), with Company-owned distribution centers and vendors who ship directly to the Company’s customers. While providing a significant competitive advantage in terms of delivery options, the Company’s fulfillment system also has the added benefit of reducing the Company’s capital investments in inventory and infrastructure. All of the Company’s products are backed by a 100% satisfaction guarantee, and the Company’s business is not dependent on any single third-party supplier.\\nTo ensure reliable and efficient communication of online and telephonic orders to its BloomNet members and third party gift vendors, the Company developed BloomLink, a proprietary and secure Internet-based system which is available to all BloomNet members and third-party gift vendors. The Company also has the ability to arrange for international delivery of floral products through third-party relationships.\\nFulfillment and manufacturing of products is as follows:\\nFlowers and Plants.\\nA majority of the Company’s floral orders are fulfilled by one of the Company’s BloomNet members, allowing the Company to deliver its floral and fruit bouquet products on a same-day or next-day basis to ensure freshness and to meet its customers’ need for immediate gifting. In addition, the Company is better positioned to ensure consistent product quality and presentation and offer a greater variety of arrangements, which creates a better experience for its customers and gift recipients. The Company selects retail florists for BloomNet based upon the florist's design staff, facilities, quality of floral processing, and delivery capabilities and allocates orders to members within a geographical area based on historical performance of the florist in fulfilling orders, and the number of BloomNet florists currently serving the area. The Company regularly monitors BloomNet florists’ performance and adherence to the Company’s quality standards to ensure proper fulfillment.\\nIn addition to its florist designed product, the Company also offers fresh cut floral arrangements in a wide assortment of combinations, themes and designer bouquets and collections through its direct ship products, fresh from the farm.\\nGourmet Foods\\n&\\nGift Baskets.\\nThe Company offers a wide array of premium branded signature baked products, confections, gift baskets, gourmet popcorn, dipped berries, giftable fruit towers and baskets through its Gourmet Foods & Gift Baskets’ brands. The Company’s Cheryl’s cookies and baked gifts are manufactured in its baking facility in Westerville, Ohio, while The Popcorn Factory and Moose Munch premium snack products are popped in Medford, Oregon and Lake Forest, Illinois. Harry & David products are grown and manufactured primarily from its facilities in Medford, Oregon. Gift basket confection and fulfillment for both wholesale and 1-800-Baskets.com is handled by DesignPac, located in Melrose Park, Illinois. Our products are distributed from a combination of Company owned and leased distribution facilities, across the country, which are shared by our brands in order to reduce both transit time to customer, and overall logistics costs. Dipped berries and other specialty treats for our Shari’s Berries brand are manufactured and fulfilled through our network of dropship vendors. As of June 28, 2020, the Company operates 7 Cheryl’s and 1 Harry & David retail store.\\n6\\nTable of Contents\\nSeasonality\\nThe Company’s quarterly results may experience seasonal fluctuations. Subsequent to the acquisition of Harry & David in fiscal 2015 and through fiscal 2019, due to the seasonal nature of the Company’s business, and its continued expansion into non-floral products, the Thanksgiving through Christmas holiday season, which falls within the Company’s second fiscal quarter, historically generated nearly 50% of the Company’s annual revenues, and all of its earnings. However, with the onset of the COVID-19 pandemic, the Company experienced a significant increase in its revenues and earnings during its fourth quarter of fiscal 2020. These trends have continued through the first two months of its fiscal 2021 first quarter. Our customers have increasingly turned to our brands and our expanded product offerings to help them connect and express themselves during the recent COVID-19 pandemic and our “everyday” gifting product line has seen increased volume. While the continuing impacts of COVID-19 are difficult to predict, the Company expects that its fiscal second quarter will continue to be its largest in terms of revenues and earnings, although increases in the Company’s “everyday” business have and are expected to continue to lessen the seasonality of our business. Due to the number of major floral gifting occasions, including Mother's Day, Valentine’s Day, Easter and Administrative Professionals Week, revenues also rise during the Company’s fiscal third and fourth quarters in comparison to its fiscal first quarter. In fiscal 2019 and fiscal 2020, Easter was on April 21\\nst\\nand April 12\\nth\\n, respectively. As a result, most Easter-related revenue and associated EBITDA was earned in its fiscal fourth quarter. In fiscal 2021, Easter will be on April 4\\nth\\n, which is expected to result in a shift of Easter revenues from the Company’s fiscal fourth quarter into its fiscal third quarter.\\nIn preparation for the Company’s second quarter holiday season, the Company significantly increases its inventories, and therefore, corresponding cash requirements, which traditionally have been financed by cash flows from operations and bank lines of credit, which peak in November. The Company has historically repaid all revolving bank lines of credit with cash generated from operations, prior to the end of the Company’s fiscal second quarter.\\nCompetition\\nThe growing popularity and convenience of e-commerce shopping has continued to give rise to established businesses on the Internet. In addition to selling their products over the Internet, many of these retailers sell their products through a combination of channels by maintaining a website, a toll-free phone number and physical locations. Additionally, several of these merchants offer an expanding variety of products and some are attracting an increasing number of customers. Certain mass merchants have expanded their offerings to include competing products and may continue to do so in the future. These businesses, as well as other potential competitors, may be able to:\\n● undertake more extensive marketing campaigns for their brands and services;\\n● adopt more aggressive pricing policies; and\\n● make more attractive offers to potential employees, distributors and retailers.\\nIn addition, the Company faces intense competition in each of its individual product categories. In the floral industry, there are various providers of floral products, none of which is dominant in the industry. The Company’s competitors include:\\n● retail floral shops, some of which maintain toll-free telephone numbers and websites;\\n● online floral retailers, as well as retailers offering substitute gift products;\\n● catalog companies that offer floral products;\\n● floral telemarketers and wire services; and\\n● supermarkets, mass merchants and specialty retailers with floral departments.\\nSimilarly, the plant, gift basket and gourmet foods categories are highly competitive. Each of these categories encompasses a wide range of products, is highly fragmented and is served by a large number of companies, none of which is dominant. Products in these categories may be purchased from a number of outlets, including mass merchants, telemarketers, retail specialty shops, online retailers and mail-order catalogs.\\nThe Company believes the strength of its brands, product selection, customer relationships, technology infrastructure and fulfillment capabilities position it to compete effectively against its current and potential competitors in each of its product categories. However, increased competition could result in:\\n● price reductions, decreased revenues and lower profit margins;\\n● loss of market share; and\\n● increased marketing expenditures.\\nThese and other competitive factors may adversely impact the Company’s business and results of operations.\\n7\\nTable of Contents\\nGovernment Regulation and Legal Uncertainties\\nThe Internet continues to evolve and there are laws and regulations directly applicable to e-commerce. Legislatures are also considering an increasing number of laws and regulations pertaining to the Internet, including laws and regulations addressing:\\n●\\nuser privacy;\\n●\\npricing;\\n●\\ncontent;\\n●\\nconnectivity;\\n●\\nintellectual property;\\n●\\ndistribution;\\n●\\ntaxation and tariffs;\\n●\\nliabilities;\\n●\\nantitrust; and\\n●\\ncharacteristics and quality of products and services.\\nFurther, the growth and development of the market for online services may prompt more stringent consumer protection laws that may impose additional burdens on those companies conducting business online. The adoption of any additional laws or regulations may impair the growth of the Internet or commercial online services. This could decrease the demand for the Company’s services and increase its cost of doing business. Moreover, the applicability to the Internet of existing laws regarding issues like property ownership, taxes, libel and personal privacy is uncertain. Any new legislation or regulation that has an adverse impact on the Internet or the application of existing laws and regulations to the Internet could have a material adverse effect on the Company’s business, financial condition and results of operations.\\nStates or foreign countries might attempt to regulate the Company’s business or levy additional sales or other taxes relating to its activities. Because the Company’s products and services are available over the Internet anywhere in the world, multiple jurisdictions may claim that the Company is required to do business as a foreign corporation in one or more of those jurisdictions. Failure to qualify as a foreign corporation in a jurisdiction where the Company is required to do so could subject it to taxes and penalties. States or foreign governments may charge the Company with violations of local laws.\\nIntellectual Property and Proprietary Rights\\nThe Company regards its service marks, trademarks, trade secrets, domain names and similar intellectual property as critical to its success. The Company has applied for or received trademark and/or service mark registration for, among others, “1-800-FLOWERS.COM”, “1-800-FLOWERS”, “1-800-Baskets.com”, “FruitBrouquets.com”, “BloomNet”, “GreatFood.com”, “The Popcorn Factory”, “Cheryl’s Cookies”, “Mrs. Beasley’s”, “Celebrations Passport”, “Flowerama”, “DesignPac”, “Napco”, “Harry & David”, “Wolferman’s\", “Moose Munch”, Cushman’s”, “Goodsey”, “Simply Chocolate”, “Personalization Universe”, “PersonalizationMall” and “Shari’s Berries”. The Company also has rights to numerous domain names, including: www.1800flowers.com, www.800flowers.com, www.1800baskets.com, www.flowers.com, www.personalizationuniverse.com, www.personalizationmall.com, www.goodsey.com, www.greatfoods.com, www.stockyards.com, www.cheryls.com, www.celebrations.com, www.flowerama.com, www.designpac.com, www.simplychocolate.com, www.mybloomnet.net, www.napcoimports.com, www.thepopcornfactory.com, www.harryanddavid.com, www.wolfermans.com, www.berries.com, and www.sharisberries.com. In addition, the Company owns a number of international trademarks and/or service marks. The Company has also developed transaction processing and operating systems as well as marketing data, and customer and recipient information databases.\\nThe Company relies on trademark, unfair competition and copyright law, trade secret protection and contracts such as confidentiality and license agreements with its employees, customers, vendors and others to protect its proprietary rights. Despite the Company’s precautions, it may be possible for competitors to obtain and/or use the Company’s proprietary information without authorization or to develop technologies similar to the Company’s and independently create a similarly functioning infrastructure. Furthermore, the protection of proprietary rights in Internet-related industries is uncertain and still evolving. The laws of some foreign countries do not protect proprietary rights to the same extent as do the laws of the United States. The Company’s means of protecting its proprietary rights in the United States or abroad may not be adequate.\\nThird parties have in the past infringed or misappropriated the Company’s intellectual property or similar proprietary rights. The Company believes infringements and misappropriations will continue to occur in the future. The Company intends to guard against infringement and misappropriation. However, the Company cannot guarantee it will be able to enforce its rights and enjoin the alleged infringers from their use of confusingly similar trademarks, service marks, telephone numbers and domain names.\\nIn addition, third parties may assert infringement claims against the Company. The Company cannot be certain that its technologies or its products and services do not infringe valid patents, trademarks, copyrights or other proprietary rights held by third parties. The Company may be subject to legal proceedings and claims from time to time relating to its intellectual property and the intellectual property of others in the ordinary course of its business. Intellectual property litigation is expensive and time-consuming and could divert management resources away from running the Company’s business.\\nEmployees\\nAs of June 28, 2020, the Company had a total of approximately 4,300 full and part-time employees. During peak periods, the Company substantially increases the number of customer service, manufacturing and retail and fulfillment personnel. The Company’s personnel are not represented under collective bargaining agreements and the Company considers its relations with its employees to be good.\\n8\\nTable of Contents\\nItem 1A.\\nRisk Factors\\nCautionary Statements Under the Private Securities Litigation Reform Act of 1995\\nOur disclosures and analysis in this Form 10-K contain some forward-looking statements that set forth anticipated results based on management’s plans and assumptions. From time to time, we also provide forward-looking statements in other statements we release to the public as well as oral forward-looking statements. Such statements give our current expectations or forecasts of future events; they do not relate strictly to historical or current facts. We have tried, wherever possible, to identify such statements by using words such as “anticipate,” “estimate,” “expect,” “project,” “intend,” “plan,” “believe” and similar expressions in connection with any discussion of future operating or financial performance. In particular, these include statements relating to future actions; the effectiveness of our marketing programs; the performance of our existing products and services; our ability to attract and retain customers and expand our customer base; our ability to enter into or renew online marketing agreements; our ability to respond to competitive pressures; expenses, including shipping costs and the costs of marketing our current and future products and services; the outcome of contingencies, including legal proceedings in the normal course of business; and our ability to integrate acquisitions.\\nWe cannot guarantee that any forward-looking statement will be realized, although we believe we have been prudent in our plans and assumptions. Achievement of future results is subject to risk, uncertainties and potentially inaccurate assumptions. Should known or unknown risks or uncertainties materialize, or should underlying assumptions prove inaccurate, actual results could differ materially from past results and those anticipated, estimated or projected. You should bear this in mind as you consider forward looking statements.\\nWe undertake no obligation to publicly update forward-looking statements, whether as a result of new information, future events or otherwise. You are advised, however, to consult any further disclosures we make on related subjects in our 10-Q and 8-K reports to the Securities and Exchange Commission (\"SEC\"). Also note we provide the following cautionary discussion of risks, uncertainties and possibly inaccurate assumptions relevant to our business. These are factors that, individually or in the aggregate, we think could cause our actual results to differ materially from expected and historical results. We note these factors for investors as permitted by the Private Securities Litigation Reform Act of 1995.\\nThe financial and credit markets and consumer sentiment have\\nand will experience significant volatility, which may have an adverse effect on our customers’ spending patterns and in turn our business, financial condition and results of operations.\\nThe Company’s business and operating results are subject to economic conditions and their impact on consumer discretionary spending. Factors that may negatively impact consumer spending include high levels of unemployment, higher consumer debt levels, reductions in net worth, declines in asset values, and related market uncertainty; home foreclosures and reductions in home values; fluctuating interest rates and credit availability; fluctuating fuel and other energy costs; fluctuating commodity prices; and general uncertainty regarding the overall future political and economic environment. Consumer spending patterns are difficult to predict and are sensitive to the general economic climate, the consumer’s level of disposable income, consumer debt, and overall consumer confidence. In recent past, financial crisis has impacted and may continue to impact our business in a number of ways. Included among these current and potential future negative impacts are reduced demand and lower prices for our products and services. Adverse economic changes could reduce consumer confidence and could thereby affect our operating results. In challenging and uncertain economic environments, including the COVID-19 pandemic, we cannot predict when macroeconomic conditions uncertainty may arise and whether such circumstances could impact the Company.\\nThe Company’s operating results may fluctuate, and this fluctuation could cause financial results to be below expectations.\\nThe Company’s operating results may fluctuate from period to period for a number of reasons. In budgeting the Company’s operating expenses for the foreseeable future, the Company makes assumptions regarding revenue trends; however, some of the Company’s operating expenses are fixed in the short term. Sales of the Company’s products are seasonal, concentrated in the fourth calendar quarter, due to the Thanksgiving and Christmas-time holidays, and the second calendar quarter, due to Mother's Day and Administrative Professionals’ Week. In anticipation of increased sales activity during these periods, the Company hires a significant number of temporary employees to supplement its permanent staff and the Company increases its inventory levels. If revenues during these periods do not meet the Company’s expectations, it may not generate sufficient revenue to offset these increased costs and its operating results may suffer.\\nThe Company’s quarterly operating results may significantly fluctuate and you should not rely on them as an indication of its future results.\\nThe Company’s future revenues and results of operations may significantly fluctuate due to a combination of factors, many of which are outside of management’s control. The most important of these factors include:\\n●\\nseasonality;\\n●\\nthe retail economy;\\n●\\nthe timing and effectiveness of marketing programs;\\n●\\nthe timing of the introduction of new products and services;\\n●\\nthe Company’s ability to find and maintain reliable sources for certain of its products;\\n●\\nthe impact of severe weather or natural disasters on consumer demand;\\n●\\nthe timing and effectiveness of capital expenditures;\\n●\\nthe Company’s ability to enter into or renew online marketing agreements; and\\n●\\ncompetition.\\nThe Company may be unable to reduce operating expenses quickly enough to offset any unexpected revenue shortfall. If the Company has a shortfall in revenue without a corresponding reduction to its expenses, operating results may suffer. The Company’s operating results for any particular quarter may not be indicative of future operating results. You should not rely on quarter-to-quarter comparisons of results of operations as an indication of the Company’s future performance. It is possible that results of operations may be below the expectations of public market analysts and investors, which could cause the trading price of the Company’s Class A common stock to fall.\\nThe impact of the spread of COVID-19 is creating significant uncertainty for our business, financial condition and results of operations and for the prices of our publicly traded securities.\\nThe extent of the impact of the COVID-19 pandemic on our business and financial results will depend on numerous evolving factors that we are not able to accurately predict and which will vary by market, including the duration and scope of the pandemic, global economic conditions during and after the pandemic, governmental actions that have been taken, or may be taken in the future, in response to the pandemic, and changes in consumer behavior in response to the pandemic, some of which may be more than just temporary.\\nOur operations expose us to risks associated with the COVID-19 pandemic, which has resulted in challenging operating environments. COVID-19 has spread across the globe to the countries and states in which we do business. Authorities in many of these markets have implemented numerous measures to stall the spread of COVID-19, including travel bans and restrictions, quarantines, curfews, shelter in place orders, and business shutdowns. These measures have impacted and will further impact us and our business partners (such as customers, employees, suppliers, franchisees, florists and other third parties with whom we do business). There is considerable uncertainty regarding how these measures and future measures in response to the pandemic will impact our business, including whether they will result in further changes in demand for our products, further increases in operating costs (whether as a result of changes to our supply chain or increases in employee costs or otherwise), how they will further impact our supply chain and whether they will result in further reduced availability of air or other commercial transport, port closures or border restrictions, each or all of which can impact our ability to make, manufacture, distribute and sell our products. In addition, measures that impact our ability to access our offices, plants, warehouses, distribution centers or other facilities, or that impact the ability of our business partners to do the same, may impact the availability of our and their employees, many of whom are not able to perform their job functions remotely. If a significant percentage of our or our business partners’ workforce is unable to work, our operations will be negatively impacted. Any sustained interruption in our or our business partners’ operations, distribution network or supply chain or any significant continuous shortage of raw materials or other supplies as a result of these measures, restrictions or disruptions can impair our ability to make, manufacture, distribute or sell our products.\\n9\\nTable of Contents\\nCompliance with governmental measures imposed in response to COVID-19 has caused and may continue to cause us to incur additional costs, and any inability to comply with such measures can subject us to restrictions on our business activities, fines, and other penalties, any of which can adversely affect our business. The continuation of the COVID-19 pandemic and various governmental responses may continue to restrict our ability to carry on business development activities and business-related travel, and our sales activity may be adversely affected. In addition, the increase in certain of our employees working remotely has amplified certain risks to our business, including increased demand on our information technology resources and systems, increased phishing and other cybersecurity attacks as cybercriminals try to exploit the uncertainty surrounding the COVID-19 pandemic, and an increase in the number of points of potential attack, such as laptops and mobile devices (both of which are now being used in increased numbers), to be secured, and any failure to effectively manage these risks, including to timely identify and appropriately respond to any cyberattacks, may adversely affect our business.\\nPublic concern regarding the risk of contracting COVID-19 impacts demand from customers, including due to customers not leaving their homes or otherwise shopping in a different manner than they historically have or because some of our customers have lower discretionary income due to unemployment or reduced or limited work as a result of measures taken in response to the pandemic. As we sell a wide variety of products, the profile of the products we sell and the amount of revenue attributable to such products varies by jurisdiction and changes in demand as a result of COVID-19 will vary in scope and timing across these markets. In addition, changes in consumer purchasing and consumption patterns may result in changes in demand for our products, thereby impacting our earnings. Any reduced demand for our products or change in customers purchasing and consumption patterns, as well as continued economic uncertainty, can adversely affect our customers’ and business partners’ financial condition, resulting in an inability to pay for our products, reduced or canceled orders of our products, closing of florist or franchise locations, stores, or our business partners’ inability to supply us with ingredients or other items necessary for us to make, manufacture, distribute or sell our products. Such adverse changes in our customers’ or business partners’ financial condition may also result in our recording impairment charges for our inability to recover or collect any accounts receivable, owned or leased assets, or prepaid expenses. In addition, economic uncertainty associated with the COVID-19 pandemic has resulted in volatility in the global capital and credit markets, and in foreign currency exchange rates, commodity prices, and interest rates, which can impair our ability to access these markets on terms commercially acceptable to us, or at all. Even after the COVID-19 global pandemic has subsided, we may experience adverse impacts to our business as a result of any economic recession or depression that has occurred or may occur in the future.\\nWhile we have developed and implemented and continue to develop and implement health and safety protocols, business continuity plans and crisis management protocols in an effort to try to mitigate the negative impact of COVID-19 on our employees and our business, there can be no assurance that we will be successful in our efforts, and as a result, our business, financial condition and results of operations and the prices of our publicly traded securities may be adversely affected.\\nConsumer spending on products sold by the Company may vary with general economic conditions.\\nIf general economic conditions deteriorate and the Company’s customers have less disposable income, consumers may spend less on its products and its quarterly operating results may suffer.\\nDuring peak periods, the Company utilizes temporary employees and outsourced staff, who may not be as well-trained or committed to its customers as its permanent employees, and if they fail to provide the Company’s customers with high quality customer service the customers may not return, which could have a material adverse effect on the Company’s business, financial condition, results of operations and cash flows.\\nThe Company depends on its customer service department to respond to its customers should they have questions or problems with their orders. During peak periods, the Company relies on its permanent employees, as well as temporary employees and outsourced staff to respond to customer inquiries. These temporary employees and outsourced staff may not have the same level of commitment to the Company’s customers or be as well trained as its permanent employees. If the Company’s customers are dissatisfied with the quality of the customer service they receive, they may not shop with the Company again, which could have a material adverse effect on its business, financial condition, results of operations and cash flows.\\nIf the Company fails to develop and maintain its brands, it may not increase or maintain its customer base or its revenues.\\nThe Company must continue to develop and maintain the 1-800-FLOWERS.COM brands to expand its customer base and its revenues. In addition, the Company has introduced and acquired other brands in the past, and may continue to do so in the future. The Company believes that the importance of brand recognition will increase as it expands its product offerings. Many of the Company’s customers may not be aware of the Company’s non-floral products. If the Company fails to advertise and market its products effectively, it may not succeed in establishing its brands and may lose customers leading to a reduction of revenues.\\nThe Company’s success in promoting and enhancing the 1-800-FLOWERS.COM brands will also depend on its success in providing its customers high-quality products and a high level of customer service. If the Company’s customers do not perceive its products and services to be of high quality, the value of the 1-800-FLOWERS.COM brands would be diminished and the Company may lose customers and its revenues may decline.\\nA failure to establish and maintain strategic online and social media relationships that generate a significant amount of traffic could limit the growth of the Company’s business.\\nAlthough the Company expects a significant portion of its online customers will continue to come directly to its website, it will also rely on third party websites, search engines and affiliates with which the Company has strategic relationships for traffic. If these third-parties do not attract a significant number of visitors, the Company may not receive a significant number of online customers from these relationships and its revenues from these relationships may decrease or remain flat. There continues to be strong competition to establish or maintain relationships with leading Internet companies, and the Company may not successfully enter into additional relationships, or renew existing ones beyond their current terms. The Company may also be required to pay significant fees to maintain and expand existing relationships. The Company’s online revenues may suffer if it does not enter into new relationships or maintain existing relationships or if these relationships do not result in traffic sufficient to justify their costs.\\nIf local florists and other third-party vendors do not fulfill orders to the Company’s customers' satisfaction, customers may not shop with the Company again.\\nIn many cases, floral orders placed by the Company’s customers are fulfilled by local independent florists, a majority of which are members of BloomNet. The Company does not directly control any of these florists. In addition, many of the non-floral products sold by the Company are manufactured and delivered to its customers by independent third-party vendors. If customers are dissatisfied with the performance of the local florist or other third-party vendors, they may not utilize the Company’s services when placing future orders and its revenues may decrease.\\nIf a florist discontinues its relationship with the Company, the Company’s customers may experience delays in service or declines in quality and may not shop with the Company again.\\nMany of the Company’s arrangements with local florists for order fulfillment may be terminated by either party with 10 days’ notice. If a florist discontinues its relationship with the Company, the Company will be required to obtain a suitable replacement located in the same geographic area, which may cause delays in delivery or a decline in quality, leading to customer dissatisfaction and loss of customers.\\n10\\nTable of Contents\\nIf a significant number of customers are not satisfied with their purchase, the Company will be required to incur substantial costs to issue refunds, credits or replacement products\\n. The Company offers its customers a 100% satisfaction guarantee on its products. If customers are not satisfied with the products they receive, the Company will either replace the product for the customer or issue the customer a refund or credit. The Company’s net income would decrease if a significant number of customers request replacement products, refunds or credits and the Company is unable to pass such costs onto the supplier.\\nIncreased shipping costs and labor stoppages may adversely affect sales of the Company’s products.\\nMany of the Company's products are delivered to customers either directly from the manufacturer or from the Company’s fulfillment centers. The Company has established relationships with Federal Express and other common carriers for the delivery of these products. If these carriers were to increase the prices they charge to ship the Company’s goods, and the Company passes these increases on to its customers, its customers might choose to buy comparable products locally to avoid shipping charges. In addition, these carriers or other parties involved (e.g. dock workers) may experience labor stoppages, which could impact the Company’s ability to deliver products on a timely basis to our customers and adversely affect its customer relationships.\\nIf the Company fails to continuously improve its website\\n(on all relevant platforms, including mobile)\\n, it may not attract or retain customers.\\nIf potential or existing customers do not find the Company’s website (on all relevant platforms, including mobile) a convenient place to shop, the Company may not attract or retain customers and its sales may suffer. To encourage the use of the Company’s website, it must continuously improve its accessibility, content and ease of use. Customer traffic and the Company’s business would be adversely affected if competitors' websites are perceived as easier to use or better able to satisfy customer needs.\\nCompetition in the floral, plant, gift basket, gourmet food, and specialty gift industries is intense and a failure to respond to competitive pressure could result in lost revenues.\\nThere are many companies that offer products in these categories. In the floral category, the Company’s competitors include:\\n●\\nretail floral shops, some of which maintain toll-free telephone numbers and websites;\\n●\\nonline floral retailers;\\n●\\ncatalog companies that offer floral products;\\n●\\nfloral telemarketers and wire services; and\\n●\\nsupermarkets, mass merchants and specialty gift retailers with floral departments.\\nSimilarly, the plant, gift basket, gourmet food, cookie, candy, fruit and specialty gift categories are highly competitive\\n. Each of these categories encompasses a wide range of products and is highly fragmented. Products in these categories may be purchased from a number of outlets, including mass merchants, retail shops, online retailers and mail-order catalogs.\\nCompetition is intense and the Company expects it to increase. Increased competition could result in:\\n●\\nprice reductions, decreased revenue and lower profit margins;\\n●\\nloss of market share; and\\n●\\nincreased marketing expenditures.\\nThese and other competitive factors could materially and adversely affect the Company’s results of operations.\\nIf the Company does not accurately predict customer demand for its products, it may lose customers or experience increased costs.\\nIf the Company overestimates customer demand for its products, excess inventory and outdated merchandise could accumulate, tying up working capital and potentially resulting in reduced warehouse capacity and inventory losses due to damage, theft and obsolescence. If the Company underestimates customer demand, it may disappoint customers who may turn to its competitors. Moreover, the strength of the 1-800-FLOWERS.COM brands could be diminished due to misjudgments in merchandise selection.\\nIf the supply of flowers for sale becomes limited, the price of flowers could rise or flowers may be unavailable and the Company’s revenues and gross margins could decline.\\nA variety of factors affect the supply of flowers in the United States and the price of the Company’s floral products. If the supply of flowers available for sale is limited due to weather conditions, farm closures, economic conditions, or other factors, prices for flowers could rise and as a result customer demand for the Company’s floral products may be reduced, causing revenues and gross margins to decline. Alternatively, the Company may not be able to obtain high quality flowers in an amount sufficient to meet customer demand. Even if available, flowers from alternative sources may be of lesser quality and/or may be more expensive than those currently offered by the Company.\\nMost of the flowers sold in the United States are grown by farmers located abroad, primarily in Colombia, Ecuador and Holland, and the Company expects that this will continue in the future.\\nWe are dependent on international vendors for our supply of flowers, as well as certain components and products, exposing us to significant regulatory, global economic, taxation, political instability and other risks, which could adversely impact our financial results.\\nThe availability and price of flowers, as well as certain components and products that we rely on to manufacture and sell our products could be adversely affected by a number of factors affecting international locations, including:\\n●\\nimport duties and quotas;\\n●\\nagricultural limitations and restrictions to manage pests and disease;\\n●\\nchanges in trading status;\\n●\\neconomic uncertainties and currency fluctuations;\\n●\\nsevere weather;\\n●\\nwork stoppages;\\n●\\nforeign government regulations and political unrest; and\\n●\\ntrade restrictions, including United States retaliation against foreign trade practices.\\n11\\nTable of Contents\\nThe U.S. administration has instituted or proposed changes in trade policies that include the negotiation or termination of trade agreements, the imposition of higher tariffs on imports into the U.S., economic sanctions on individuals, corporations or countries, and other government regulations affecting trade between the U.S. and other countries where we conduct business. As a result, there may be greater restrictions and economic disincentives on international trade and such changes have the potential to adversely impact the U.S. economy, our industry and the demand for our products. In addition, it may be time-consuming and expensive for us to alter our business operations in order to adapt to or comply with any such changes, and as a result, such changes, could have a material adverse effect on our business, financial condition and results of operations.\\nOur orchard production operations are subject to environmental laws and regulation and any failure to comply could result in significant fines or clean-up costs.\\nWe use herbicides, fertilizers and pesticides, some of which may be considered hazardous substances. Various federal, state, and local environmental laws, ordinances and regulations regulate our properties and farming operations and could make us liable for costs of removing or cleaning up hazardous substances on, under, or in property that we currently own or lease, that we previously owned or leased, or upon which we currently or previously conducted farming operations. These laws could impose liabilities without regard to whether we knew of, or were responsible for, the presence of hazardous substances. The presence of hazardous substances or the failure to properly clean up such substances when present, could jeopardize our ability to use, sell or collateralize certain real property and result in significant fines or clean-up costs, which could adversely affect our business, financial condition and results of operations. Changes to and/or new environmental laws could impact our farming operations or increase our cost of goods.\\nVarious diseases, pests and certain weather conditions can affect fruit production.\\nVarious diseases, pests, fungi, viruses, drought, frosts, hail, wildfires, floods and certain other weather conditions could affect the quality and quantity of our fruit production in our Harry & David orchards, decreasing the supply of our products and negatively impacting profitability. Our producing orchards also require adequate water supplies. A substantial reduction in water supplies could result in material losses of crops, which could lead to a shortage of our product supply.\\nThe ripening of our fruits is subject to seasonal fluctuations which could negatively impact profitability.\\nThe ripening of our fruits in the Harry & David orchards can happen earlier than predicted due to warmer temperatures during the year. This would result in an oversupply of fruits that we might not be able to sell on a timely basis and could result in significant inventory write-offs. The ripening of the Company’s fruits can also happen later than predicted due to colder temperatures during the year. This can cause a delay in product shipments and not being able to timely meet customer demand during the critical holiday season. Both of these scenarios could adversely affect our business, financial condition and results of operations.\\nThe Company’s franchisees may damage its brands or increase its costs by failing to comply with its franchise agreements or its operating standards.\\nThe Company’s franchise business is governed by its Uniform Franchise Disclosure Document, franchise agreements and applicable franchise law. If the Company’s franchisees do not comply with its established operating standards or the terms of the franchise agreements, the 1-800-FLOWERS.COM brands may be damaged. The Company may incur significant additional costs, including time-consuming and expensive litigation, to enforce its rights under the franchise agreements. Additionally, the Company is the primary tenant on certain leases, which the franchisees sublease from the Company. If a franchisee fails to meet its obligations as subtenant, the Company could incur significant costs to avoid default under the primary lease. Furthermore, as a franchisor, the Company has obligations to its franchisees. Franchisees may challenge the performance of the Company’s obligations under the franchise agreements and subject it to costs in defending these claims and, if the claims are successful, costs in connection with their compliance.\\nIf third parties acquire rights to use similar domain names or phone numbers or if the Company loses the right to use its phone numbers, its brands may be damaged and it may lose sales.\\nThe Company’s Internet domain names are an important aspect of its brand recognition. The Company cannot practically acquire rights to all domain names similar to www.1800flowers.com, or its other brands, whether under existing top level domains or those issued in the future. If third parties obtain rights to similar domain names, these third parties may confuse the Company’s customers and cause its customers to inadvertently place orders with these third parties, which could result in lost sales and could damage its brands.\\nLikewise, the phone number that spells 1-800-FLOWERS is important to the Company’s brand and its business. While the Company has obtained the right to use the phone numbers 1-800-FLOWERS, 1-888-FLOWERS and 1-877-FLOWERS, as well as common toll-free \"FLOWERS\" misdials, it may not be able to obtain rights to use the FLOWERS phone number as new toll-free prefixes are issued, or the rights to all similar and potentially confusing numbers. If third parties obtain the phone number that spells \"FLOWERS\" with a different prefix or a toll-free number similar to FLOWERS, these parties may also confuse the Company’s customers and cause lost sales and potential damage to its brands. In addition, under applicable FCC rules, ownership rights to phone numbers cannot be acquired. Accordingly, the FCC may rescind the Company’s right to use any of its phone numbers, including 1-800-FLOWERS (1-800-356-9377).\\nFailure to protect our website, networks and computer systems against\\ndisruption and cyber security threats\\n, or otherwise protect our and our customers’ confidential information,\\ncould damage our relationships with our customers, harm our reputation, expose us to litigation and adversely affect our business.\\nWe rely extensively on our computer systems for the successful operation of our business, including corporate email communications to and from employees, customers and retail operations, the design, manufacture and distribution of our finished goods, digital marketing efforts, collection and retention of customer data, employee information, the processing of credit card transactions, online e-commerce activities and our interaction with the public in the social media space. Our systems are subject to damage or interruption from computer viruses, malicious attacks and other security breaches. The possibility of a cyber-attack on any one or all of these systems is always a serious threat and consumer awareness and sensitivity to privacy breaches and cyber security threats is at an all-time high. If a cybersecurity incident occurs, or there is a public perception that we have suffered a breach, our reputation and brand could be damaged and we could be required to expend significant capital and other resources to alleviate problems.\\nAs part of our business model, we collect, retain, and transmit confidential information over public networks. In addition to our own databases, we use third party service providers to store, process and transmit this information on our behalf. Although we contractually require these service providers to implement and use reasonable security measures, we cannot control third parties and cannot guarantee that a security breach will not occur in the future either at their location or within their systems. We have confidential security measures in place to protect both our physical facilities and digital systems from attacks. Despite these efforts, we may be vulnerable to targeted or random security breaches, acts of vandalism, computer viruses, misplaced or lost data, programming and/or human errors, or other similar events.\\nGiven the robust nature of our e-commerce presence and digital strategy, it is imperative that we and our e-commerce partners maintain uninterrupted operation of our: (i) computer hardware, (ii) software systems, (iii) customer marketing databases, and (iv) ability to email our current and potential customers.\\nIf our systems are damaged or fail to function properly or reliably, we may incur substantial repair or replacement costs, experience data loss or theft and impediments to our ability to conduct our operations. Any material disruptions in our e-commerce presence or information technology systems could have a material adverse effect on our business, financial condition and results of operations.\\n12\\nTable of Contents\\nA privacy or data security breach could expose us to costly government enforcement actions and private litigation and adversely affect our business.\\nAn important component of our business involves the receipt, processing, transmittal, and storage of personal, confidential or sensitive information about our customers. We have programs in place to detect, contain and respond to data security incidents. However, because the techniques used to obtain unauthorized access, disable or degrade service, or sabotage systems change frequently and may be difficult to detect for long periods of time, we may be unable to anticipate these techniques or implement adequate preventive measures. In addition, hardware, software, or applications we develop or procure from third parties may contain defects in design or manufacture or other problems that could unexpectedly compromise information security. Unauthorized parties may also attempt to gain access to our systems or facilities, or those of third parties with whom we do business, through fraud, trickery, or other forms of deceiving our team members, contractors, vendors, and temporary staff. In addition, security breaches can also occur as a result of intentional or inadvertent breaches by our employees or by persons with whom we have commercial relationships. Any actual or suspected security breach or other compromise of our security measures or those of our third party vendors whether as a result of banking efforts, denial-of-service attacks, viruses, malicious software, break-ins, phishing attacks, social engineering or otherwise, could harm our reputation and business, damage our brand and make it harder to retain existing customers or acquire new ones, require us to expend significant capital and other resources to address the breach, and result in a violation of applicable laws regulations or other legal obligations. Moreover, any insurance coverage we may carry may be inadequate to cover the expenses and other potential financial exposure we could face as a result of a privacy or data breach.\\nFailure to comply with federal, state and international laws and regulations relating to privacy, data protection and consumer protection, or the expansion of current or the enactment of new laws or regulations relating to privacy, data protection and consumer protection, could adversely affect our business and our financial condition.\\nA variety of federal, state and international laws and regulations govern the collection, use, retention, sharing, export and security of personal\\ninformation. We also may choose to comply with, or may be required to comply with, self-regulatory obligations or other industry standards. Laws and regulations relating to privacy, data protection and consumer protection are evolving and subject to potentially differing interpretations, and laws providing for new privacy and security rights and requirements may be enacted or come into effect in different jurisdictions. These requirements may be enacted, interpreted or applied in a manner that is inconsistent from one jurisdiction to another or in a manner that conflicts with other rules or our practices. As a result, our practices may not comply, or may not comply in the future with all such laws, regulations, requirements and obligations. Any failure, or perceived failure, by us to comply with any federal, state or international privacy or consumer protection- related laws, regulations, regulatory guidance, orders to which we may be subject or other legal obligations relating to privacy or consumer protection could adversely affect our reputation, brand and business, and may result in claims, proceedings or actions against us by governmental entities or others, including claims for statutory damages asserted on behalf of purported classes of affected persons or other liabilities or require us to change our business practices, including changing, limiting or ceasing altogether the collection, use, sharing, or transfer of data relating to customers, which could materially adversely affect our business, financial condition and operating results.\\nThe Company’s business could be injured by significant credit card, debit card and gift card fraud.\\nCustomers typically pay for their on-line or telephone orders with debit or credit cards as well as a portion of their orders using gift cards. The Company’s revenues and gross margins could decrease if it experienced significant credit card, debit card and gift card fraud. Failure to adequately detect and avoid fraudulent credit card, debit card and gift card transactions could cause the Company to lose its ability to accept credit cards or debit cards as forms of payment and/or result in charge-backs of the fraudulently charged amounts and/or significantly decrease revenues. Furthermore, widespread credit card, debit card and gift card fraud may lessen the Company’s customers’ willingness to purchase products through the Company’s websites or toll-free telephone numbers. For this reason, such failure could have a material adverse effect on the Company’s business, financial condition, results of operations and cash flows.\\nUnexpected system interruptions caused by system failures may result in reduced revenues and harm to the Company’s brand.\\nIn the past, particularly during peak holiday periods, the Company has experienced significant increases in traffic on its website and in its toll-free customer service centers. The Company’s operations are dependent on its ability to maintain its computer and telecommunications systems in effective working order and to protect its systems against damage from fire, natural disaster, power loss, telecommunications failure, security breaches (including breaches of our transaction processing or other systems that could result in the compromise of confidential customer data) or similar events. The Company’s systems have in the past, and may in the future, experience:\\n●\\nsystem interruptions;\\n●\\nlong response times; and\\n●\\ndegradation in service.\\nThe Company’s business depends on customers making purchases on its systems. Its revenues may decrease and its reputation could be harmed if it experiences frequent or long system delays or interruptions or if a disruption occurs during a peak holiday season.\\nIf the Company’s telecommunications providers do not adequately maintain the Company’s service, the Company may experience system failures and its revenues may decrease.\\nThe Company is dependent on telecommunication providers to provide telephone services to its customer service centers and connectivity with its data centers. Although the Company maintains redundant telecommunications systems, if these providers experience system failures or fail to adequately maintain the Company’s systems, the Company may experience interruptions and will be unable to generate revenue. The Company depends upon these third-party relationships because it does not have the resources to maintain its service without these or other third parties. Failure to maintain these relationships or replace them on financially attractive terms may disrupt the Company’s operations or require it to incur significant unanticipated costs.\\nThe Company's operating results may suffer due to economic, political and social unrest or disturbances.\\nLike other American businesses, the Company is unable to predict what long-term effect acts of terrorism, war, or similar unforeseen events may have on its business. The Company’s results of operations and financial condition could be adversely impacted if such events cause an economic slowdown in the United States, or other negative effects that cannot now be anticipated.\\nIf the Company is unable to hire and retain key personnel, its business may suffer.\\nThe Company’s success is dependent on its ability to hire, retain and motivate highly qualified personnel. In particular, the Company’s success depends on the continued efforts of its Chief Executive Officer, Christopher G. McCann, as well as its senior management team which help manage its business. The loss of the services of any of the Company’s executive management or key personnel or its inability to attract qualified additional personnel could cause its business to suffer and force it to expend time and resources in locating and training additional personnel.\\nMany governmental regulations may impact the Internet, which could affect the Company’s ability to conduct business.\\nAny new law or regulation, or the application or interpretation of existing laws, may adversely impact the growth in the use of the Internet or the Company’s website. The Company expects there will be an increasing number of laws and regulations pertaining to the Internet in the United States and throughout the world. These laws or regulations may relate to liability for information received from or transmitted over the Internet, online content regulation, user privacy, taxation and quality of products and services sold over the Internet. Moreover, the applicability to the Internet of existing laws governing intellectual property ownership and infringement, copyright, trademark, trade secret, obscenity, libel, employment, personal privacy and other issues is uncertain and developing. This could decrease the demand for the Company’s products, increase its costs or otherwise adversely affect its business.\\n13\\nTable of Contents\\nRegulations imposed by the Federal Trade Commission may adversely affect the growth of the Company’s Internet business or its marketing efforts.\\nThe Federal Trade Commission has proposed regulations regarding the collection and use of personal identifying information obtained from individuals when accessing websites, with particular emphasis on access by minors. These regulations may include requirements that the Company establish procedures to disclose and notify users of privacy and security policies, obtain consent from users for collection and use of information and provide users with the ability to access, correct and delete personal information stored by the Company. These regulations may also include enforcement and redress provisions. Moreover, even in the absence of those regulations, the Federal Trade Commission has begun investigations into the privacy practices of other companies that collect information on the Internet. One investigation resulted in a consent decree under which an Internet company agreed to establish programs to implement the principles noted above. The Company may become a party to a similar investigation, or the Federal Trade Commission's regulatory and enforcement efforts, or those of other governmental bodies, may adversely affect its ability to collect demographic and personal information from users, which could adversely affect its marketing efforts.\\nUnauthorized use of the Company’s intellectual property by third parties may damage its brands.\\nUnauthorized use of the Company’s intellectual property by third parties may damage its brands and its reputation and may likely result in a loss of customers. It may be possible for third parties to obtain and use the Company’s intellectual property without authorization. Third parties have in the past infringed or misappropriated the Company’s intellectual property or similar proprietary rights. The Company believes infringements and misappropriations will continue to occur in the future. Furthermore, the validity, enforceability and scope of protection of intellectual property in Internet-related industries is uncertain and still evolving. The Company has been unable to register certain of its intellectual property in some foreign countries and furthermore, the laws of some foreign countries are uncertain or do not protect intellectual property rights to the same extent as do the laws of the United States.\\nDefending against intellectual property infringement claims could be expensive and, if the Company is not successful, could disrupt its ability to conduct business.\\nThe Company has been unable to register certain of its intellectual properties in some foreign countries, including, “1-800-Flowers.com”, “1-800-Flowers” and “800-Flowers”. The Company cannot be certain that the products it sells, or services it offers, do not or will not infringe valid patents, trademarks, copyrights or other intellectual property rights held by third parties. The Company may be a party to legal proceedings and claims relating to the intellectual property of others from time to time in the ordinary course of its business. The Company may incur substantial expense in defending against these third-party infringement claims, regardless of their merit. Successful infringement claims against the Company may result in substantial monetary liability or may materially disrupt its ability to conduct business.\\nThe Company does not collect sales or consumption taxes in some jurisdictions.\\nIn addition to the Company’s retail store operations, the Company collects sales or other similar taxes in states where the Company’s e-commerce channel has applicable nexus. Our customer service and fulfillment networks, and any further expansion of those networks, along with other aspects of our evolving business, may result in additional sales and use tax obligations. An increasing number of states have considered or adopted laws that attempt to impose obligations on out-of-state retailers to collect taxes on their behalf, and the recent June 2018 U.S. Supreme Court ruling in\\nSouth Dakota v. Wayfair, Inc. et al\\n. enables states to consider adopting laws requiring out-of-state sellers to collect and remit sales tax, even in states in which the seller has no physical presence. To the extent that individual states decide to adopt similar legislation, this could significantly increase the collection and compliance burden on the Company. We may not have sufficient lead time to build systems and processes to collect these taxes properly, or at all. Failure to comply with such laws or administrative practices, or a successful assertion by such states requiring us to collect taxes where we do not, could result in substantial tax liabilities, including for past sales, as well as penalties and interest. In addition, if the tax authorities in jurisdictions where we are already subject to sales tax or other indirect tax obligations were successfully to challenge our positions, our tax liability could increase substantially.\\nA failure to integrate our acquisitions may cause the results of the acquired company, as well as the results of the Company to suffer\\n.  The Company has opportunistically acquired a number of companies over the past several years. Additionally, the Company may look to acquire additional companies in the future. As part of the acquisition process, the Company embarks upon a project management effort to integrate the acquisition onto our information technology systems and management processes.  If we are unsuccessful in integrating our acquisitions, the results of our acquisitions may suffer, management may have to divert valuable resources to oversee and manage the acquisitions, the Company may have to expend additional investments in the acquired company to upgrade personnel and/or information technology systems and the results of the Company may suffer.\\nA failure to dispose of assets or businesses in a timely manner may cause the results of the Company to suffer\\n. The Company continues to evaluate the potential disposition of assets and businesses that may no longer help it meet its objectives. When the Company decides to sell assets or a business, it may encounter difficulty in finding buyers or alternative exit strategies on acceptable terms in a timely manner, which could delay the accomplishment of its strategic objectives. Alternatively, the Company may dispose of a business at a price or on terms that are less than it had anticipated. After reaching an agreement with a buyer or seller for the disposition of a business, the Company is subject to satisfaction of pre-closing conditions, which may prevent the Company from completing the transaction. Dispositions may also involve continued financial involvement in the divested business, such as through continuing equity ownership, guarantees, indemnities or other financial obligations. Under these arrangements, performance by the divested businesses or other conditions outside the Company’s control could affect its future financial results.\\nProduct liability claims may subject the Company to increased costs.\\nSeveral of the products the Company sells, including perishable food and alcoholic beverage products may expose it to product liability claims in the event that the use or consumption of these products results in personal injury or property damage. Although the Company has not experienced any material losses due to product liability claims to date, it may be a party to product liability claims in the future and incur significant costs in their defense. Product liability claims often create negative publicity, which could materially damage the Company’s reputation and its brands. Although the Company maintains insurance against product liability claims, its coverage may be inadequate to cover any liabilities it may incur.\\nFuture litigation could have a material adverse effect on our business and results of operations.\\nLawsuits and other administrative or legal proceedings that may arise in the course of our operations can involve substantial costs, including the costs associated with investigation, litigation and possible settlement, judgment, penalty or fine. In addition, lawsuits and other legal proceedings may be time consuming and may require a commitment of management and personnel resources that will be diverted from our normal business operations. Although we generally maintain insurance to mitigate certain costs, there can be no assurance that costs associated with lawsuits or other legal proceedings will not exceed the limits of insurance policies. Moreover, we may be unable to continue to maintain our existing insurance at a reasonable cost, if at all, or to secure additional coverage, which may result in costs associated with lawsuits and other legal proceedings being uninsured. Our business, financial condition, and results of operations could be adversely affected if a judgment, penalty or fine is not fully covered by insurance.\\nThe price at which the Company’s Class A common stock will trade may be highly volatile and may fluctuate substantially.\\nThe stock market has from time to time experienced price and volume fluctuations that have affected the market prices of securities, particularly securities of companies with Internet operations. As a result, investors may experience a material decline in the market price of the Company’s Class A common stock, regardless of the Company’s operating performance. In the past, following periods of volatility in the market price of a particular company's securities, securities class action litigation has often been brought against that company. The Company may become involved in this type of litigation in the future. Litigation of this type is often expensive and diverts management's attention and resources and could have a material adverse effect on the Company’s business and its results of operations.\\nDiscontinuation, reform or replacement of LIBOR and other benchmark rates, or uncertainty related to the potential for any of the foregoing, may adversely affect our business.\\nThe U.K. Financial Conduct Authority announced in 2017 that it intends to phase out LIBOR by the end of 2021. In addition, other regulators have suggested reforming or replacing other benchmark rates. The discontinuation, reform or replacement of LIBOR or any other benchmark rates may have an unpredictable impact on contractual mechanics in the credit markets or cause disruption to the broader financial markets. Uncertainty as to the nature of such potential discontinuation, reform or replacement may negatively impact interest expense related to borrowings under our credit facilities. We may in the future pursue amendments to our credit facilities to provide for a transition mechanism or other reference rate in anticipation of LIBOR’s discontinuation, but we may not be able to reach agreement with our lenders on any such amendments.\\n14\\nTable of Contents\\nAdditional Information\\nThe Company’s internet address is www.1800flowers.com. We make available, through the investor relations tab located on our website at www.1800flowersinc.com, access to our Annual Report on Form 10-K, quarterly reports on Form 10-Q, current reports on Form 8-K and any amendments to those reports filed or furnished pursuant to Section 13(a) or 15(d) of the Securities Exchange Act of 1934 as soon as reasonably practicable after they are electronically filed with or furnished to the SEC. All such filings on our investor relations website are available free of charge. (The information posted on the Company’s website is not incorporated into this Annual Report on Form 10-K.)\\nA copy of this Annual Report on Form 10-K is available without charge upon written request to: Investor Relations, 1-800-FLOWERS.COM, Inc., One Old Country Road, Suite 500, Carle Place, NY 11514. In addition, the SEC maintains a website (http://www.sec.gov) that contains reports, proxy and information statements, and other information regarding issuers that file electronically with the SEC.\\nItem 1B.\\nUnresolved Staff Comments\\nWe have received no written comments regarding our current or periodic reports from the staff of the SEC that were issued 180 days or more preceding the end of our fiscal year ended June 28, 2020 that remain unresolved.\\nItem 2.\\nPROPERTIES\\nThe table below lists the Company’s material properties at June 28, 2020:\\nLocation\\nType\\nPrincipal Use\\nSquare Footage\\nOwnership\\nMedford, OR\\nOffice, plant and warehouse\\nManufacturing, distribution and administrative\\n1,103,000\\nowned\\nMedford, OR\\nWarehouse\\nStorage\\n310,000\\nleased\\nHebron, OH\\nOffice, plant and warehouse\\nManufacturing, distribution and administrative\\n330,900\\nowned\\nMelrose Park, IL\\nOffice and warehouse\\nDistribution, administrative and customer service\\n250,000\\nleased\\nObetz, OH\\nWarehouse\\nDistribution\\n339,000\\nleased\\nJacksonville, FL\\nOffice and warehouse\\nDistribution and administrative\\n180,000\\nowned\\nLake Forest, IL\\nOffice, plant and warehouse\\nManufacturing, distribution and administrative\\n148,000\\nleased\\nHebron, OH\\nWarehouse\\nStorage\\n116,000\\nleased\\nWesterville, OH\\nOffice, plant and warehouse\\nManufacturing, distribution and administrative\\n88,000\\nowned\\nCarle Place, NY\\nOffice\\nHeadquarters\\n80,500\\nleased\\nReno, NV\\nWarehouse\\nDistribution\\n70,000\\nleased\\nObetz, OH\\nWarehouse\\nStorage - Holiday\\n62,000\\nleased\\nMemphis, TN\\nWarehouse\\nDistribution\\n40,000\\nleased\\nJackson County, OR\\nOrchards\\nFarming\\n41 (acres)\\nleased\\nJackson County, OR\\nOrchards\\nFarming\\n1,590 (acres)\\nowned\\nJackson County, OR\\nLand\\nFallow land\\n1,771 (acres)\\nowned\\nItem 3.\\nLEGAL PROCEEDINGS\\nSee\\nNote 17. in Part IV, Item 15\\n, for details.\\nItem 4.\\nMINE SAFETY DISCLOSURES\\nNot applicable.\\n15\\nTable of Contents\\nPART II\\nItem 5.\\nMARKET FOR REGISTRANT’S COMMON EQUITY, RELATED STOCKHOLDER MATTERS AND ISSUER PURCHASES OF EQUITY SECURITIES\\nMarket Information\\n1-800-FLOWERS.COM’s Class A common stock trades on The NASDAQ Global Select Market under the ticker symbol “FLWS.” There is no established public trading market for the Company’s Class B common stock.\\nRights of Common Stock\\nHolders of Class A common stock generally have the same rights as the holders of Class B common stock, except that holders of Class A common stock have one vote per share and holders of Class B common stock have 10 votes per share on all matters submitted to the vote of stockholders. Holders of Class A common stock and Class B common stock generally vote together as a single class on all matters presented to the stockholders for their vote or approval, except as may be required by Delaware law. Class B common stock may be converted into Class A common stock at any time on a one-for-one share basis. Each share of Class B common stock will automatically convert into one share of Class A common stock upon its transfer, with limited exceptions. During fiscal 2018, 78,780 shares of Class B common stock were converted into shares of Class A common stock, while none were converted during fiscal years 2019 and 2020.\\nHolders\\nAs of September 4, 2020, there were approximately 220 stockholders of record of the Company’s Class A common stock, although the Company believes that there is a significantly larger number of beneficial owners. As of September 4, 2020, there were approximately 9 stockholders of record of the Company’s Class B common stock.\\nPurchases of Equity Securities by the Issuer\\nThe Company has a stock repurchase plan through which purchases can be made from time to time in the open market and through privately negotiated transactions, subject to general market conditions. The repurchase program is financed utilizing available cash. In August 2017, the board of directors increased the authorization to $30.0 million, and on June 27, 2019, increased it once more to $30.0 million. The Company repurchased a total of $10.7 million (754,458 shares), $14.8 million (1,230,303 shares) and $12.2 million (1,269,059 shares) during the fiscal years ended June 28, 2020, June 30, 2019 and July 1, 2018, respectively, under this program. As of June 28, 2020, $19.3 million remains authorized under the plan.\\nThe following table sets forth, for the months indicated, the Company’s purchase of common stock during the fiscal year ended June 28, 2020, which includes the period July 1, 2019 through June 28, 2020:\\nPeriod\\nTotal Number of\\nShares Purchased\\nAverage Price\\nPaid Per Share (1)\\nTotal Number of\\nShares\\nPurchased as Part\\nof\\nPublicly\\nAnnounced\\nPlans or Programs\\nDollar Value of\\nShares\\nthat May Yet Be\\nPurchased\\nUnder the Plans or\\nPrograms\\n(in thousands, except average price paid per share)\\n07/01/19\\n-\\n07/28/19\\n-\\n$\\n-\\n-\\n$\\n30,000\\n07/29/19\\n-\\n08/25/19\\n-\\n$\\n-\\n-\\n$\\n30,000\\n08/26/19\\n-\\n09/29/19\\n2,113\\n$\\n14.85\\n2,113\\n$\\n29,969\\n09/30/19\\n-\\n10/27/19\\n-\\n$\\n-\\n-\\n$\\n29,969\\n10/28/19\\n-\\n11/24/19\\n158,750\\n$\\n13.24\\n158,750\\n$\\n27,867\\n11/25/19\\n-\\n12/29/19\\n210,000\\n$\\n13.76\\n210,000\\n$\\n24,970\\n12/30/19\\n-\\n01/26/20\\n270,000\\n$\\n14.43\\n270,000\\n$\\n21,065\\n01/27/20\\n-\\n02/23/20\\n112,941\\n$\\n15.30\\n112,941\\n$\\n19,333\\n02/24/20\\n-\\n03/29/20\\n-\\n$\\n-\\n-\\n$\\n19,333\\n03/30/20\\n-\\n04/26/20\\n-\\n$\\n-\\n-\\n$\\n19,333\\n04/27/20\\n-\\n05/24/20\\n654\\n$\\n20.74\\n654\\n$\\n19,320\\n05/25/20\\n-\\n06/28/20\\n-\\n$\\n-\\n-\\n$\\n19,320\\nTotal\\n754,458\\n$\\n14.13\\n754,458\\n(1)\\nAverage price per share excludes commissions and other transaction fees.\\nDividends\\nWe have never declared or paid cash dividends on our common stock. We currently do not anticipate paying any cash dividends in the foreseeable future. Any future determination to declare cash dividends will be made at the discretion of our board of directors, subject to applicable laws, and will depend on our financial condition, results of operations, capital requirements, general business conditions and other factors that our board of directors may deem relevant.\\n16\\nTable of Contents\\nItem 6.\\nSELECTED FINANCIAL DATA\\nThe selected consolidated statement of income data for the years ended June 28, 2020, June 30, 2019 and July 1, 2018 and the consolidated balance sheet data as of June 28, 2020 and June 30, 2019, have been derived from the Company’s audited consolidated financial statements included elsewhere in this Annual Report on Form 10-K. The selected consolidated statement of income data for the years ended July 2, 2017 and July 3, 2016, and the selected consolidated balance sheet data as of July 1, 2018, July 2, 2017, and July 3, 2016, are derived from the Company’s audited consolidated financial statements, which are not included in this Annual Report on Form 10-K.\\nThe following tables summarize the Company’s consolidated statement of income and balance sheet data. The Company acquired Shari’s Berries in August 2019. In May 2017, the Company completed the disposition of its Fannie May business, and in October 2015, disposed of its iFlorist business. The following data reflects the results of operations of these subsidiaries since their respective dates of acquisition, and /or until their respective dates of disposition. This information should be read together with the discussion in\\n\"Management's Discussion and Analysis of Financial Condition and Results of Operations\"\\nand the Company’s consolidated financial statements and notes to those statements included elsewhere in this Annual Report on Form 10-K.\\nYears ended\\nJune 28,\\n2020\\nJune 30,\\n2019\\nJuly 1,\\n2018\\nJuly 2,\\n2017\\nJuly 3,\\n2016\\nConsolidated Statement of Income Data:\\n(in thousands, except per share data)\\nNet revenues\\n$\\n1,489,637\\n$\\n1,248,623\\n$\\n1,151,921\\n$\\n1,193,625\\n$\\n1,173,024\\nCost of revenues\\n867,441\\n722,502\\n662,896\\n673,344\\n655,566\\nGross profit\\n622,196\\n526,121\\n489,025\\n520,281\\n517,458\\nOperating expenses:\\nMarketing and sales\\n363,227\\n319,636\\n298,810\\n317,527\\n318,175\\nTechnology and development\\n48,698\\n43,758\\n39,258\\n38,903\\n39,234\\nGeneral and administrative\\n97,394\\n87,654\\n77,440\\n84,116\\n84,383\\nDepreciation and amortization\\n32,513\\n29,965\\n32,469\\n33,376\\n32,384\\nTotal operating expenses\\n541,832\\n481,013\\n447,977\\n473,922\\n474,176\\nOperating income\\n80,364\\n45,108\\n41,048\\n46,359\\n43,282\\nInterest expense, net\\n2,438\\n2,769\\n3,631\\n5,821\\n6,674\\nOther income (expense), net\\n(84\\n)\\n644\\n605\\n15,471\\n14,839\\nIncome before income taxes\\n77,842\\n42,983\\n38,022\\n56,009\\n51,447\\nIncome tax expense (benefit)\\n18,844\\n8,217\\n(2,769\\n)\\n11,968\\n15,579\\nNet income\\n58,998\\n34,766\\n40,791\\n44,041\\n35,868\\nLess: Net loss attributable to noncontrolling interest\\n-\\n-\\n-\\n-\\n(1,007\\n)\\nNet income attributable to 1-800-FLOWERS.COM, Inc.\\n$\\n58,998\\n$\\n34,766\\n$\\n40,791\\n$\\n44,041\\n$\\n36,875\\nBasic net income per common share attributable to 1-800-FLOWERS.COM, Inc.\\nBasic net income per common share\\n$\\n0.92\\n$\\n0.54\\n$\\n0.63\\n$\\n0.68\\n$\\n0.57\\nDiluted net income per common share attributable to 1-800-FLOWERS.COM, Inc.\\nDiluted net income per common share\\n$\\n0.89\\n$\\n0.52\\n$\\n0.61\\n$\\n0.65\\n$\\n0.55\\nWeighted average shares used in the calculation of net income per common share:\\nBasic\\n64,463\\n64,342\\n64,666\\n65,191\\n64,896\\nDiluted\\n66,408\\n66,457\\n66,938\\n67,735\\n67,083\\n17\\nTable of Contents\\nAs of\\nJune\\n28, 2020\\nJune\\n30, 2019\\nJuly 1,\\n2018\\nJuly 2,\\n2017\\nJuly 3,\\n2016\\n(in thousands)\\nConsolidated Balance Sheet Data:\\nCash and cash equivalents\\n$\\n240,506\\n$\\n172,923\\n$\\n147,240\\n$\\n149,732\\n$\\n27,826\\nWorking capital\\n198,298\\n175,741\\n**\\n148,222\\n132,227\\n45,798\\nTotal assets\\n774,435\\n***\\n606,440\\n**\\n570,889\\n552,470\\n502,941\\n*\\nLong-term liabilities\\n194,329\\n***\\n136,232\\n131,186\\n145,056\\n139,494\\n*\\nTotal 1-800-FLOWERS.COM, Inc. stockholders' equity\\n399,774\\n342,711\\n**\\n314,904\\n282,239\\n242,586\\n*\\nIn April 2015, the FASB issued ASU No. 2015-03, “Simplifying the Presentation of Debt Issuance Costs,” which amends ASC 835-30, “Interest – Imputation of Interest.” The Company adopted this ASU in fiscal 2017, and the impact of the adoption of the new guidance was to reclassify $3.6 million of deferred financing costs previously included within “Other Assets” to “Long-term debt” in the consolidated balance sheets as of July 1, 2018. We have not reclassified previous fiscal years for the purposes of this presentation.\\n** In May 2014, the FASB issued ASU No. 2014-09, “Revenue from Contracts with Customers.” amending revenue recognition guidance (“ASC 606”). The Company adopted this ASU effective July 2, 2018 for all revenue contracts with our customers using the modified retrospective approach and increased retained earnings by $0.3 million, reduced accrued expenses by $1.1 million and decreased prepaid expense by $0.8 million. The comparative information presented in this Form 10-K has not been restated and continues to be reported under the accounting standards in effect for those periods. The adoption of the new revenue standard did not have a material impact to our net income for the fiscal year 2019.\\n***\\nIn February 2016, the FASB issued ASU No. 2016-02, “Leases (Topic 842)” (“ASC 842”). Under this guidance, an entity is required to recognize right-of-use assets and lease liabilities on its balance sheet\\n.\\nWe adopted the new standard effective July 1, 2019\\nand elected the optional transition method and therefore, we\\ndid\\nnot apply the standard to the comparative periods presented in our financial statements.\\nThe adoption of the new standard had a material impact to the Company’s Consolidated Balance Sheets, but no impact to the Consolidated Statements of Income (Operations) or Consolidated Statements of Cash Flows. As such, we recorded operating lease liabilities of $80.7 million, based on the present value of the remaining minimum rental payments using discount rates as of the effective date, and a corresponding right-of-use assets of $78.7 million based on the operating lease liabilities adjusted for deferred rent and lease incentives received.\\n18\\nTable of Contents\\nItem 7.\\nMANAGEMENT’S DISCUSSION AND ANALYSIS OF FINANCIAL CONDITION AND RESULTS OF OPERATIONS\\nThis “Management’s Discussion and Analysis of Financial Condition and Results of Operations” (MD&A) is intended to provide an understanding of our financial condition, change in financial condition, cash flow, liquidity and results of operations. The following MD&A discussion should be read in conjunction with the consolidated financial statements and notes to those statements that appear elsewhere in this Form 10-K. The following discussion contains forward-looking statements that reflect the Company’s plans, estimates and beliefs. The Company’s actual results could differ materially from those discussed in the forward-looking statements. Factors that could cause or contribute to any differences include, but are not limited to, those discussed under the caption “Forward-Looking Information” and under Item 1A — “Risk Factors.”\\nBusiness overview\\n1-800-FLOWERS.COM, Inc. and its subsidiaries (collectively, the “Company”) is a leading provider of gifts designed to help customers express, connect and celebrate. For more than 40 years, 1-800-Flowers.com® has been delivering smiles to customers with gifts for every occasion, including fresh flowers and the best selection of plants, gift baskets, gourmet foods, confections, jewelry, candles, balloons and plush stuffed animals. As always, our 100% Smile Guarantee® backs every gift.\\nThe Company’s Celebrations Ecosystem includes the following brands: 1-800-Flowers.com®, 1-800-Baskets.com®, Cheryl’s Cookies®, FruitBouquets.com®, Harry & David®, Moose Munch®, The Popcorn Factory®, Wolferman’s®, Personalization Universe®, Simply Chocolate®, Goodsey®, DesignPac®, Stock Yards®, and Shari’s Berries®. In August 2020, the Company added to its family of brands with the acquisition of PersonalizationMall®. Through the Celebrations Passport® loyalty program, which provides members with free standard shipping and no service charge across our portfolio of brands, 1-800-FLOWERS.COM, Inc. strives to deepen its relationships with its customers. The Company also operates BloomNet®, an international floral service provider providing a broad-range of products and services designed to help professional florists grow their businesses profitably; as well as Napco\\nSM\\n, a resource for floral gifts and seasonal décor.\\nBusiness Segments\\nThe Company operates in the following three business segments: Consumer Floral, Gourmet Foods & Gift Baskets, and BloomNet. The Consumer Floral segment includes the operations of the Company’s flagship brand, 1-800-Flowers.com, FruitBouquets.com, Flowerama, Personalization Universe and Goodsey, while the Gourmet Foods & Gift Baskets segment includes the operations of Harry & David (which includes Wolferman’s, Moose Munch and Stock Yards), Cheryl’s (which includes Mrs. Beasley’s), The Popcorn Factory, DesignPac and 1-800-Baskets (which includes Simply Chocolate) and Shari’s Berries. The BloomNet segment includes the operations of BloomNet and Napco.\\nSee\\nItem 1 in Part I\\nfor a detailed description of the Company’s business.\\nFiscal 2020 Results\\nThe Company entered fiscal 2020 with strong revenue growth momentum, coming off of fiscal 2019, which saw consolidated revenue increase 8.4% in comparison to fiscal 2018, driven by the successful implementation of several strategic growth initiatives designed to support the Company’s flagship 1-800-Flowers and Harry & David brands. The Company built upon this momentum, generating revenue growth of 8.3% during the first nine months of fiscal 2020, accompanied by growth in its customer files, reflecting the strength of its family of brands, its focus on technological innovation and product development, and most importantly, providing an exemplary customer experience. The Company was able to leverage its business platform as this growth rate accelerated with the onset of the COVID-19 pandemic, during which time we saw customers increasingly turn to our brands and product offerings to help them remain connected and express themselves during this difficult time. As a result, consolidated annual revenue grew 19.3%, to approximately $1.5 billion during fiscal 2020, while net income increased 69.7%, to $59.0 million. Adjusted EBITDA, which excludes the impact of stock-based compensation, Non-Qualified Plan Investment appreciation/depreciation, the costs of closing our Harry & David retail stores, and PersonalizationMall litigation and transaction costs, increased 57.8%, to $129.5 million.\\nCOVID-19 Impact\\nIn response to the global pandemic, the Company has taken actions to ensure employee safety and business continuity, informed by the guidelines set forth by local, state and federal government and health officials. These initiatives include developing a “Pandemic Preparedness and Response Plan,” establishing an internal “nerve center” to allow for communication and coordination throughout the business, designing workstream teams to promote workforce protection and supply chain management, and dedicating resources to support customers, vendors, franchisees, and our BloomNet member florists.\\nThe COVID-19 pandemic has affected, and will continue to affect, our operations and financial results for the foreseeable future. While there is significant uncertainty in the overall consumer environment due to the COVID-19 crisis, we are seeing strong e-commerce demand for gourmet foods and gift baskets and our floral products for holidays and every-day gifting occasions, as well as for self-consumption. Entering the Company’s fiscal fourth quarter, immediately following the onset of the pandemic, we saw significantly increased demand during the Easter Holiday period, through Mother’s Day, and then continuing with “Everyday” volume through the end of the fiscal year. As we look past the end of fiscal 2020, demand trends remain strong through the first quarter of fiscal 2021. With that said, there are headwinds (and resulting increased costs) that have been, and will continue to impact our operations during the foreseeable future, including the following:\\n●\\nRetail store closures – on March 20, 2020, in response to government actions, and for the safety of its employees, the Company temporarily closed its Cheryl’s and Harry & David retail stores. Affected employees were provided with Company paid special COVID leave pay through April 3rd, as the nation and the Company worked to understand the extent and potential length of the crisis. On April 14th, the difficult decision was made to permanently close 38 of our 39 Harry & David retail stores. As a result, the Company incurred a charge of approximately $5.2 million in our fourth quarter for lease obligations, employee costs and other store closure costs. Annual revenues attributable to the closed locations was approximately $33.0 million.\\n●\\nWholesale volume reductions - we have seen a reduction in our wholesale business as a result of COVID-19, which impacted our fourth quarter results within our BloomNet and Gourmet Foods and Gift Baskets segments as these customers were forced to close during the pandemic, resulting in loss of revenues, as well as increased reserves on certain customer receivables. We anticipate that this reduction in wholesale volume will continue through the fiscal second quarter of fiscal 2021, as many of our large wholesale customers are taking a cautious approach due to the uncertainty surrounding the future impact of COVID-19 on the overall consumer economy, and store based retail sales in particular.\\n●\\nBloomNet membership fee reductions - we waived certain BloomNet membership fees in April 2020 to help them weather the COVID-19 crisis.\\n●\\nIncreased operating costs - we are seeing increased costs associated with the changes we have made, and continue to make, to our manufacturing, warehouse and distribution facilities to provide for the safety and wellbeing of our associates, including, among others: required social distancing, enhanced facility cleaning and sanitizing schedules, and staggered production shifts.\\n●\\nPersonalizationMall litigation – On February 14, 2020, the Company entered into an Equity Purchase Agreement to acquire PersonalizationMall for $252.0 million from Bed Bath & Beyond Inc. The Company originally expected the Acquisition to close on March 30, 2020. However, due to the unprecedented circumstances created by the COVID-19 pandemic, the Company requested a reasonable delay in the closing date as it believed that conditions to closing the transaction had not been met, including the shut-down of PersonalizationMall’s facilities. The Seller responded to this request by filing a lawsuit in the Court of Chancery in the State of Delaware on April 1, 2020, seeking a judgment forcing the Company to close. On July 20, 2020, the Company entered into a settlement agreement with respect to the litigation and an amendment to the Equity Purchase Agreement, which reflects, among other things, an amended purchase price of $245.0 million. The transaction closed on August 3, 2020. The Company incurred approximately $2.7mm of related litigation and transaction costs during fiscal 2020.\\n19\\nTable of Contents\\nThe scale and overall economic impact of the COVID-19 crisis is still very difficult to assess. However, the strong e-commerce demand that we are seeing across our brands, is expected to offset both the reductions in wholesale revenue, and the increases in costs noted above. The Company believes that the operating platform it has built over the years, combined with its diversified product line, and ability to engage with its customers will allow it to successfully navigate this challenging environment. We remain focused on three key elements of our business strategy:\\n●\\nTaking care of the health and safety of our associates, our BloomNet florists, our vendors and our customers,\\n●\\nMaintaining our financial strength and flexibility, and\\n●\\nContinuing to invest in areas of our business that can help drive future growth.\\nFiscal 2021 Guidance\\nDue to the significant uncertainty in the overall economy related to the ongoing COVID-19 pandemic, the Company is not providing guidance for its full fiscal 2021 year.\\nRegarding the fiscal first quarter: Based on the strong growth momentum that the Company has carried into the first two months of fiscal 2021, combined with anticipated contributions from its recent acquisition of PersonalizationMall, the Company expects to achieve total consolidated revenue growth for the first quarter in the range of 40-to-45 percent (30-to-35 percent organic growth), compared with the prior year period.\\n●\\nThe anticipated strong revenue growth in the quarter reflects expected e-commerce revenue growth of more than 70 percent, somewhat offset by lower wholesale orders and reduced retail revenues (reflecting the closing of the Harry & David retail stores in fiscal 2020).\\n●\\nThe Company expects the anticipated strong revenue growth, combined with continued operating leverage and contributions from PersonalizationMall, will enable it to drive Adjusted EBITDA for the quarter to break-even or slightly positive, compared with a loss of $11.3 million in the prior year period.\\nRegarding the fiscal second quarter: While there remains considerable uncertainty in the overall economy, the Company expects the current strong e-commerce demand to continue into the key holiday season in its second fiscal quarter. In addition, the Company anticipates solid contributions to revenues and profits from its recently acquired PersonalizationMall business. The Company anticipates that these factors, combined with the continued strong growth in its customer files, will offset certain headwinds, including higher operating costs due to the COVID-19 pandemic, lower wholesale orders from mass market retailers, capacity constraints at third-party shipping vendors and the potential distraction of the pending national election.\\nDefinitions of non-GAAP financial measures:\\nWe sometimes use financial measures derived from consolidated financial information, but not presented in our financial statements prepared in accordance with U.S. generally accepted accounting principles (“GAAP”). Certain of these are considered \"non-GAAP financial measures\" under the SEC rules. See below for definitions and the reasons why we use these non-GAAP financial measures. Where applicable, see the\\nSegment Information\\nand\\nResults of Operations\\nsections below for reconciliations of these non-GAAP financial measures to their most directly comparable GAAP financial measures. These non-GAAP financial measures are referred to as “adjusted\" or “on a comparable basis” below, as these terms are used interchangeably.\\nEBITDA and adjusted EBITDA\\nWe define EBITDA as net income (loss) before interest, taxes, depreciation and amortization. Adjusted EBITDA is defined as EBITDA adjusted for the impact of stock-based compensation, Non-Qualified Plan Investment appreciation/depreciation, and certain items affecting period to period comparability. See\\nSegment Information\\nfor details on how EBITDA and adjusted EBITDA were calculated for each period presented.\\nThe Company presents EBITDA and adjusted EBITDA because it considers such information meaningful supplemental measures of its performance and believes such information is frequently used by the investment community in the evaluation of similarly situated companies. The Company uses EBITDA and adjusted EBITDA as factors used to determine the total amount of incentive compensation available to be awarded to executive officers and other employees. The Company's credit agreement uses EBITDA and adjusted EBITDA to measure compliance with covenants such as interest coverage and debt incurrence. EBITDA and adjusted EBITDA are also used by the Company to evaluate and price potential acquisition candidates.\\nEBITDA and adjusted EBITDA have limitations as analytical tools and should not be considered in isolation or as a substitute for analysis of the Company's results as reported under GAAP. Some of the limitations are: (a) EBITDA and adjusted EBITDA do not reflect changes in, or cash requirements for, the Company's working capital needs; (b) EBITDA and adjusted EBITDA do not reflect the significant interest expense, or the cash requirements necessary to service interest or principal payments, on the Company's debts; and (c) although depreciation and amortization are non-cash charges, the assets being depreciated and amortized may have to be replaced in the future and EBITDA does not reflect any cash requirements for such capital expenditures. EBITDA should only be used on a supplemental basis combined with GAAP results when evaluating the Company's performance.\\n20\\nTable of Contents\\nSegment contribution margin\\nand adjusted segment contribution margin\\nWe define segment contribution margin as earnings before interest, taxes, depreciation and amortization, before the allocation of corporate overhead expenses. Adjusted segment contribution margin is defined as contribution margin adjusted for certain items affecting period-to-period comparability. See\\nSegment Information\\nfor details on how segment contribution margin was calculated for each period presented.\\nWhen viewed together with our GAAP results, we believe segment contribution margin and adjusted segment contribution margin provide management and users of the financial statements meaningful information about the performance of our business segments.\\nSegment contribution margin and adjusted segment contribution margin are used in addition to and in conjunction with results presented in accordance with GAAP and should not be relied upon to the exclusion of GAAP financial measures. The material limitation associated with the use of the segment contribution margin and adjusted segment contribution margin is that they are an incomplete measure of profitability as they do not include all operating expenses or non-operating income and expenses. Management compensates for these limitations when using this measure by looking at other GAAP measures, such as operating income and net income.\\nAdjusted net income and adjusted net income per common share\\nWe define adjusted net income and adjusted net income per common share as net income and net income per common share adjusted for certain items affecting period to period comparability. See\\nSegment Information\\nbelow for details on how adjusted net income and adjusted net income per common share were calculated for each period presented.\\nWe believe that adjusted net income and adjusted net income per common share are meaningful measures because they increase the comparability of period to period results.\\nSince these are not measures of performance calculated in accordance with GAAP, they should not be considered in isolation of, or as a substitute for, GAAP net income and net income per common share, as indicators of operating performance and they may not be comparable to similarly titled measures employed by other companies.\\nSegment\\nInformation\\nThe following table presents the net revenues, gross profit and segment contribution margin from each of the Company’s business segments, as well as consolidated EBITDA, adjusted EBITDA and adjusted net income, for fiscal years ended June 28, 2020 and June 30, 2019. For segment information for the fiscal year ended July 1, 2018, please refer to our Annual Report on Form 10-K for the fiscal year ended July 1, 2018, filed on September 14, 2018.\\nYears Ended\\nJune 28, 2020\\nPersonalizationMall\\nLitigation\\nand Transaction\\nCosts\\nHarry & David Store\\nClosure\\nCosts\\nAs Adjusted\\n(non-GAAP)\\nJune 28, 2020\\nJune 30, 2019\\n% Change\\n(dollars in thousands)\\nNet revenues:\\n1-800-Flowers.com Consumer Floral\\n$\\n593,197\\n$\\n-\\n$\\n-\\n$\\n593,197\\n$\\n497,765\\n19.2\\n%\\nBloomNet\\n111,766\\n-\\n-\\n111,766\\n102,876\\n8.6\\n%\\nGourmet Foods & Gift Baskets\\n785,547\\n-\\n-\\n785,547\\n648,418\\n21.1\\n%\\nCorporate\\n591\\n-\\n-\\n591\\n1,105\\n-46.5\\n%\\nIntercompany eliminations\\n(1,464\\n)\\n-\\n-\\n(1,464\\n)\\n(1,541\\n)\\n5.0\\n%\\nTotal net revenues\\n$\\n1,489,637\\n$\\n-\\n$\\n-\\n$\\n1,489,637\\n$\\n1,248,623\\n19.3\\n%\\nGross profit:\\n1-800-Flowers.com Consumer Floral\\n$\\n233,941\\n$\\n-\\n$\\n-\\n$\\n233,941\\n$\\n195,100\\n19.9\\n%\\n39.4\\n%\\n39.4\\n%\\n39.2\\n%\\nBloomNet\\n54,193\\n-\\n-\\n54,193\\n51,970\\n4.3\\n%\\n48.5\\n%\\n48.5\\n%\\n50.5\\n%\\nGourmet Foods & Gift Baskets\\n333,620\\n-\\n-\\n333,620\\n278,113\\n20.0\\n%\\n42.5\\n%\\n42.5\\n%\\n42.9\\n%\\nCorporate\\n442\\n-\\n-\\n442\\n938\\n-52.9\\n%\\n74.8\\n%\\n74.8\\n%\\n84.9\\n%\\nTotal gross profit\\n$\\n622,196\\n$\\n-\\n$\\n-\\n$\\n622,196\\n$\\n526,121\\n18.3\\n%\\n41.8\\n%\\n-\\n-\\n41.8\\n%\\n42.1\\n%\\nEBITDA (non-GAAP):\\nSegment Contribution Margin (non-GAAP) (a):\\n1-800-Flowers.com Consumer Floral\\n$\\n73,806\\n$\\n-\\n$\\n-\\n$\\n73,806\\n$\\n49,653\\n48.6\\n%\\nBloomNet\\n35,111\\n-\\n-\\n35,111\\n34,705\\n1.2\\n%\\nGourmet Foods & Gift Baskets\\n110,627\\n-\\n5,177\\n115,804\\n82,319\\n40.7\\n%\\nSegment Contribution Margin Subtotal\\n219,544\\n-\\n5,177\\n224,721\\n166,677\\n34.8\\n%\\nCorporate (b)\\n(106,667\\n)\\n2,706\\n-\\n(103,961\\n)\\n(91,604\\n)\\n-13.5\\n%\\nEBITDA (non-GAAP)\\n112,877\\n2,706\\n5,177\\n120,760\\n75,073\\n60.9\\n%\\nAdd: Stock-based compensation\\n8,434\\n-\\n-\\n8,434\\n6,310\\n33.7\\n%\\nAdd: Compensation charge related to NQ Plan Investment Appreciation\\n347\\n-\\n-\\n347\\n729\\n-52.3\\n%\\nAdjusted EBITDA (non-GAAP)\\n$\\n121,658\\n$\\n2,706\\n$\\n5,177\\n$\\n129,541\\n$\\n82,112\\n57.8\\n%\\n21\\nTable of Contents\\nReconciliation of net income to adjusted net income (non-GAAP):\\nYears Ended\\nJune 28, 2020\\nJune 30, 2019\\n(in thousands, except per share data)\\nNet income\\n$\\n58,998\\n$\\n34,766\\nAdjustments to reconcile net income to adjusted net income (non-GAAP)\\nAdd: PersonalizationMall litigation and transaction costs\\n2,706\\n-\\nAdd: Harry & David store closure costs\\n5,177\\n-\\nDeduct: Income tax (benefit) on adjustments\\n(1,908\\n)\\n-\\nAdjusted net income (non-GAAP)\\n$\\n64,973\\n$\\n34,766\\nBasic and diluted net income per common share\\nBasic\\n$\\n0.92\\n$\\n0.54\\nDiluted\\n$\\n0.89\\n$\\n0.52\\nBasic and diluted adjusted net income per common share (non-GAAP)\\nBasic\\n$\\n1.01\\n$\\n0.54\\nDiluted\\n$\\n0.98\\n$\\n0.52\\nWeighted average shares used in the calculation of net income and adjusted net income per common share\\nBasic\\n64,463\\n64,342\\nDiluted\\n66,408\\n66,457\\n22\\nTable of Contents\\nReconciliation of net income to adjusted EBITDA (non-GAAP):\\nYears Ended\\nJune 28, 2020\\nJune 30, 2019\\n(in thousands)\\nNet income\\n$\\n58,998\\n$\\n34,766\\nAdd:\\nInterest expense, net\\n2,522\\n2,125\\nDepreciation and amortization\\n32,513\\n29,965\\nIncome tax expense\\n18,844\\n8,217\\nEBITDA\\n112,877\\n75,073\\nAdd: PersonalizationMall litigation and transaction costs\\n2,706\\n-\\nAdd: Harry & David store closure costs\\n5,177\\n-\\nAdd: Stock-based compensation\\n8,434\\n6,310\\nAdd: Compensation charge related to NQ plan investment appreciation/(depreciation)\\n347\\n729\\nAdjusted EBITDA\\n$\\n129,541\\n$\\n82,112\\n(a)\\nSegment performance is measured based on segment contribution margin or segment Adjusted EBITDA, reflecting only the direct controllable revenue and operating expenses of the segments, both of which are non-GAAP measurements. As such, management’s measure of profitability for these segments does not include the effect of corporate overhead, described above, depreciation and amortization, other income (net), and other items that we do not consider indicative of our core operating performance.\\n(b)\\nCorporate expenses consist of the Company’s enterprise shared service cost centers, and include, among other items, Information Technology, Human Resources, Accounting and Finance, Legal, Executive and Customer Service Center functions, as well as Stock-Based Compensation. In order to leverage the Company’s infrastructure, these functions are operated under a centralized management platform, providing support services throughout the organization. The costs of these functions, other than those of the Customer Service Center, which are allocated directly to the above categories based upon usage, are included within corporate expenses as they are not directly allocable to a specific segment.\\nResults of Operations\\nThe Company’s fiscal year is a 52- or 53-week period ending on the Sunday nearest to June 30. Fiscal years 2020, 2019 and 2018, which ended on June 28, 2020, June 30, 2019, and July 1, 2018, respectively, consisted of 52 weeks.\\nNet Revenues\\nYears Ended\\nJune\\n28, 2020\\n% Change\\nJu\\nne\\n30\\n, 201\\n9\\n% Change\\nJuly 1, 2018\\n(dollars in thousands)\\nNet revenues:\\nE-Commerce\\n$\\n1,230,385\\n23.2\\n%\\n$\\n998,359\\n8.3\\n%\\n$\\n921,848\\nOther\\n259,252\\n3.6\\n%\\n250,264\\n8.8\\n%\\n230,073\\n$\\n1,489,637\\n19.3\\n%\\n$\\n1,248,623\\n8.4\\n%\\n$\\n1,151,921\\nNet revenues consist primarily of the selling price of the merchandise, service or outbound shipping charges, less discounts, returns and credits.\\nDuring the year ended June 28, 2020, net revenues increased 19.3% in comparison to the prior year, reflecting strong execution of the Company’s strategy to engage with its customers and build deeper relationships and thereby drive sustainable, long-term growth. The annual growth rate reflects “pre-COVID-19” growth of approximately 8.3% through the first three quarters of fiscal 2020, and “post-COVID-19” growth of 61.0% during the fourth quarter of fiscal 2020. The Company experienced growth across its three business segments, reflecting the strategic marketing and merchandising investments across the Company’s brands, the continuing positive trends in everyday gifting occasions, increased self-consumption within the Gourmet Foods & Gift Baskets segment, as well as incremental revenues from Shari’s Berries, which was acquired on August 14, 2019. Excluding the incremental revenue contributed by Shari’s Berries, which was acquired on August 14, 2019, consolidated net revenues grew 16.3% in fiscal 2020 compared to the prior year.\\nDuring fiscal 2019, net revenues increased 8.4% in comparison to the prior year, due to strong customer demand for both holiday and everyday gifting occasions in our Gourmet Foods & Gift Baskets and Consumer Floral segments, as well as membership, transaction and services growth in the BloomNet segment.\\nDisaggregated revenue by channel follows:\\nYears Ended\\nJune 28, 2020\\nJune 30, 2019\\nJuly 1, 2018\\nConsumer\\nFloral\\nBloomNet\\nGourmet\\nFoods &\\nGift\\nBaskets\\nConsolidated\\nConsumer\\nFloral\\nBloomNet\\nGourmet\\nFoods &\\nGift\\nBaskets\\nConsolidated\\nConsumer\\nFloral\\nBloomNet\\nGourmet\\nFoods &\\nGift\\nBaskets\\nConsolidated\\n(in thousands)\\nNet revenues\\nE-commerce\\n$\\n585,585\\n$\\n-\\n$\\n644,800\\n$\\n1,230,385\\n$\\n489,463\\n$\\n-\\n$\\n508,897\\n$\\n998,360\\n$\\n448,943\\n$\\n-\\n$\\n472,905\\n$\\n921,848\\nRetail\\n4,318\\n-\\n37,076\\n41,394\\n4,706\\n-\\n45,862\\n50,568\\n4,743\\n-\\n46,860\\n51,603\\nWholesale\\n-\\n33,675\\n103,671\\n137,346\\n-\\n29,744\\n93,659\\n123,403\\n-\\n28,747\\n85,758\\n114,505\\nBloomNet Services\\n-\\n78,091\\n-\\n78,091\\n-\\n73,132\\n-\\n73,132\\n-\\n60,822\\n-\\n60,822\\nOther\\n3,294\\n-\\n-\\n3,294\\n3,596\\n-\\n-\\n3,596\\n3,774\\n-\\n-\\n3,774\\nCorporate\\n-\\n-\\n-\\n591\\n-\\n-\\n-\\n1,105\\n-\\n-\\n-\\n1,114\\nEliminations\\n-\\n-\\n-\\n(1,464\\n)\\n-\\n-\\n-\\n(1,541\\n)\\n-\\n-\\n-\\n(1,745\\n)\\nTotal net revenues\\n$\\n593,197\\n$\\n111,766\\n$\\n785,547\\n$\\n1,489,637\\n$\\n497,765\\n$\\n102,876\\n$\\n648,418\\n$\\n1,248,623\\n$\\n457,460\\n$\\n89,569\\n$\\n605,523\\n$\\n1,151,921\\n23\\nTable of Contents\\nRevenue by sales channel:\\n●\\nE-commerce revenues (combined online and telephonic)\\nincreased 23.2% during fiscal 2020, comprised of 19.6% growth within the Consumer Floral segment and 26.7% growth in the Gourmet Foods & Gift Baskets segment. During fiscal 2020, the Company fulfilled approximately 16.4 million e-commerce orders (an increase of 24.1% compared to fiscal 2019) at an average order value of $74.94 (a decrease of 0.7% compared to fiscal 2019).\\nE-commerce revenues increased 8.3% during fiscal 2019, comprised of 9.0% growth within the Consumer Floral segment and 7.6% growth in the Gourmet Foods & Gift Baskets segment. During fiscal 2019, the Company fulfilled approximately 13.2 million e-commerce orders, at an average order value of $75.44, representing increases of 6.4% and 1.8%, respectively, compared to fiscal 2018.\\n●\\nOther revenues\\nare comprised of the Company’s BloomNet segment, as well as the wholesale and retail channels of its 1-800-Flowers.com Consumer Floral and Gourmet Foods & Gift Baskets segments. Other revenues increased 3.6% during fiscal 2020, primarily as a result of 8.6% growth within the BloomNet segment, and 0.9% growth within the Gourmet Foods & Gift Baskets segment.\\nOther revenues increased 8.8% during fiscal 2019, primarily as a result of 14.9% growth within the BloomNet segment, and 5.2% growth within the Gourmet Foods & Gift Baskets segment, driven primarily by increased wholesale volume, partially offset by a decline in Harry & David retail store volume due to a reduction in store count and a decline in customer traffic.\\nRevenue by segment:\\n●\\n1-800-Flowers.com Consumer Floral\\n– this segment includes the operations of the 1-800-Flowers.com brand, which derives revenue from the sale of consumer floral products through its e-commerce sales channels (telephonic and online sales), retail stores, and royalties from its franchise operations.\\nNet revenues increased 19.2% during fiscal 2020 reflecting the continued benefit of the strategic marketing and merchandising investments made in the Company’s flagship brands over the past two years, combined with the significant growth achieved during the 4\\nth\\nquarter, triggered by the pandemic. The Company experienced record Easter and Mother’s Day holidays, with post holiday “everyday” volume continuing to show strong year over year improvement.\\nNet revenues increased 8.8% during fiscal 2019 due to stable growth throughout the year, driven by a combination of organic growth and increased investment in strategic marketing and merchandising programs designed to accelerate growth and increase market share across its “everyday” gifting occasions, which focuses on “Birthday”, “Anniversary”, “Sympathy” and “Just Because” occasions. New product introductions at both the entry level and luxury price points, such as the expanded Unicorn and succulents collections, attract new customers to grow the brand’s “everyday” business, while supporting continued growth during the key Christmas, Valentine’s and Mother’s Day holidays.\\n●\\nBloomNet\\n- revenues in this segment are derived from membership fees as well as other product and service offerings to florists.\\nNet revenues increased 8.6% during fiscal 2020, primarily due to increased demand for directory, settlement processing revenues (due to the higher florist-to-florist order volume), and transaction fees (driven primarily by increased 1-800-Flowers.com, florist-to-florist, and Shari’s Berries order volume sent through the network), and favorable wholesale demand throughout the year due to new customer acquisitions. Offsetting the above increases were lower membership and reciprocity fees due to fee waivers in April 2020 to support our florist network during the worst of the pandemic.\\nNet revenues increased 14.9% during fiscal 2019, primarily due to higher services revenues, including membership, settlement processing, directory and transaction fees, monetizing the increased 1-800-Flowers and florist-to-florist orders being sent through the network, building on the efforts begun during the second half of fiscal 2018 to capture a greater share of orders from local flower shops and third-party, online floral companies.\\n●\\nGourmet Foods & Gift Baskets\\n- this segment includes the operations of Harry & David, Wolferman’s, Stock Yards, Cheryl’s Cookies, The Popcorn Factory, 1-800-Baskets/DesignPac, and Shari’s Berries (acquired on August 14, 2019). Revenue is derived from the sale of gourmet fruits, cookies, baked gifts, premium chocolates and confections, gourmet popcorn, gift baskets, dipped berries, and prime steaks and chops through the Company’s e-commerce sales channels (telephonic and online sales) and company-owned and operated retail stores under the Harry & David and Cheryl’s brand names, as well as wholesale operations.\\nNet revenues increased 21.1% during fiscal 2020, as a result of favorable sales across all brands within the segment, and incremental revenue from Shari’s Berries, acquired in August 2019. The favorability was attributable to increased demand throughout the year, with growth of 9.7% during the first nine months of the year, then fueled by accelerated e-commerce demand coinciding with the onset of COVID-19, as product offerings, convenience, and brand sentiment resonated with customers. Wholesale/retail volume, which had been trending significantly favorable to prior year before the onset of COVID-19, ended relatively flat for the year due to the closure of many of the brand’s retail customer’s stores, and the closure of the Harry & David retail store operations in the 4\\nth\\nquarter.\\nNet revenues increased 7.1% during fiscal 2019, attributable to growth from nearly all brands, but primarily due to: (i) strong growth from Harry & David, driven by improved merchandising assortments, increased investments in digital marketing programs, and its “Share More” messaging, which resonated with customers, contributing to new customer acquisition and increases in its “everyday” business, and (ii) as 1-800-Baskets/DesignPac, which generated year-over-year growth from new and existing wholesale customers, as well through its e-commerce business attributable to its Simply Chocolate product line.\\n24\\nTable of Contents\\nGross Profit\\nYears Ended\\nJune 28,\\n2020\\n% Change\\nJu\\nne\\n30\\n,\\n201\\n9\\n% Change\\nJuly 1,\\n2018\\n(dollars in thousands)\\nGross profit\\n$\\n622,196\\n18.3\\n%\\n$\\n526,121\\n7.6\\n%\\n$\\n489,025\\nGross margin %\\n41.8\\n%\\n42.1\\n%\\n42.5\\n%\\nGross profit consists of net revenues less cost of revenues, which is comprised primarily of florist fulfillment costs (fees paid directly to florists), the cost of floral and non-floral merchandise sold from inventory or through third parties, and associated costs including inbound and outbound shipping charges. Additionally, cost of revenues includes labor and facility costs related to direct-to-consumer and wholesale production operations.\\nGross profit increased 18.3% during fiscal 2020 due to the increase in revenues noted above, partially offset by a lower gross profit percentage. Gross profit percentage decreased 30 basis points during fiscal 2020, due to lower margins within the Gourmet Foods & Gift Baskets and BloomNet segments, partially offset by improved margins in the Consumer Floral segment. The lower margins were attributable to the acquisition of Shari’s Berries, which carries a lower gross margin, and macro-economic headwinds including: (i) rising labor and transportation costs, (ii) tariffs, and (iii) increased costs associated with the changes we have made, and continue to make, to our manufacturing, warehouse and distribution facilities to provide for the safety and wellbeing of our associates in light of COVID-19, including: required social distancing, enhanced facility cleaning and sanitizing schedules, and staggered production shifts. These headwinds have been partially offset by the Company’s strategic pricing initiatives and operational productivity improvements.\\nGross profit increased 7.6% during fiscal 2019 due to the increase in revenues noted above, partially offset by a lower gross profit percentage. Gross profit decreased 40 basis points during fiscal 2019, reflecting BloomNet’s lower gross margin percentage, as well as hourly labor, particularly seasonal labor, and the growth of our Celebrations Passport free-shipping program, partially offset by Gourmet Foods & Gift Baskets logistics initiatives, which reduced per order transportation costs, as well as manufacturing initiatives, including automation and shifting some production to earlier in the season to better utilize our core workforce.\\nConsumer Floral segment\\n– Gross profit increased 19.9% during fiscal 2020, due to the aforementioned revenue growth and an increase in gross profit percentage of 20 basis points to 39.4%. The higher gross profit percentage reflects lower promotional activity throughout the year due to the elimination of the loyalty points program, instead emphasizing “Passport” to increase purchase frequency. Gross profit increased 7.4% during fiscal 2019, due to the aforementioned revenue growth, partially offset by a decrease in gross profit percentage of 50 basis points to 39.2%. The lower gross profit percentage reflects higher product costs, an increased Celebrations Passport program participation, which has been driving improved customer loyalty and purchase frequency, and increased transportation costs.\\nBloomNet segment\\n- Gross profit increased 4.3% during fiscal 2020, due to the increase in revenues noted above, partially offset by a decrease in gross profit percentage of 200 basis points to 48.5%. The lower gross profit percentage was due to unfavorable wholesale product margins due to the impact of tariffs, promotional offerings and higher shipping and merchandise costs, as well as higher rebates (higher florist-to-florist volume) and the aforementioned fee waivers in April 2020 to assist the florist network during the onset of the pandemic. Gross profit increased 6.9% during fiscal 2019, due to the increase in revenues noted above, partially offset by a decrease in gross profit percentage of 380 basis points to 50.5%. The lower gross profit percentage is due to the increase in the volume of lower margin florist-to-florist orders, on membership and transaction fee margins, as a result of an increase in rebates to support the brand’s efforts to gain market share.\\nGourmet Foods & Gift Baskets segment\\n– Gross profit increased by 20.0% during fiscal 2020, due to the increase in revenues noted above, partially offset by a decrease in gross profit percentage of 40 basis points to 42.5%, mainly due to the acquisition of Shari’s Berries, which carries a lower gross margin than the rest of the segment, as well as the aforementioned macro-economic headwinds and incremental COVID-19 costs. Gross profit increased by 7.9% during fiscal 2019, due to the increase in revenues noted above, as well as increased margins. Gross profit percentage increased 30 basis points to 42.9% during fiscal 2019, due to logistics initiatives, which reduced shipping and transportation costs, combined with strategic pricing initiatives, and improved operational performance at Cheryl’s, partially offset by rising labor costs, and penetration of the Celebrations Passport program.\\nMarketing and Sales Expense\\nYears Ended\\nJune 28,\\n2020\\n% Change\\nJu\\nne 30\\n,\\n201\\n9\\n% Change\\nJuly\\n1\\n,\\n201\\n8\\n(dollars in thousands)\\nMarketing and sales\\n$\\n363,227\\n13.6\\n%\\n$\\n319,636\\n7.0\\n%\\n$\\n298,810\\nPercentage of sales\\n24.4\\n%\\n25.6\\n%\\n25.9\\n%\\nMarketing and sales expense consists primarily of advertising and promotional expenditures, catalog costs, online portal and search costs, retail store and fulfillment operations (other than costs included in cost of revenues) and customer service center expenses, as well as the operating expenses of the Company’s departments engaged in marketing, selling and merchandising activities.\\nMarketing and sales expense increased 13.6% during fiscal 2020, primarily due to increased advertising spend within the Gourmet Foods & Gift Baskets and 1-800-Flowers.com Consumer Floral segments, due to the Company’s incremental marketing efforts designed to accelerate revenue growth and capture market share, partially offset by operational efficiencies and platform leverage attributable to the revenue growth. The investment spend was successful in driving significant enterprise growth, while improving overall operating expense leverage and reducing enterprise reliance on promotional pricing, thereby further reinforcing the premium positioning of the Company’s portfolio of brands. As a result, marketing and sales as a percentage of net revenues, during fiscal 2020 decreased to 24.4% compared with 25.6% in fiscal 2019.\\nMarketing and sales expense increased 7.0% during fiscal 2019, primarily due to increased advertising spend within the Consumer Floral and Gourmet Foods & Gift Baskets segments, associated with the Company’s incremental marketing efforts designed to accelerate revenue growth and capture market share, coupled with an increase in performance-based bonuses. Increased efficiency around our digital marketing programs generated strong revenue growth, which in turn, enabled us to leverage our platform, while automation initiatives in our service centers drove lower customer service costs. As a result, marketing and sales as a percentage of net revenues, during fiscal 2019 decreased to 25.6% compared with 25.9% in fiscal 2018.\\nDuring fiscal 2020, the Company added approximately 4.2 million new e-commerce customers, an increase of 40.5% over the prior year. During fiscal 2019, the Company added approximately 3.0 million new e-commerce customers, an increase of 10.7% over the prior year. Approximately 51.7% of customers who placed e-commerce orders during fiscal 2020 were repeat customers compared to approximately 57.7% in fiscal 2019.\\n25\\nTable of Contents\\nTechnology and Development Expense\\nYears Ended\\nJune 28,\\n2020\\n% Change\\nJu\\nne 30\\n,\\n201\\n9\\n% Change\\nJuly\\n1\\n,\\n201\\n8\\n(dollars in thousands)\\nTechnology and development\\n$\\n48,698\\n11.3\\n%\\n$\\n43,758\\n11.5\\n%\\n$\\n39,258\\nPercentage of sales\\n3.3\\n%\\n3.5\\n%\\n3.4\\n%\\nTechnology and development expense consists primarily of payroll and operating expenses of the Company’s information technology group, costs associated with its websites, including hosting, design, content development and maintenance and support costs related to the Company’s order entry, customer service, fulfillment and database systems.\\nTechnology and development expenses increased by 11.3% during fiscal 2020, as a result of increased consulting and labor costs, due to higher performance based bonuses compared to the prior year, increased hosting costs due to higher usage of cloud storage applications, and higher maintenance and license costs, including security and platform enhancements.\\nTechnology and development expenses increased by 11.5% during fiscal 2019, as a result of increased license and maintenance costs required to support the Company’s technology platform, and higher labor and consulting costs due to annual merit increases and an increase in performance-based bonuses.\\nDuring the fiscal years ended June 28, 2020, June 30, 2019 and July 1, 2018, the Company expended $69.5 million, $65.4 million and $61.2 million, respectively, on technology and development, of which $20.8 million, $21.6 million and $21.9 million, respectively, has been capitalized.\\nGeneral and Administrative Expense\\nYears Ended\\nJune 28,\\n2020\\n% Change\\nJu\\nne 30,\\n2018\\n% Change\\nJuly 1,\\n2018\\n(dollars in thousands)\\nGeneral and administrative\\n$\\n97,394\\n11.1\\n%\\n$\\n87,654\\n13.2\\n%\\n$\\n77,440\\nPercentage of sales\\n6.5\\n%\\n7.0\\n%\\n6.7\\n%\\nGeneral and administrative expense consists of payroll and other expenses in support of the Company’s executive, finance and accounting, legal, human resources and other administrative functions, as well as professional fees and other general corporate expenses.\\nGeneral and administrative expense increased 11.1% during fiscal 2020, primarily due to an increase in labor costs primarily related to performance-based bonuses, higher transaction and legal costs associated with the acquisition of PersonalizationMall.com, and higher bad debt expense, primarily related to the impact of COVID-19 on certain corporate, wholesale, and florist accounts, partially offset by lower health insurance and travel costs.\\nGeneral and administrative expense increased 13.2% during fiscal 2019, primarily due to an increase in labor costs related to performance-based bonuses and merit increases, as well as increased health insurance costs, and the reinstatement of the Company’s 401k match (See\\nNote 14. in Part IV, Item 15\\nfor details regarding Employee Retirement Plans).\\nDepreciation and Amortization\\nYears Ended\\nJune 28,\\n2020\\n% Change\\nJu\\nne\\n30\\n,\\n201\\n9\\n% Change\\nJuly\\n1\\n,\\n201\\n8\\n(dollars in thousands)\\nDepreciation and amortization\\n$\\n32,513\\n8.5\\n%\\n$\\n29,965\\n-7.7\\n%\\n$\\n32,469\\nPercentage of sales\\n2.2\\n%\\n2.4\\n%\\n2.8\\n%\\nDepreciation and amortization expense increased 8.5% during fiscal 2020, primarily as a result of recent short-lived capital expenditures to support the Company’s IT infrastructure.\\nDepreciation and amortization expense decreased 7.7% during fiscal 2019, as certain short-lived assets were fully depreciated/amortized early in fiscal 2019, while the timing of certain longer-term capital projects had been extended into fiscal 2020.\\nInterest Expense, net\\nYears Ended\\nJune 28,\\n2020\\n% Change\\nJune 30,\\n2019\\n% Change\\nJuly 1,\\n2018\\n(dollars in thousands)\\nInterest expense, net\\n$\\n2,438\\n-12.0\\n%\\n$\\n2,769\\n-23.7\\n%\\n$\\n3,631\\nInterest expense, net consists primarily of interest expense and amortization of deferred financing costs attributable to the Company’s credit facility (See\\nNote 9. in Part IV, Item 15\\nfor details), net of income earned on the Company’s available cash balances.\\nInterest expense, net decreased 12.0% during fiscal 2020, due to a decline in the outstanding Term Loan balance, and decreasing interest rates on the Company’s credit facility, partially offset by lower interest income on available cash balances due to decreasing interest rates.\\nInterest expense, net decreased 23.7% during fiscal 2019, due to an increase in interest income, resulting from higher invested cash balances and associated rates earned on these balances, combined with a declining outstanding Term Loan balance, partially offset by increasing interest rates on the Company’s credit facility.\\n26\\nTable of Contents\\nOther income\\n(expense)\\n, net\\nYears Ended\\nJune 28,\\n2020\\n% Change\\nJune 30\\n,\\n2019\\n% Change\\nJuly 1,\\n2018\\n(dollars in thousands)\\nOther income (expense), net\\n$\\n(84\\n)\\n-113.0\\n%\\n$\\n644\\n6.4\\n%\\n$\\n605\\nOther income, net for the years ended June 30, 2019 and July 1, 2018 consist primarily of investment earnings on the Company’s Non-Qualified Deferred Compensation Plan assets.\\nIncome Taxes\\nDuring the fiscal years ended June 28, 2020, June 30, 2019, and July 1, 2018, the Company recorded income tax expense (benefit) from continuing operations of $18.8 million, $8.2 million, and ($2.8) million, respectively, resulting in an effective tax rate of 24.2%, 19.1%, and -7.3%, respectively. The Company’s effective tax rate for fiscal 2020 differed from the U.S. federal statutory rate of 21% primarily due to state income taxes and nondeductible expenses for executive compensation, partially offset by various permanent differences and tax credits, including excess tax benefits from stock-based compensation. The Company’s effective tax rate for fiscal 2019 differed from the U.S. federal statutory rate of 21% primarily due to the impact of excess tax benefit from stock-based compensation and various tax credits, partially offset by state income taxes and non-deductible executive compensation as a result of recent tax reform from The Tax Cuts and Jobs Act (“Tax Act”), which removed the performance-based exclusion for determining the deductible limit. The Company’s effective tax rate for fiscal 2018 was impacted by the enactment of the Tax Act on December 22, 2017 (see\\nNote 11 in Part IV, Item 15\\nfor details). Although the Tax Act was enacted on December 22, 2017, since the Company had a July 1 fiscal year-end, the lower corporate income tax rate was phased in, resulting in a U.S. statutory federal rate of approximately 28% for our fiscal 2018, and 21% for fiscal 2019. In addition to the impact of the lower transitional rate, during fiscal 2018, the Company recognized a tax benefit of $12.2 million, or $0.18 per diluted share, reflecting a revaluation of deferred tax liabilities at the lower U.S. federal statutory rate of 21%. Adjusted for the benefit of $12.2 million, the Company’s effective tax rate would have been 24.8%, reflecting various tax credits and return to provision adjustments related to the filing of the Company’s fiscal 2017 tax return.\\nAt June 28, 2020, the Company’s total federal and state capital loss carryforwards were $26.9 million, which if not utilized, will expire in fiscal 2022. The Company’s foreign net operating loss carryforwards were $3.9 million, which if not utilized, will begin to expire in fiscal 2034.\\nQuarterly Results of Operations\\nThe following table provides unaudited quarterly consolidated results of operations for each quarter of fiscal years 2020 and 2019. The Company believes this unaudited information has been prepared substantially on the same basis as the annual audited consolidated financial statements and all necessary adjustments, consisting of only normal recurring adjustments, have been included in the amounts stated below to present fairly the Company’s results of operations. The operating results for any quarter are not necessarily indicative of the operating results for any future period.\\nJun. 28,\\n2020\\nMar. 29,\\n2020\\nDec 29,\\n2019\\nSep. 29,\\n2019\\nJun. 30,\\n2019\\nMar. 31,\\n2019\\nDec 30,\\n2018\\nSep. 30,\\n2018\\n(in thousands, except per share data)\\nNet revenues:\\nE-commerce (telephonic/online)\\n$\\n382,400\\n$\\n231,851\\n487,084\\n$\\n129,050\\n$\\n217,477\\n$\\n204,361\\n$\\n458,821\\n$\\n117,700\\nOther\\n35,556\\n46,925\\n118,558\\n58,213\\n41,921\\n44,052\\n112,495\\n51,796\\nTotal net revenues\\n417,956\\n278,776\\n605,642\\n187,263\\n259,398\\n248,413\\n571,316\\n169,496\\nCost of revenues\\n248,530\\n171,324\\n336,470\\n111,117\\n154,164\\n150,893\\n316,489\\n100,956\\nGross profit\\n169,426\\n107,452\\n269,172\\n76,146\\n105,234\\n97,520\\n254,827\\n68,540\\nOperating expenses:\\nMarketing and sales\\n100,378\\n78,606\\n127,404\\n56,839\\n75,855\\n71,163\\n119,664\\n52,954\\nTechnology and development\\n14,262\\n11,900\\n11,733\\n10,803\\n11,062\\n11,511\\n10,906\\n10,279\\nGeneral and administrative\\n33,207\\n20,031\\n22,634\\n21,522\\n23,174\\n22,447\\n21,603\\n20,430\\nDepreciation and amortization\\n9,245\\n7,803\\n7,830\\n7,635\\n7,125\\n7,028\\n7,969\\n7,843\\nTotal operating expenses\\n157,092\\n118,340\\n169,601\\n96,799\\n117,216\\n112,149\\n160,142\\n91,506\\nOperating income (loss)\\n12,334\\n(10,888\\n)\\n99,571\\n(20,653\\n)\\n(11,982\\n)\\n(14,629\\n)\\n94,685\\n(22,966\\n)\\nInterest (income) expense, net\\n711\\n147\\n985\\n595\\n379\\n(30\\n)\\n1,430\\n990\\nOther income (expense), net\\n1,630\\n(2,605\\n)\\n975\\n(84\\n)\\n351\\n1,285\\n(1,266\\n)\\n274\\nIncome (loss) before income taxes\\n13,253\\n(13,640\\n)\\n99,561\\n(21,332\\n)\\n(12,010\\n)\\n(13,314\\n)\\n91,989\\n(23,682\\n)\\nIncome tax expense (benefit)\\n3,479\\n(3,983\\n)\\n25,409\\n(6,061\\n)\\n(3,705\\n)\\n(5,073\\n)\\n23,411\\n(6,416\\n)\\nNet income (loss)\\n$\\n9,774\\n$\\n(9,657\\n)\\n$\\n74,152\\n$\\n(15,271\\n)\\n$\\n(8,305\\n)\\n$\\n(8,241\\n)\\n$\\n68,578\\n$\\n(17,266\\n)\\nBasic net income (loss) per common share\\n$\\n0.15\\n$\\n(0.15\\n)\\n$\\n1.15\\n$\\n(0.24\\n)\\n$\\n(0.13\\n)\\n$\\n(0.13\\n)\\n$\\n1.07\\n$\\n(0.27\\n)\\nDiluted net income (loss) per common share\\n$\\n0.15\\n$\\n(0.15\\n)\\n$\\n1.12\\n$\\n(0.24\\n)\\n$\\n(0.13\\n)\\n$\\n(0.13\\n)\\n$\\n1.04\\n$\\n(0.27\\n)\\nWeighted average shares used in the calculation of net income (loss) per common share:\\nBasic\\n64,283\\n64,348\\n64,687\\n64,503\\n64,343\\n64,194\\n64,209\\n64,620\\nDiluted\\n66,385\\n64,348\\n66,401\\n64,503\\n64,343\\n64,194\\n66,136\\n64,620\\nThe Company’s quarterly results may experience seasonal fluctuations – see the\\nSeasonality\\nsection in Item 1 for details. Refer above to the\\nResults of Operations\\nsection in Item 7 for a discussion of significant events and transactions.\\n27\\nTable of Contents\\nLiquidity and Capital Resources\\nLiquidity and borrowings\\nThe Company's principal sources of liquidity are cash on hand, cash flows generated from operations and borrowings available under the 2019 Credit Agreement (see\\nNote 18. in Part IV, Item 15\\nfor details). At June 28, 2020, the Company had working capital of $198.3 million, including cash and cash equivalents of $240.5 million, compared to working capital of $175.4 million, including cash and cash equivalents of $172.9 million at June 30, 2019. As of June 28, 2020, there were no borrowings outstanding under the Company’s Revolver. Due to the seasonal nature of the Company’s business, and its continued expansion into non-floral products, the Thanksgiving through Christmas holiday season, which falls within the Company’s second fiscal quarter, historically generated nearly 50% of the Company’s annual revenues, and all of its earnings. However, with the onset of the COVID-19 pandemic, the Company experienced a significant increase in its revenues and earnings during its fourth quarter of fiscal 2020. These trends have continued through the first two months of its fiscal 2021 first quarter. Our customers have increasingly turned to our brands and our expanded product offerings to help them connect and express themselves during the recent COVID-19 pandemic and our “everyday” gifting product line has seen increased volume. While the continuing impacts of COVID-19 are difficult to predict, the Company expects that its fiscal second quarter will continue to be its largest in terms of revenues and earnings, although increases in the Company’s “everyday” business have and are expected to continue to lessen the seasonality of our business. As a result, the Company expects to generate significant cash from operations during its second quarter, and then utilize that cash for operating needs during its fiscal third and fourth quarters, after which time, the Company expects to borrow against its Revolver to fund pre-holiday manufacturing and inventory purchases. Borrowings under the Revolver typically peak in November, at which time cash generated from operations during the Christmas holiday shopping season are expected to enable the Company to repay working capital borrowings prior to the end of December.\\nWe believe that our sources of funding will be sufficient to meet our anticipated operating cash needs for at least the next 12 months. However, any projections of future cash needs and cash flows are subject to substantial uncertainty. We continually evaluate opportunities to repurchase common stock and we will, from time to time, consider the acquisition of, or investment in, complementary businesses, products, services, capital infrastructure, and technologies, which might affect our liquidity requirements or cause us to require additional financing.\\nWe have not identified any material liquidity deficiencies as a result of the COVID-19 pandemic. We will continue to monitor and assess the impact COVID-19 may have on our business and financial results. See\\nPart I. Item 1A. “Risk Factors”\\nand\\nPart II. Item 7. “Management’s Discussion and Analysis of Financial Condition and Results of Operations”\\nfor further information.\\nCash Flows\\nNet cash provided by operating activities of $139.4 million for the fiscal year ended June 28, 2020 was primarily attributable to the Company’s net income, adjusted for non-cash charges for depreciation and amortization, stock-based compensation, and bad debt expense, as well as increases in accounts payable and accrued expenses as a result of the timing of our seasonal inventory build and performance-based bonus payments, partially offset by increases in trade receivables and inventory related to increased sales volumes.\\nNet cash used in investing activities of $56.4 million was primarily attributable to the acquisition of Shari’s Berries for $20.5 million, and capital expenditures of $34.7 million related to the Company's technology initiatives and Gourmet Foods & Gift Baskets segment manufacturing production and warehousing equipment.\\nNet cash used in financing activities of $15.5 million for the fiscal year ended June 28, 2020 was primarily due to the acquisition of $10.7 million of treasury stock and net bank repayments of $5.0 million.\\nStock Repurchase Program\\nThe Company has a stock repurchase plan through which purchases can be made from time to time in the open market and through privately negotiated transactions, subject to general market conditions. The repurchase program is financed utilizing available cash. In August 2017, the board of directors increased the authorization to $30.0 million, and on June 27, 2019, increased it once more to $30.0 million. The Company repurchased a total of $10.7 million (754,458 shares), $14.8 million (1,230,303 shares) and $12.2 million (1,269,059 shares) during the fiscal years ended June 28, 2020, June 30, 2019 and July 1, 2018, respectively, under this program. As of June 28, 2020, $19.3 million remains authorized under the plan.\\nContractual Obligations\\nAt June 28, 2020, the Company’s contractual obligations consist of:\\n●\\nLong-term debt obligations - payments due under the Company's 2019 Credit Agreement (See\\nNote 9 – Long-Term Debt in Item 15\\nfor details).\\n●\\nOperating lease obligations – payments due under the Company’s long-term operating leases (See\\nNote 16 – Leases in Item 15\\nfor details).\\n●\\nPurchase commitments - consisting primarily of inventory and IT related equipment purchase orders and license agreements made in the ordinary course of business – see below for the contractual payments due by period.\\nPayments due by period\\n(in thousands)\\nFiscal\\n2021\\nFiscal\\n2022\\nFiscal\\n2023\\nFiscal\\n2024\\nFiscal\\n2025\\nThereafter\\nTotal\\nPurchase commitments\\n$\\n98,860\\n$\\n12,600\\n$\\n4,784\\n$\\n1,171\\n$\\n-\\n$\\n-\\n$\\n117,415\\n28\\nTable of Contents\\nCritical Accounting Policies and Estimates\\nThe Company’s discussion and analysis of its financial position and results of operations are based upon the consolidated financial statements of 1-800-FLOWERS.COM, Inc., which have been prepared in accordance with U.S. generally accepted accounting principles. The preparation of these financial statements requires management to make estimates and assumptions that affect the reported amount of assets, liabilities, revenue and expenses, and related disclosure of contingent assets and liabilities. Management evaluates its estimates on an ongoing basis, and bases its estimates and judgments on historical experience and on various other factors that are believed to be reasonable under the circumstances. Actual results may differ from these estimates under different assumptions or conditions. We consider accounting estimates to be critical if both: (i) the nature of the estimate or assumption is material due to the levels of subjectivity and judgment involved, and (ii) the impact within a reasonable range of outcomes of the estimate and assumption is material to the Company’s financial condition. Our critical accounting policies relate to goodwill, other intangible assets and income taxes. Management of the Company has discussed the selection of critical accounting policies and the effect of estimates with the audit committee of the Company’s board of directors.\\nGoodwill\\nGoodwill represents the excess of the purchase price over the fair value of the net assets acquired in each business combination, with the carrying value of the Company’s goodwill allocated to its reporting units, in accordance with the acquisition method of accounting. Goodwill is not amortized, but it is subject to an annual assessment for impairment, which the Company performs during the fourth quarter, or more frequently, if events occur or circumstances change such that it is more likely than not that an impairment may exist. The Company tests goodwill for impairment at the reporting unit level. The Company identifies its reporting units by assessing whether the components of its operating segments constitute businesses for which discrete financial information is available and management of each reporting unit regularly reviews the operating results of those components.\\nIn applying the goodwill impairment test, the Company has the option to perform a qualitative test (also known as “Step 0”) or a two-step quantitative test (consisting of “Step 1” and “Step 2”). Under the Step 0 test, the Company first assesses qualitative factors to determine whether it is more likely than not that the fair value of the reporting units is less than its carrying value. Qualitative factors may include, but are not limited to, economic conditions, industry and market considerations, cost factors, overall financial performance of the reporting unit and other entity and reporting unit specific events. If after assessing these qualitative factors, the Company determines it is “more-likely-than-not” that the fair value of the reporting unit is less than the carrying value, then performing the two-step quantitative test is necessary.\\nThe first step (“Step 1”) of the two-step quantitative test requires comparison of the fair value of each of the reporting units to their respective carrying value. If the carrying value of the reporting unit is less than the fair value, no impairment exists and the second step (“Step 2”) is not performed. If the carrying value of the reporting unit is higher than the fair value, Step 2 must be performed to compute the amount of the goodwill impairment, if any. In Step 2, the impairment is computed by comparing the implied fair value of the reporting unit goodwill with the carrying amount of that goodwill. If the carrying amount of the reporting unit goodwill exceeds the implied fair value of that goodwill, an impairment loss is recognized for the excess.\\nThe Company generally estimates the fair value of a reporting unit using an equal weighting of the income and market approaches. The Company uses industry accepted valuation models and set criteria that are reviewed and approved by various levels of management and, in certain instances, the Company engages third-party valuation specialists. Under the income approach, the Company uses a discounted cash flow methodology which requires management to make significant estimates and assumptions related to forecasted revenues, gross profit margins, operating income margins, working capital cash flow, perpetual growth rates, and long-term discount rates, among others. For the market approach, the Company uses the guideline public company method. Under this method the Company utilizes information from comparable publicly traded companies with similar operating and investment characteristics as the reporting units, to create valuation multiples that are applied to the operating performance of the reporting unit being tested, in order to obtain their respective fair values. The Company also reconciles the aggregate fair values of its reporting units determined in the first step (as described above) to its current market capitalization, allowing for a reasonable control premium.\\nFor further discussion of the methods used and factors considered in our estimates as part of the impairment testing for Goodwill, see\\nNote 2\\nand\\nNote 6\\nin Part IV, Item 15.\\nOther\\nIntangibles, net\\nOther intangibles consist of definite-lived intangible assets (such as investment in licenses, customer lists, and others) and indefinite-lived intangible assets (such as acquired trade names and trademarks). The cost of definite-lived intangible assets is amortized to reflect the pattern of economic benefits consumed, over the estimated periods benefited, ranging from 3 to 16 years, while indefinite-lived intangible assets are not amortized, but are reviewed for impairment whenever changes in circumstances or events may indicate that the carrying amounts are not recoverable.\\nThe Company tests indefinite-lived intangible assets for impairment at least annually, during the fourth quarter, or whenever changes in circumstances or events may indicate that the carrying amounts are not recoverable. In applying the impairment test, the Company has the option to perform a qualitative test (also known as “Step 0”) or a quantitative test. Under the Step 0 test, the Company assesses qualitative factors to determine whether it is more likely than not that an indefinite-lived intangible asset is impaired. Qualitative factors may include, but are not limited to economic conditions, industry and market considerations, cost factors, financial performance, legal and other entity and asset specific events. If, after assessing these qualitative factors, the Company determines it is “more-likely-than-not” that the indefinite-lived intangible asset is impaired, then performing the quantitative test is necessary. The quantitative impairment test for indefinite-lived intangible assets encompasses calculating a fair value of an indefinite-lived intangible asset and comparing the fair value to its carrying value. If the carrying value exceeds the fair value, impairment is recognized for the difference. To determine fair value of other indefinite-lived intangible assets, the Company uses an income approach, the relief-from-royalty method. This method assumes that, in lieu of ownership, a third party would be willing to pay a royalty in order to obtain the rights to use the comparable asset. Other indefinite-lived intangible assets’ fair values require significant judgments in determining both the assets’ estimated cash flows as well as the appropriate discount and royalty rates applied to those cash flows to determine fair value.\\nFor further discussion of the methods used and factors considered in our estimates as part of the impairment testing for other intangibles, see\\nNote 2\\nand\\nNote 6\\nin Part IV, Item 15.\\nIncome Taxes\\nThe Company uses the asset and liability method to account for income taxes. The Company has established deferred tax assets and liabilities for temporary differences between the financial reporting bases and the income tax bases of its assets and liabilities at enacted tax rates expected to be in effect when such assets or liabilities are realized or settled. The Company recognizes as a deferred tax asset, the tax benefits associated with losses related to operations. Realization of these deferred tax assets assumes that we will be able to generate sufficient future taxable income so that these assets will be realized. The factors that the Company considers in assessing the likelihood of realization include the forecast of future taxable income and available tax planning strategies that could be implemented to realize the deferred tax assets.\\nThe Company recognizes the tax benefit from an uncertain tax position only if it is more likely than not that the tax position will be sustained on examination by the taxing authorities based on the technical merits of the position. The tax benefits recognized in the financial statements on a particular tax position are measured based on the largest benefit that has a greater than a 50% likelihood of being realized upon settlement. The amount of unrecognized tax benefits (“UTBs”) is adjusted as appropriate for changes in facts and circumstances, such as significant amendments to existing tax law, new regulations or interpretations by the taxing authorities, new information obtained during a tax examination, or resolution of an examination. We recognize both accrued interest and penalties, where appropriate, related to UTBs in income tax expense. Assumptions, judgment and the use of estimates are required in determining if the “more likely than not” standard has been met when developing the provision for income taxes. For further discussion see\\nNote 11\\n,\\nin Part IV, Item 15.\\nRecently Issued Accounting Pronouncements\\nSee\\nNote\\n2\\n. in\\nPart IV,\\nItem 15\\nfor details regarding the impact of accounting standards that were recently issued, on our consolidated financial statements.\\n29\\nTable of Contents\\nItem 7A.\\nQUANTITATIVE AND QUALITATIVE DISCLOSURES ABOUT MARKET RISK\\nThe Company is exposed to market risk from the effect of interest rate changes and changes in the market values of its investments.\\nInterest Rate Risk\\nThe Company’s exposure to market risk for changes in interest rates relates primarily to the Company’s investment of available cash balances and its long-term debt. The Company generally invests its cash and cash equivalents in investment grade corporate and U.S. government securities. Due to the currently low rates of return the Company is receiving on its cash equivalents, the potential for a significant decrease in short-term interest rates is low and, therefore, a further decrease would not have a material impact on the Company’s interest income. Borrowings under the Company’s credit facility bear interest at a variable rate, plus an applicable margin, and therefore expose the Company to market risk for changes in interest rates. The effect of a 50 basis point increase in current interest rates on the Company’s interest expense would be approximately $0.5 million during the fiscal year ended June 28, 2020.\\nItem 8.\\nFINANCIAL STATEMENTS AND SUPPLEMENTARY DATA\\nAnnual Financial Statements:\\nSee\\nPart IV, Item 15\\nof this Annual Report on Form 10-K.\\nSelected Quarterly Financial Data:\\nSee\\nPart II\\n,\\nItem 7\\nof this Annual Report on Form 10-K.\\nItem 9.\\nCHANGES IN AND DISAGREEMENTS WITH ACCOUNTANTS ON ACCOUNTING AND FINANCIAL DISCLOSURE\\nNot applicable.\\nItem 9A.\\nCONTROLS AND PROCEDURES\\nEvaluation of Disclosure Controls and Procedures\\nThe Company’s management, with the participation of the Company’s Chief Executive Officer and Chief Financial Officer, has evaluated the effectiveness of the Company’s disclosure controls and procedures, as defined in Rules 13a-15(e) and 15d-15(e) of the Securities Exchange Act of 1934, as of June 28, 2020. Based on that evaluation, the Company’s Chief Executive Officer and Chief Financial Officer have each concluded that the Company’s disclosure controls and procedures were effective as of June 28, 2020.\\n30\\nTable of Contents\\nManagement’s Report on Internal Control Over Financial Reporting\\nManagement is responsible for establishing and maintaining adequate internal control over financial reporting. Internal control over financial reporting is defined in Rules 13a-15(f) and 15d-15(f) under the Exchange Act as a process designed by, or under the supervision of, the Company’s principal executive and principal financial officers and effectuated by the Company’s board of directors, management and other personnel to provide reasonable assurance regarding the reliability of financial reporting and the preparation of financial statements for external purposes in accordance with U.S. generally accepted accounting principles (“U.S. GAAP”), and includes those policies and procedures that:\\n●\\npertain to the maintenance of records that, in reasonable detail, accurately and fairly reflect the transactions and dispositions of the assets of the Company;\\n●\\nprovide reasonable assurance that transactions are recorded as necessary to permit preparation of financial statements in accordance with U.S. GAAP, and that receipts and expenditures of the Company are being made in accordance with authorization of management and directors of the Company; and\\n●\\nprovide reasonable assurance regarding prevention or timely detection of unauthorized acquisition, use or disposition of the Company’s assets that could have a material effect on the financial statements.\\nBecause of its inherent limitations, internal control over financial reporting may not prevent or detect misstatements. Projections of any evaluation of effectiveness to future periods are subject to the risk that controls may become inadequate because of changes in conditions, or that the degree of compliance with the policies or procedures may deteriorate.\\nManagement, including the Company’s Chief Executive Officer and Chief Financial Officer, assessed the effectiveness of the Company’s internal control over financial reporting based on criteria established in Internal Control-Integrated Framework issued by the Committee of Sponsoring Organizations of the Treadway Commission (2013 framework), (the COSO criteria). Based on this assessment, management concluded that the Company’s internal control over financial reporting was effective as of June 28, 2020.\\nThe Company’s independent registered public accounting firm, BDO USA, LLP, audited the effectiveness of the Company’s internal control over financial reporting as of June 28, 2020. BDO USA, LLP’s report on the effectiveness of the Company's internal control over financial reporting as of June 28, 2020 is set forth below.\\n31\\nTable of Contents\\nReport of Independent Registered Public Accounting Firm\\nBoard of Directors and Stockholders\\n1-800-FLOWERS.COM, Inc.\\nCarle Place, NY\\nOpinion on Internal Control over Financial Reporting\\nWe have audited 1-800-FLOWERS.COM, Inc. and Subsidiaries (the “Company”) internal control over financial reporting as of June 28, 2020, based on criteria established in\\nInternal Control – Integrated Framework (2013)\\nissued by the Committee of Sponsoring Organizations of the Treadway Commission (the “COSO criteria”).  In our opinion, the Company maintained, in all material respects, effective internal control over financial reporting as of June 28, 2020, based on the COSO criteria\\n.\\nWe also have audited, in accordance with the standards of the Public Company Accounting Oversight Board (United States) (“PCAOB”), the consolidated balance sheets of 1-800-FLOWERS.COM, Inc. and Subsidiaries as of June 28, 2020 and June 30, 2019 and the related consolidated statements of income, comprehensive income, stockholders’ equity and cash flows for each of the three years in the period ended June 28, 2020, and the related notes and schedule and our report dated September 11, 2020 expressing an unqualified opinion thereon.\\nBasis for Opinion\\nThe Company’s management is responsible for maintaining effective internal control over financial reporting and for its assessment of the effectiveness of internal control over financial reporting, included in the accompanying “Item 9A, Management’s Report on Internal Control over Financial Reporting”. Our responsibility is to express an opinion on the Company’s internal control over financial reporting based on our audit. We are a public accounting firm registered with the PCAOB and are required to be independent with respect to the Company in accordance with U.S. federal securities laws and the applicable rules and regulations of the Securities and Exchange Commission and the PCAOB.\\nWe conducted our audit of internal control over financial reporting in accordance with the standards of the PCAOB. Those standards require that we plan and perform the audit to obtain reasonable assurance about whether effective internal control over financial reporting was maintained in all material respects. Our audit included obtaining an understanding of internal control over financial reporting, assessing the risk that a material weakness exists, and testing and evaluating the design and operating effectiveness of internal control based on the assessed risk. Our audit also included performing such other procedures as we considered necessary in the circumstances. We believe that our audit provides a reasonable basis for our opinion.\\nDefinition and Limitations of Internal Control over Financial Reporting\\nA company’s internal control over financial reporting is a process designed to provide reasonable assurance regarding the reliability of financial reporting and the preparation of financial statements for external purposes in accordance with generally accepted accounting principles. A company’s internal control over financial reporting includes those policies and procedures that (1) pertain to the maintenance of records that, in reasonable detail, accurately and fairly reflect the transactions and dispositions of the assets of the company; (2) provide reasonable assurance that transactions are recorded as necessary to permit preparation of financial statements in accordance with generally accepted accounting principles, and that receipts and expenditures of the company are being made only in accordance with authorizations of management and directors of the company; and (3) provide reasonable assurance regarding prevention or timely detection of unauthorized acquisition, use, or disposition of the company’s assets that could have a material effect on the financial statements.\\nBecause of its inherent limitations, internal control over financial reporting may not prevent or detect misstatements. Also, projections of any evaluation of effectiveness to future periods are subject to the risk that controls may become inadequate because of changes in conditions, or that the degree of compliance with the policies or procedures may deteriorate.\\n/s/ BDO USA, LLP\\nMelville, New York\\nSeptember 11, 2020\\n32\\nTable of Contents\\nItem 9B.\\nOTHER INFORMATION\\nNone.\\nPART III\\nItem 10.\\nDIRECTORS, EXECUTIVE OFFICERS AND CORPORATE GOVERNANCE\\nThe information required by Item 10 of Part III with respect to directors, executive officers, audit committee and audit committee financial experts of the Company and Section 16(a) beneficial ownership reporting compliance will be included in our Proxy Statement relating to our 2020 annual meeting of stockholders and is incorporated herein by reference.\\nThe Company maintains a Code of Business Conduct and Ethics, which is applicable to all directors, officers and employees on the Investor Relations-Corporate Governance tab of the Company’s investor relations website (investor.1800flowers.com), which is also accessible through a link at the bottom of the main Company page at www.1800flowers.com. Any amendment or waiver to the Code of Business Conduct and Ethics that applies to our directors or executive officers will be posted on our website or in a report filed with the SEC on Form 8-K to the extent required by applicable law or the regulations of any exchange applicable to the Company. A copy of the Code of Business Conduct and Ethics is available without charge upon written request to: Investor Relations, 1-800-FLOWERS.COM, Inc., One Old Country Road, Suite 500, Carle Place, New York 11514.\\nItem 11.\\nEXECUTIVE COMPENSATION\\nThe information required by Item 11 of Part III will be included in our Proxy Statement relating to our 2020 annual meeting of stockholders and is incorporated herein by reference.\\nItem 12.\\nSECURITY OWNERSHIP OF CERTAIN BENEFICIAL OWNERS AND MANAGEMENT AND RELATED STOCKHOLDER MATTERS\\nThe information required by Item 12 of Part III will be included in our Proxy Statement relating to our 2020 annual meeting of stockholders and is incorporated herein by reference.\\nItem 13.\\nCERTAIN RELATIONSHIPS AND RELATED TRANSACTIONS, AND DIRECTOR INDEPENDENCE\\nThe information required by Item 13 of Part III will be included in our Proxy Statement relating to our 2020 annual meeting of stockholders and is incorporated herein by reference.\\nItem 14.\\nPRINCIPAL ACCOUNTING FEES AND SERVICES\\nThe information required by Item 14 of Part III will be included in our Proxy Statement relating to our 2020 annual meeting of stockholders and is incorporated herein by reference.\\n33\\nTable of Contents\\nPART IV\\nItem 15. EXHIBITS AND FINANCIAL STATEMENT SCHEDULES\\n(a) (1) Index to Consolidated Financial Statements:\\nPage\\nReport of Independent Registered Public Accounting Firm\\nF-1\\nConsolidated Balance Sheets as of\\nJune 28, 2020\\nand\\nJune\\n30\\n, 201\\n9\\nF-2\\nConsolidated Statements of Income for the years ended\\nJune 28, 2020\\n, Ju\\nne\\n30\\n, 201\\n9\\nand July\\n1\\n, 201\\n8\\nF-3\\nConsolidated Statements of Comprehensive Income for the years ended\\nJune 28, 2020\\n, Ju\\nne\\n30\\n, 201\\n9\\nand July\\n1\\n, 201\\n8\\nF-4\\nConsolidated Statements of Stockholders’ Equity for the years ended\\nJune 28, 2020\\n, Ju\\nne\\n30\\n, 201\\n9\\nand July\\n1\\n, 201\\n8\\nF-5\\nConsolidated Statements of Cash Flows for the years ended\\nJune 28, 2020\\n, Ju\\nne\\n30\\n, 201\\n9\\nand July\\n1\\n, 201\\n8\\nF-6\\nNotes to Consolidated Financial Statements\\nF-7\\n(a) (2) Index to Financial Statement Schedules:\\nSchedule II- Valuation and Qualifying Accounts\\nS-1\\nAll other information and financial statement schedules are omitted because they are not applicable, or required, or because the required information is included in the consolidated financial statements or notes thereto.\\n34\\nTable of Contents\\n(a) (3) Index to Exhibits\\nExhibits marked with an asterisk (*) are incorporated by reference to exhibits or appendices previously filed with the SEC, as indicated by the reference in brackets. All other exhibits are filed herewith. Exhibits 10.1, 10.2, 10.3, 10.4. 10.5, 10.6, 10.7, 10.8, 10.9, 10.10 and 10.11 are management contracts or compensatory plans or arrangements.\\nExhibit\\nDescription\\n*2.1\\nEquity Purchase Agreement dated as of February 14, 2020, by an among 1-800-Flowers.com, Inc., 800-Flowers, Inc. PersonalizationMall.com, LLC, and Bed Bath & Beyond Inc. (Current Report on Form 8-K filed on February 18, 2020, Exhibit 2.1)\\n*3.1\\nThird Amended and Restated Certificate of Incorporation. (Quarterly Report on Form 10-Q filed on February 10, 2017, Exhibit 3.1)\\n*3.2\\nAmendment No. 1 to Third Amended and Restated Certificate of Incorporation. (Registration Statement on Form S-1/A (No. 333-78985) filed on July 22, 1999, Exhibit 3.2)\\n*3.3\\nAmendment No. 2 to Third Amended and Restated Certificate of Incorporation (Current Report on Form 8-K filed on December 15, 2016, Exhibit 3.1)\\n*3.4\\nAmended and Restated By-laws. (Registration Statement on Form S-1 (No 333-78985) filed on May 21, 1999, Exhibit 3.3)\\n*3.5\\nAmendment No. 1 to Amended and Restated By-laws (Current Report on Form 8-K filed on December 15, 2016, Exhibit 3.2)\\n*4.1\\nSpecimen Class A common stock certificate. (Registration Statement on Form S-1/A (No. 333-78985 filed on July 9, 1999, Exhibit 4.1)\\n*4.2\\nSee Exhibits\\n3.1\\n,\\n3.2\\n,\\n3.3\\n,\\n3.4\\nand\\n3.5\\nfor provisions of the Certificate of Incorporation and By-laws of the Registrant defining the rights of holders of Common Stock of the Registrant.\\n*10.1\\nEmployment Agreement made October 4, 2016, effective as of July 4, 2016, between 1-800-Flowers.com, Inc. and James F. McCann (Current report on form 8-K filed on October 6, 2016, Exhibit 10.1)\\n*10.2\\nEmployment Agreement made October 4, 2016, effective as of July 4, 2016, between 1-800-Flowers.com, Inc. and Christopher G. McCann (Current report on form 8-K filed on October 6, 2016, Exhibit 10.2)\\n*10.3\\nSection 16 Executive Officer’s Bonus Plan (as amended and restated as of September 14, 2016) (Quarterly Report on Form 10-Q filed on February 10, 2017, Exhibit 10.2)\\n*10.4\\nNonqualified Supplemental Deferred Compensation Plan dated December 21, 2010 (Quarterly Report on Form 10-Q filed on November 14, 2016, Exhibit 10.24)\\n*10.5\\n2003 Long Term Incentive and Share Award Plan (as amended and restated as of October 22, 2009, as amended as of October 28, 2011 and September 14, 2016)  (Quarterly Report on Form 10-Q filed on February 10, 2017, Exhibit 10.1)\\n*10.6\\nForm of Restricted Share Agreement under 2003 Long Term Incentive and Share Award Plan. (Annual Report on Form 10-K for the fiscal year ended June 29, 2008 filed on September 12, 2008, Exhibit 10.15)\\n*10.7\\nForm of Incentive Stock Option Agreement under 2003 Long Term Incentive and Share Award Plan. (Annual Report on Form 10-K for the fiscal year ended June 29, 2008 filed on September 12, 2008, Exhibit 10.16)\\n*10.8\\nForm of Non-statutory Stock Option Agreement under 2003 Long Term Incentive and Share Award Plan. (Annual Report on Form 10-K for the fiscal year ended June 29, 2008 filed on September 12, 2008, Exhibit 10.17)\\n*10.9\\nForm of Restricted Share Agreement under 2003 Long Term Incentive and Share Award Plan (Quarterly Report on Form 10-Q filed on February 10, 2012, Exhibit 10.20)\\n*10.10\\nForm of Performance Restricted Share Agreement under 2003 Long Term Incentive and Share Award Plan (Quarterly Report on Form 10-Q filed on February 10, 2012, Exhibit 10.21)\\n*10.11\\nForm of Non-Statutory Stock Option Agreement under 2003 Long Term Incentive and Share Award Plan (Quarterly Report on Form 10-Q filed on February 10, 2012, Exhibit 10.22)\\n*10.12\\nCredit Agreement dated as of September 30, 2014 among 1-800-Flowers.com, Inc., the Subsidiary Borrowers party thereto, and JP Morgan Chase Bank, N.A., as administrative agent (Quarterly Report on Form 10-Q filed on November 7, 2014, Exhibit 10.24)\\n*10.13\\nAmended and Restated Credit Agreement dated as of December 23, 2016 among 1-800-FLOWERS.COM, Inc., the subsidiary borrowers party thereto, the guarantors party thereto, the lenders party thereto and J.P. Morgan Chase Bank, N.A., as Administrative Agent (Quarterly Report on Form 10-Q filed on February 10, 2017, Exhibit 10.3)\\n*10.14\\nLease, dated May 20, 2005, between Treeline Mineola, LLC and 1-800-FLOWERS.COM, Inc. (Annual Report on Form 10-K for the fiscal year ended July 3, 2005 filed on September 15, 2005, Exhibit 10.26)\\n*10.15\\nAmendment to Equity Purchase Agreement dated July 20, 2020 (Current Report on Form 8-K filed on July 22, 2020, Exhibit 10.1)\\n21.1\\nSubsidiaries of the Registrant.\\n23.1\\nConsent of Independent Registered Public Accounting Firm.\\n31.1\\nCertification of the principal executive officer pursuant to Section 302 of the Sarbanes-Oxley Act of 2002.\\n31.2\\nCertification of the principal financial officer pursuant to Section 302 of the Sarbanes-Oxley Act of 2002.\\n32.1\\nCertifications pursuant to 18 U.S.C. Section 1350, as adopted pursuant to Section 906 of the Sarbanes-Oxley Act of 2002.\\n101.INS\\nXBRL Instance Document\\n101.SCH\\nXBRL Taxonomy Extension Schema Document\\n101.CAL\\nXBRL Taxonomy Calculation Linkbase Document\\n101.DEF\\nXBRL Taxonomy Extension Definition Linkbase Document\\n101.LAB\\nXBRL Taxonomy Extension Label Document\\n101.PRE\\nXBRL Taxonomy Definition Presentation Document\\nItem 16.\\nFORM 10-K SUMMARY\\nNot applicable.\\n35\\nTable of Contents\\nSIGNATURES\\nPursuant to the requirements of Section 13 or 15(d) of the Securities Exchange Act of 1934, the registrant has duly caused this Annual Report to be signed on its behalf by the undersigned, thereunto duly authorized.\\nDated: September 11, 2020\\n1-800-FLOWERS.COM, Inc.\\nBy\\n: /s/ Christopher G. McCann\\nChristopher G. McCann\\nChief Executive Officer, Director, President\\n(Principal Executive Officer)\\nPursuant to the requirements of the Securities Exchange Act of 1934, this report has been signed below by the following persons on behalf of the registrant and in the capacities and on the dates indicated below:\\nDated: September 11, 2020\\nBy\\n: /s/ Christopher G. McCann\\nChristopher G. McCann\\nChief Executive Officer, Director, President\\n(Principal Executive Officer)\\nDated: September 11, 2020\\nBy\\n: /s/ William E. Shea\\nWilliam E. Shea\\nSenior Vice President, Treasurer and Chief Financial Officer (Principal Financial and Accounting Officer)\\nDated: September 11, 2020\\nBy\\n: /s/ James F. McCann\\nJames F. McCann\\nExecutive Chairman\\nDated: September 11, 2020\\nBy\\n: /s/ Geralyn R. Breig\\nGeralyn R. Breig\\nDirector\\nDated: September 11, 2020\\nBy\\n: /s/ Celia R. Brown\\nCelia R. Brown\\nDirector\\nDated: September 11, 2020\\nBy\\n: /s/ James A. Cannavino\\nJames A. Cannavino\\nDirector\\nDated: September 11, 2020\\nBy\\n: /s/ Eugene F. DeMark\\nEugene F. DeMark\\nDirector\\nDated: September 11, 2020\\nBy\\n: /s/ Leonard J. Elmore\\nLeonard J. Elmore\\nDirector\\nDated: September 11, 2020\\nBy\\n: /s/ Adam Hanft\\nAdam Hanft\\nDirector\\nDated: September 11, 2020\\nBy\\n: /s/ Sean P. Hegarty\\nSean P. Hegarty\\nDirector\\nDated: September 11, 2020\\nBy\\n: /s/ Katherine Oliver\\nKatherine Oliver\\nDirector\\nDated: September 11, 2020\\nBy\\n: /s/ Larry Zarin\\nLarry Zarin\\nDirector\\n36\\nTable of Contents\\nReport of Independent Registered Public Accounting Firm\\nBoard of Directors and Stockholders\\n1-800-FLOWERS.COM, Inc.\\nCarle Place, NY\\nOpinion on the Consolidated Financial Statements\\nWe have audited the accompanying consolidated balance sheets of 1-800-FLOWERS.COM, Inc. and Subsidiaries (the “Company”) as of June 28, 2020 and June 30, 2019, the related consolidated statements of income and comprehensive income, stockholders’ equity, and cash flows for each of the three years in the period ended June 28, 2020, and the related notes and schedule (collectively referred to as the “consolidated financial statements”). In our opinion, the consolidated financial statements present fairly, in all material respects, the financial position of the Company at June 28, 2020 and June 30, 2019, and the results of its operations and its cash flows for each of the three years in the period ended June 28, 2020\\n,\\nin conformity with accounting principles generally accepted in the United States of America.\\nWe also have audited, in accordance with the standards of the Public Company Accounting Oversight Board (United States) (“PCAOB”), the Company's internal control over financial reporting as of June 28, 2020, based on criteria established in\\nInternal Control – Integrated Framework\\n(2013)\\nissued by the Committee of Sponsoring Organizations of the Treadway Commission (“COSO”) and our report dated September 11, 2020 expressed an unqualified opinion thereon.\\nChange in Accounting Principle\\nAs discussed in Note 2 to the consolidated financial statements, effective on July 1, 2019, the Company changed its method of accounting for leases due to the adoption of Accounting Standards Codification Topic 842,\\nLeases\\n.\\nBasis for Opinion\\nThese consolidated financial statements are the responsibility of the Company’s management. Our responsibility is to express an opinion on the Company’s consolidated financial statements based on our audits. We are a public accounting firm registered with the Public Company Accounting Oversight Board (United States) (“PCAOB”) and are required to be independent with respect to the Company in accordance with the U.S. federal securities laws and the applicable rules and regulations of the Securities and Exchange Commission and the PCAOB.\\nWe conducted our audits in accordance with the standards of the PCAOB. Those standards require that we plan and perform the audit to obtain reasonable assurance about whether the consolidated financial statements are free of material misstatement, whether due to error or fraud.  Our audits included performing procedures to assess the risks of material misstatement of the consolidated financial statements, whether due to error or fraud, and performing procedures that respond to those risks. Such procedures included examining, on a test basis, evidence regarding the amounts and disclosures in the consolidated financial statements. Our audits also included evaluating the accounting principles used and significant estimates made by management, as well as evaluating the overall presentation of the consolidated financial statements. We believe that our audits provide a reasonable basis for our opinion.\\nWe have served as the Company's auditor since 2014.\\n/s/ BDO USA, LLP\\nMelville, New York\\nSeptember 11, 2020\\nF-1\\nTable of Contents\\n1-800-FLOWERS.COM, Inc. and Subsidiaries\\nConsolidated Balance Sheets\\n(in thousands, except share data)\\nJune 28, 2020\\nJu\\nne\\n30\\n, 201\\n9\\nAssets\\nCurrent assets:\\nCash and cash equivalents\\n$\\n240,506\\n$\\n172,923\\nTrade receivables, net\\n15,178\\n12,374\\nInventories\\n97,760\\n92,361\\nPrepaid and other\\n25,186\\n25,580\\nTotal current assets\\n378,630\\n303,238\\nProperty, plant and equipment, net\\n169,075\\n166,681\\nOperating lease right-of-use assets\\n66,760\\n-\\nGoodwill\\n74,711\\n62,590\\nOther intangibles, net\\n66,273\\n59,615\\nOther assets\\n18,986\\n14,316\\nTotal assets\\n$\\n774,435\\n$\\n606,440\\nLiabilities and Stockholders' Equity\\nCurrent liabilities:\\nAccounts payable\\n$\\n25,306\\n$\\n25,704\\nAccrued expenses\\n141,741\\n96,793\\nCurrent maturities of long-term debt\\n5,000\\n5,000\\nCurrent portion of long-term operating lease liabilities\\n8,285\\n-\\nTotal current liabilities\\n180,332\\n127,497\\nLong-term debt\\n87,559\\n91,973\\nLong-term operating lease liabilities\\n61,964\\n-\\nDeferred tax liabilities\\n28,632\\n28,898\\nOther liabilities\\n16,174\\n15,361\\nTotal liabilities\\n374,661\\n263,729\\nCommitments and contingencies (\\nNote 17\\n)\\nStockholders' equity:\\nPreferred stock, $.01 par value, 10,000,000 shares authorized, none issued\\n-\\n–\\nClass A common stock, $.01 par value, 200,000,000 shares authorized, 53,704,477 and 53,084,127 shares issued in 2020 and 2019, respectively\\n537\\n530\\nClass B common stock, $.01 par value, 200,000,000 shares authorized, 33,822,823 shares issued in 2020 and 2019\\n338\\n338\\nAdditional paid-in capital\\n358,031\\n349,319\\nRetained earnings\\n167,523\\n108,525\\nAccumulated other comprehensive loss\\n(243\\n)\\n(269\\n)\\nTreasury stock, at cost, 17,963,551and 17,209,093 Class A shares in 2020 and 2019, respectively, and 5,280,000 Class B shares in 2020 and 2019\\n(126,412\\n)\\n(115,732\\n)\\nTotal stockholders’ equity\\n399,774\\n342,711\\nTotal liabilities and stockholders’ equity\\n$\\n774,435\\n$\\n606,440\\nSee accompanying Notes to Consolidated Financial Statements.\\nF-2\\nTable of Contents\\n1-800-FLOWERS.COM, Inc. and Subsidiaries\\nConsolidated Statements of Income\\n(in thousands, except per share data)\\nYears ended\\nJune 28, 2020\\nJu\\nne\\n30\\n, 201\\n9\\nJuly\\n1\\n, 201\\n8\\nNet revenues\\n$\\n1,489,637\\n$\\n1,248,623\\n$\\n1,151,921\\nCost of revenues\\n867,441\\n722,502\\n662,896\\nGross profit\\n622,196\\n526,121\\n489,025\\nOperating expenses:\\nMarketing and sales\\n363,227\\n319,636\\n298,810\\nTechnology and development\\n48,698\\n43,758\\n39,258\\nGeneral and administrative\\n97,394\\n87,654\\n77,440\\nDepreciation and amortization\\n32,513\\n29,965\\n32,469\\nTotal operating expenses\\n541,832\\n481,013\\n447,977\\nOperating income\\n80,364\\n45,108\\n41,048\\nInterest expense, net\\n2,438\\n2,769\\n3,631\\nOther income (loss)\\n(84\\n)\\n644\\n605\\nIncome before income taxes\\n77,842\\n42,983\\n38,022\\nIncome tax expense (benefit)\\n18,844\\n8,217\\n(2,769\\n)\\nNet Income\\n$\\n58,998\\n$\\n34,766\\n$\\n40,791\\nBasic net income per common share\\n$\\n0.92\\n$\\n0.54\\n$\\n0.63\\nDiluted net income per common share\\n$\\n0.89\\n$\\n0.52\\n$\\n0.61\\nWeighted average shares used in the calculation of net income per common share:\\nBasic\\n64,463\\n64,342\\n64,666\\nDiluted\\n66,408\\n66,457\\n66,938\\nSee accompanying Notes to Consolidated Financial Statements.\\nF-3\\nTable of Contents\\n1-800-FLOWERS.COM, Inc. and Subsidiaries\\nConsolidated Statements of Comprehensive Income\\n(in thousands)\\nYears Ended\\nJune 28, 2020\\nJu\\nne\\n30\\n, 201\\n9\\nJuly\\n1\\n, 201\\n8\\nNet income\\n$\\n58,998\\n$\\n34,766\\n$\\n40,791\\nOther comprehensive income (loss) (currency translation)\\n26\\n(69\\n)\\n(13\\n)\\nComprehensive income\\n$\\n59,024\\n$\\n34,697\\n$\\n40,778\\nSee accompanying Notes to Consolidated Financial Statements.\\nF-4\\nTable of Contents\\n1-800-FLOWERS.COM, Inc. and Subsidiaries\\nConsolidated Statements of Stockholders' Equity\\nYears ended\\nJune 28, 2020\\n, Ju\\nne\\n30\\n, 201\\n9\\nand July\\n1\\n, 201\\n8\\n(in thousands, except share data)\\nAccumulated\\nCommon Stock\\nAdditional\\nRetained\\nOther\\nTotal\\nClass A\\nClass B\\nPaid-in\\nEarnings\\nComprehensive\\nTreasury Stock\\nStockholders’\\nShares\\nAmount\\nShares\\nAmount\\nCapital\\n(Deficit)\\nLoss\\nShares\\nAmount\\nEquity\\nBalance at July 2, 2017\\n51,227,779\\n$\\n513\\n33,901,603\\n$\\n339\\n$\\n337,726\\n$\\n32,638\\n$\\n(187\\n)\\n19,989,731\\n$\\n(88,790\\n)\\n$\\n282,239\\nNet income\\n-\\n-\\n-\\n-\\n-\\n40,791\\n-\\n-\\n-\\n40,791\\nTranslation adjustment\\n-\\n-\\n-\\n-\\n-\\n(13\\n)\\n-\\n-\\n(13\\n)\\nConversion of Class B stock into Class A stock\\n78,780\\n1\\n(78,780\\n)\\n(1\\n)\\n-\\n-\\n-\\n-\\n-\\n-\\nStock-based compensation\\n622,734\\n5\\n-\\n-\\n3,721\\n-\\n-\\n-\\n-\\n3,726\\nExercise of stock options\\n142,000\\n1\\n-\\n-\\n336\\n-\\n-\\n-\\n-\\n337\\nAcquisition of Class A treasury stock\\n-\\n-\\n-\\n-\\n-\\n-\\n-\\n1,269,059\\n(12,176\\n)\\n(12,176\\n)\\nBalance at July 1, 2018\\n52,071,293\\n520\\n33,822,823\\n338\\n341,783\\n73,429\\n(200\\n)\\n21,258,790\\n(100,966\\n)\\n314,904\\nNet income\\n-\\n-\\n-\\n-\\n-\\n34,766\\n-\\n-\\n-\\n34,766\\nTranslation adjustment\\n-\\n-\\n-\\n-\\n-\\n-\\n(69\\n)\\n-\\n-\\n(69\\n)\\nStock-based compensation\\n411,600\\n4\\n-\\n-\\n6,306\\n-\\n-\\n-\\n-\\n6,310\\nExercise of stock options\\n601,234\\n6\\n-\\n-\\n1,230\\n-\\n-\\n-\\n-\\n1,236\\nOther\\n-\\n-\\n-\\n-\\n-\\n330\\n-\\n-\\n-\\n330\\nAcquisition of Class A treasury stock\\n-\\n-\\n-\\n-\\n-\\n-\\n-\\n1,230,303\\n(14,766\\n)\\n(14,766\\n)\\nBalance at\\nJune\\n30\\n, 20\\n19\\n53,084,127\\n530\\n33,822,823\\n338\\n349,319\\n108,525\\n(269\\n)\\n22,489,093\\n(115,732\\n)\\n342,711\\nNet income\\n-\\n-\\n-\\n-\\n-\\n58,998\\n-\\n-\\n-\\n58,998\\nTranslation adjustment\\n-\\n-\\n-\\n-\\n-\\n-\\n26\\n-\\n-\\n26\\nStock-based compensation\\n470,350\\n5\\n-\\n-\\n8,429\\n-\\n-\\n-\\n-\\n8,434\\nExercise of stock options\\n150,000\\n2\\n-\\n-\\n283\\n-\\n-\\n-\\n-\\n285\\nAcquisition of Class A treasury stock\\n-\\n-\\n-\\n-\\n-\\n-\\n-\\n754,458\\n(10,680\\n)\\n(10,680\\n)\\nBalance at June 28, 2020\\n53,704,477\\n$\\n537\\n33,822,823\\n$\\n338\\n$\\n358,031\\n$\\n167,523\\n$\\n(243\\n)\\n23,243,551\\n$\\n(126,412\\n)\\n$\\n399,774\\nSee accompanying Notes to Consolidated Financial Statements.\\nF-5\\nTable of Contents\\n1-800-FLOWERS.COM, Inc. and Subsidiaries\\nConsolidated Statements of Cash Flows\\n(in thousands)\\nYears ended\\nJune 28, 2020\\nJu\\nne\\n30\\n, 201\\n9\\nJuly\\n1\\n, 201\\n8\\nOperating activities:\\nNet income\\n$\\n58,998\\n$\\n34,766\\n$\\n40,791\\nReconciliation of net income to net cash provided by operating activities net of dispositions:\\nDepreciation and amortization\\n32,513\\n29,965\\n32,469\\nAmortization of deferred financing costs\\n646\\n969\\n953\\nDeferred income taxes\\n(266\\n)\\n2,698\\n(7,668\\n)\\nBad debt expense\\n4,143\\n1,383\\n1,068\\nStock-based compensation\\n8,434\\n6,310\\n3,726\\nOther non-cash items\\n1,032\\n(16\\n)\\n565\\nChanges in operating items:\\nTrade receivables\\n(6,947\\n)\\n(822\\n)\\n70\\nInventories\\n(4,371\\n)\\n(3,536\\n)\\n(12,963\\n)\\nPrepaid and other\\n(726\\n)\\n(2,313\\n)\\n(6,286\\n)\\nAccounts payable and accrued expenses\\n44,359\\n8,846\\n5,249\\nOther assets and other liabilities\\n1,602\\n(150\\n)\\n367\\nNet cash provided by operating activities\\n139,417\\n78,100\\n58,341\\nInvesting activities:\\nCapital expenditures, net of non-cash expenditures\\n(34,703\\n)\\n(32,560\\n)\\n(33,306\\n)\\nAcquisitions, net of cash acquired\\n(20,500\\n)\\n-\\n-\\nWorking capital adjustment related to sale of Fannie May\\n-\\n-\\n(8,500\\n)\\nPurchase of equity investments\\n(1,176\\n)\\n-\\n-\\nNet cash used in investing activities\\n(56,379\\n)\\n(32,560\\n)\\n(41,806\\n)\\nFinancing activities:\\nAcquisition of treasury stock\\n(10,680\\n)\\n(14,766\\n)\\n(12,176\\n)\\nProceeds from exercise of employee stock options\\n285\\n1,236\\n337\\nProceeds from bank borrowings\\n20,000\\n32,250\\n30,000\\nRepayment of notes payable and bank borrowings\\n(25,000\\n)\\n(37,187\\n)\\n(37,188\\n)\\nDebt issuance costs\\n(60\\n)\\n(1,390\\n)\\n-\\nNet cash used in financing activities\\n(15,455\\n)\\n(19,857\\n)\\n(19,027\\n)\\nNet change in cash and cash equivalents\\n67,583\\n25,683\\n(2,492\\n)\\nCash and cash equivalents:\\nBeginning of year\\n172,923\\n147,240\\n149,732\\nEnd of year\\n$\\n240,506\\n$\\n172,923\\n$\\n147,240\\nSupplemental Cash Flow Information:\\n-\\nInterest paid amounted to $3.5 million, $4.7 million, and $4.0 million, for the years ended June 28, 2020, June 30, 2019 and July 1, 2018, respectively.\\n-\\nThe Company paid income taxes of approximately $15.5 million, $8.8 million, and $5.2 million, net of tax refunds received, for the years ended June 28, 2020, June 30, 2019, and July 1, 2018, respectively.\\nSee accompanying Notes to Consolidated Financial Statements.\\nF-6\\nTable of Contents\\n1-800-FLOWERS.COM, Inc. and Subsidiaries\\nNotes to Consolidated Financial Statements\\nNote 1. Description of Business\\n1-800-FLOWERS.COM, Inc. is a leading provider of gifts designed to help customers express, connect and celebrate. The Company’s business platform features our all-star family of brands, including: 1-800-Flowers.com®, 1-800-Baskets.com®, Cheryl’s Cookies®, Harry & David®, PersonalizationMall.com®, Shari’s Berries®, FruitBouquets.com®, Moose Munch®, The Popcorn Factory®, Wolferman’s Bakery® and Simply Chocolate®. We also offer top-quality steaks and chops from Stock Yards®. Through the Celebrations Passport® loyalty program, which provides members with free standard shipping and no service charge across our portfolio of brands, 1-800-FLOWERS.COM, Inc. strives to deepen relationships with customers. The Company also operates BloomNet®, an international floral service provider offering a broad-range of products and services designed to help professional florists grow their businesses profitably; Napco℠, a resource for floral gifts and seasonal décor; and DesignPac Gifts, LLC, a manufacturer of gift baskets and towers.\\nNote 2. Significant Accounting Policies\\nBasis of Presentation\\nThe consolidated financial statements include the accounts of 1-800-FLOWERS.COM, Inc. and its subsidiaries. All significant intercompany accounts and transactions have been eliminated in consolidation. The Company’s net revenues from international sources were not material during fiscal years 2020, 2019 and 2018.\\nFiscal Year\\nThe Company’s fiscal year is a 52- or 53-week period ending on the Sunday nearest to June 30. Fiscal years 2020, 2019, and 2018, which ended on June 28, 2020, June 30, 2019, and July 1, 2018, respectively, consisted of 52 weeks.\\nUse of Estimates\\nThe preparation of financial statements in conformity with U.S. generally accepted accounting principles requires management to make estimates and assumptions that affect the amounts reported in the financial statements and accompanying notes. Actual results could differ from those estimates.\\nCash and Cash Equivalents\\nCash and cash equivalents consist of demand deposits with banks, highly liquid money market funds, United States government securities, overnight repurchase agreements and commercial paper with maturities of three months or less when purchased.\\nInventories\\nInventories are valued at the lower of cost or market using the first-in, first-out method of accounting.\\nProperty, Plant and Equipment\\nProperty, plant and equipment are stated at cost less accumulated depreciation and amortization. Depreciation expense is computed using the straight-line method over the assets’ estimated useful lives. Amortization of leasehold improvements and capital leases is computed using the straight-line method over the shorter of the estimated useful lives and the initial lease terms. The Company capitalizes certain internal and external costs incurred to acquire or develop internal-use software. Capitalized software costs are amortized on a straight-line basis over the estimated useful life of the software. Orchards in production, consisting of direct labor and materials, supervision and other items, are capitalized as part of capital projects in progress – orchards until the orchards produce fruit in commercial quantities, at which time they are reclassified to orchards in production. Estimated useful lives are periodically reviewed, and where appropriate, changes are made prospectively.\\nThe Company’s property, plant and equipment are depreciated using the following estimated lives:\\nBuilding and building improvements (years)\\n10\\n-\\n40\\nLeasehold improvements (years)\\n3\\n-\\n10\\nFurniture, fixtures and production equipment (years)\\n3\\n-\\n10\\nSoftware (years)\\n3\\n-\\n7\\nOrchards in production and land improvements (years)\\n15\\n-\\n35\\nProperty, plant and equipment are reviewed for impairment whenever changes in circumstances or events may indicate that the carrying amounts are not recoverable.\\nF-7\\nTable of Contents\\nGoodwill\\nGoodwill represents the excess of the purchase price over the fair value of the net assets acquired in each business combination, with the carrying value of the Company’s goodwill allocated to its reporting units, in accordance with the acquisition method of accounting. Goodwill is not amortized, but it is subject to an annual assessment for impairment, which the Company performs during the fourth quarter, or more frequently if events occur or circumstances change such that it is more likely than not that an impairment may exist. The Company tests goodwill for impairment at the reporting unit level. The Company identifies its reporting units by assessing whether the components of its operating segments constitute businesses for which discrete financial information is available and management of each reporting unit regularly reviews the operating results of those components.\\nIn applying the goodwill impairment test, the Company has the option to perform a qualitative test (also known as “Step 0”) or a two-step quantitative test (consisting of “Step 1” and “Step 2”). Under the Step 0 test, the Company first assesses qualitative factors to determine whether it is more likely than not that the fair value of the reporting units is less than its carrying value. Qualitative factors may include, but are not limited to, economic conditions, industry and market considerations, cost factors, overall financial performance of the reporting unit and other entity and reporting unit specific events. If after assessing these qualitative factors, the Company determines it is “more-likely-than-not” that the fair value of the reporting unit is less than the carrying value, then performing the two-step quantitative test is necessary.\\nThe first step (“Step 1”) of the two-step quantitative test requires comparison of the fair value of each of the reporting units to the respective carrying value. If the carrying value of the reporting unit is less than the fair value, no impairment exists and the second step (“Step 2”) is not performed. If the carrying value of the reporting unit is higher than the fair value, Step 2 must be performed to compute the amount of the goodwill impairment, if any. In Step 2, the impairment is computed by comparing the implied fair value of the reporting unit goodwill with the carrying amount of that goodwill. If the carrying amount of the reporting unit goodwill exceeds the implied fair value of that goodwill, an impairment loss is recognized for the excess.\\nThe Company generally estimates the fair value of a reporting unit using an equal weighting of the income and market approaches. The Company uses industry accepted valuation models and set criteria that are reviewed and approved by various levels of management and, in certain instances, the Company engages third-party valuation specialists. Under the income approach, the Company uses a discounted cash flow methodology which requires management to make significant estimates and assumptions related to forecasted revenues, gross profit margins, operating income margins, working capital cash flow, perpetual growth rates, and long-term discount rates, among others. For the market approach, the Company uses the guideline public company method. Under this method the Company utilizes information from comparable publicly traded companies with similar operating and investment characteristics as the reporting units, to create valuation multiples that are applied to the operating performance of the reporting unit being tested, in order to obtain their respective fair values. The Company also reconciles the aggregate fair values of its reporting units determined in the first step (as described above) to its current market capitalization, allowing for a reasonable control premium.\\nDuring fiscal years 2020 and 2018, the Company performed a Step 0 analysis and determined that it was not “more likely than not” that the fair values of its reporting units were less than their carrying amounts. During fiscal year 2019, the Company performed a Step 1 analysis, and determined that the estimated fair value of the Company's reporting units significantly exceeded their respective carrying values (including goodwill allocated to each respective reporting unit).  Future changes in the estimates and assumptions above could materially affect the results of our reviews for impairment of goodwill.\\nOther Intangibles, net\\nOther intangibles consist of definite-lived intangible assets (such as investment in licenses, customer lists, and others) and indefinite-lived intangible assets (such as acquired trade names and trademarks). The cost of definite-lived intangible assets is amortized to reflect the pattern of economic benefits consumed, over the estimated periods benefited, ranging from 3 to 16 years, while indefinite-lived intangible assets are not amortized.\\nDefinite-lived intangibles are reviewed for impairment whenever changes in circumstances or events may indicate that the carrying amounts are not recoverable. When such events or changes in circumstances occur, a recoverability test is performed comparing projected undiscounted cash flows from the use and eventual disposition of an asset or asset group to its carrying value. If the projected undiscounted cash flows are less than the carrying value, then an impairment charge would be recorded for the excess of the carrying value over the fair value, which is determined by discounting future cash flows.\\nThe Company tests indefinite-lived intangible assets for impairment at least annually, during the fourth quarter, or whenever changes in circumstances or events may indicate that the carrying amounts are not recoverable. In applying the impairment test, the Company has the option to perform a qualitative test (also known as “Step 0”) or a quantitative test. Under the Step 0 test, the Company assesses qualitative factors to determine whether it is more likely than not that an indefinite-lived intangible asset is impaired. Qualitative factors may include, but are not limited to economic conditions, industry and market considerations, cost factors, financial performance, legal and other entity and asset specific events. If, after assessing these qualitative factors, the Company determines it is “more-likely-than-not” that the indefinite-lived intangible asset is impaired, then performing the quantitative test is necessary. The quantitative impairment test for indefinite-lived intangible assets encompasses calculating a fair value of an indefinite-lived intangible asset and comparing the fair value to its carrying value. If the carrying value exceeds the fair value, impairment is recognized for the difference. To determine fair value of other indefinite-lived intangible assets, the Company uses an income approach, the relief-from-royalty method. This method assumes that, in lieu of ownership, a third party would be willing to pay a royalty in order to obtain the rights to use the comparable asset. Other indefinite-lived intangible assets’ fair values require significant judgments in determining both the assets’ estimated cash flows as well as the appropriate discount and royalty rates applied to those cash flows to determine fair value.\\nDuring fiscal years 2020 and 2018, the Company performed a Step 0 analysis and determined that it was not “more likely than not” that the fair values of the indefinite-lived intangibles were less than their carrying amounts. During fiscal year 2019, the Company performed a quantitative test, which determined that the estimated fair value of the Company's intangibles exceeded their respective carrying value in all material respects. Future changes in the estimates and assumptions above could materially affect the results of our reviews for impairment of intangibles.\\nF-8\\nTable of Contents\\nBusiness Combinations\\nThe Company accounts for business combinations in accordance with ASC Topic 805, which requires, among other things, the acquiring entity in a business combination to recognize the fair value of all the assets acquired and liabilities assumed; the recognition of acquisition-related costs in the consolidated results of operations; the recognition of restructuring costs in the consolidated results of operations for which the acquirer becomes obligated after the acquisition date; and contingent purchase consideration to be recognized at their fair values on the acquisition date with subsequent adjustments recognized in the consolidated results of operations. The fair values assigned to identifiable intangible assets acquired are determined primarily by using an income approach which is based on assumptions and estimates made by management. Significant assumptions utilized in the income approach are based on company specific information and projections which are not observable in the market and are therefore considered Level 3 measurements. The excess of the purchase price over the fair value of the identified assets and liabilities is recorded as goodwill. Operating results of the acquired entity are reflected in the Company’s consolidated financial statements from date of acquisition.\\nDeferred Catalog Costs\\nThe Company capitalizes the costs of producing and distributing its catalogs. Starting in fiscal 2019, with the adoption of ASU No. 2014-09 (see below), these costs are expensed upon mailing, instead of being amortized in direct proportion to actual sales, as was the case in fiscal year 2018. Included within prepaid and other current assets was $3.0 million and $2.8 million at June 28, 2020 and June 30, 2019 respectively, relating to prepaid catalog expenses.\\nInvestments\\nEquity investments without a readily determinable fair value\\nInvestments in non-marketable equity instruments of private companies, where the Company does not possess the ability to exercise significant influence, are accounted for at cost, less impairment (assessed qualitatively at each reporting period), adjusted for observable price changes from orderly transactions for identical or similar investments of the same issuer. These investments are included within “Other assets” in the Company’s consolidated balance sheets. The aggregate carrying amount of the Company’s cost method investments was $2.8 million as of June 28, 2020 and $1.6 million as of June 30, 2019.\\nEquity investments with a readily determinable fair value\\nThe Company also holds certain trading securities associated with its Non-Qualified Deferred Compensation Plan (“NQDC Plan”). These investments are measured using quoted market prices at the reporting date and are included within the “Other assets” line item in the consolidated balance sheets (see\\nNote 10 - Fair Value Measurements\\n).\\nConcentration of Credit Risk\\nFinancial instruments that potentially subject the Company to significant concentrations of credit risk consist principally of cash and cash equivalents and accounts receivable. The Company maintains cash and cash equivalents with high quality financial institutions. Concentration of credit risk with respect to accounts receivable is limited due to the Company's large number of customers and their dispersion throughout the United States, and the fact that a substantial portion of receivables are related to balances owed by major credit card companies. Allowances relating to consumer, corporate and franchise accounts receivable ($5.7 million at June 28, 2020 and $2.8 million at June 30, 2019) have been recorded based upon previous experience and management’s evaluation.\\nRevenue Recognition\\nNet revenue is measured based on the amount of consideration that we expect to receive, reduced by discounts and estimates for credits and returns (calculated based upon previous experience and management’s evaluation). Service and outbound shipping charged to customers are recognized at the time the related merchandise revenues are recognized and are included in net revenues. Inbound and outbound shipping and delivery costs are included in cost of revenues. Net revenues exclude sales and other similar taxes collected from customers.\\nA description of our principal revenue generating activities is as follows:\\n-\\nE-commerce revenues - consumer products sold through our online and telephonic channels. Revenue is recognized when control of the merchandise is transferred to the customer, which generally occurs upon shipment. Payment is typically due prior to the date of shipment.\\n-\\nRetail revenues - consumer products sold through our retail stores. Revenue is recognized when control of the goods is transferred to the customer, at the point of sale, at which time payment is received.\\n-\\nWholesale revenues - products sold to our wholesale customers for subsequent resale. Revenue is recognized when control of the goods is transferred to the customer, in accordance with the terms of the applicable agreement. Payment terms are typically 30 days from the date control over the product is transferred to the customer.\\n-\\nBloomNet Services - membership fees as well as other service offerings to florists. Membership and other subscription-based fees are recognized monthly as earned. Services revenues related to orders sent through the floral network are variable, based on either the number of orders or the value of orders, and are recognized in the period in which the orders are delivered. The contracts within BloomNet Services are typically month-to-month and as a result no consideration allocation is necessary across multiple reporting periods. Payment is typically due less than 30 days from the date the services were performed.\\nDeferred Revenues\\nDeferred revenues are recorded when the Company has received consideration (i.e., advance payment) before satisfying its performance obligations. As such, customer orders are recorded as deferred revenue prior to shipment or rendering of product or services. Deferred revenues primarily relate to e-commerce orders placed, but not shipped, prior to the end of the fiscal period, as well as for monthly subscription programs, including our Fruit of the Month Club and Celebrations Passport program.\\nOur total deferred revenue as of June 30, 2019 was $17.3 million (included in “Accrued expenses” on our consolidated balance sheets), of which, $17.3 million was recognized as revenue during the year ended June 28, 2020. The deferred revenue balance as of June 28, 2020 was $25.9 million.\\nCost of Revenues\\nCost of revenues consists primarily of florist fulfillment costs (fees paid directly to florists), the cost of floral and non-floral merchandise sold from inventory or through third parties, and associated costs, including inbound and outbound shipping charges. Additionally, cost of revenues includes labor and facility costs related to manufacturing and production operations.\\nF-9\\nTable of Contents\\nMarketing and Sales\\nMarketing and sales expense consists primarily of advertising expenses, catalog costs, online portal and search expenses, retail store and fulfillment operations (other than costs included in cost of revenues), and customer service center expenses, as well as the operating expenses of the Company’s departments engaged in marketing, selling and merchandising activities.\\nThe Company expenses all advertising costs, with the exception of catalog costs (see\\nDeferred Catalog Costs\\nabove), at the time the advertisement is first shown. Advertising expense was $171.4 million, $147.8 million and $138.2 million for the years ended June 28, 2020, June 30, 2019 and July 1, 2018, respectively.\\nTechnology and Development\\nTechnology and development expense consists primarily of payroll and operating expenses of the Company’s information technology group, costs associated with its websites, including hosting, content development and maintenance and support costs related to the Company’s order entry, customer service, fulfillment and database systems. Costs associated with the acquisition or development of software for internal use are capitalized if the software is expected to have a useful life beyond one year and amortized over the software’s useful life, typically three to seven years. Costs associated with repair maintenance or the development of website content are expensed as incurred, as the useful lives of such software modifications are less than one year.\\nStock-Based Compensation\\nThe Company records compensation expense associated with restricted stock awards and other forms of equity compensation based upon the fair value of stock-based awards as measured at the grant date. The cost associated with share-based awards that are subject solely to time-based vesting requirements is recognized over the awards’ service period for the entire award on a straight-line basis. The cost associated with performance-based equity awards is recognized for each tranche over the service period, based on an assessment of the likelihood that the applicable performance goals will be achieved.\\nDerivatives and Hedging\\nThe Company does not enter into derivative transactions for trading purposes, but rather, on occasion to manage its exposure to interest rate fluctuations. When entering into these transactions, the Company has periodically managed its floating rate debt using interest rate swaps in order to reduce its exposure to the impact of changing interest rates on its consolidated results of operations and future cash outflows for interest. The Company did not have any open derivative positions at June 28, 2020 and June 30, 2019.\\nIncome Taxes\\nThe Company uses the asset and liability method to account for income taxes. The Company has established deferred tax assets and liabilities for temporary differences between the financial reporting bases and the income tax bases of its assets and liabilities at enacted tax rates expected to be in effect when such assets or liabilities are realized or settled. The Company recognizes as a deferred tax asset, the tax benefits associated with losses related to operations. Realization of these deferred tax assets assumes that we will be able to generate sufficient future taxable income so that these assets will be realized. The factors that the Company considers in assessing the likelihood of realization include the forecast of future taxable income and available tax planning strategies that could be implemented to realize the deferred tax assets.\\nThe Company recognizes the tax benefit from an uncertain tax position only if it is more likely than not that the tax position will be sustained on examination by the taxing authorities based on the technical merits of the position. The tax benefits recognized in the financial statements on a particular tax position are measured based on the largest benefit that has a greater than 50% likelihood of being realized upon settlement. The amount of unrecognized tax benefits (“UTBs”) is adjusted as appropriate for changes in facts and circumstances, such as significant amendments to existing tax law, new regulations or interpretations by the taxing authorities, new information obtained during a tax examination, or resolution of an examination. We recognize both accrued interest and penalties, where appropriate, related to UTBs in income tax expense. Assumptions, judgment and the use of estimates are required in determining if the “more likely than not” standard has been met when developing the provision for income taxes.\\nNet Income Per Share\\nBasic net income per common share is computed using the weighted-average number of common shares outstanding during the period. Diluted net income per share is computed using the weighted-average number of common and dilutive common equivalent shares (consisting primarily of employee stock options and unvested restricted stock awards) outstanding during the period\\n.\\nRecently Issued Accounting Pronouncements - Adopted\\nIn February 2016, the FASB issued ASU No. 2016-02, “Leases (Topic 842)” (“ASC 842”). Under this guidance, an entity is required to recognize right-of-use assets and lease liabilities on its balance sheet and disclose key information about leasing arrangements. This guidance offers specific accounting guidance for a lessee, a lessor and sale and leaseback transactions. Lessees and lessors are required to disclose qualitative and quantitative information about leasing arrangements to enable a user of the financial statements to assess the amount, timing and uncertainty of cash flows arising from leases. We adopted the new standard effective July 1, 2019 and elected the optional transition method and therefore, we will not apply the standard to the comparative periods presented in our financial statements. The new standard provides a number of optional practical expedients in transition. We elected the ‘package of practical expedients’, that did not require us to reassess, under the new standard, our prior conclusions about lease identification, lease classification and initial direct costs. Further, we elected a short-term lease exception policy, permitting us to not apply the recognition requirements of this standard to short-term leases (i.e. leases with terms of 12 months or less) and an accounting policy to account for lease and non-lease components as a single component for certain classes of assets. The adoption of the new standard had a material impact to the Company’s Consolidated Balance Sheets, but no impact to the Consolidated Statements of Income (Operations) or Consolidated Statements of Cash Flows. As such, we recorded operating lease liabilities of $80.7 million, based on the present value of the remaining minimum rental payments using discount rates as of the effective date, and a corresponding right-of-use assets of $78.7 million based on the operating lease liabilities adjusted for deferred rent and lease incentives received. See\\nNote 16 - Leases\\nfor further information about our transition to ASC 842 and the newly required disclosures.\\nRecently Issued Accounting Pronouncements – Not Yet Adopted\\nFinancial Instruments – Measurement of Credit Losses.\\nIn June 2016, the FASB issued ASU No. 2016-13, “Financial Instruments-Credit Losses (Topic 326): Measurement of Credit Losses on Financial Instruments.” ASU 2016-13 introduces a new forward-looking “expected loss” approach, to estimate credit losses on most financial assets and certain other instruments, including trade receivables. The estimate of expected credit losses will require entities to incorporate considerations of historical information, current information and reasonable and supportable forecasts. This ASU also expands the disclosure requirements to enable users of financial statements to understand the entity’s assumptions, models and methods for estimating expected credit losses. ASU 2016-13 is effective for the Company’s fiscal year ending June 27, 2021, and the guidance is to be applied using the modified-retrospective approach. The Company is currently evaluating the potential impact of adopting this guidance on our consolidated financial statements.\\nF-10\\nTable of Contents\\nGoodwill – Impairment Test\\n. In January 2017, the FASB issued ASU No. 2017-04, \"Intangibles - Goodwill and Other (Topic 350): Simplifying the Test for Goodwill Impairment,\" which eliminates Step 2 from the goodwill impairment test. Under ASU 2017-04, an entity should recognize an impairment charge for the amount by which the carrying amount of a reporting unit exceeds its fair value up to the amount of goodwill allocated to that reporting unit. This guidance is effective for the Company’s fiscal year ending June 27, 2021, with early adoption permitted, and should be applied prospectively. We do not expect the standard to have a material impact on our consolidated financial statements.\\nCOVID-19\\nOn March 27, 2020, the Coronavirus Aid, Relief, and Economic Security (“CARES”) Act was signed into law. The CARES Act provides a substantial stimulus and assistance package intended to address the impact of the pandemic of the novel strain of coronavirus (“COVID-19”), including tax relief and government loans, grants and investments. The CARES Act did not have a material impact on the Company’s consolidated financial statements during the fiscal year ended June 28, 2020.\\nThe Company is closely monitoring the impact of COVID-19 on its business, including how it will affect its customers, workforce, suppliers, vendors, franchisees, florists, and production and distribution channels, as well as its financial statements. The extent to which COVID-19 impacts the Company’s business and financial results will depend on numerous evolving factors, including, but not limited to: the magnitude and duration of COVID-19, the extent to which it will impact macroeconomic conditions, including interest rates, employment rates and consumer confidence, the speed of the anticipated recovery, and governmental, business and individual consumer reactions to the pandemic. The Company assessed certain accounting matters that generally require consideration of forecasted financial information in context with the information reasonably available to the Company and the unknown future impacts of COVID-19 as of June 28, 2020 and through the date of this report. The accounting matters assessed included, but were not limited to, the Company’s allowance for doubtful accounts and credit losses, inventory and related reserves and the carrying value of goodwill and other long-lived assets. While there was not a material impact to the Company’s consolidated financial statements as of and for the year ended June 28, 2020, the Company’s future assessment of these factors and the evolving factors described above, could result in material impacts to the Company’s consolidated financial statements in future reporting periods.\\nReclassifications\\nCertain balances in the prior fiscal years have been reclassified to conform to the presentation in the current fiscal year.\\nNote 3 – Net Income Per Common Share\\nThe following table sets forth the computation of basic and diluted net income:\\nYears Ended\\nJune 28, 2020\\nJu\\nne\\n30\\n, 201\\n9\\nJuly\\n1\\n, 201\\n8\\n(in thousands, except per share data)\\nNumerator:\\nNet income\\n$\\n58,998\\n$\\n34,766\\n$\\n40,791\\nDenominator:\\nWeighted average shares outstanding\\n64,463\\n64,342\\n64,666\\nEffect of dilutive securities:\\nEmployee stock options\\n1,042\\n1,404\\n1,580\\nEmployee restricted stock awards\\n903\\n711\\n692\\nTotal effect of dilutive securities\\n1,945\\n2,115\\n2,272\\nAdjusted weighted-average shares and assumed conversions\\n66,408\\n66,457\\n66,938\\nNet income per common share\\n:\\nBasic\\n$\\n0.92\\n$\\n0.54\\n$\\n0.63\\nDiluted\\n$\\n0.89\\n$\\n0.52\\n$\\n0.61\\nF-11\\nTable of Contents\\nNote 4.\\nAcquisition\\nAcquisition of Shari’s Berries\\nOn August 14, 2019, the Company completed its acquisition of the Shari’s Berries business (\"Shari's Berries\"), a leading provider of dipped berries and other specialty treats, through a bankruptcy proceeding of certain assets of the gourmet food business of the FTD Companies, Inc. The transaction, for a purchase price of $20.5 million, included the Shari’s Berries domain names, copyrights, trademarks, customer data, phone numbers and other intellectual property, as well as certain raw material inventory and the assumption of specified liabilities.\\nDuring the quarter ended June 28, 2020, the Company finalized the allocation of the purchase price to the identifiable assets acquired and liabilities assumed based on its estimates of their fair values on the acquisition date. There were no measurement period adjustments made between the preliminary purchase price allocation and final purchase price allocation. Of the acquired intangible assets, $0.6 million was assigned to customer lists, which is being amortized over the estimated remaining life of 2 years, $6.9 million was assigned to tradenames, and $12.1 million was assigned to goodwill, which is expected to be deductible for tax purposes. The goodwill recognized in conjunction with our acquisition of Shari’s Berries is primarily related to synergistic value created in terms of both operating costs and revenue growth opportunities, enhanced financial and operational scale, and other strategic benefits.\\nThe following table summarizes the preliminary and final allocation of the purchase price to the estimated fair values of assets acquired and liabilities assumed at the date of the acquisition:\\nShari’s Berries Preliminary\\n&\\nFinal\\nPurchase Price\\nAllocation\\n(in thousands)\\nCurrent assets\\n$\\n1,029\\nIntangible assets\\n7,540\\nGoodwill\\n12,121\\nTotal assets acquired\\n20,690\\nCurrent liabilities\\n190\\nNet assets acquired\\n$\\n20,500\\nRaw materials inventory was valued at book value, as there have not been any significant price fluctuations or other events that would materially change the cost to replace the raw materials.\\nThe estimated fair value of the acquired tradenames was determined using the relief from royalty method, which is a risk-adjusted discounted cash flow approach. The relief from royalty method values an intangible asset by estimating the royalties saved through ownership of the asset. The relief from royalty method requires identifying the future revenue that would be generated by the trademark, multiplying it by a royalty rate deemed to be avoided through ownership of the asset and discounting the projected royalty savings amounts back to the acquisition date. The royalty rate used in the valuation was based on a consideration of market rates for similar categories of assets. The discount rate used in the valuation was based on the Company’s weighted average cost of capital, the riskiness of the earnings stream associated with the trademarks and the overall composition of the acquired assets.\\nThe estimated fair value of the acquired customer lists was determined using the excess earnings method under the income approach. This method requires identifying the future revenue that would be generated by existing customers at the time of the acquisition, considering an appropriate attrition rate based on the historical experience of the Company. Appropriate expenses are then deducted from the revenues and economic rents are charged for the return on contributory assets. The after-tax cash flows attributable to the asset are discounted back to their net present value at an appropriate intangible asset rate of return and summed to calculate the value of the customer lists.\\nOperating results of the Shari’s Berries brand are reflected in the Company’s consolidated financial statements from the date of acquisition, within the Gourmet Foods & Gift Baskets segment. Pro forma results of operations have not been presented, as the impact on the Company’s consolidated financial results would not have been material.\\nNote 5. Inventory\\nThe Company’s inventory, stated at cost, which is not in excess of market, includes purchased and manufactured finished goods for sale, packaging supplies, crops, raw material ingredients for manufactured products and associated manufacturing labor and is classified as follows:\\nJune 28, 2020\\nJu\\nne 30\\n, 201\\n9\\n(in thousands)\\nFinished goods\\n$\\n35,779\\n$\\n36,820\\nWork-in-process\\n16,536\\n17,535\\nRaw materials\\n45,445\\n38,006\\nTotal inventory\\n$\\n97,760\\n$\\n92,361\\nF-12\\nTable of Contents\\nNote 6. Goodwill and Intangible Assets\\nThe following table presents goodwill by segment and the related change in the net carrying amount:\\nConsumer\\nFloral\\nBloomNet\\nGourmet\\nFoods &\\nGift\\nBaskets\\nTotal\\n(in thousands)\\nBalance at July 1, 2018\\n$\\n17,441\\n$\\n-\\n$\\n45,149\\n$\\n62,590\\nBalance at June 30, 2019\\n$\\n17,441\\n$\\n-\\n$\\n45,149\\n$\\n62,590\\nAcquisition of Shari’s Berries\\n$\\n-\\n$\\n-\\n$\\n12,121\\n$\\n12,121\\nBalance at June 28, 2020\\n$\\n17,441\\n$\\n-\\n$\\n57,270\\n$\\n74,711\\nThere were no goodwill impairment charges in any segment during the years ended June 28, 2020, June 30, 2019 and July 1, 2018.\\nThe Company’s other intangible assets consist of the following:\\nJune 28, 2020\\nJu\\nne\\n30\\n, 201\\n9\\nAmortization\\nPeriod\\nGross\\nCarrying\\nAmount\\nAccumulated Amortization\\nNet\\nGross\\nCarrying\\nAmount\\nAccumulated Amortization\\nNet\\n(in years)\\n(in thousands)\\nIntangible assets with determinable lives\\nInvestment in licenses\\n14\\n-\\n16\\n$\\n7,420\\n$\\n6,253\\n$\\n1,167\\n$\\n7,420\\n$\\n6,148\\n$\\n1,272\\nCustomer lists\\n3\\n-\\n10\\n12,825\\n10,474\\n2,351\\n12,184\\n9,798\\n2,386\\nOther\\n5\\n-\\n14\\n2,946\\n2,382\\n564\\n2,946\\n2,280\\n666\\nTotal intangible assets with determinable lives\\n23,191\\n19,109\\n4,082\\n22,550\\n18,226\\n4,324\\nTrademarks with indefinite lives\\n62,191\\n-\\n62,191\\n55,291\\n-\\n55,291\\nTotal identifiable intangible assets\\n$\\n85,382\\n$\\n19,109\\n$\\n66,273\\n$\\n77,841\\n$\\n18,226\\n$\\n59,615\\nIntangible assets with determinable lives are reviewed for impairment whenever events or changes in circumstances indicate that the carrying amount of an asset or asset group may not be recoverable. No material impairments were recognized for the years ended June 28, 2020, June 30, 2019 and July 1, 2018, respectively.\\nThe amortization of intangible assets for the years ended June 28, 2020, June 30, 2019 and July 1, 2018 was $0.9 million, $0.7 million and $1.4 million, respectively. Future estimated amortization expense is as follows: 2021 - $0.9 million, 2022 - $0.6 million, 2023 - $0.5 million, 2024 - $0.5 million, 2025 - $0.5 million and thereafter - $1.1 million.\\nNote 7. Property, Plant and Equipment\\nJune 28, 2020\\nJu\\nne\\n30\\n, 201\\n9\\n(in thousands)\\nLand\\n$\\n30,789\\n$\\n30,789\\nOrchards in production and land improvements\\n17,139\\n11,339\\nBuilding and building improvements\\n61,159\\n59,236\\nLeasehold improvements\\n13,675\\n13,861\\nProduction equipment and furniture and fixtures\\n65,348\\n61,415\\nComputer and telecommunication equipment\\n55,381\\n53,694\\nSoftware\\n151,264\\n132,078\\nCapital projects in progress - orchards\\n8,130\\n9,902\\nProperty, plant and equipment, gross\\n402,885\\n372,314\\nAccumulated depreciation and amortization\\n(233,810\\n)\\n(205,633\\n)\\nProperty, plant and equipment, net\\n$\\n169,075\\n$\\n166,681\\nDepreciation expense for the years ended June 28, 2020, June 30, 2019 and July 1, 2018 was $31.6 million, $29.3 million, and $31.1 million, respectively.\\nF-13\\nTable of Contents\\nNote 8. Accrued Expenses\\nAccrued expenses consisted of the following:\\nJune 28, 2020\\nJu\\nne\\n30\\n, 201\\n9\\n(in thousands)\\nPayroll and employee benefits\\n$\\n41,931\\n$\\n28,585\\nDeferred revenue\\n25,867\\n17,305\\nAccrued marketing expenses\\n14,680\\n14,423\\nAccrued florist payout\\n16,755\\n8,038\\nOther\\n42,508\\n28,442\\nAccrued Expenses\\n$\\n141,741\\n$\\n96,793\\nNote 9. Long-Term Debt\\nThe Company’s current and long-term debt consists of the following:\\nJune 28, 2020\\nJu\\nne 30\\n, 201\\n9\\n(in thousands)\\nRevolver (1), (2)\\n$\\n-\\n$\\n-\\nTerm Loan (1), (2)\\n95,000\\n100,000\\nDeferred financing costs\\n(2,441\\n)\\n(3,027\\n)\\nTotal debt\\n92,559\\n96,973\\nLess: current debt\\n5,000\\n5,000\\nLong-term debt\\n$\\n87,559\\n$\\n91,973\\n(1)\\nOn May 31, 2019, the Company and certain of its U.S. subsidiaries (collectively, the “Subsidiary Guarantors”) entered into a Second Amended and Restated Credit Agreement (the “2019 Credit Agreement”) with JPMorgan Chase Bank, N.A. as administrative agent, and a group of lenders. The 2019 Credit Agreement amended and restated the Company’s existing amended and restated credit agreement dated as of December 23, 2016 to, among other modifications: (i) increase the amount of the outstanding term loan (“Term Loan”) from approximately $97 million to $100 million, (ii) extend the maturity date of the outstanding Term Loan and the revolving credit facility (“Revolver”) by approximately 29 months to May 31, 2024, and (iii) decrease the applicable interest rate margins for LIBOR and base rate loans by 25 basis points. The Term Loan is payable in 19 quarterly installments of principal and interest beginning on September 29, 2019, with escalating principal payments, at the rate of 5.0% per annum for the first eight payments, and 10.0% per annum for the remaining 11 payments, with the remaining balance of $62.5 million due upon maturity. The Revolver, in the aggregate amount of $200 million, subject to seasonal reduction to an aggregate amount of $100 million for the period from January 1 through August 1, may be used for working capital and general corporate purposes, subject to certain restrictions.\\nFor each borrowing under the 2019 Credit Agreement, the Company may elect that such borrowing bear interest at an annual rate equal to either: (1) a base rate plus the applicable margin for the relevant class of borrowing, which such margins vary based on the Company’s consolidated leverage ratio, where the base rate is the highest of: (a) the prime rate, (b) the New York fed bank rate plus 0.5%, and (c) a LIBOR rate plus 1% (such rate, the “Base Rate”) or (2) an adjusted LIBOR rate plus the applicable margin for the relevant class of borrowing, which such margins vary based on the Company’s consolidated leverage ratio. The 2019 Credit Agreement requires that while any borrowings or commitments are outstanding the Company comply with certain financial covenants and affirmative covenants as well as certain negative covenants that, subject to certain exceptions, limit the Company’s ability to, among other things, incur additional indebtedness, make certain investments and make certain restricted payments. The Company was in compliance with these covenants as of June 28, 2020. The 2019 Credit Agreement is secured by substantially all of the assets of the Company and the Subsidiary Guarantors.\\nFuture principal payments under the Term Loan are as follows: $5.0 million – fiscal 2021, $10.0 million - fiscal 2022, $10.0 million – fiscal 2023, and $70.0 million – fiscal 2024\\n(2)\\nThe 2019 Credit Agreement was amended subsequent to year end – see\\nNote 18. – Subsequent Events\\nfor details.\\nNote 10. Fair Value Measurements\\nCash and cash equivalents, trade and other receivables, prepaids, accounts payable and accrued expenses are reflected in the consolidated balance sheets at carrying value, which approximates fair value due to the short-term nature of these instruments. Although no trading market exists, the Company believes that the carrying amount of its debt approximates fair value due to its variable nature. The Company’s investments in non-marketable equity instruments of private companies are carried at cost and are periodically assessed for other-than-temporary impairment, when an event or circumstances indicate that an other-than-temporary decline in value may have occurred. The Company’s remaining financial assets and liabilities are measured and recorded at fair value (see table below). The Company’s non-financial assets, such as definite lived intangible assets and property, plant and equipment, are recorded at cost and are assessed for impairment when an event or circumstance indicates that an other-than-temporary decline in value may have occurred. Goodwill and indefinite lived intangibles are tested for impairment annually, or more frequently, if events occur or circumstances change such that it is more likely than not that an impairment may exist, as required under the accounting standards.\\nF-14\\nTable of Contents\\nFair value is defined as the price that would be received to sell an asset or paid to transfer a liability, in the principal or most advantageous market for the asset or liability, in an orderly transaction between market participants at the measurement date. The authoritative guidance for fair value measurements establishes a fair value hierarchy that prioritizes the inputs to valuation techniques used to measure fair value. The hierarchy gives the highest priority to unadjusted quoted prices in active markets for identical assets or liabilities (level 1 measurements) and the lowest priority to unobservable inputs (level 3 measurements). The three levels of the fair value hierarchy under the guidance are described below:\\nLevel 1\\nValuations based on quoted prices in active markets for identical assets or liabilities that the entity has the ability to access.\\nLevel 2\\nValuations based on quoted prices for similar assets or liabilities, quoted prices in markets that are not active, or other inputs that are observable or can be corroborated by observable data for substantially the full term of the assets or liabilities.\\nLevel 3\\nValuations based on inputs that are supported by little or no market activity and that are significant to the fair value of the assets or liabilities.\\nThe following table presents by level, within the fair value hierarchy, financial assets and liabilities measured at fair value on a recurring basis:\\nCarrying\\nValue\\nFair Value Measurements\\nAssets (Liabilities)\\nLevel 1\\nLevel 2\\nLevel 3\\n(in thousands)\\nAssets (liabilities) as of\\nJune 28, 2020\\n:\\nTrading securities held in a “rabbi trust” (1)\\n$\\n13,442\\n$\\n13,442\\n$\\n-\\n$\\n-\\n$\\n13,442\\n$\\n13,442\\n$\\n-\\n$\\n-\\nAssets (liabilities) as of Ju\\nne\\n30\\n, 201\\n9\\n:\\nTrading securities held in a “rabbi trust” (1)\\n$\\n11,816\\n$\\n11,816\\n$\\n-\\n$\\n-\\n$\\n11,816\\n$\\n11,816\\n$\\n-\\n$\\n-\\n(1)\\nThe Company has established a Non-qualified Deferred Compensation Plan (the “NQDC Plan”) for certain members of senior management. Deferred compensation plan assets are invested in mutual funds held in a “rabbi trust,” which is restricted for payment to participants of the NQDC Plan. Trading securities held in the rabbi trust are measured using quoted market prices at the reporting date and are included in the “Other assets” line item, with the corresponding liability included in the “Other liabilities” line item in the consolidated balance sheets.\\nNote 11. Income Taxes\\nSignificant components of the income tax provision are as follows:\\nYears ended\\nJune 28, 2020\\nJune 30, 2019\\nJuly 1, 2018\\n(in thousands)\\nCurrent provision:\\nFederal\\n$\\n14,727\\n$\\n2,809\\n$\\n3,385\\nState\\n4,383\\n2,710\\n1,514\\nForeign\\n-\\n-\\n-\\nCurrent income tax expense\\n19,110\\n5,519\\n4,899\\nDeferred provision (benefit):\\nFederal\\n(62\\n)\\n3,138\\n(9,331\\n)\\nState\\n(204\\n)\\n(427\\n)\\n1,648\\nForeign\\n-\\n(13\\n)\\n15\\nDeferred income tax expense (benefit)\\n(266\\n)\\n2,698\\n(7,668\\n)\\nIncome tax expense (benefit)\\n$\\n18,844\\n$\\n8,217\\n$\\n(2,769\\n)\\nF-15\\nTable of Contents\\nA reconciliation of the U.S. federal statutory tax rate to the Company’s effective tax rate is as follows:\\nYears ended\\nJune 28, 2020\\nJune 30, 2019\\nJuly 1, 2018\\nTax at U.S. statutory rates\\n21.0\\n%\\n21.0\\n%\\n28.0\\n%\\nState income taxes, net of federal tax benefit\\n4.5\\n4.4\\n5.7\\nValuation allowance change\\n(0.3\\n)\\n(0.3\\n)\\n2.6\\nNon-deductible compensation\\n1.1\\n0.7\\n-\\nExcess tax benefit from stock-based compensation\\n(1.0\\n)\\n(4.4\\n)\\n(1.6\\n)\\nDomestic production deduction\\n-\\n-\\n(2.0\\n)\\nTax credits\\n(1.1\\n)\\n(1.8\\n)\\n(2.5\\n)\\nTax Act impact on deferred tax balance (1)\\n-\\n-\\n(32.0\\n)\\nReturn to provision\\n(0.3\\n)\\n(1.0\\n)\\n(5.8\\n)\\nOther, net\\n0.3\\n0.5\\n0.3\\nEffective tax rate\\n24.2\\n%\\n19.1\\n%\\n(7.3\\n)%\\n(1)\\nOn December 22, 2017, the U.S. government enacted comprehensive tax legislation pursuant to the Tax Cuts and Jobs Act (the “Tax Act”), which significantly revised the ongoing U.S. corporate income tax law by lowering the U.S. federal corporate income tax rate from 35% to 21%. Due to the Company’s fiscal year end, the lower income tax rate was phased in, resulting in a U.S. statutory federal rate of approximately 28% for the Company’s fiscal year ended July 1, 2018, and 21% for the fiscal years ended June 30, 2019 and June 28, 2020. As a result of the Tax Act, the Company recorded a deferred tax benefit of $12.2 million during the fiscal year ended July 1, 2018, related to the change in deferred tax liabilities.\\nShortly after the Tax Act was enacted, the SEC Staff issued Staff Accounting Bulletin 118, “Income Tax Implications of the Tax Cuts and Jobs Act” (“SAB 118”), which provided guidance on accounting for the Tax Act’s impact. SAB 118 provided a measurement period during which a company acting in good faith may complete the accounting for the impacts of the Tax Act. We completed the assessment of the income tax effects of the Tax Act in the second quarter of fiscal 2019, with no adjustments recorded to the provisional amounts.\\nDeferred income taxes reflect the net tax effects of temporary differences between the carrying amounts of assets and liabilities for financial reporting purposes and the amounts used for income tax purposes. The significant components of the Company's deferred income tax assets (liabilities) are as follows:\\nYears ended\\nJune 28, 2020\\nJune 30, 2019\\n(in thousands)\\nDeferred income tax assets:\\nLoss and credit carryforwards\\n$\\n10,530\\n$\\n10,955\\nAccrued expenses and reserves\\n4,676\\n3,866\\nStock-based compensation\\n2,190\\n1,798\\nDeferred compensation\\n2,455\\n2,150\\nOperating lease liability\\n17,551\\n-\\nGross deferred income tax assets\\n37,402\\n18,769\\nLess: Valuation allowance\\n(9,681\\n)\\n(9,872\\n)\\nDeferred tax assets, net\\n27,721\\n8,897\\nDeferred income tax liabilities:\\nOther intangibles\\n(15,337\\n)\\n(14,664\\n)\\nTax in excess of book depreciation\\n(24,336\\n)\\n(23,131\\n)\\nOperating lease right-of-use asset\\n(16,680\\n)\\nDeferred tax liabilities\\n(56,353\\n)\\n(37,795\\n)\\nNet deferred income tax liabilities\\n$\\n(28,632\\n)\\n$\\n(28,898\\n)\\nA valuation allowance is provided when it is more likely than not that some portion, or all, of the deferred tax assets will not be realized. The Company has established valuation allowances, primarily for certain state and all foreign net operating losses as well as federal and state capital loss carryforwards. The Company does not expect to utilize the federal and state capital loss carryforward prior to expiration and has therefore provided for a full valuation allowance. At June 28, 2020, the Company’s total federal and state capital loss carryforwards were $26.9 million, which if not utilized, will expire in fiscal 2022. The Company’s foreign net operating loss carryforwards were $3.9 million, which if not utilized, will begin to expire in fiscal 2034.\\nThe Company files income tax returns in the U.S. federal jurisdiction, various state jurisdictions, and various foreign countries. The Company is currently undergoing its U.S. federal examination for fiscal 2017, however, fiscal 2018 and fiscal 2019 remain subject to U.S. federal examination. Due to ongoing state examinations and nonconformity with the U.S. federal statute of limitations for assessment, certain states remain open from fiscal 2016. The Company's foreign income tax filings from fiscal 2015 forward are open for examination by its respective foreign tax authorities, mainly Canada, Brazil, and the United Kingdom.\\nThe Company’s policy is to recognize interest and penalties accrued on any unrecognized tax benefits as a component of income tax expense. At June 28, 2020, the Company has an unrecognized tax benefit, including accrued interest and penalties, of approximately $1.4 million. The Company believes that $1.0 million of the unrecognized tax positions will be resolved over the next twelve months.\\nF-16\\nTable of Contents\\nNote 12. Capital Stock\\nHolders of Class A common stock generally have the same rights as the holders of Class B common stock, except that holders of Class A common stock have one vote per share and holders of Class B common stock have 10 votes per share on all matters submitted to the vote of stockholders. Holders of Class A common stock and Class B common stock generally vote together as a single class on all matters presented to the stockholders for their vote or approval, except as may be required by Delaware law. Class B common stock may be converted into Class A common stock at any time on a one-for-one share basis. Each share of Class B common stock will automatically convert into one share of Class A common stock upon its transfer, with limited exceptions. During fiscal 2018, 78,780 shares of Class B common stock were converted into shares of Class A common stock, while none were converted during fiscal 2019 and 2020.\\nThe Company has a stock repurchase plan through which purchases can be made from time to time in the open market and through privately negotiated transactions, subject to general market conditions. The repurchase program is financed utilizing available cash. In August 2017, the Company’s Board of Directors authorized an increase to its stock repurchase plan of up to $30.0 million, and on June 27, 2019, increased it once more to $30.0 million. The Company repurchased a total of $10.7 million (754,458 shares), $14.8 million (1,230,303 shares), and $12.2 million (1,269,059 shares) during the fiscal years ended June 28, 2020, June 30, 2019 and July 1, 2018, respectively, under this program. As of June 28, 2020, $19.3 million remains authorized under the plan.\\nThe Company has stock options and restricted stock awards outstanding to participants under the 1-800-FLOWERS.COM 2003 Long Term Incentive and Share Award Plan (as amended and restated as of October 22, 2009, as amended as of October 28, 2011 and September 14, 2016) (the “Plan”). The Plan is a broad-based, long-term incentive program that is intended to provide incentives to attract, retain and motivate employees, consultants and directors in order to achieve the Company’s long-term growth and profitability objectives. The Plan provides for the grant to eligible employees, consultants and directors of stock options, share appreciation rights (“SARs”), restricted shares, restricted share units, performance shares, performance units, dividend equivalents, and other share-based awards (collectively “Awards”).\\nNote 13. Stock Based Compensation\\nThe Plan is administered by the Compensation Committee or such other Board committee (or the entire Board) as may be designated by the Board. At June 28, 2020, the Company has reserved approximately 4.5 million shares of Class A common stock for issuance, including options previously authorized for issuance under the 1999 Stock Incentive Plan.\\nThe amounts of stock-based compensation expense recognized within operating income (1) in the periods presented are as follows:\\nYears Ended\\nJune 28, 2020\\nJu\\nne\\n30\\n, 201\\n9\\nJuly\\n1\\n, 201\\n8\\n(in thousands)\\nStock options\\n$\\n104\\n$\\n315\\n$\\n429\\nRestricted stock awards\\n8,330\\n5,995\\n3,297\\nTotal\\n8,434\\n6,310\\n3,726\\nDeferred income tax benefit\\n2,084\\n1,578\\n961\\nStock-based compensation expense, net\\n$\\n6,350\\n$\\n4,732\\n$\\n2,765\\nStock based compensation expense is recorded within the following line items of operating expenses:\\nYears Ended\\nJune 28, 2020\\nJu\\nne\\n30\\n, 201\\n9\\nJuly\\n1\\n, 201\\n8\\n(in thousands)\\nMarketing and sales\\n$\\n3,999\\n$\\n2,725\\n$\\n989\\nTechnology and development\\n649\\n411\\n198\\nGeneral and administrative\\n3,786\\n3,174\\n2,539\\nTotal\\n$\\n8,434\\n$\\n6,310\\n$\\n3,726\\n(1)\\nStock-based compensation expense has not been allocated between business segments, but is reflected as part of Corporate overhead. (See\\nNote 15\\n.\\nfor details).\\nF-17\\nTable of Contents\\nStock Options\\nThe weighted average fair value of stock options on the date of grant, and the assumptions used to estimate the fair value of the stock options using the Black-Scholes option valuation model, were as follows:\\nYears ended\\nJu\\nne 28\\n,\\n20\\n20\\nJune\\n30\\n,\\n201\\n9\\n(1)\\nJu\\nly 1\\n,\\n201\\n8\\n(1)\\nWeighted average fair value of options granted\\n$\\n10.11\\nn/a\\nn/a\\nExpected volatility\\n60\\n%\\nn/a\\nn/a\\nExpected life (in years)\\n8.0\\nn/a\\nn/a\\nRisk-free interest rate\\nn/a\\nn/a\\nn/a\\nExpected dividend yield\\n0.0\\n%\\nn/a\\nn/a\\n(1) No options were granted during the fiscal years ended June 30, 2019 or July 1, 2018.\\nThe expected volatility of the option is determined using historical volatilities based on historical stock prices. The Company estimated the expected life of options granted based upon the historical weighted average. The risk-free interest rate is determined using the yield available for zero-coupon U.S. government issues with a remaining term equal to the expected life of the option. The Company has never paid a dividend, and as such the dividend yield is 0.0%.\\nThe following table summarizes stock option activity during the year ended June 28, 2020:\\nOptions\\nWeighted\\nAverage\\nExercise\\nPrice\\nWeighted\\nAverage\\nRemaining\\nContractual\\nTerm\\nAggregate\\nIntrinsic\\nValue\\n(in years)\\n(in thousands)\\nOutstanding beginning of period\\n1,365,000\\n$\\n2.48\\nGranted\\n15,000\\n$\\n20.72\\nExercised\\n(150,000\\n)\\n$\\n1.90\\nForfeited/Expired\\n-\\n$\\n-\\nOutstanding end of period\\n1,230,000\\n$\\n2.77\\n1.3\\n$\\n21,043\\nExercisable at June 28, 2020\\n1,215,000\\n$\\n2.55\\n1.3\\n$\\n21,043\\nThe aggregate intrinsic value in the table above represents the total pre-tax intrinsic value (the difference between the Company’s closing stock price on the last trading day of fiscal 2020 and the exercise price, multiplied by the number of in-the-money options) that would have been received by the option holders had all option holders exercised their options on June 28, 2020. This amount changes based on the fair market value of the Company’s stock. The total intrinsic value of options exercised for the years ended June 28, 2020, June 30, 2019 and July 1, 2018 was $2.3 million, $7.8 million, and $1.1 million, respectively.\\nF-18\\nThe following table summarizes information about stock options outstanding at June 28, 2020:\\nOptions Outstanding\\nOptions Exercisable\\nExercise Price\\nOptions\\nOutstanding\\nWeighted-\\nAverage\\nRemaining\\nContractual Life\\nWeighted-\\nAverage\\nExercise\\nPrice\\nOptions\\nExercisable\\nWeighted-\\nAverage\\nExercise\\nPrice\\n(in years)\\n$\\n1.79\\n205,000\\n0.3\\n$\\n1.79\\n205,000\\n$\\n1.79\\n$\\n2.63\\n1,000,000\\n1.4\\n$\\n2.63\\n1,000,000\\n$\\n2.63\\n$\\n10.20\\n10,000\\n4.8\\n$\\n10.20\\n10,000\\n$\\n10.20\\n$\\n20.72\\n15,000\\n9.9\\n$\\n20.72\\n-\\n$\\n-\\n1,230,000\\n1.3\\n$\\n2.77\\n1,215,000\\n$\\n2.55\\nAs of June 28, 2020, the total future compensation cost related to non-vested options not yet recognized in the statement of operations was $0.1 million and the weighted average period over which these awards are expected to be recognized was 4.4 years.\\nRestricted Stock\\nThe Company grants shares of Common Stock to its employees that are subject to restrictions on transfer and risk of forfeiture until fulfillment of applicable service conditions and, in certain cases, holding periods (Restricted Stock).\\nThe following table summarizes the activity of non-vested restricted stock during the year ended June 28, 2020:\\nShares\\nWeighted\\nAverage\\nGrant Date\\nFair Value\\nNon-vested – beginning of period\\n1,438,592\\n$\\n10.81\\nGranted\\n759,554\\n$\\n13.32\\nVested\\n(470,350\\n)\\n$\\n10.40\\nForfeited\\n(119,328\\n)\\n$\\n12.15\\nNon-vested - end of period\\n1,608,468\\n$\\n12.01\\nThe fair value of non-vested shares is determined based on the closing stock price on the grant date. As of June 28, 2020, there was $10.0 million of total unrecognized compensation cost related to non-vested restricted stock-based compensation to be recognized over a weighted-average period of 1.2 years.\\nNote 14. Employee Retirement Plans\\nThe Company has a 401(k) Profit Sharing Plan covering substantially all of its eligible employees. All employees who have attained the age of 21 are eligible to participate upon completion of one month of service. Participants may elect to make voluntary contributions to the 401(k) plan in amounts not exceeding federal guidelines. On an annual basis the Company, as determined by its board of directors, may make certain discretionary contributions. Employees are vested in the Company's contributions based upon years of service. The Company contributed $1.5 million, $0.9 million and $0.0 million during fiscal years 2020, 2019, and 2018, respectively.\\nThe Company also has a nonqualified supplemental deferred compensation plan for certain executives pursuant to Section 409A of the Internal Revenue Code. Participants can defer from 1% up to a maximum of 100% of salary and performance and non-performance based bonus. There were no Company contributions to the plan during fiscal years 2020, 2019 and 2018. Distributions will be made to participants upon termination of employment or death in a lump sum, unless installments are selected by the participant. As of June 28, 2020, and June 30, 2019, these plan liabilities, which are included in “Other liabilities” within the Company’s consolidated balance sheets, totaled $13.4 million and $11.8 million, respectively. The associated plan assets, which are subject to the claims of the creditors, are primarily invested in mutual funds and are included in “Other assets” within the Company’s consolidated balance sheets. The gains on these investments, which were $0.3 million, $0.7 million, and $0.8 million for the years ended June 28, 2020, June 30, 2019 and July 1, 2018, respectively, are included in “Other (income) expense, net,” within the Company’s consolidated statements of income.\\nF-19\\nTable of Contents\\nNote 15. Business Segments\\nThe Company’s management reviews the results of the Company’s operations by the following three business segments:\\n•     1-800-Flowers.com Consumer Floral,\\n•     BloomNet, and\\n•     Gourmet Foods & Gift Baskets\\nSegment performance is measured based on contribution margin, which includes only the direct controllable revenue and operating expenses of the segments. As such, management’s measure of profitability for these segments does not include the effect of corporate overhead (see (a) below), nor does it include depreciation and amortization, other (income) expense, net and income taxes, or stock-based compensation, which are included within corporate overhead. Assets and liabilities are reviewed at the consolidated level by management and not accounted for by segment.\\nYears ended\\nNet revenues\\nJune 28, 2020\\nJu\\nne\\n30\\n, 201\\n9\\nJuly\\n1\\n, 201\\n8\\n(in thousands)\\nNet revenues:\\n1-800-Flowers.com Consumer Floral\\n$\\n593,197\\n$\\n497,765\\n$\\n457,460\\nBloomNet\\n111,766\\n102,876\\n89,569\\nGourmet Foods & Gift Baskets\\n785,547\\n648,418\\n605,523\\nCorporate\\n591\\n1,105\\n1,114\\nIntercompany eliminations\\n(1,464\\n)\\n(1,541\\n)\\n(1,745\\n)\\nTotal net revenues\\n$\\n1,489,637\\n$\\n1,248,623\\n$\\n1,151,921\\nYears ended\\nOperating Income from Continuing Operations\\nJune 28, 2020\\nJu\\nne\\n30\\n, 201\\n9\\nJuly\\n1\\n, 201\\n8\\n(in thousands)\\nSegment Contribution Margin:\\n1-800-Flowers.com Consumer Floral\\n$\\n73,806\\n$\\n49,653\\n$\\n50,808\\nBloomNet\\n35,111\\n34,705\\n31,683\\nGourmet Foods & Gift Baskets\\n110,627\\n82,319\\n70,927\\nSegment Contribution Margin Subtotal\\n219,544\\n166,677\\n153,418\\nCorporate (a)\\n(106,667\\n)\\n(91,604\\n)\\n(79,901\\n)\\nDepreciation and amortization\\n(32,513\\n)\\n(29,965\\n)\\n(32,469\\n)\\nOperating income\\n$\\n80,364\\n$\\n45,108\\n$\\n41,048\\n(a)\\nCorporate expenses consist of the Company’s enterprise shared service cost centers, and include, among other items, Information Technology, Human Resources, Accounting and Finance, Legal, Executive and Customer Service Center functions, as well as Stock-Based Compensation. In order to leverage the Company’s infrastructure, these functions are operated under a centralized management platform, providing support services throughout the organization. The costs of these functions, other than those of the Customer Service Center, which are allocated directly to the above categories based upon usage, are included within corporate expenses as they are not directly allocable to a specific segment.\\nThe following tables represent a disaggregation of revenue from contracts with customers, by channel:\\nYears Ended\\nJune 28, 2020\\nJu\\nne\\n30\\n, 201\\n9\\nJuly\\n1\\n, 201\\n8\\nConsumer\\nFloral\\nBloomNet\\nGourmet\\nFoods &\\nGift\\nBaskets\\nConsolidated\\nConsumer\\nFloral\\nBloomNet\\nGourmet\\nFoods &\\nGift\\nBaskets\\nConsolidated\\nConsumer\\nFloral\\nBloomNet\\nGourmet\\nFoods &\\nGift\\nBaskets\\nConsolidated\\n(in thousands)\\nNet revenues\\nE-commerce\\n$\\n585,585\\n$\\n-\\n$\\n644,800\\n$\\n1,230,385\\n$\\n489,463\\n$\\n-\\n$\\n508,897\\n$\\n998,360\\n$\\n448,943\\n$\\n-\\n$\\n472,905\\n$\\n921,848\\nRetail\\n4,318\\n-\\n37,076\\n41,394\\n4,706\\n-\\n45,862\\n50,568\\n4,743\\n-\\n46,860\\n51,603\\nWholesale\\n-\\n33,675\\n103,671\\n137,346\\n-\\n29,744\\n93,659\\n123,403\\n-\\n28,747\\n85,758\\n114,505\\nBloomNet Services\\n-\\n78,091\\n-\\n78,091\\n-\\n73,132\\n-\\n73,132\\n-\\n60,822\\n-\\n60,822\\nOther\\n3,294\\n-\\n-\\n3,294\\n3,596\\n-\\n-\\n3,596\\n3,774\\n-\\n-\\n3,774\\nCorporate\\n-\\n-\\n-\\n591\\n-\\n-\\n-\\n1,105\\n-\\n-\\n-\\n1,114\\nEliminations\\n-\\n-\\n-\\n(1,464\\n)\\n-\\n-\\n-\\n(1,541\\n)\\n-\\n-\\n-\\n(1,745\\n)\\nTotal net revenues\\n$\\n593,197\\n$\\n111,766\\n$\\n785,547\\n$\\n1,489,637\\n$\\n497,765\\n$\\n102,876\\n$\\n648,418\\n$\\n1,248,623\\n$\\n457,460\\n$\\n89,569\\n$\\n605,523\\n$\\n1,151,921\\nF-20\\nTable of Contents\\nNote 16. Leases\\nThe Company currently leases plants, warehouses, offices, store facilities, and equipment under various leases through fiscal 2034. Most lease agreements are of a long-term nature (over a year), although the Company does also enter into short-term leases, primarily for seasonal needs. Lease agreements may contain renewal options and rent escalation clauses and require the Company to pay real estate taxes, insurance, common area maintenance and operating expenses applicable to the leased properties. The Company accounts for its leases in accordance with ASC 842. At contract inception, we determine whether a contract is, or contains, a lease by determining whether it conveys the right to control the use of the identified asset for a period of time, by assessing whether we have the right to obtain substantially all of the economic benefits from use of the identified asset, and the right to direct the use of the identified asset.\\nAt the lease commencement date, we determine if a lease should be classified as an operating or a finance lease (we currently have no finance leases) and recognize a corresponding lease liability and a right-of-use asset on our Balance Sheet. The lease liability is initially and subsequently measured as the present value of the remaining fixed minimum rental payments (including base rent and fixed common area maintenance) using discount rates as of the commencement date. Variable payments (including most utilities, real estate taxes, insurance and variable common area maintenance) are expensed as incurred. The right-of-use asset is initially and subsequently measured at the carrying amount of the lease liability adjusted for any prepaid or accrued lease payments, remaining balance of lease incentives received, unamortized initial direct costs, or impairment charges relating to the right-of-use asset. Right-of-use assets are assessed for impairment using the long-lived assets impairment guidance. The discount rate used to determine the present value of lease payments is our estimated collateralized incremental borrowing rate, based on the yield curve for the respective lease terms, as we generally cannot determine the interest rate implicit in the lease.\\nWe recognize expense for our operating leases on a straight-line basis over the lease term. As these leases expire, it can be expected that in the normal course of business they will be renewed or replaced. Renewal option periods are included in the measurement of lease liability, where the exercise is reasonably certain to occur. Key estimates and judgments in accounting for leases include how we determine: (1) lease payments, (2) lease term, and (3) the discount rate used in calculating the lease liability.\\nAdditional information related to our leases is as follows:\\nYear Ended\\nJune 28, 2020\\n(in thousands)\\nLease costs:\\nOperating lease costs\\n$\\n13,646\\nVariable lease costs\\n14,706\\nShort-term lease cost\\n6,638\\nSublease income\\n(941\\n)\\nTotal lease costs\\n$\\n34,049\\nYear Ended\\nJune 28, 2020\\n(in thousands)\\nCash paid for amounts included in measurement of operating lease liabilities\\n$\\n11,916\\nRight-of-use assets obtained in exchange for new operating lease liabilities\\n$\\n178\\nJune 28, 2020\\n(in thousands)\\nWeighted-average remaining lease term - operating leases (in years)\\n9.6\\nWeighted-discount rate - operating leases\\n3.8\\n%\\nMaturities of lease liabilities in accordance with ASC 842 as of June 28, 2020 are as follows (in thousands):\\n2021\\n$\\n10,812\\n2022\\n10,038\\n2023\\n9,890\\n2024\\n9,530\\n2025\\n7,163\\nThereafter\\n37,802\\nTotal Future Minimum Lease Payments\\n85,235\\nLess Imputed Remaining Interest\\n14,986\\nTotal\\n$\\n70,249\\nAt June 30, 2019, in accordance with ASC 840, future minimum rental payments under non-cancelable operating leases with initial terms of one year or more consisted of the following (in thousands):\\n2020\\n$\\n16,588\\n2021\\n13,490\\n2022\\n12,081\\n2023\\n9,957\\n2024\\n9,498\\nThereafter\\n44,953\\nTotal Future Minimum Lease Payments\\n$\\n106,567\\nF-21\\nTable of Contents\\nNote 17. Commitments and Contingencies\\nOther Commitments\\nThe Company’s purchase commitments consist primarily of inventory, equipment and technology (hardware and software) purchase orders made in the ordinary course of business, most of which have terms less than one year. As of June 28, 2020, the Company had fixed and determinable off-balance sheet purchase commitments with remaining terms in excess of one year of approximately $5.5 million, primarily related to the Company’s technology infrastructure and inventory commitments.\\nThe Company had approximately $2.0 million and $1.6 million in unused stand-by letters of credit as of June 28, 2020 and June 30, 2019, respectively.\\nLitigation\\nBed Bath & Beyond\\n:\\nOn April 1, 2020, Bed Bath & Beyond Inc. (“Bed Bath”) commenced an action against the Company in the Court of Chancery for the State of Delaware, which is captioned\\nBed Bath & Beyond Inc. v. 1-800-Flowers.com, et ano.\\n, C.A. (the “Complaint”), alleging a breach of the Equity Purchase Agreement (the “Agreement”), dated February 14, 2020, between Bed Bath, PersonalizationMall.com, LLC (“PersonalizationMall”), the Company and a subsidiary of the Company (the “Purchaser”) pursuant to which Bed Bath agreed to sell to Purchaser, and the Purchaser agreed to purchase from Bed Bath, all of the issued and outstanding membership interests of PersonalizationMall.  The action was initiated after the Company requested a reasonable delay in the closing under the Agreement due to the unprecedented circumstances created by the COVID-19 pandemic.  The Complaint requested an order of specific performance to consummate the transaction under the Agreement plus attorney’s fees and costs in connection with the action. The Company filed its answer to the Complaint on April 17, 2020 and an order governing expedited proceedings was approved on April 9, 2020 that set a trial date for late September 2020.  On July 21, 2020, the Company and Bed Bath entered into a settlement agreement, pursuant to which the Company agreed to move forward with its purchase of PersonalizationMall for $245 million, subject to certain working capital and other adjustments. The transaction closed on August 3, 2020 (see\\nNote 18. Subsequent Events\\nfor details). In connection with the settlement agreement, the parties’ executed a Stipulation and Proposed Order of Dismissal, resulting in the voluntary dismissal with prejudice of the litigation relating to the transaction.\\nIn addition, there are various claims, lawsuits, and pending actions against the Company and its subsidiaries incident to the operations of its businesses. It is the opinion of management, after consultation with counsel, that the final resolution of such claims, lawsuits and pending actions will not have a material adverse effect on the Company's consolidated financial position, results of operations or liquidity.\\nNote 18. Subsequent Events\\nAcquisition of PersonalizationMall\\nOn August 3, 2020, the Company completed its acquisition of PersonalizationMall, a leading ecommerce provider of personalized products. The extensive offerings of PersonalizationMall include a wide variety of personalization processes such as sublimation, embroidery, digital printing, engraving and sandblasting, while providing an industry-leading customer experience based on a fully integrated business platform that includes a highly automated personalization process and rapid order fulfillment.\\nThe Company used a combination of cash on its balance sheet and its existing credit facility to fund the $245.0 million purchase (subject to certain working capital and other adjustments), which included its newly renovated, leased 360,000 square foot state-of-the-art production and distribution facility, as well as customer database, tradenames and website. PersonalizationMall’s revenues were approximately $171.2 million in its fiscal 2020.\\nAmended Credit Agreement\\nOn August 20, 2020, the Company, the Subsidiary Guarantors, JPMorgan Chase Bank, N.A. as administrative agent, and a group of lenders entered into a First Amendment (the “First Amendment”) to the 2019 Credit Agreement. The First Amendment amends the 2019 Credit Agreement to, among other modifications, (i) increase the aggregate principal amount of the existing Revolver commitments from $200.0 million to $250.0 million, (ii) establish a new tranche of term A-1 loans in an aggregate principal amount of $100.0 million (the “New Term Loan”), (iii) increase the working capital sublimit with respect to the Revolver from $175.0 million to $200.0 million, and (iv) increase the seasonally-reduced Revolver commitments from $100.0 million to $125.0 million for the period from January 1 through August 1 for each fiscal year of the Company.\\nThe New Term Loan will mature on May 31, 2024. Proceeds of the borrowing under the New Term Loan may be used for working capital and general corporate purposes of the Company and its subsidiaries, subject to certain restrictions. The Company may elect that borrowings in respect of the New Term Loan bear interest at an annual rate equal to either the Base Rate or the LIBOR Rate. The New Term Loan is payable in 15 quarterly installments of principal and interest beginning on September 27, 2020, with escalating principal payments, at the rate of 5.0% per annum for the first four payments, and 10.0% per annum for the remaining 11 payments, with the remaining balance of $67.5 million due upon maturity.\\nF-22\\nTable of Contents\\n1-800-FLOWERS.COM, Inc. and Subsidiaries\\nSchedule II - Valuation and Qualifying Accounts\\nAdditions\\nDescription\\nBalance at\\nBeginning\\nof Period\\nCharged to\\nCosts\\nand\\nExpenses\\nCharged to\\nOther\\nAccounts-\\nDescribe\\nDeductions-\\nDescribe (a)\\nBalance at\\nEnd of\\nPeriod\\nReserves and allowances deducted from asset accounts:\\nReserve for estimated doubtful accounts-accounts/notes receivable\\nYear Ended June 28, 2020\\n$\\n2,777,000\\n$\\n4,143,000\\n$\\n-\\n$\\n(1,255,000\\n)\\n$\\n5,665,000\\nYear Ended June 30, 2019\\n$\\n2,418,000\\n$\\n1,383,000\\n$\\n-\\n$\\n(1,024,000\\n)\\n$\\n2,777,000\\nYear Ended July 1, 2018\\n$\\n1,846,000\\n$\\n1,068,000\\n$\\n-\\n$\\n(496,000\\n)\\n$\\n2,418,000\\nValuation allowance for deferred tax assets\\nYear Ended June 28, 2020\\n$\\n9,872,000\\n$\\n37,000\\n$\\n-\\n$\\n(228,000\\n)\\n$\\n9,681,000\\nYear Ended June 30, 2019\\n$\\n9,972,000\\n$\\n-\\n$\\n-\\n$\\n(100,000\\n)\\n$\\n9,872,000\\nYear Ended July 1, 2018\\n$\\n11,772,000\\n$\\n232,000\\n$\\n-\\n$\\n(2,032,000\\n)\\n$\\n9,972,000\\n(a) Reduction in reserve due to amounts written off.\\nS-1\n",
       "Name: Cleaned Text, dtype: object"
      ]
     },
     "execution_count": 26,
     "metadata": {},
     "output_type": "execute_result"
    }
   ],
   "source": [
    "filings_df[\"Cleaned Text\"].head(1)"
   ]
  },
  {
   "cell_type": "code",
   "execution_count": 24,
   "id": "837ecaa6",
   "metadata": {},
   "outputs": [
    {
     "name": "stdout",
     "output_type": "stream",
     "text": [
      "Table of Contents\n",
      "UNITED STATES SECURITIES AND EXCHANGE COMMISSION\n",
      "WASHINGTON, D.C. 20549\n",
      "FORM 10-K\n",
      "☒     ANNUAL REPORT PURSUANT TO SECTION 13 OR 15(d) OF THE SECURITIES EXCHANGE ACT OF 1934\n",
      "For the fiscal year ended\n",
      "June 28, 2020\n",
      "or\n",
      "☐     TRANSITION REPORT PURSUANT TO SECTION 13 OR 15(d) OF THE SECURITIES EXCHANGE ACT OF 1934\n",
      "Commission File No.\n",
      "0-26841\n",
      "1-800-FLOWERS.COM, Inc.\n",
      "(Exact name of registrant as specified in its charter)\n",
      "DELAWARE\n",
      "(State or other jurisdiction of incorporation or organization)\n",
      "11-3117311\n",
      "(I.R.S. Employer Identification No.)\n",
      "One Old Country Road, Carle Place, New York, 11514\n",
      "(Address of principal executive offices) (Zip code)\n",
      "(516) 237-6000\n",
      "(Registrant’s telephone number, including area code)\n",
      "Securities registered pursuant to Section 12(b) of the Act:\n",
      "Title of each class\n",
      "Trading symbol(s)\n",
      "Name of each exchange on which registered\n",
      "Class A common stock\n",
      "FLWS\n",
      "The Nasdaq Stock Market\n",
      "Securities registered pursuant to Section 12(g) of the Act: None\n",
      "Indicate by check mark if the registrant is a well-known seasoned issuer, as defined in Rule 405 of the Securities Act. Yes ☐ No ☒\n",
      "Indicate by check mark if the registrant is not required to file reports pursuant to Section 13 or Section 15 (d) of the Act. Yes ☐ No ☒\n",
      "Indicate by check mark whether the registrant (1) has filed all reports required to be filed by Section 13 or 15(d) of the Securities Exchange Act of 1934 during the preceding 12 months (or for such shorter period that the registrant was required to file such reports), and (2) has been subject to such filing requirements for the past 90 days. Yes ☒ No ☐\n",
      "Indicate by check mark whether the registrant has submitted electronically every Interactive Data File required to be submitted pursuant to Rule 405 of Regulation S-T (Section 232.405 of this chapter) during the preceding 12 months (or for such shorter period that the registrant was required to submit such files). Yes ☒ No ☐\n",
      "Indicate by check mark whether the registrant is a large accelerate\n"
     ]
    }
   ],
   "source": [
    "#filings_df[\"Cleaned Text\"].head(1)\n",
    "print(filings_df[\"Cleaned Text\"][0][:2000])"
   ]
  },
  {
   "cell_type": "code",
   "execution_count": 27,
   "id": "16aa6703",
   "metadata": {},
   "outputs": [],
   "source": [
    "import pandas as pd\n",
    "import re\n",
    "\n",
    "def extract_10k_sections(text):\n",
    "    \"\"\"\n",
    "    Extracts Item 1, Item 7, and Item 7A sections from the plain 10-K text.\n",
    "    Returns a dictionary with each section's content.\n",
    "    \"\"\"\n",
    "    if not isinstance(text, str) or len(text) < 100:\n",
    "        return {\"Item 1\": \"\", \"Item 7\": \"\", \"Item 7A\": \"\"}\n",
    "    \n",
    "    patterns = {\n",
    "        \"Item 1\": r\"(item\\s*1[\\.: \\-–—]*business)\",\n",
    "        \"Item 7\": r\"(item\\s*7[\\.: \\-–—]*management[’'`s]{0,2} discussion.*?)\",\n",
    "        \"Item 7A\": r\"(item\\s*7a[\\.: \\-–—]*quantitative.*?)\"\n",
    "    }\n",
    "\n",
    "    matches = []\n",
    "    for key, pattern in patterns.items():\n",
    "        match = re.search(pattern, text, re.IGNORECASE)\n",
    "        if match:\n",
    "            matches.append((key, match.start()))\n",
    "\n",
    "    matches.sort(key=lambda x: x[1])\n",
    "    \n",
    "    sections = {}\n",
    "    for i in range(len(matches)):\n",
    "        section_name, start = matches[i]\n",
    "        end = matches[i+1][1] if i + 1 < len(matches) else len(text)\n",
    "        sections[section_name] = text[start:end].strip()\n",
    "\n",
    "    return {\n",
    "        \"Item 1\": sections.get(\"Item 1\", \"\"),\n",
    "        \"Item 7\": sections.get(\"Item 7\", \"\"),\n",
    "        \"Item 7A\": sections.get(\"Item 7A\", \"\")\n",
    "    }"
   ]
  },
  {
   "cell_type": "code",
   "execution_count": 28,
   "id": "d1f7419e",
   "metadata": {},
   "outputs": [],
   "source": [
    "# Assuming your DataFrame is named df and \"Cleaned Text\" column holds the plain text\n",
    "sections_df = filings_df[\"Cleaned Text\"].apply(extract_10k_sections).apply(pd.Series)\n",
    "\n",
    "# Add the extracted sections as new columns\n",
    "filings_df[\"Item 1 Text\"] = sections_df[\"Item 1\"]\n",
    "filings_df[\"Item 7 Text\"] = sections_df[\"Item 7\"]\n",
    "filings_df[\"Item 7A Text\"] = sections_df[\"Item 7A\"]"
   ]
  },
  {
   "cell_type": "code",
   "execution_count": 29,
   "id": "05da1fa6",
   "metadata": {},
   "outputs": [
    {
     "name": "stdout",
     "output_type": "stream",
     "text": [
      "Item 1 Text     0\n",
      "Item 7 Text     0\n",
      "Item 7A Text    0\n",
      "dtype: int64\n",
      "Item 1 Text     30\n",
      "Item 7 Text     25\n",
      "Item 7A Text    30\n",
      "dtype: int64\n"
     ]
    }
   ],
   "source": [
    "print(filings_df[[\"Item 1 Text\", \"Item 7 Text\", \"Item 7A Text\"]].isnull().sum())\n",
    "print(filings_df[[\"Item 1 Text\", \"Item 7 Text\", \"Item 7A Text\"]].eq(\"\").sum())"
   ]
  },
  {
   "cell_type": "code",
   "execution_count": 30,
   "id": "4952d51d",
   "metadata": {},
   "outputs": [
    {
     "name": "stdout",
     "output_type": "stream",
     "text": [
      "<class 'pandas.core.frame.DataFrame'>\n",
      "RangeIndex: 50 entries, 0 to 49\n",
      "Data columns (total 9 columns):\n",
      " #   Column        Non-Null Count  Dtype \n",
      "---  ------        --------------  ----- \n",
      " 0   Company Name  50 non-null     object\n",
      " 1   CIK           50 non-null     object\n",
      " 2   Date Filed    50 non-null     object\n",
      " 3   Filing URL    50 non-null     object\n",
      " 4   Filing Text   50 non-null     object\n",
      " 5   Cleaned Text  50 non-null     object\n",
      " 6   Item 1 Text   50 non-null     object\n",
      " 7   Item 7 Text   50 non-null     object\n",
      " 8   Item 7A Text  50 non-null     object\n",
      "dtypes: object(9)\n",
      "memory usage: 3.6+ KB\n"
     ]
    }
   ],
   "source": [
    "filings_df.describe()\n",
    "filings_df.info()"
   ]
  },
  {
   "cell_type": "code",
   "execution_count": 31,
   "id": "d397a88d",
   "metadata": {},
   "outputs": [],
   "source": [
    "df_fin = filings_df[[\"Company Name\", \"CIK\", \"Date Filed\", \"Filing URL\", \"Item 1 Text\", \"Item 7 Text\", \"Item 7A Text\"]]"
   ]
  },
  {
   "cell_type": "code",
   "execution_count": 21,
   "id": "85cf4e63",
   "metadata": {},
   "outputs": [
    {
     "name": "stdout",
     "output_type": "stream",
     "text": [
      "Requirement already satisfied: nltk in /Users/nareshchethala/.virtualenv/project10k/lib/python3.13/site-packages (3.9.1)\n",
      "Requirement already satisfied: click in /Users/nareshchethala/.virtualenv/project10k/lib/python3.13/site-packages (from nltk) (8.1.8)\n",
      "Requirement already satisfied: joblib in /Users/nareshchethala/.virtualenv/project10k/lib/python3.13/site-packages (from nltk) (1.4.2)\n",
      "Requirement already satisfied: regex>=2021.8.3 in /Users/nareshchethala/.virtualenv/project10k/lib/python3.13/site-packages (from nltk) (2024.11.6)\n",
      "Requirement already satisfied: tqdm in /Users/nareshchethala/.virtualenv/project10k/lib/python3.13/site-packages (from nltk) (4.67.1)\n",
      "Note: you may need to restart the kernel to use updated packages.\n"
     ]
    }
   ],
   "source": [
    "pip install nltk"
   ]
  },
  {
   "cell_type": "code",
   "execution_count": 32,
   "id": "bd4ae123",
   "metadata": {},
   "outputs": [],
   "source": [
    "lm_df = pd.read_csv(\"/Users/nareshchethala/Desktop/University/Spring_25/BAIM_660/Project/Loughran-McDonald_MasterDictionary_1993-2024.csv\")"
   ]
  },
  {
   "cell_type": "code",
   "execution_count": 38,
   "id": "426730f2",
   "metadata": {},
   "outputs": [
    {
     "data": {
      "text/html": [
       "<div>\n",
       "<style scoped>\n",
       "    .dataframe tbody tr th:only-of-type {\n",
       "        vertical-align: middle;\n",
       "    }\n",
       "\n",
       "    .dataframe tbody tr th {\n",
       "        vertical-align: top;\n",
       "    }\n",
       "\n",
       "    .dataframe thead th {\n",
       "        text-align: right;\n",
       "    }\n",
       "</style>\n",
       "<table border=\"1\" class=\"dataframe\">\n",
       "  <thead>\n",
       "    <tr style=\"text-align: right;\">\n",
       "      <th></th>\n",
       "      <th>Word</th>\n",
       "      <th>Seq_num</th>\n",
       "      <th>Word Count</th>\n",
       "      <th>Word Proportion</th>\n",
       "      <th>Average Proportion</th>\n",
       "      <th>Std Dev</th>\n",
       "      <th>Doc Count</th>\n",
       "      <th>Negative</th>\n",
       "      <th>Positive</th>\n",
       "      <th>Uncertainty</th>\n",
       "      <th>Litigious</th>\n",
       "      <th>Strong_Modal</th>\n",
       "      <th>Weak_Modal</th>\n",
       "      <th>Constraining</th>\n",
       "      <th>Complexity</th>\n",
       "      <th>Syllables</th>\n",
       "      <th>Source</th>\n",
       "    </tr>\n",
       "  </thead>\n",
       "  <tbody>\n",
       "    <tr>\n",
       "      <th>0</th>\n",
       "      <td>AARDVARK</td>\n",
       "      <td>1</td>\n",
       "      <td>755</td>\n",
       "      <td>2.955070e-08</td>\n",
       "      <td>1.945421e-08</td>\n",
       "      <td>4.078069e-06</td>\n",
       "      <td>140</td>\n",
       "      <td>0</td>\n",
       "      <td>0</td>\n",
       "      <td>0</td>\n",
       "      <td>0</td>\n",
       "      <td>0</td>\n",
       "      <td>0</td>\n",
       "      <td>0</td>\n",
       "      <td>0</td>\n",
       "      <td>2</td>\n",
       "      <td>12of12inf</td>\n",
       "    </tr>\n",
       "    <tr>\n",
       "      <th>1</th>\n",
       "      <td>AARDVARKS</td>\n",
       "      <td>2</td>\n",
       "      <td>3</td>\n",
       "      <td>1.174200e-10</td>\n",
       "      <td>8.060019e-12</td>\n",
       "      <td>8.919011e-09</td>\n",
       "      <td>1</td>\n",
       "      <td>0</td>\n",
       "      <td>0</td>\n",
       "      <td>0</td>\n",
       "      <td>0</td>\n",
       "      <td>0</td>\n",
       "      <td>0</td>\n",
       "      <td>0</td>\n",
       "      <td>0</td>\n",
       "      <td>2</td>\n",
       "      <td>12of12inf</td>\n",
       "    </tr>\n",
       "    <tr>\n",
       "      <th>2</th>\n",
       "      <td>ABACI</td>\n",
       "      <td>3</td>\n",
       "      <td>9</td>\n",
       "      <td>3.522600e-10</td>\n",
       "      <td>1.089343e-10</td>\n",
       "      <td>5.105359e-08</td>\n",
       "      <td>7</td>\n",
       "      <td>0</td>\n",
       "      <td>0</td>\n",
       "      <td>0</td>\n",
       "      <td>0</td>\n",
       "      <td>0</td>\n",
       "      <td>0</td>\n",
       "      <td>0</td>\n",
       "      <td>0</td>\n",
       "      <td>3</td>\n",
       "      <td>12of12inf</td>\n",
       "    </tr>\n",
       "    <tr>\n",
       "      <th>3</th>\n",
       "      <td>ABACK</td>\n",
       "      <td>4</td>\n",
       "      <td>29</td>\n",
       "      <td>1.135060e-09</td>\n",
       "      <td>6.197922e-10</td>\n",
       "      <td>1.539279e-07</td>\n",
       "      <td>28</td>\n",
       "      <td>0</td>\n",
       "      <td>0</td>\n",
       "      <td>0</td>\n",
       "      <td>0</td>\n",
       "      <td>0</td>\n",
       "      <td>0</td>\n",
       "      <td>0</td>\n",
       "      <td>0</td>\n",
       "      <td>2</td>\n",
       "      <td>12of12inf</td>\n",
       "    </tr>\n",
       "    <tr>\n",
       "      <th>4</th>\n",
       "      <td>ABACUS</td>\n",
       "      <td>5</td>\n",
       "      <td>9620</td>\n",
       "      <td>3.765268e-07</td>\n",
       "      <td>3.825261e-07</td>\n",
       "      <td>3.421836e-05</td>\n",
       "      <td>1295</td>\n",
       "      <td>0</td>\n",
       "      <td>0</td>\n",
       "      <td>0</td>\n",
       "      <td>0</td>\n",
       "      <td>0</td>\n",
       "      <td>0</td>\n",
       "      <td>0</td>\n",
       "      <td>0</td>\n",
       "      <td>3</td>\n",
       "      <td>12of12inf</td>\n",
       "    </tr>\n",
       "  </tbody>\n",
       "</table>\n",
       "</div>"
      ],
      "text/plain": [
       "        Word  Seq_num  Word Count  Word Proportion  Average Proportion  \\\n",
       "0   AARDVARK        1         755     2.955070e-08        1.945421e-08   \n",
       "1  AARDVARKS        2           3     1.174200e-10        8.060019e-12   \n",
       "2      ABACI        3           9     3.522600e-10        1.089343e-10   \n",
       "3      ABACK        4          29     1.135060e-09        6.197922e-10   \n",
       "4     ABACUS        5        9620     3.765268e-07        3.825261e-07   \n",
       "\n",
       "        Std Dev  Doc Count  Negative  Positive  Uncertainty  Litigious  \\\n",
       "0  4.078069e-06        140         0         0            0          0   \n",
       "1  8.919011e-09          1         0         0            0          0   \n",
       "2  5.105359e-08          7         0         0            0          0   \n",
       "3  1.539279e-07         28         0         0            0          0   \n",
       "4  3.421836e-05       1295         0         0            0          0   \n",
       "\n",
       "   Strong_Modal  Weak_Modal  Constraining  Complexity  Syllables     Source  \n",
       "0             0           0             0           0          2  12of12inf  \n",
       "1             0           0             0           0          2  12of12inf  \n",
       "2             0           0             0           0          3  12of12inf  \n",
       "3             0           0             0           0          2  12of12inf  \n",
       "4             0           0             0           0          3  12of12inf  "
      ]
     },
     "execution_count": 38,
     "metadata": {},
     "output_type": "execute_result"
    }
   ],
   "source": [
    "lm_df.head()"
   ]
  },
  {
   "cell_type": "code",
   "execution_count": 37,
   "id": "c6ef0ac2",
   "metadata": {},
   "outputs": [],
   "source": [
    "# Filter only positive and negative words\n",
    "positive_words = set(lm_df[lm_df[\"Positive\"] > 0][\"Word\"].str.lower())\n",
    "negative_words = set(lm_df[lm_df[\"Negative\"] > 0][\"Word\"].str.lower())"
   ]
  },
  {
   "cell_type": "code",
   "execution_count": 26,
   "id": "ff126661",
   "metadata": {},
   "outputs": [
    {
     "name": "stderr",
     "output_type": "stream",
     "text": [
      "[nltk_data] Downloading package punkt to\n",
      "[nltk_data]     /Users/nareshchethala/nltk_data...\n",
      "[nltk_data]   Unzipping tokenizers/punkt.zip.\n",
      "[nltk_data] Downloading package stopwords to\n",
      "[nltk_data]     /Users/nareshchethala/nltk_data...\n",
      "[nltk_data]   Package stopwords is already up-to-date!\n"
     ]
    }
   ],
   "source": [
    "from nltk.tokenize import word_tokenize\n",
    "from nltk.corpus import stopwords\n",
    "import nltk\n",
    "nltk.download(\"punkt\")\n",
    "nltk.download(\"stopwords\")\n",
    "\n",
    "stop_words = set(stopwords.words(\"english\"))\n",
    "\n",
    "def compute_lm_sentiment(text):\n",
    "    if not isinstance(text, str) or len(text.strip()) == 0:\n",
    "        return 0.0\n",
    "\n",
    "    tokens = word_tokenize(text.lower())\n",
    "    tokens = [w for w in tokens if w.isalpha() and w not in stop_words]\n",
    "\n",
    "    pos = sum(1 for word in tokens if word in positive_words)\n",
    "    neg = sum(1 for word in tokens if word in negative_words)\n",
    "    total = len(tokens)\n",
    "\n",
    "    return (pos - neg) / total if total > 0 else 0.0"
   ]
  },
  {
   "cell_type": "code",
   "execution_count": 30,
   "id": "9a892f44",
   "metadata": {},
   "outputs": [],
   "source": [
    "filings_df[\"Item1_LM_Sentiment\"] = filings_df[\"Item 1 Text\"].apply(compute_lm_sentiment)\n",
    "filings_df[\"Item7_LM_Sentiment\"] = filings_df[\"Item 7 Text\"].apply(compute_lm_sentiment)\n",
    "filings_df[\"Item7A_LM_Sentiment\"] = filings_df[\"Item 7A Text\"].apply(compute_lm_sentiment)"
   ]
  },
  {
   "cell_type": "code",
   "execution_count": 31,
   "id": "dbb9491a",
   "metadata": {},
   "outputs": [
    {
     "data": {
      "text/html": [
       "<div>\n",
       "<style scoped>\n",
       "    .dataframe tbody tr th:only-of-type {\n",
       "        vertical-align: middle;\n",
       "    }\n",
       "\n",
       "    .dataframe tbody tr th {\n",
       "        vertical-align: top;\n",
       "    }\n",
       "\n",
       "    .dataframe thead th {\n",
       "        text-align: right;\n",
       "    }\n",
       "</style>\n",
       "<table border=\"1\" class=\"dataframe\">\n",
       "  <thead>\n",
       "    <tr style=\"text-align: right;\">\n",
       "      <th></th>\n",
       "      <th>Company Name</th>\n",
       "      <th>CIK</th>\n",
       "      <th>Date Filed</th>\n",
       "      <th>Filing URL</th>\n",
       "      <th>Filing Text</th>\n",
       "      <th>Cleaned Text</th>\n",
       "      <th>Item 1 Text</th>\n",
       "      <th>Item 7 Text</th>\n",
       "      <th>Item 7A Text</th>\n",
       "      <th>Item1_LM_Sentiment</th>\n",
       "      <th>Item7_LM_Sentiment</th>\n",
       "      <th>Item7A_LM_Sentiment</th>\n",
       "    </tr>\n",
       "  </thead>\n",
       "  <tbody>\n",
       "    <tr>\n",
       "      <th>0</th>\n",
       "      <td>1 800 FLOWERS COM INC</td>\n",
       "      <td>1084869</td>\n",
       "      <td>2020-09</td>\n",
       "      <td>https://www.sec.gov/Archives/edgar/data/108486...</td>\n",
       "      <td>&lt;DOCUMENT&gt;\\n&lt;TYPE&gt;10-K\\n&lt;SEQUENCE&gt;1\\n&lt;FILENAME...</td>\n",
       "      <td>Table of Contents\\nUNITED STATES SECURITIES AN...</td>\n",
       "      <td></td>\n",
       "      <td></td>\n",
       "      <td></td>\n",
       "      <td>0.000000</td>\n",
       "      <td>0.000000</td>\n",
       "      <td>0.000000</td>\n",
       "    </tr>\n",
       "    <tr>\n",
       "      <th>1</th>\n",
       "      <td>3AM TECHNOLOGIES INC</td>\n",
       "      <td>1667615</td>\n",
       "      <td>2020-09</td>\n",
       "      <td>https://www.sec.gov/Archives/edgar/data/166761...</td>\n",
       "      <td>&lt;DOCUMENT&gt;\\n&lt;TYPE&gt;10-K\\n&lt;SEQUENCE&gt;1\\n&lt;FILENAME...</td>\n",
       "      <td>UNITED STATES SECURITIES AND EXCHANGE COMMISSI...</td>\n",
       "      <td>Item 1. Business.\\nGeneral\\nAs used in this An...</td>\n",
       "      <td>Item 7. Management’s Discussion and Analysis o...</td>\n",
       "      <td></td>\n",
       "      <td>-0.005587</td>\n",
       "      <td>-0.013685</td>\n",
       "      <td>0.000000</td>\n",
       "    </tr>\n",
       "    <tr>\n",
       "      <th>2</th>\n",
       "      <td>8i Enterprises Acquisition Corp.</td>\n",
       "      <td>1753648</td>\n",
       "      <td>2020-09</td>\n",
       "      <td>https://www.sec.gov/Archives/edgar/data/175364...</td>\n",
       "      <td>&lt;DOCUMENT&gt;\\n&lt;TYPE&gt;10-K\\n&lt;SEQUENCE&gt;1\\n&lt;FILENAME...</td>\n",
       "      <td>UNITED\\nSTATES\\nSECURITIES\\nAND EXCHANGE COMMI...</td>\n",
       "      <td>ITEM\\n1. BUSINESS\\nIntroduction\\n8i\\nEnterpris...</td>\n",
       "      <td>ITEM\\n7. MANAGEMENT’S DISCUSSION AND ANALYSIS ...</td>\n",
       "      <td>ITEM\\n7A. QUANTITATIVE AND QUALITATIVE DISCLOS...</td>\n",
       "      <td>-0.003749</td>\n",
       "      <td>-0.006018</td>\n",
       "      <td>-0.010383</td>\n",
       "    </tr>\n",
       "    <tr>\n",
       "      <th>3</th>\n",
       "      <td>A-Mark Precious Metals, Inc.</td>\n",
       "      <td>1591588</td>\n",
       "      <td>2020-09</td>\n",
       "      <td>https://www.sec.gov/Archives/edgar/data/159158...</td>\n",
       "      <td>&lt;DOCUMENT&gt;\\n&lt;TYPE&gt;10-K\\n&lt;SEQUENCE&gt;1\\n&lt;FILENAME...</td>\n",
       "      <td>UNITED STATES\\nSECURITIES AND EXCHANGE COMMISS...</td>\n",
       "      <td></td>\n",
       "      <td></td>\n",
       "      <td>ITEM 7A. QUANTITATIVE AND QUALITATIVE DISCLOSU...</td>\n",
       "      <td>0.000000</td>\n",
       "      <td>0.000000</td>\n",
       "      <td>-0.009829</td>\n",
       "    </tr>\n",
       "    <tr>\n",
       "      <th>4</th>\n",
       "      <td>AAR CORP</td>\n",
       "      <td>1750</td>\n",
       "      <td>2020-07</td>\n",
       "      <td>https://www.sec.gov/ix?doc=/Archives/edgar/dat...</td>\n",
       "      <td>&lt;?xml version=\"1.0\" encoding=\"UTF-8\"?&gt;\\n&lt;!DOCT...</td>\n",
       "      <td></td>\n",
       "      <td></td>\n",
       "      <td></td>\n",
       "      <td></td>\n",
       "      <td>0.000000</td>\n",
       "      <td>0.000000</td>\n",
       "      <td>0.000000</td>\n",
       "    </tr>\n",
       "  </tbody>\n",
       "</table>\n",
       "</div>"
      ],
      "text/plain": [
       "                       Company Name      CIK Date Filed  \\\n",
       "0             1 800 FLOWERS COM INC  1084869    2020-09   \n",
       "1              3AM TECHNOLOGIES INC  1667615    2020-09   \n",
       "2  8i Enterprises Acquisition Corp.  1753648    2020-09   \n",
       "3      A-Mark Precious Metals, Inc.  1591588    2020-09   \n",
       "4                          AAR CORP     1750    2020-07   \n",
       "\n",
       "                                          Filing URL  \\\n",
       "0  https://www.sec.gov/Archives/edgar/data/108486...   \n",
       "1  https://www.sec.gov/Archives/edgar/data/166761...   \n",
       "2  https://www.sec.gov/Archives/edgar/data/175364...   \n",
       "3  https://www.sec.gov/Archives/edgar/data/159158...   \n",
       "4  https://www.sec.gov/ix?doc=/Archives/edgar/dat...   \n",
       "\n",
       "                                         Filing Text  \\\n",
       "0  <DOCUMENT>\\n<TYPE>10-K\\n<SEQUENCE>1\\n<FILENAME...   \n",
       "1  <DOCUMENT>\\n<TYPE>10-K\\n<SEQUENCE>1\\n<FILENAME...   \n",
       "2  <DOCUMENT>\\n<TYPE>10-K\\n<SEQUENCE>1\\n<FILENAME...   \n",
       "3  <DOCUMENT>\\n<TYPE>10-K\\n<SEQUENCE>1\\n<FILENAME...   \n",
       "4  <?xml version=\"1.0\" encoding=\"UTF-8\"?>\\n<!DOCT...   \n",
       "\n",
       "                                        Cleaned Text  \\\n",
       "0  Table of Contents\\nUNITED STATES SECURITIES AN...   \n",
       "1  UNITED STATES SECURITIES AND EXCHANGE COMMISSI...   \n",
       "2  UNITED\\nSTATES\\nSECURITIES\\nAND EXCHANGE COMMI...   \n",
       "3  UNITED STATES\\nSECURITIES AND EXCHANGE COMMISS...   \n",
       "4                                                      \n",
       "\n",
       "                                         Item 1 Text  \\\n",
       "0                                                      \n",
       "1  Item 1. Business.\\nGeneral\\nAs used in this An...   \n",
       "2  ITEM\\n1. BUSINESS\\nIntroduction\\n8i\\nEnterpris...   \n",
       "3                                                      \n",
       "4                                                      \n",
       "\n",
       "                                         Item 7 Text  \\\n",
       "0                                                      \n",
       "1  Item 7. Management’s Discussion and Analysis o...   \n",
       "2  ITEM\\n7. MANAGEMENT’S DISCUSSION AND ANALYSIS ...   \n",
       "3                                                      \n",
       "4                                                      \n",
       "\n",
       "                                        Item 7A Text  Item1_LM_Sentiment  \\\n",
       "0                                                               0.000000   \n",
       "1                                                              -0.005587   \n",
       "2  ITEM\\n7A. QUANTITATIVE AND QUALITATIVE DISCLOS...           -0.003749   \n",
       "3  ITEM 7A. QUANTITATIVE AND QUALITATIVE DISCLOSU...            0.000000   \n",
       "4                                                               0.000000   \n",
       "\n",
       "   Item7_LM_Sentiment  Item7A_LM_Sentiment  \n",
       "0            0.000000             0.000000  \n",
       "1           -0.013685             0.000000  \n",
       "2           -0.006018            -0.010383  \n",
       "3            0.000000            -0.009829  \n",
       "4            0.000000             0.000000  "
      ]
     },
     "execution_count": 31,
     "metadata": {},
     "output_type": "execute_result"
    }
   ],
   "source": [
    "filings_df.head()"
   ]
  },
  {
   "cell_type": "code",
   "execution_count": 48,
   "id": "ac965d5d",
   "metadata": {},
   "outputs": [
    {
     "name": "stderr",
     "output_type": "stream",
     "text": [
      "Device set to use mps:0\n"
     ]
    }
   ],
   "source": [
    "from transformers import AutoTokenizer, AutoModelForSequenceClassification\n",
    "from transformers import pipeline\n",
    "\n",
    "# Load FinBERT model\n",
    "tokenizer = AutoTokenizer.from_pretrained(\"yiyanghkust/finbert-tone\")\n",
    "model = AutoModelForSequenceClassification.from_pretrained(\"yiyanghkust/finbert-tone\")\n",
    "\n",
    "finbert = pipeline(\"sentiment-analysis\", model=model, tokenizer=tokenizer)"
   ]
  },
  {
   "cell_type": "code",
   "execution_count": 49,
   "id": "ac896ea1",
   "metadata": {},
   "outputs": [
    {
     "name": "stderr",
     "output_type": "stream",
     "text": [
      "[nltk_data] Downloading package punkt to\n",
      "[nltk_data]     /Users/nareshchethala/nltk_data...\n",
      "[nltk_data]   Package punkt is already up-to-date!\n"
     ]
    }
   ],
   "source": [
    "from nltk.tokenize import sent_tokenize\n",
    "import numpy as np\n",
    "import nltk\n",
    "nltk.download('punkt')\n",
    "\n",
    "def get_finbert_sentiment(text):\n",
    "    if not isinstance(text, str) or len(text.strip()) < 10:\n",
    "        return 0.0\n",
    "\n",
    "    sentences = sent_tokenize(text)\n",
    "    chunks = [' '.join(sentences[i:i+5]) for i in range(0, len(sentences), 5)]\n",
    "    sentiments = []\n",
    "\n",
    "    for chunk in chunks:\n",
    "        try:\n",
    "            result = finbert(chunk[:512])[0]\n",
    "            score = {\"positive\": 1, \"neutral\": 0, \"negative\": -1}[result['label'].lower()]\n",
    "            sentiments.append(score)\n",
    "        except:\n",
    "            continue\n",
    "\n",
    "    return np.mean(sentiments) if sentiments else 0.0"
   ]
  },
  {
   "cell_type": "code",
   "execution_count": 50,
   "id": "0bcb0eda",
   "metadata": {},
   "outputs": [
    {
     "name": "stderr",
     "output_type": "stream",
     "text": [
      "/var/folders/w1/vt1xc8rs7w9f0fs5spyxbzcc0000gn/T/ipykernel_94872/2755567337.py:1: SettingWithCopyWarning: \n",
      "A value is trying to be set on a copy of a slice from a DataFrame.\n",
      "Try using .loc[row_indexer,col_indexer] = value instead\n",
      "\n",
      "See the caveats in the documentation: https://pandas.pydata.org/pandas-docs/stable/user_guide/indexing.html#returning-a-view-versus-a-copy\n",
      "  df_fin[\"Item7_FinBERT_Sentiment\"] = df_fin[\"Item 7 Text\"].apply(get_finbert_sentiment)\n"
     ]
    }
   ],
   "source": [
    "df_fin[\"Item7_FinBERT_Sentiment\"] = df_fin[\"Item 7 Text\"].apply(get_finbert_sentiment)\n",
    "df_fin[\"Item1_FinBERT_Sentiment\"] = df_fin[\"Item 1 Text\"].apply(get_finbert_sentiment)\n",
    "df_fin[\"Item7A_FinBERT_Sentiment\"] = df_fin[\"Item 7A Text\"].apply(get_finbert_sentiment)"
   ]
  },
  {
   "cell_type": "code",
   "execution_count": 51,
   "id": "7a9d663d",
   "metadata": {},
   "outputs": [
    {
     "data": {
      "text/html": [
       "<div>\n",
       "<style scoped>\n",
       "    .dataframe tbody tr th:only-of-type {\n",
       "        vertical-align: middle;\n",
       "    }\n",
       "\n",
       "    .dataframe tbody tr th {\n",
       "        vertical-align: top;\n",
       "    }\n",
       "\n",
       "    .dataframe thead th {\n",
       "        text-align: right;\n",
       "    }\n",
       "</style>\n",
       "<table border=\"1\" class=\"dataframe\">\n",
       "  <thead>\n",
       "    <tr style=\"text-align: right;\">\n",
       "      <th></th>\n",
       "      <th>Company Name</th>\n",
       "      <th>CIK</th>\n",
       "      <th>Date Filed</th>\n",
       "      <th>Filing URL</th>\n",
       "      <th>Item 1 Text</th>\n",
       "      <th>Item 7 Text</th>\n",
       "      <th>Item 7A Text</th>\n",
       "      <th>Item7_FinBERT_Sentiment</th>\n",
       "      <th>Item1_FinBERT_Sentiment</th>\n",
       "      <th>Item7A_FinBERT_Sentiment</th>\n",
       "    </tr>\n",
       "  </thead>\n",
       "  <tbody>\n",
       "    <tr>\n",
       "      <th>0</th>\n",
       "      <td>1 800 FLOWERS COM INC</td>\n",
       "      <td>1084869</td>\n",
       "      <td>2020-09</td>\n",
       "      <td>https://www.sec.gov/Archives/edgar/data/108486...</td>\n",
       "      <td></td>\n",
       "      <td></td>\n",
       "      <td></td>\n",
       "      <td>0.000000</td>\n",
       "      <td>0.000000</td>\n",
       "      <td>0.000000</td>\n",
       "    </tr>\n",
       "    <tr>\n",
       "      <th>1</th>\n",
       "      <td>3AM TECHNOLOGIES INC</td>\n",
       "      <td>1667615</td>\n",
       "      <td>2020-09</td>\n",
       "      <td>https://www.sec.gov/Archives/edgar/data/166761...</td>\n",
       "      <td>Item 1. Business.\\nGeneral\\nAs used in this An...</td>\n",
       "      <td>Item 7. Management’s Discussion and Analysis o...</td>\n",
       "      <td></td>\n",
       "      <td>-0.070175</td>\n",
       "      <td>0.083333</td>\n",
       "      <td>0.000000</td>\n",
       "    </tr>\n",
       "    <tr>\n",
       "      <th>2</th>\n",
       "      <td>8i Enterprises Acquisition Corp.</td>\n",
       "      <td>1753648</td>\n",
       "      <td>2020-09</td>\n",
       "      <td>https://www.sec.gov/Archives/edgar/data/175364...</td>\n",
       "      <td>ITEM\\n1. BUSINESS\\nIntroduction\\n8i\\nEnterpris...</td>\n",
       "      <td>ITEM\\n7. MANAGEMENT’S DISCUSSION AND ANALYSIS ...</td>\n",
       "      <td>ITEM\\n7A. QUANTITATIVE AND QUALITATIVE DISCLOS...</td>\n",
       "      <td>-0.083333</td>\n",
       "      <td>0.113636</td>\n",
       "      <td>-0.027273</td>\n",
       "    </tr>\n",
       "    <tr>\n",
       "      <th>3</th>\n",
       "      <td>A-Mark Precious Metals, Inc.</td>\n",
       "      <td>1591588</td>\n",
       "      <td>2020-09</td>\n",
       "      <td>https://www.sec.gov/Archives/edgar/data/159158...</td>\n",
       "      <td></td>\n",
       "      <td></td>\n",
       "      <td>ITEM 7A. QUANTITATIVE AND QUALITATIVE DISCLOSU...</td>\n",
       "      <td>0.000000</td>\n",
       "      <td>0.000000</td>\n",
       "      <td>0.000000</td>\n",
       "    </tr>\n",
       "    <tr>\n",
       "      <th>4</th>\n",
       "      <td>AAR CORP</td>\n",
       "      <td>1750</td>\n",
       "      <td>2020-07</td>\n",
       "      <td>https://www.sec.gov/ix?doc=/Archives/edgar/dat...</td>\n",
       "      <td></td>\n",
       "      <td></td>\n",
       "      <td></td>\n",
       "      <td>0.000000</td>\n",
       "      <td>0.000000</td>\n",
       "      <td>0.000000</td>\n",
       "    </tr>\n",
       "  </tbody>\n",
       "</table>\n",
       "</div>"
      ],
      "text/plain": [
       "                       Company Name      CIK Date Filed  \\\n",
       "0             1 800 FLOWERS COM INC  1084869    2020-09   \n",
       "1              3AM TECHNOLOGIES INC  1667615    2020-09   \n",
       "2  8i Enterprises Acquisition Corp.  1753648    2020-09   \n",
       "3      A-Mark Precious Metals, Inc.  1591588    2020-09   \n",
       "4                          AAR CORP     1750    2020-07   \n",
       "\n",
       "                                          Filing URL  \\\n",
       "0  https://www.sec.gov/Archives/edgar/data/108486...   \n",
       "1  https://www.sec.gov/Archives/edgar/data/166761...   \n",
       "2  https://www.sec.gov/Archives/edgar/data/175364...   \n",
       "3  https://www.sec.gov/Archives/edgar/data/159158...   \n",
       "4  https://www.sec.gov/ix?doc=/Archives/edgar/dat...   \n",
       "\n",
       "                                         Item 1 Text  \\\n",
       "0                                                      \n",
       "1  Item 1. Business.\\nGeneral\\nAs used in this An...   \n",
       "2  ITEM\\n1. BUSINESS\\nIntroduction\\n8i\\nEnterpris...   \n",
       "3                                                      \n",
       "4                                                      \n",
       "\n",
       "                                         Item 7 Text  \\\n",
       "0                                                      \n",
       "1  Item 7. Management’s Discussion and Analysis o...   \n",
       "2  ITEM\\n7. MANAGEMENT’S DISCUSSION AND ANALYSIS ...   \n",
       "3                                                      \n",
       "4                                                      \n",
       "\n",
       "                                        Item 7A Text  Item7_FinBERT_Sentiment  \\\n",
       "0                                                                    0.000000   \n",
       "1                                                                   -0.070175   \n",
       "2  ITEM\\n7A. QUANTITATIVE AND QUALITATIVE DISCLOS...                -0.083333   \n",
       "3  ITEM 7A. QUANTITATIVE AND QUALITATIVE DISCLOSU...                 0.000000   \n",
       "4                                                                    0.000000   \n",
       "\n",
       "   Item1_FinBERT_Sentiment  Item7A_FinBERT_Sentiment  \n",
       "0                 0.000000                  0.000000  \n",
       "1                 0.083333                  0.000000  \n",
       "2                 0.113636                 -0.027273  \n",
       "3                 0.000000                  0.000000  \n",
       "4                 0.000000                  0.000000  "
      ]
     },
     "execution_count": 51,
     "metadata": {},
     "output_type": "execute_result"
    }
   ],
   "source": [
    "df_fin.head()"
   ]
  },
  {
   "cell_type": "code",
   "execution_count": null,
   "id": "0bf195be-3a01-48e7-985c-1026ddae4277",
   "metadata": {},
   "outputs": [
    {
     "name": "stderr",
     "output_type": "stream",
     "text": [
      "Years: 100%|██████████████████████████████████████| 5/5 [00:42<00:00,  8.43s/it]\n"
     ]
    }
   ],
   "source": [
    "# # Root directory of your data\n",
    "# root_dir = '/Users/nareshchethala/Desktop/University/Spring_25/BAIM_660/Project/Files'\n",
    "\n",
    "# # Store extracted records\n",
    "# records = []\n",
    "\n",
    "# # Traverse all year folders with tqdm\n",
    "# for year in tqdm(os.listdir(root_dir), desc=\"Years\"):\n",
    "#     year_path = os.path.join(root_dir, year)\n",
    "#     if not os.path.isdir(year_path):\n",
    "#         continue\n",
    "\n",
    "#     # Traverse quarter folders\n",
    "#     for quarter in os.listdir(year_path):\n",
    "#         quarter_path = os.path.join(year_path, quarter)\n",
    "#         if not os.path.isdir(quarter_path):\n",
    "#             continue\n",
    "\n",
    "#         # Traverse all files in quarter folder\n",
    "#         for filename in os.listdir(quarter_path):\n",
    "#             # Match only pure 10-K files \n",
    "#             if (\n",
    "#                 '10-K' in filename.upper() and \n",
    "#                 '10-K/A' not in filename.upper() and \n",
    "#                 '10-K-A' not in filename.upper() and \n",
    "#                 filename.lower().endswith('.txt')\n",
    "#             ):\n",
    "#                 try:\n",
    "#                     file_path = os.path.join(quarter_path, filename)\n",
    "\n",
    "#                     # Read file content\n",
    "#                     with open(file_path, 'r', encoding='utf-8', errors='ignore') as file:\n",
    "#                         text = file.read()\n",
    "\n",
    "#                     # Split filename into parts\n",
    "#                     parts = filename.split('_')\n",
    "#                     filing_date = parts[0]\n",
    "#                     filing_type = parts[1]\n",
    "#                     cik = parts[3]\n",
    "#                     accession = parts[4].replace('.txt', '')\n",
    "\n",
    "#                     # Parse date\n",
    "#                     date_obj = datetime.strptime(filing_date, \"%Y%m%d\")\n",
    "#                     year_parsed = date_obj.year\n",
    "#                     month = date_obj.month\n",
    "#                     day = date_obj.day\n",
    "\n",
    "#                     # Append record\n",
    "#                     records.append({\n",
    "#                         'year_folder': year,\n",
    "#                         'quarter_folder': quarter,\n",
    "#                         'filing_date': filing_date,\n",
    "#                         'year': year_parsed,\n",
    "#                         'month': month,\n",
    "#                         'day': day,\n",
    "#                         'filing_type': filing_type,\n",
    "#                         'cik': cik,\n",
    "#                         'accession': accession,\n",
    "#                         'filename': filename,\n",
    "#                         'text': text\n",
    "#                     })\n",
    "\n",
    "#                 except Exception as e:\n",
    "#                     print(f\" Error reading {file_path}: {e}\")"
   ]
  },
  {
   "cell_type": "code",
   "execution_count": null,
   "id": "816adf61-7a46-42e5-a025-3a55d22f0507",
   "metadata": {},
   "outputs": [],
   "source": [
    "#df_10k_final = pd.DataFrame(records)"
   ]
  },
  {
   "cell_type": "code",
   "execution_count": null,
   "id": "69c76816-bcfb-4e95-938f-dd7a38cb7ae2",
   "metadata": {},
   "outputs": [
    {
     "data": {
      "text/plain": [
       "Index(['year_folder', 'quarter_folder', 'filing_date', 'year', 'month', 'day',\n",
       "       'filing_type', 'cik', 'accession', 'filename', 'text'],\n",
       "      dtype='object')"
      ]
     },
     "execution_count": 16,
     "metadata": {},
     "output_type": "execute_result"
    }
   ],
   "source": [
    "#df_10k_final.columns"
   ]
  },
  {
   "cell_type": "code",
   "execution_count": null,
   "id": "98bb4f9f-8bf7-4d1a-8aaa-342384238de5",
   "metadata": {},
   "outputs": [
    {
     "data": {
      "text/html": [
       "<div>\n",
       "<style scoped>\n",
       "    .dataframe tbody tr th:only-of-type {\n",
       "        vertical-align: middle;\n",
       "    }\n",
       "\n",
       "    .dataframe tbody tr th {\n",
       "        vertical-align: top;\n",
       "    }\n",
       "\n",
       "    .dataframe thead th {\n",
       "        text-align: right;\n",
       "    }\n",
       "</style>\n",
       "<table border=\"1\" class=\"dataframe\">\n",
       "  <thead>\n",
       "    <tr style=\"text-align: right;\">\n",
       "      <th></th>\n",
       "      <th>year_folder</th>\n",
       "      <th>quarter_folder</th>\n",
       "      <th>filing_date</th>\n",
       "      <th>year</th>\n",
       "      <th>month</th>\n",
       "      <th>day</th>\n",
       "      <th>filing_type</th>\n",
       "      <th>cik</th>\n",
       "      <th>accession</th>\n",
       "      <th>filename</th>\n",
       "      <th>text</th>\n",
       "    </tr>\n",
       "  </thead>\n",
       "  <tbody>\n",
       "    <tr>\n",
       "      <th>0</th>\n",
       "      <td>2022</td>\n",
       "      <td>QTR2</td>\n",
       "      <td>20220520</td>\n",
       "      <td>2022</td>\n",
       "      <td>5</td>\n",
       "      <td>20</td>\n",
       "      <td>10-K</td>\n",
       "      <td>data</td>\n",
       "      <td>849399</td>\n",
       "      <td>20220520_10-K_edgar_data_849399_0000849399-22-...</td>\n",
       "      <td>&lt;Header&gt;\\n&lt;FileStats&gt;\\n    &lt;FileName&gt;20220520_...</td>\n",
       "    </tr>\n",
       "    <tr>\n",
       "      <th>1</th>\n",
       "      <td>2022</td>\n",
       "      <td>QTR2</td>\n",
       "      <td>20220613</td>\n",
       "      <td>2022</td>\n",
       "      <td>6</td>\n",
       "      <td>13</td>\n",
       "      <td>10-K</td>\n",
       "      <td>data</td>\n",
       "      <td>1857910</td>\n",
       "      <td>20220613_10-K_edgar_data_1857910_0001599916-22...</td>\n",
       "      <td>&lt;Header&gt;\\n&lt;FileStats&gt;\\n    &lt;FileName&gt;20220613_...</td>\n",
       "    </tr>\n",
       "    <tr>\n",
       "      <th>2</th>\n",
       "      <td>2022</td>\n",
       "      <td>QTR2</td>\n",
       "      <td>20220414</td>\n",
       "      <td>2022</td>\n",
       "      <td>4</td>\n",
       "      <td>14</td>\n",
       "      <td>10-K</td>\n",
       "      <td>data</td>\n",
       "      <td>1855751</td>\n",
       "      <td>20220414_10-K_edgar_data_1855751_0001493152-22...</td>\n",
       "      <td>&lt;Header&gt;\\n&lt;FileStats&gt;\\n    &lt;FileName&gt;20220414_...</td>\n",
       "    </tr>\n",
       "    <tr>\n",
       "      <th>3</th>\n",
       "      <td>2022</td>\n",
       "      <td>QTR2</td>\n",
       "      <td>20220404</td>\n",
       "      <td>2022</td>\n",
       "      <td>4</td>\n",
       "      <td>4</td>\n",
       "      <td>10-K</td>\n",
       "      <td>data</td>\n",
       "      <td>748790</td>\n",
       "      <td>20220404_10-K_edgar_data_748790_0001575872-22-...</td>\n",
       "      <td>&lt;Header&gt;\\n&lt;FileStats&gt;\\n    &lt;FileName&gt;20220404_...</td>\n",
       "    </tr>\n",
       "    <tr>\n",
       "      <th>4</th>\n",
       "      <td>2022</td>\n",
       "      <td>QTR2</td>\n",
       "      <td>20220408</td>\n",
       "      <td>2022</td>\n",
       "      <td>4</td>\n",
       "      <td>8</td>\n",
       "      <td>10-K</td>\n",
       "      <td>data</td>\n",
       "      <td>1512927</td>\n",
       "      <td>20220408_10-K_edgar_data_1512927_0001410578-22...</td>\n",
       "      <td>&lt;Header&gt;\\n&lt;FileStats&gt;\\n    &lt;FileName&gt;20220408_...</td>\n",
       "    </tr>\n",
       "  </tbody>\n",
       "</table>\n",
       "</div>"
      ],
      "text/plain": [
       "  year_folder quarter_folder filing_date  year  month  day filing_type   cik  \\\n",
       "0        2022           QTR2    20220520  2022      5   20        10-K  data   \n",
       "1        2022           QTR2    20220613  2022      6   13        10-K  data   \n",
       "2        2022           QTR2    20220414  2022      4   14        10-K  data   \n",
       "3        2022           QTR2    20220404  2022      4    4        10-K  data   \n",
       "4        2022           QTR2    20220408  2022      4    8        10-K  data   \n",
       "\n",
       "  accession                                           filename  \\\n",
       "0    849399  20220520_10-K_edgar_data_849399_0000849399-22-...   \n",
       "1   1857910  20220613_10-K_edgar_data_1857910_0001599916-22...   \n",
       "2   1855751  20220414_10-K_edgar_data_1855751_0001493152-22...   \n",
       "3    748790  20220404_10-K_edgar_data_748790_0001575872-22-...   \n",
       "4   1512927  20220408_10-K_edgar_data_1512927_0001410578-22...   \n",
       "\n",
       "                                                text  \n",
       "0  <Header>\\n<FileStats>\\n    <FileName>20220520_...  \n",
       "1  <Header>\\n<FileStats>\\n    <FileName>20220613_...  \n",
       "2  <Header>\\n<FileStats>\\n    <FileName>20220414_...  \n",
       "3  <Header>\\n<FileStats>\\n    <FileName>20220404_...  \n",
       "4  <Header>\\n<FileStats>\\n    <FileName>20220408_...  "
      ]
     },
     "execution_count": 15,
     "metadata": {},
     "output_type": "execute_result"
    }
   ],
   "source": [
    "#df_10k_final.head()"
   ]
  },
  {
   "cell_type": "code",
   "execution_count": null,
   "id": "df917370-06fb-4872-8f16-c7c04f1d871c",
   "metadata": {},
   "outputs": [
    {
     "name": "stdout",
     "output_type": "stream",
     "text": [
      "<class 'pandas.core.frame.DataFrame'>\n",
      "RangeIndex: 29302 entries, 0 to 29301\n",
      "Data columns (total 11 columns):\n",
      " #   Column          Non-Null Count  Dtype \n",
      "---  ------          --------------  ----- \n",
      " 0   year_folder     29302 non-null  object\n",
      " 1   quarter_folder  29302 non-null  object\n",
      " 2   filing_date     29302 non-null  object\n",
      " 3   year            29302 non-null  int64 \n",
      " 4   month           29302 non-null  int64 \n",
      " 5   day             29302 non-null  int64 \n",
      " 6   filing_type     29302 non-null  object\n",
      " 7   cik             29302 non-null  object\n",
      " 8   accession       29302 non-null  object\n",
      " 9   filename        29302 non-null  object\n",
      " 10  text            29302 non-null  object\n",
      "dtypes: int64(3), object(8)\n",
      "memory usage: 2.5+ MB\n"
     ]
    }
   ],
   "source": [
    "#df_10k_final.info()"
   ]
  },
  {
   "cell_type": "code",
   "execution_count": null,
   "id": "736b4c25-fcdd-4941-99c5-6dcfe5b2fcad",
   "metadata": {},
   "outputs": [],
   "source": [
    "#df_10k_final.to_csv(\"10K_filings_all_years.csv\", index=False)"
   ]
  },
  {
   "cell_type": "code",
   "execution_count": null,
   "id": "61bc5483-d3a2-4557-bcf7-37bed6789314",
   "metadata": {},
   "outputs": [
    {
     "data": {
      "text/plain": [
       "'/Users/nareshchethala/Desktop/University/Spring_25/BAIM_660/Project'"
      ]
     },
     "execution_count": 19,
     "metadata": {},
     "output_type": "execute_result"
    }
   ],
   "source": [
    "#pwd"
   ]
  },
  {
   "cell_type": "code",
   "execution_count": 13,
   "id": "0d1ee552-3843-4fd8-835f-97890a8af151",
   "metadata": {},
   "outputs": [],
   "source": [
    "import re\n",
    "\n",
    "def clean_10k_text(text):\n",
    "    if pd.isna(text):\n",
    "        return \"\"\n",
    "\n",
    "    # Remove HTML/XML tags (if any)\n",
    "    text = re.sub(r'<[^>]+>', ' ', text)\n",
    "\n",
    "    # Remove SEC header section if present\n",
    "    text = re.sub(r'(?s)<SEC-Header>.*?</SEC-Header>', ' ', text)\n",
    "    text = re.sub(r'(?s)<Header>.*?</Header>', ' ', text)\n",
    "\n",
    "    # Remove file stats or metadata-like sections\n",
    "    text = re.sub(r'(?i)file name.*?\\.txt', ' ', text)\n",
    "\n",
    "    # Remove URLs\n",
    "    text = re.sub(r'http\\S+', ' ', text)\n",
    "\n",
    "    # Remove duplicate underscores, dashes, and asterisks\n",
    "    text = re.sub(r'[_*=-]{2,}', ' ', text)\n",
    "\n",
    "    # Collapse multiple newlines and spaces\n",
    "    text = re.sub(r'\\n+', '\\n', text)\n",
    "    text = re.sub(r'\\s{2,}', ' ', text)\n",
    "\n",
    "    # Strip leading/trailing spaces\n",
    "    return text.strip()"
   ]
  },
  {
   "cell_type": "code",
   "execution_count": null,
   "id": "60a1a057",
   "metadata": {},
   "outputs": [],
   "source": [
    "#df_100=df.head(100)"
   ]
  },
  {
   "cell_type": "code",
   "execution_count": 14,
   "id": "5f318b81",
   "metadata": {},
   "outputs": [
    {
     "data": {
      "text/html": [
       "<div>\n",
       "<style scoped>\n",
       "    .dataframe tbody tr th:only-of-type {\n",
       "        vertical-align: middle;\n",
       "    }\n",
       "\n",
       "    .dataframe tbody tr th {\n",
       "        vertical-align: top;\n",
       "    }\n",
       "\n",
       "    .dataframe thead th {\n",
       "        text-align: right;\n",
       "    }\n",
       "</style>\n",
       "<table border=\"1\" class=\"dataframe\">\n",
       "  <thead>\n",
       "    <tr style=\"text-align: right;\">\n",
       "      <th></th>\n",
       "      <th>Company Name</th>\n",
       "      <th>CIK</th>\n",
       "      <th>Date Filed</th>\n",
       "      <th>Filing URL</th>\n",
       "      <th>Filing Text</th>\n",
       "      <th>Cleaned Text</th>\n",
       "    </tr>\n",
       "  </thead>\n",
       "  <tbody>\n",
       "    <tr>\n",
       "      <th>0</th>\n",
       "      <td>1 800 FLOWERS COM INC</td>\n",
       "      <td>1084869</td>\n",
       "      <td>2020-09</td>\n",
       "      <td>https://www.sec.gov/Archives/edgar/data/108486...</td>\n",
       "      <td>&lt;DOCUMENT&gt;\\n&lt;TYPE&gt;10-K\\n&lt;SEQUENCE&gt;1\\n&lt;FILENAME...</td>\n",
       "      <td>Table of Contents\\nUNITED STATES SECURITIES AN...</td>\n",
       "    </tr>\n",
       "    <tr>\n",
       "      <th>1</th>\n",
       "      <td>3AM TECHNOLOGIES INC</td>\n",
       "      <td>1667615</td>\n",
       "      <td>2020-09</td>\n",
       "      <td>https://www.sec.gov/Archives/edgar/data/166761...</td>\n",
       "      <td>&lt;DOCUMENT&gt;\\n&lt;TYPE&gt;10-K\\n&lt;SEQUENCE&gt;1\\n&lt;FILENAME...</td>\n",
       "      <td>UNITED STATES SECURITIES AND EXCHANGE COMMISSI...</td>\n",
       "    </tr>\n",
       "    <tr>\n",
       "      <th>2</th>\n",
       "      <td>8i Enterprises Acquisition Corp.</td>\n",
       "      <td>1753648</td>\n",
       "      <td>2020-09</td>\n",
       "      <td>https://www.sec.gov/Archives/edgar/data/175364...</td>\n",
       "      <td>&lt;DOCUMENT&gt;\\n&lt;TYPE&gt;10-K\\n&lt;SEQUENCE&gt;1\\n&lt;FILENAME...</td>\n",
       "      <td>UNITED\\nSTATES\\nSECURITIES\\nAND EXCHANGE COMMI...</td>\n",
       "    </tr>\n",
       "    <tr>\n",
       "      <th>3</th>\n",
       "      <td>A-Mark Precious Metals, Inc.</td>\n",
       "      <td>1591588</td>\n",
       "      <td>2020-09</td>\n",
       "      <td>https://www.sec.gov/Archives/edgar/data/159158...</td>\n",
       "      <td>&lt;DOCUMENT&gt;\\n&lt;TYPE&gt;10-K\\n&lt;SEQUENCE&gt;1\\n&lt;FILENAME...</td>\n",
       "      <td>UNITED STATES\\nSECURITIES AND EXCHANGE COMMISS...</td>\n",
       "    </tr>\n",
       "    <tr>\n",
       "      <th>4</th>\n",
       "      <td>AAR CORP</td>\n",
       "      <td>1750</td>\n",
       "      <td>2020-07</td>\n",
       "      <td>https://www.sec.gov/ix?doc=/Archives/edgar/dat...</td>\n",
       "      <td>&lt;?xml version=\"1.0\" encoding=\"UTF-8\"?&gt;\\n&lt;!DOCT...</td>\n",
       "      <td></td>\n",
       "    </tr>\n",
       "  </tbody>\n",
       "</table>\n",
       "</div>"
      ],
      "text/plain": [
       "                       Company Name      CIK Date Filed  \\\n",
       "0             1 800 FLOWERS COM INC  1084869    2020-09   \n",
       "1              3AM TECHNOLOGIES INC  1667615    2020-09   \n",
       "2  8i Enterprises Acquisition Corp.  1753648    2020-09   \n",
       "3      A-Mark Precious Metals, Inc.  1591588    2020-09   \n",
       "4                          AAR CORP     1750    2020-07   \n",
       "\n",
       "                                          Filing URL  \\\n",
       "0  https://www.sec.gov/Archives/edgar/data/108486...   \n",
       "1  https://www.sec.gov/Archives/edgar/data/166761...   \n",
       "2  https://www.sec.gov/Archives/edgar/data/175364...   \n",
       "3  https://www.sec.gov/Archives/edgar/data/159158...   \n",
       "4  https://www.sec.gov/ix?doc=/Archives/edgar/dat...   \n",
       "\n",
       "                                         Filing Text  \\\n",
       "0  <DOCUMENT>\\n<TYPE>10-K\\n<SEQUENCE>1\\n<FILENAME...   \n",
       "1  <DOCUMENT>\\n<TYPE>10-K\\n<SEQUENCE>1\\n<FILENAME...   \n",
       "2  <DOCUMENT>\\n<TYPE>10-K\\n<SEQUENCE>1\\n<FILENAME...   \n",
       "3  <DOCUMENT>\\n<TYPE>10-K\\n<SEQUENCE>1\\n<FILENAME...   \n",
       "4  <?xml version=\"1.0\" encoding=\"UTF-8\"?>\\n<!DOCT...   \n",
       "\n",
       "                                        Cleaned Text  \n",
       "0  Table of Contents\\nUNITED STATES SECURITIES AN...  \n",
       "1  UNITED STATES SECURITIES AND EXCHANGE COMMISSI...  \n",
       "2  UNITED\\nSTATES\\nSECURITIES\\nAND EXCHANGE COMMI...  \n",
       "3  UNITED STATES\\nSECURITIES AND EXCHANGE COMMISS...  \n",
       "4                                                     "
      ]
     },
     "execution_count": 14,
     "metadata": {},
     "output_type": "execute_result"
    }
   ],
   "source": [
    "filings_df.head()"
   ]
  },
  {
   "cell_type": "code",
   "execution_count": 15,
   "id": "5bd5c78c",
   "metadata": {},
   "outputs": [],
   "source": [
    "df_100 = filings_df.head(100)"
   ]
  },
  {
   "cell_type": "code",
   "execution_count": 17,
   "id": "ad5d23e2",
   "metadata": {},
   "outputs": [
    {
     "name": "stderr",
     "output_type": "stream",
     "text": [
      "/var/folders/w1/vt1xc8rs7w9f0fs5spyxbzcc0000gn/T/ipykernel_91495/4140166921.py:1: SettingWithCopyWarning: \n",
      "A value is trying to be set on a copy of a slice from a DataFrame.\n",
      "Try using .loc[row_indexer,col_indexer] = value instead\n",
      "\n",
      "See the caveats in the documentation: https://pandas.pydata.org/pandas-docs/stable/user_guide/indexing.html#returning-a-view-versus-a-copy\n",
      "  df_100[\"cleaned_text\"] = df_100[\"Cleaned Text\"].apply(clean_10k_text)  #11mins\n"
     ]
    }
   ],
   "source": [
    "df_100[\"cleaned_text\"] = df_100[\"Cleaned Text\"].apply(clean_10k_text)  #11mins"
   ]
  },
  {
   "cell_type": "code",
   "execution_count": 18,
   "id": "c9046bc4",
   "metadata": {},
   "outputs": [
    {
     "data": {
      "text/html": [
       "<div>\n",
       "<style scoped>\n",
       "    .dataframe tbody tr th:only-of-type {\n",
       "        vertical-align: middle;\n",
       "    }\n",
       "\n",
       "    .dataframe tbody tr th {\n",
       "        vertical-align: top;\n",
       "    }\n",
       "\n",
       "    .dataframe thead th {\n",
       "        text-align: right;\n",
       "    }\n",
       "</style>\n",
       "<table border=\"1\" class=\"dataframe\">\n",
       "  <thead>\n",
       "    <tr style=\"text-align: right;\">\n",
       "      <th></th>\n",
       "      <th>Company Name</th>\n",
       "      <th>CIK</th>\n",
       "      <th>Date Filed</th>\n",
       "      <th>Filing URL</th>\n",
       "      <th>Filing Text</th>\n",
       "      <th>Cleaned Text</th>\n",
       "      <th>cleaned_text</th>\n",
       "    </tr>\n",
       "  </thead>\n",
       "  <tbody>\n",
       "    <tr>\n",
       "      <th>0</th>\n",
       "      <td>1 800 FLOWERS COM INC</td>\n",
       "      <td>1084869</td>\n",
       "      <td>2020-09</td>\n",
       "      <td>https://www.sec.gov/Archives/edgar/data/108486...</td>\n",
       "      <td>&lt;DOCUMENT&gt;\\n&lt;TYPE&gt;10-K\\n&lt;SEQUENCE&gt;1\\n&lt;FILENAME...</td>\n",
       "      <td>Table of Contents\\nUNITED STATES SECURITIES AN...</td>\n",
       "      <td>Table of Contents\\nUNITED STATES SECURITIES AN...</td>\n",
       "    </tr>\n",
       "    <tr>\n",
       "      <th>1</th>\n",
       "      <td>3AM TECHNOLOGIES INC</td>\n",
       "      <td>1667615</td>\n",
       "      <td>2020-09</td>\n",
       "      <td>https://www.sec.gov/Archives/edgar/data/166761...</td>\n",
       "      <td>&lt;DOCUMENT&gt;\\n&lt;TYPE&gt;10-K\\n&lt;SEQUENCE&gt;1\\n&lt;FILENAME...</td>\n",
       "      <td>UNITED STATES SECURITIES AND EXCHANGE COMMISSI...</td>\n",
       "      <td>UNITED STATES SECURITIES AND EXCHANGE COMMISSI...</td>\n",
       "    </tr>\n",
       "    <tr>\n",
       "      <th>2</th>\n",
       "      <td>8i Enterprises Acquisition Corp.</td>\n",
       "      <td>1753648</td>\n",
       "      <td>2020-09</td>\n",
       "      <td>https://www.sec.gov/Archives/edgar/data/175364...</td>\n",
       "      <td>&lt;DOCUMENT&gt;\\n&lt;TYPE&gt;10-K\\n&lt;SEQUENCE&gt;1\\n&lt;FILENAME...</td>\n",
       "      <td>UNITED\\nSTATES\\nSECURITIES\\nAND EXCHANGE COMMI...</td>\n",
       "      <td>UNITED\\nSTATES\\nSECURITIES\\nAND EXCHANGE COMMI...</td>\n",
       "    </tr>\n",
       "    <tr>\n",
       "      <th>3</th>\n",
       "      <td>A-Mark Precious Metals, Inc.</td>\n",
       "      <td>1591588</td>\n",
       "      <td>2020-09</td>\n",
       "      <td>https://www.sec.gov/Archives/edgar/data/159158...</td>\n",
       "      <td>&lt;DOCUMENT&gt;\\n&lt;TYPE&gt;10-K\\n&lt;SEQUENCE&gt;1\\n&lt;FILENAME...</td>\n",
       "      <td>UNITED STATES\\nSECURITIES AND EXCHANGE COMMISS...</td>\n",
       "      <td>UNITED STATES\\nSECURITIES AND EXCHANGE COMMISS...</td>\n",
       "    </tr>\n",
       "    <tr>\n",
       "      <th>4</th>\n",
       "      <td>AAR CORP</td>\n",
       "      <td>1750</td>\n",
       "      <td>2020-07</td>\n",
       "      <td>https://www.sec.gov/ix?doc=/Archives/edgar/dat...</td>\n",
       "      <td>&lt;?xml version=\"1.0\" encoding=\"UTF-8\"?&gt;\\n&lt;!DOCT...</td>\n",
       "      <td></td>\n",
       "      <td></td>\n",
       "    </tr>\n",
       "    <tr>\n",
       "      <th>...</th>\n",
       "      <td>...</td>\n",
       "      <td>...</td>\n",
       "      <td>...</td>\n",
       "      <td>...</td>\n",
       "      <td>...</td>\n",
       "      <td>...</td>\n",
       "      <td>...</td>\n",
       "    </tr>\n",
       "    <tr>\n",
       "      <th>95</th>\n",
       "      <td>CONAGRA BRANDS INC.</td>\n",
       "      <td>23217</td>\n",
       "      <td>2020-07</td>\n",
       "      <td>https://www.sec.gov/ix?doc=/Archives/edgar/dat...</td>\n",
       "      <td>&lt;?xml version=\"1.0\" encoding=\"UTF-8\"?&gt;\\n&lt;!DOCT...</td>\n",
       "      <td></td>\n",
       "      <td></td>\n",
       "    </tr>\n",
       "    <tr>\n",
       "      <th>96</th>\n",
       "      <td>CONCIERGE TECHNOLOGIES INC</td>\n",
       "      <td>1005101</td>\n",
       "      <td>2020-09</td>\n",
       "      <td>https://www.sec.gov/Archives/edgar/data/100510...</td>\n",
       "      <td>&lt;DOCUMENT&gt;\\n&lt;TYPE&gt;10-K\\n&lt;SEQUENCE&gt;1\\n&lt;FILENAME...</td>\n",
       "      <td>Table of Contents\\nUNITED STATES\\nSECURITIES A...</td>\n",
       "      <td>Table of Contents\\nUNITED STATES\\nSECURITIES A...</td>\n",
       "    </tr>\n",
       "    <tr>\n",
       "      <th>97</th>\n",
       "      <td>CONSUMERS BANCORP INC /OH/</td>\n",
       "      <td>1006830</td>\n",
       "      <td>2020-09</td>\n",
       "      <td>https://www.sec.gov/Archives/edgar/data/100683...</td>\n",
       "      <td>&lt;DOCUMENT&gt;\\n&lt;TYPE&gt;10-K\\n&lt;SEQUENCE&gt;1\\n&lt;FILENAME...</td>\n",
       "      <td>UNITED STATES\\nSECURITIES AND EXCHANGE COMMISS...</td>\n",
       "      <td>UNITED STATES\\nSECURITIES AND EXCHANGE COMMISS...</td>\n",
       "    </tr>\n",
       "    <tr>\n",
       "      <th>98</th>\n",
       "      <td>COPART INC</td>\n",
       "      <td>900075</td>\n",
       "      <td>2020-09</td>\n",
       "      <td>https://www.sec.gov/ix?doc=/Archives/edgar/dat...</td>\n",
       "      <td>&lt;?xml version=\"1.0\" encoding=\"UTF-8\"?&gt;\\n&lt;!DOCT...</td>\n",
       "      <td></td>\n",
       "      <td></td>\n",
       "    </tr>\n",
       "    <tr>\n",
       "      <th>99</th>\n",
       "      <td>COTY INC.</td>\n",
       "      <td>1024305</td>\n",
       "      <td>2020-08</td>\n",
       "      <td>https://www.sec.gov/ix?doc=/Archives/edgar/dat...</td>\n",
       "      <td>&lt;?xml version=\"1.0\" encoding=\"UTF-8\"?&gt;\\n&lt;!DOCT...</td>\n",
       "      <td></td>\n",
       "      <td></td>\n",
       "    </tr>\n",
       "  </tbody>\n",
       "</table>\n",
       "<p>100 rows × 7 columns</p>\n",
       "</div>"
      ],
      "text/plain": [
       "                        Company Name      CIK Date Filed  \\\n",
       "0              1 800 FLOWERS COM INC  1084869    2020-09   \n",
       "1               3AM TECHNOLOGIES INC  1667615    2020-09   \n",
       "2   8i Enterprises Acquisition Corp.  1753648    2020-09   \n",
       "3       A-Mark Precious Metals, Inc.  1591588    2020-09   \n",
       "4                           AAR CORP     1750    2020-07   \n",
       "..                               ...      ...        ...   \n",
       "95               CONAGRA BRANDS INC.    23217    2020-07   \n",
       "96        CONCIERGE TECHNOLOGIES INC  1005101    2020-09   \n",
       "97        CONSUMERS BANCORP INC /OH/  1006830    2020-09   \n",
       "98                        COPART INC   900075    2020-09   \n",
       "99                         COTY INC.  1024305    2020-08   \n",
       "\n",
       "                                           Filing URL  \\\n",
       "0   https://www.sec.gov/Archives/edgar/data/108486...   \n",
       "1   https://www.sec.gov/Archives/edgar/data/166761...   \n",
       "2   https://www.sec.gov/Archives/edgar/data/175364...   \n",
       "3   https://www.sec.gov/Archives/edgar/data/159158...   \n",
       "4   https://www.sec.gov/ix?doc=/Archives/edgar/dat...   \n",
       "..                                                ...   \n",
       "95  https://www.sec.gov/ix?doc=/Archives/edgar/dat...   \n",
       "96  https://www.sec.gov/Archives/edgar/data/100510...   \n",
       "97  https://www.sec.gov/Archives/edgar/data/100683...   \n",
       "98  https://www.sec.gov/ix?doc=/Archives/edgar/dat...   \n",
       "99  https://www.sec.gov/ix?doc=/Archives/edgar/dat...   \n",
       "\n",
       "                                          Filing Text  \\\n",
       "0   <DOCUMENT>\\n<TYPE>10-K\\n<SEQUENCE>1\\n<FILENAME...   \n",
       "1   <DOCUMENT>\\n<TYPE>10-K\\n<SEQUENCE>1\\n<FILENAME...   \n",
       "2   <DOCUMENT>\\n<TYPE>10-K\\n<SEQUENCE>1\\n<FILENAME...   \n",
       "3   <DOCUMENT>\\n<TYPE>10-K\\n<SEQUENCE>1\\n<FILENAME...   \n",
       "4   <?xml version=\"1.0\" encoding=\"UTF-8\"?>\\n<!DOCT...   \n",
       "..                                                ...   \n",
       "95  <?xml version=\"1.0\" encoding=\"UTF-8\"?>\\n<!DOCT...   \n",
       "96  <DOCUMENT>\\n<TYPE>10-K\\n<SEQUENCE>1\\n<FILENAME...   \n",
       "97  <DOCUMENT>\\n<TYPE>10-K\\n<SEQUENCE>1\\n<FILENAME...   \n",
       "98  <?xml version=\"1.0\" encoding=\"UTF-8\"?>\\n<!DOCT...   \n",
       "99  <?xml version=\"1.0\" encoding=\"UTF-8\"?>\\n<!DOCT...   \n",
       "\n",
       "                                         Cleaned Text  \\\n",
       "0   Table of Contents\\nUNITED STATES SECURITIES AN...   \n",
       "1   UNITED STATES SECURITIES AND EXCHANGE COMMISSI...   \n",
       "2   UNITED\\nSTATES\\nSECURITIES\\nAND EXCHANGE COMMI...   \n",
       "3   UNITED STATES\\nSECURITIES AND EXCHANGE COMMISS...   \n",
       "4                                                       \n",
       "..                                                ...   \n",
       "95                                                      \n",
       "96  Table of Contents\\nUNITED STATES\\nSECURITIES A...   \n",
       "97  UNITED STATES\\nSECURITIES AND EXCHANGE COMMISS...   \n",
       "98                                                      \n",
       "99                                                      \n",
       "\n",
       "                                         cleaned_text  \n",
       "0   Table of Contents\\nUNITED STATES SECURITIES AN...  \n",
       "1   UNITED STATES SECURITIES AND EXCHANGE COMMISSI...  \n",
       "2   UNITED\\nSTATES\\nSECURITIES\\nAND EXCHANGE COMMI...  \n",
       "3   UNITED STATES\\nSECURITIES AND EXCHANGE COMMISS...  \n",
       "4                                                      \n",
       "..                                                ...  \n",
       "95                                                     \n",
       "96  Table of Contents\\nUNITED STATES\\nSECURITIES A...  \n",
       "97  UNITED STATES\\nSECURITIES AND EXCHANGE COMMISS...  \n",
       "98                                                     \n",
       "99                                                     \n",
       "\n",
       "[100 rows x 7 columns]"
      ]
     },
     "metadata": {},
     "output_type": "display_data"
    }
   ],
   "source": [
    "display(df_100)"
   ]
  },
  {
   "cell_type": "code",
   "execution_count": 19,
   "id": "bfc51bf1",
   "metadata": {},
   "outputs": [
    {
     "data": {
      "application/vnd.jupyter.widget-view+json": {
       "model_id": "885b8bdbbf764a0e9f7168b692cbde7e",
       "version_major": 2,
       "version_minor": 0
      },
      "text/plain": [
       "pytorch_model.bin:   0%|          | 0.00/439M [00:00<?, ?B/s]"
      ]
     },
     "metadata": {},
     "output_type": "display_data"
    },
    {
     "data": {
      "text/plain": [
       "BertForSequenceClassification(\n",
       "  (bert): BertModel(\n",
       "    (embeddings): BertEmbeddings(\n",
       "      (word_embeddings): Embedding(30873, 768, padding_idx=0)\n",
       "      (position_embeddings): Embedding(512, 768)\n",
       "      (token_type_embeddings): Embedding(2, 768)\n",
       "      (LayerNorm): LayerNorm((768,), eps=1e-12, elementwise_affine=True)\n",
       "      (dropout): Dropout(p=0.1, inplace=False)\n",
       "    )\n",
       "    (encoder): BertEncoder(\n",
       "      (layer): ModuleList(\n",
       "        (0-11): 12 x BertLayer(\n",
       "          (attention): BertAttention(\n",
       "            (self): BertSdpaSelfAttention(\n",
       "              (query): Linear(in_features=768, out_features=768, bias=True)\n",
       "              (key): Linear(in_features=768, out_features=768, bias=True)\n",
       "              (value): Linear(in_features=768, out_features=768, bias=True)\n",
       "              (dropout): Dropout(p=0.1, inplace=False)\n",
       "            )\n",
       "            (output): BertSelfOutput(\n",
       "              (dense): Linear(in_features=768, out_features=768, bias=True)\n",
       "              (LayerNorm): LayerNorm((768,), eps=1e-12, elementwise_affine=True)\n",
       "              (dropout): Dropout(p=0.1, inplace=False)\n",
       "            )\n",
       "          )\n",
       "          (intermediate): BertIntermediate(\n",
       "            (dense): Linear(in_features=768, out_features=3072, bias=True)\n",
       "            (intermediate_act_fn): GELUActivation()\n",
       "          )\n",
       "          (output): BertOutput(\n",
       "            (dense): Linear(in_features=3072, out_features=768, bias=True)\n",
       "            (LayerNorm): LayerNorm((768,), eps=1e-12, elementwise_affine=True)\n",
       "            (dropout): Dropout(p=0.1, inplace=False)\n",
       "          )\n",
       "        )\n",
       "      )\n",
       "    )\n",
       "    (pooler): BertPooler(\n",
       "      (dense): Linear(in_features=768, out_features=768, bias=True)\n",
       "      (activation): Tanh()\n",
       "    )\n",
       "  )\n",
       "  (dropout): Dropout(p=0.1, inplace=False)\n",
       "  (classifier): Linear(in_features=768, out_features=3, bias=True)\n",
       ")"
      ]
     },
     "execution_count": 19,
     "metadata": {},
     "output_type": "execute_result"
    },
    {
     "data": {
      "application/vnd.jupyter.widget-view+json": {
       "model_id": "c926f4dfcf404483b94d77450766ff82",
       "version_major": 2,
       "version_minor": 0
      },
      "text/plain": [
       "model.safetensors:   0%|          | 0.00/439M [00:00<?, ?B/s]"
      ]
     },
     "metadata": {},
     "output_type": "display_data"
    }
   ],
   "source": [
    "from transformers import AutoTokenizer, AutoModelForSequenceClassification\n",
    "import torch\n",
    "import numpy as np\n",
    "\n",
    "device = torch.device(\"cuda\" if torch.cuda.is_available() else \"cpu\")\n",
    "\n",
    "tokenizer = AutoTokenizer.from_pretrained(\"yiyanghkust/finbert-tone\")\n",
    "model = AutoModelForSequenceClassification.from_pretrained(\"yiyanghkust/finbert-tone\")\n",
    "model.to(device)\n",
    "model.eval()"
   ]
  },
  {
   "cell_type": "code",
   "execution_count": 25,
   "id": "fb87c989",
   "metadata": {},
   "outputs": [],
   "source": [
    "def chunk_text_by_tokens(text, tokenizer, max_tokens=512):\n",
    "    tokens = tokenizer.tokenize(text)\n",
    "    chunks = []\n",
    "\n",
    "    for i in range(0, len(tokens), max_tokens - 50):  # 50 buffer for [CLS], [SEP], etc.\n",
    "        chunk_tokens = tokens[i:i + max_tokens - 50]\n",
    "        chunk = tokenizer.convert_tokens_to_string(chunk_tokens)\n",
    "        chunks.append(chunk)\n",
    "\n",
    "    return chunks"
   ]
  },
  {
   "cell_type": "code",
   "execution_count": 24,
   "id": "57516a51",
   "metadata": {},
   "outputs": [],
   "source": [
    "def get_sentiment_scores(chunks):\n",
    "    sentiments = []\n",
    "    for chunk in chunks:\n",
    "        # Tokenize with truncation and ensure it's not oversized\n",
    "        inputs = tokenizer(chunk, return_tensors=\"pt\", truncation=True, padding=True, max_length=512)\n",
    "        \n",
    "        # Safety check: discard if too long after tokenization (rare but cautious)\n",
    "        if inputs['input_ids'].shape[1] > 512:\n",
    "            print(\"Skipping oversized chunk\")\n",
    "            continue\n",
    "\n",
    "        inputs = inputs.to(device)\n",
    "\n",
    "        with torch.no_grad():\n",
    "            outputs = model(**inputs)\n",
    "\n",
    "        probs = torch.nn.functional.softmax(outputs.logits, dim=-1)\n",
    "        label = torch.argmax(probs, dim=1).item()\n",
    "        sentiments.append(label)\n",
    "\n",
    "    return sentiments"
   ]
  },
  {
   "cell_type": "code",
   "execution_count": 28,
   "id": "27fcf200",
   "metadata": {},
   "outputs": [],
   "source": [
    "from collections import Counter\n",
    "\n",
    "def aggregate_sentiment(sentiments):\n",
    "    if not sentiments:  # catch empty list\n",
    "        return {\"negative\": 0, \"neutral\": 0, \"positive\": 0}\n",
    "\n",
    "    count = Counter(sentiments)\n",
    "    total = len(sentiments)\n",
    "    return {\n",
    "        \"negative\": count[0] / total,\n",
    "        \"neutral\": count[1] / total,\n",
    "        \"positive\": count[2] / total\n",
    "    }"
   ]
  },
  {
   "cell_type": "code",
   "execution_count": 29,
   "id": "012ab561",
   "metadata": {},
   "outputs": [
    {
     "name": "stderr",
     "output_type": "stream",
     "text": [
      "  0%|          | 0/100 [00:00<?, ?it/s]"
     ]
    },
    {
     "name": "stdout",
     "output_type": "stream",
     "text": [
      "Processing 1/100: 1 800 FLOWERS COM INC\n"
     ]
    },
    {
     "name": "stderr",
     "output_type": "stream",
     "text": [
      "  1%|          | 1/100 [01:01<1:41:17, 61.39s/it]"
     ]
    },
    {
     "name": "stdout",
     "output_type": "stream",
     "text": [
      "Processing 2/100: 3AM TECHNOLOGIES INC\n"
     ]
    },
    {
     "name": "stderr",
     "output_type": "stream",
     "text": [
      "  2%|▏         | 2/100 [01:11<51:18, 31.41s/it]  "
     ]
    },
    {
     "name": "stdout",
     "output_type": "stream",
     "text": [
      "Processing 3/100: 8i Enterprises Acquisition Corp.\n"
     ]
    },
    {
     "name": "stderr",
     "output_type": "stream",
     "text": [
      "  3%|▎         | 3/100 [01:51<57:10, 35.36s/it]"
     ]
    },
    {
     "name": "stdout",
     "output_type": "stream",
     "text": [
      "Processing 4/100: A-Mark Precious Metals, Inc.\n"
     ]
    },
    {
     "name": "stderr",
     "output_type": "stream",
     "text": [
      "  4%|▍         | 4/100 [03:16<1:27:51, 54.91s/it]"
     ]
    },
    {
     "name": "stdout",
     "output_type": "stream",
     "text": [
      "Processing 5/100: AAR CORP\n",
      "Processing 6/100: ABCO Energy, Inc.\n"
     ]
    },
    {
     "name": "stderr",
     "output_type": "stream",
     "text": [
      "  6%|▌         | 6/100 [03:47<53:17, 34.01s/it]  "
     ]
    },
    {
     "name": "stdout",
     "output_type": "stream",
     "text": [
      "Processing 7/100: ACCURAY INC\n",
      "Processing 8/100: ADM TRONICS UNLIMITED, INC.\n"
     ]
    },
    {
     "name": "stderr",
     "output_type": "stream",
     "text": [
      "  8%|▊         | 8/100 [04:09<36:52, 24.04s/it]"
     ]
    },
    {
     "name": "stdout",
     "output_type": "stream",
     "text": [
      "Processing 9/100: ADMIRAL FINANCIAL CORP\n"
     ]
    },
    {
     "name": "stderr",
     "output_type": "stream",
     "text": [
      "  9%|▉         | 9/100 [04:16<30:19, 19.99s/it]"
     ]
    },
    {
     "name": "stdout",
     "output_type": "stream",
     "text": [
      "Processing 10/100: ADVANCED OXYGEN TECHNOLOGIES INC\n"
     ]
    },
    {
     "name": "stderr",
     "output_type": "stream",
     "text": [
      " 10%|█         | 10/100 [04:39<31:18, 20.87s/it]"
     ]
    },
    {
     "name": "stdout",
     "output_type": "stream",
     "text": [
      "Processing 11/100: AEHR TEST SYSTEMS\n"
     ]
    },
    {
     "name": "stderr",
     "output_type": "stream",
     "text": [
      " 11%|█         | 11/100 [05:24<40:18, 27.18s/it]"
     ]
    },
    {
     "name": "stdout",
     "output_type": "stream",
     "text": [
      "Processing 12/100: ALKALINE WATER Co INC\n"
     ]
    },
    {
     "name": "stderr",
     "output_type": "stream",
     "text": [
      " 12%|█▏        | 12/100 [06:09<47:02, 32.07s/it]"
     ]
    },
    {
     "name": "stdout",
     "output_type": "stream",
     "text": [
      "Processing 13/100: ALLIED HEALTHCARE PRODUCTS INC\n"
     ]
    },
    {
     "name": "stderr",
     "output_type": "stream",
     "text": [
      " 13%|█▎        | 13/100 [06:37<44:44, 30.86s/it]"
     ]
    },
    {
     "name": "stdout",
     "output_type": "stream",
     "text": [
      "Processing 14/100: ALPHA & OMEGA SEMICONDUCTOR Ltd\n",
      "Processing 15/100: ALPHA ENERGY INC\n"
     ]
    },
    {
     "name": "stderr",
     "output_type": "stream",
     "text": [
      " 15%|█▌        | 15/100 [07:02<32:05, 22.65s/it]"
     ]
    },
    {
     "name": "stdout",
     "output_type": "stream",
     "text": [
      "Processing 16/100: AMERICAN SOFTWARE INC\n"
     ]
    },
    {
     "name": "stderr",
     "output_type": "stream",
     "text": [
      " 16%|█▌        | 16/100 [07:54<41:39, 29.75s/it]"
     ]
    },
    {
     "name": "stdout",
     "output_type": "stream",
     "text": [
      "Processing 17/100: AMERITYRE CORP\n",
      "Processing 18/100: AMMO, INC.\n"
     ]
    },
    {
     "name": "stderr",
     "output_type": "stream",
     "text": [
      " 18%|█▊        | 18/100 [08:49<39:33, 28.95s/it]"
     ]
    },
    {
     "name": "stdout",
     "output_type": "stream",
     "text": [
      "Processing 19/100: AMREP CORP.\n"
     ]
    },
    {
     "name": "stderr",
     "output_type": "stream",
     "text": [
      " 19%|█▉        | 19/100 [09:20<39:39, 29.38s/it]"
     ]
    },
    {
     "name": "stdout",
     "output_type": "stream",
     "text": [
      "Processing 20/100: ANDES 7 INC.\n"
     ]
    },
    {
     "name": "stderr",
     "output_type": "stream",
     "text": [
      " 20%|██        | 20/100 [09:38<35:16, 26.46s/it]"
     ]
    },
    {
     "name": "stdout",
     "output_type": "stream",
     "text": [
      "Processing 21/100: ANGIODYNAMICS INC\n",
      "Processing 22/100: ANVI GLOBAL HOLDINGS, INC.\n"
     ]
    },
    {
     "name": "stderr",
     "output_type": "stream",
     "text": [
      " 22%|██▏       | 22/100 [09:52<23:59, 18.46s/it]"
     ]
    },
    {
     "name": "stdout",
     "output_type": "stream",
     "text": [
      "Processing 23/100: APPIPHANY TECHNOLOGIES HOLDINGS CORP\n"
     ]
    },
    {
     "name": "stderr",
     "output_type": "stream",
     "text": [
      " 23%|██▎       | 23/100 [10:16<25:18, 19.72s/it]"
     ]
    },
    {
     "name": "stdout",
     "output_type": "stream",
     "text": [
      "Processing 24/100: APPLIED GENETIC TECHNOLOGIES CORP\n"
     ]
    },
    {
     "name": "stderr",
     "output_type": "stream",
     "text": [
      " 24%|██▍       | 24/100 [11:50<48:15, 38.10s/it]"
     ]
    },
    {
     "name": "stdout",
     "output_type": "stream",
     "text": [
      "Processing 25/100: APPLIED INDUSTRIAL TECHNOLOGIES INC\n",
      "Processing 26/100: APPlife Digital Solutions Inc\n"
     ]
    },
    {
     "name": "stderr",
     "output_type": "stream",
     "text": [
      " 26%|██▌       | 26/100 [12:05<31:18, 25.39s/it]"
     ]
    },
    {
     "name": "stdout",
     "output_type": "stream",
     "text": [
      "Processing 27/100: ASPEN GROUP, INC.\n",
      "Processing 28/100: ASTROTECH Corp\n"
     ]
    },
    {
     "name": "stderr",
     "output_type": "stream",
     "text": [
      " 28%|██▊       | 28/100 [12:53<29:52, 24.90s/it]"
     ]
    },
    {
     "name": "stdout",
     "output_type": "stream",
     "text": [
      "Processing 29/100: AURA SYSTEMS INC\n"
     ]
    },
    {
     "name": "stderr",
     "output_type": "stream",
     "text": [
      " 29%|██▉       | 29/100 [13:31<32:41, 27.62s/it]"
     ]
    },
    {
     "name": "stdout",
     "output_type": "stream",
     "text": [
      "Processing 30/100: AUTOMATIC DATA PROCESSING INC\n",
      "Processing 31/100: AVIAT NETWORKS, INC.\n",
      "Processing 32/100: AVNET INC\n",
      "Processing 33/100: AXELEREX CORP.\n"
     ]
    },
    {
     "name": "stderr",
     "output_type": "stream",
     "text": [
      " 33%|███▎      | 33/100 [13:44<16:03, 14.38s/it]"
     ]
    },
    {
     "name": "stdout",
     "output_type": "stream",
     "text": [
      "Processing 34/100: Achison Inc\n"
     ]
    },
    {
     "name": "stderr",
     "output_type": "stream",
     "text": [
      " 34%|███▍      | 34/100 [13:55<15:10, 13.80s/it]"
     ]
    },
    {
     "name": "stdout",
     "output_type": "stream",
     "text": [
      "Processing 35/100: Addus HomeCare Corp\n",
      "Processing 36/100: Adtalem Global Education Inc.\n",
      "Processing 37/100: Akerna Corp.\n"
     ]
    },
    {
     "name": "stderr",
     "output_type": "stream",
     "text": [
      " 37%|███▋      | 37/100 [14:39<14:52, 14.16s/it]"
     ]
    },
    {
     "name": "stdout",
     "output_type": "stream",
     "text": [
      "Processing 38/100: Akoustis Technologies, Inc.\n"
     ]
    },
    {
     "name": "stderr",
     "output_type": "stream",
     "text": [
      " 38%|███▊      | 38/100 [15:21<19:25, 18.80s/it]"
     ]
    },
    {
     "name": "stdout",
     "output_type": "stream",
     "text": [
      "Processing 39/100: All State Properties Holdings, Inc.\n"
     ]
    },
    {
     "name": "stderr",
     "output_type": "stream",
     "text": [
      " 39%|███▉      | 39/100 [15:32<17:31, 17.24s/it]"
     ]
    },
    {
     "name": "stdout",
     "output_type": "stream",
     "text": [
      "Processing 40/100: All State Properties Holdings, Inc.\n"
     ]
    },
    {
     "name": "stderr",
     "output_type": "stream",
     "text": [
      " 40%|████      | 40/100 [15:43<15:50, 15.84s/it]"
     ]
    },
    {
     "name": "stdout",
     "output_type": "stream",
     "text": [
      "Processing 41/100: Amcor plc\n",
      "Processing 42/100: Amesite Inc.\n"
     ]
    },
    {
     "name": "stderr",
     "output_type": "stream",
     "text": [
      " 42%|████▏     | 42/100 [16:09<14:21, 14.86s/it]"
     ]
    },
    {
     "name": "stdout",
     "output_type": "stream",
     "text": [
      "Processing 43/100: Anvia Holdings Corp\n"
     ]
    },
    {
     "name": "stderr",
     "output_type": "stream",
     "text": [
      " 43%|████▎     | 43/100 [16:40<17:17, 18.21s/it]"
     ]
    },
    {
     "name": "stdout",
     "output_type": "stream",
     "text": [
      "Processing 44/100: Ariel Clean Energy, Inc.\n",
      "Processing 45/100: Arma Services Inc\n"
     ]
    },
    {
     "name": "stderr",
     "output_type": "stream",
     "text": [
      " 45%|████▌     | 45/100 [16:47<11:43, 12.78s/it]"
     ]
    },
    {
     "name": "stdout",
     "output_type": "stream",
     "text": [
      "Processing 46/100: Arrestage International, Inc.\n"
     ]
    },
    {
     "name": "stderr",
     "output_type": "stream",
     "text": [
      " 46%|████▌     | 46/100 [17:06<12:40, 14.08s/it]"
     ]
    },
    {
     "name": "stdout",
     "output_type": "stream",
     "text": [
      "Processing 47/100: Artificial Intelligence Technology Solutions Inc.\n"
     ]
    },
    {
     "name": "stderr",
     "output_type": "stream",
     "text": [
      " 47%|████▋     | 47/100 [17:43<17:07, 19.38s/it]"
     ]
    },
    {
     "name": "stdout",
     "output_type": "stream",
     "text": [
      "Processing 48/100: Avita Therapeutics, Inc.\n"
     ]
    },
    {
     "name": "stderr",
     "output_type": "stream",
     "text": [
      " 48%|████▊     | 48/100 [18:32<23:15, 26.83s/it]"
     ]
    },
    {
     "name": "stdout",
     "output_type": "stream",
     "text": [
      "Processing 49/100: Axos Financial, Inc.\n",
      "Processing 50/100: B2Digital, Inc.\n"
     ]
    },
    {
     "name": "stderr",
     "output_type": "stream",
     "text": [
      " 50%|█████     | 50/100 [19:03<18:20, 22.00s/it]"
     ]
    },
    {
     "name": "stdout",
     "output_type": "stream",
     "text": [
      "Processing 51/100: BIO-TECHNE Corp\n",
      "Processing 52/100: BIOMERICA INC\n"
     ]
    },
    {
     "name": "stderr",
     "output_type": "stream",
     "text": [
      " 52%|█████▏    | 52/100 [19:36<15:57, 19.94s/it]"
     ]
    },
    {
     "name": "stdout",
     "output_type": "stream",
     "text": [
      "Processing 53/100: BION ENVIRONMENTAL TECHNOLOGIES INC\n"
     ]
    },
    {
     "name": "stderr",
     "output_type": "stream",
     "text": [
      " 53%|█████▎    | 53/100 [20:38<22:32, 28.79s/it]"
     ]
    },
    {
     "name": "stdout",
     "output_type": "stream",
     "text": [
      "Processing 54/100: BIOSYNERGY INC\n"
     ]
    },
    {
     "name": "stderr",
     "output_type": "stream",
     "text": [
      " 54%|█████▍    | 54/100 [20:57<20:23, 26.60s/it]"
     ]
    },
    {
     "name": "stdout",
     "output_type": "stream",
     "text": [
      "Processing 55/100: BIOTRICITY INC.\n"
     ]
    },
    {
     "name": "stderr",
     "output_type": "stream",
     "text": [
      " 55%|█████▌    | 55/100 [21:38<22:35, 30.11s/it]"
     ]
    },
    {
     "name": "stdout",
     "output_type": "stream",
     "text": [
      "Processing 56/100: BIOVIE INC.\n"
     ]
    },
    {
     "name": "stderr",
     "output_type": "stream",
     "text": [
      " 56%|█████▌    | 56/100 [22:18<24:05, 32.84s/it]"
     ]
    },
    {
     "name": "stdout",
     "output_type": "stream",
     "text": [
      "Processing 57/100: BLACK CACTUS GLOBAL, INC.\n"
     ]
    },
    {
     "name": "stderr",
     "output_type": "stream",
     "text": [
      " 57%|█████▋    | 57/100 [22:38<20:58, 29.27s/it]"
     ]
    },
    {
     "name": "stdout",
     "output_type": "stream",
     "text": [
      "Processing 58/100: BOTTOMLINE TECHNOLOGIES INC /DE/\n",
      "Processing 59/100: BOWL AMERICA INC\n"
     ]
    },
    {
     "name": "stderr",
     "output_type": "stream",
     "text": [
      " 59%|█████▉    | 59/100 [22:51<13:09, 19.27s/it]"
     ]
    },
    {
     "name": "stdout",
     "output_type": "stream",
     "text": [
      "Processing 60/100: BRADY CORP\n",
      "Processing 61/100: BRIDGEWAY NATIONAL CORP.\n"
     ]
    },
    {
     "name": "stderr",
     "output_type": "stream",
     "text": [
      " 61%|██████    | 61/100 [23:15<10:46, 16.57s/it]"
     ]
    },
    {
     "name": "stdout",
     "output_type": "stream",
     "text": [
      "Processing 62/100: BRINKER INTERNATIONAL, INC\n",
      "Processing 63/100: BROADRIDGE FINANCIAL SOLUTIONS, INC.\n",
      "Processing 64/100: BUTLER NATIONAL CORP\n"
     ]
    },
    {
     "name": "stderr",
     "output_type": "stream",
     "text": [
      " 64%|██████▍   | 64/100 [23:39<07:33, 12.61s/it]"
     ]
    },
    {
     "name": "stdout",
     "output_type": "stream",
     "text": [
      "Processing 65/100: Barnes & Noble Education, Inc.\n"
     ]
    },
    {
     "name": "stderr",
     "output_type": "stream",
     "text": [
      " 65%|██████▌   | 65/100 [24:41<12:29, 21.40s/it]"
     ]
    },
    {
     "name": "stdout",
     "output_type": "stream",
     "text": [
      "Processing 66/100: Benitec Biopharma Inc.\n"
     ]
    },
    {
     "name": "stderr",
     "output_type": "stream",
     "text": [
      " 66%|██████▌   | 66/100 [25:48<17:19, 30.58s/it]"
     ]
    },
    {
     "name": "stdout",
     "output_type": "stream",
     "text": [
      "Processing 67/100: Bill.com Holdings, Inc.\n",
      "Processing 68/100: Blox, Inc.\n"
     ]
    },
    {
     "name": "stderr",
     "output_type": "stream",
     "text": [
      " 68%|██████▊   | 68/100 [26:12<12:41, 23.81s/it]"
     ]
    },
    {
     "name": "stdout",
     "output_type": "stream",
     "text": [
      "Processing 69/100: Blubuzzard, Inc.\n"
     ]
    },
    {
     "name": "stderr",
     "output_type": "stream",
     "text": [
      " 69%|██████▉   | 69/100 [26:26<11:16, 21.81s/it]"
     ]
    },
    {
     "name": "stdout",
     "output_type": "stream",
     "text": [
      "Processing 70/100: Blue Line Protection Group, Inc.\n"
     ]
    },
    {
     "name": "stderr",
     "output_type": "stream",
     "text": [
      " 70%|███████   | 70/100 [26:53<11:27, 22.91s/it]"
     ]
    },
    {
     "name": "stdout",
     "output_type": "stream",
     "text": [
      "Processing 71/100: Bunker Hill Mining Corp.\n"
     ]
    },
    {
     "name": "stderr",
     "output_type": "stream",
     "text": [
      " 71%|███████   | 71/100 [27:25<12:11, 25.24s/it]"
     ]
    },
    {
     "name": "stdout",
     "output_type": "stream",
     "text": [
      "Processing 72/100: C & C TOURS INC\n"
     ]
    },
    {
     "name": "stderr",
     "output_type": "stream",
     "text": [
      " 72%|███████▏  | 72/100 [27:35<09:50, 21.10s/it]"
     ]
    },
    {
     "name": "stdout",
     "output_type": "stream",
     "text": [
      "Processing 73/100: CACI INTERNATIONAL INC /DE/\n",
      "Processing 74/100: CAL-MAINE FOODS INC\n",
      "Processing 75/100: CAMPBELL SOUP CO\n",
      "Processing 76/100: CANNABIS SUISSE CORP.\n"
     ]
    },
    {
     "name": "stderr",
     "output_type": "stream",
     "text": [
      " 76%|███████▌  | 76/100 [27:35<03:24,  8.52s/it]"
     ]
    },
    {
     "name": "stdout",
     "output_type": "stream",
     "text": [
      "Processing 77/100: CANTEL MEDICAL CORP\n",
      "Processing 78/100: CARDINAL HEALTH INC\n",
      "Processing 79/100: CARPENTER TECHNOLOGY CORP\n",
      "Processing 80/100: CARVER BANCORP INC\n",
      "Processing 81/100: CCUR Holdings, Inc.\n"
     ]
    },
    {
     "name": "stderr",
     "output_type": "stream",
     "text": [
      " 81%|████████  | 81/100 [28:24<02:55,  9.24s/it]"
     ]
    },
    {
     "name": "stdout",
     "output_type": "stream",
     "text": [
      "Processing 82/100: CDK Global, Inc.\n",
      "Processing 83/100: CHAMPIONS ONCOLOGY, INC.\n"
     ]
    },
    {
     "name": "stderr",
     "output_type": "stream",
     "text": [
      " 83%|████████▎ | 83/100 [29:00<03:10, 11.20s/it]"
     ]
    },
    {
     "name": "stdout",
     "output_type": "stream",
     "text": [
      "Processing 84/100: CHARLES & COLVARD LTD\n"
     ]
    },
    {
     "name": "stderr",
     "output_type": "stream",
     "text": [
      " 84%|████████▍ | 84/100 [30:08<05:05, 19.08s/it]"
     ]
    },
    {
     "name": "stdout",
     "output_type": "stream",
     "text": [
      "Processing 85/100: CHASE GENERAL CORP\n"
     ]
    },
    {
     "name": "stderr",
     "output_type": "stream",
     "text": [
      " 85%|████████▌ | 85/100 [30:27<04:46, 19.13s/it]"
     ]
    },
    {
     "name": "stdout",
     "output_type": "stream",
     "text": [
      "Processing 86/100: CHINA JO-JO DRUGSTORES, INC.\n"
     ]
    },
    {
     "name": "stderr",
     "output_type": "stream",
     "text": [
      " 86%|████████▌ | 86/100 [31:37<06:45, 28.98s/it]"
     ]
    },
    {
     "name": "stdout",
     "output_type": "stream",
     "text": [
      "Processing 87/100: CHINA MEDIA INC.\n"
     ]
    },
    {
     "name": "stderr",
     "output_type": "stream",
     "text": [
      " 87%|████████▋ | 87/100 [31:53<05:39, 26.15s/it]"
     ]
    },
    {
     "name": "stdout",
     "output_type": "stream",
     "text": [
      "Processing 88/100: CIMPRESS plc\n",
      "Processing 89/100: CINTAS CORP\n",
      "Processing 90/100: CISCO SYSTEMS, INC.\n",
      "Processing 91/100: CLOROX CO /DE/\n",
      "Processing 92/100: CLS Holdings USA, Inc.\n"
     ]
    },
    {
     "name": "stderr",
     "output_type": "stream",
     "text": [
      " 92%|█████████▏| 92/100 [33:08<02:34, 19.36s/it]"
     ]
    },
    {
     "name": "stdout",
     "output_type": "stream",
     "text": [
      "Processing 93/100: COCOLUV INC.\n"
     ]
    },
    {
     "name": "stderr",
     "output_type": "stream",
     "text": [
      " 93%|█████████▎| 93/100 [33:18<02:06, 18.04s/it]"
     ]
    },
    {
     "name": "stdout",
     "output_type": "stream",
     "text": [
      "Processing 94/100: COLLECTORS UNIVERSE INC\n"
     ]
    },
    {
     "name": "stderr",
     "output_type": "stream",
     "text": [
      " 94%|█████████▍| 94/100 [34:08<02:20, 23.48s/it]"
     ]
    },
    {
     "name": "stdout",
     "output_type": "stream",
     "text": [
      "Processing 95/100: COMTECH TELECOMMUNICATIONS CORP /DE/\n",
      "Processing 96/100: CONAGRA BRANDS INC.\n",
      "Processing 97/100: CONCIERGE TECHNOLOGIES INC\n"
     ]
    },
    {
     "name": "stderr",
     "output_type": "stream",
     "text": [
      " 97%|█████████▋| 97/100 [34:44<00:56, 18.68s/it]"
     ]
    },
    {
     "name": "stdout",
     "output_type": "stream",
     "text": [
      "Processing 98/100: CONSUMERS BANCORP INC /OH/\n"
     ]
    },
    {
     "name": "stderr",
     "output_type": "stream",
     "text": [
      "100%|██████████| 100/100 [35:17<00:00, 21.17s/it]"
     ]
    },
    {
     "name": "stdout",
     "output_type": "stream",
     "text": [
      "Processing 99/100: COPART INC\n",
      "Processing 100/100: COTY INC.\n"
     ]
    },
    {
     "name": "stderr",
     "output_type": "stream",
     "text": [
      "\n"
     ]
    }
   ],
   "source": [
    "from tqdm import tqdm\n",
    "\n",
    "sentiment_results = []\n",
    "\n",
    "for i, row in tqdm(df_100.iterrows(), total=len(df_100)):\n",
    "    try:\n",
    "        print(f\"Processing {i+1}/{len(df_100)}: {row['Company Name']}\")\n",
    "\n",
    "        # Chunk using token-aware chunking\n",
    "        text_chunks = chunk_text_by_tokens(row['cleaned_text'], tokenizer)\n",
    "\n",
    "        # Get chunk-level sentiments\n",
    "        chunk_sentiments = get_sentiment_scores(text_chunks)\n",
    "\n",
    "        # Aggregate to document-level sentiment\n",
    "        result = aggregate_sentiment(chunk_sentiments)\n",
    "\n",
    "    except Exception as e:\n",
    "        print(f\"Error processing row {i}: {e}\")\n",
    "        result = {\"negative\": None, \"neutral\": None, \"positive\": None}\n",
    "\n",
    "    sentiment_results.append(result)"
   ]
  },
  {
   "cell_type": "code",
   "execution_count": 30,
   "id": "fb73352f",
   "metadata": {},
   "outputs": [],
   "source": [
    "# Convert to DataFrame\n",
    "sentiment_df = pd.DataFrame(sentiment_results)\n",
    "\n",
    "# Combine with your original df\n",
    "final_df = pd.concat([df.reset_index(drop=True), sentiment_df], axis=1)"
   ]
  },
  {
   "cell_type": "code",
   "execution_count": 31,
   "id": "43330f4d",
   "metadata": {},
   "outputs": [
    {
     "data": {
      "text/html": [
       "<div>\n",
       "<style scoped>\n",
       "    .dataframe tbody tr th:only-of-type {\n",
       "        vertical-align: middle;\n",
       "    }\n",
       "\n",
       "    .dataframe tbody tr th {\n",
       "        vertical-align: top;\n",
       "    }\n",
       "\n",
       "    .dataframe thead th {\n",
       "        text-align: right;\n",
       "    }\n",
       "</style>\n",
       "<table border=\"1\" class=\"dataframe\">\n",
       "  <thead>\n",
       "    <tr style=\"text-align: right;\">\n",
       "      <th></th>\n",
       "      <th>Company Name</th>\n",
       "      <th>CIK</th>\n",
       "      <th>Date Filed</th>\n",
       "      <th>Filing URL</th>\n",
       "      <th>Filing Text</th>\n",
       "      <th>Cleaned Text</th>\n",
       "      <th>cleaned_text</th>\n",
       "      <th>negative</th>\n",
       "      <th>neutral</th>\n",
       "      <th>positive</th>\n",
       "    </tr>\n",
       "  </thead>\n",
       "  <tbody>\n",
       "    <tr>\n",
       "      <th>0</th>\n",
       "      <td>1 800 FLOWERS COM INC</td>\n",
       "      <td>1084869</td>\n",
       "      <td>2020-09</td>\n",
       "      <td>https://www.sec.gov/Archives/edgar/data/108486...</td>\n",
       "      <td>&lt;DOCUMENT&gt;\\n&lt;TYPE&gt;10-K\\n&lt;SEQUENCE&gt;1\\n&lt;FILENAME...</td>\n",
       "      <td>Table of Contents\\nUNITED STATES SECURITIES AN...</td>\n",
       "      <td>Table of Contents\\nUNITED STATES SECURITIES AN...</td>\n",
       "      <td>0.666667</td>\n",
       "      <td>0.142857</td>\n",
       "      <td>0.190476</td>\n",
       "    </tr>\n",
       "    <tr>\n",
       "      <th>1</th>\n",
       "      <td>3AM TECHNOLOGIES INC</td>\n",
       "      <td>1667615</td>\n",
       "      <td>2020-09</td>\n",
       "      <td>https://www.sec.gov/Archives/edgar/data/166761...</td>\n",
       "      <td>&lt;DOCUMENT&gt;\\n&lt;TYPE&gt;10-K\\n&lt;SEQUENCE&gt;1\\n&lt;FILENAME...</td>\n",
       "      <td>UNITED STATES SECURITIES AND EXCHANGE COMMISSI...</td>\n",
       "      <td>UNITED STATES SECURITIES AND EXCHANGE COMMISSI...</td>\n",
       "      <td>0.928571</td>\n",
       "      <td>0.000000</td>\n",
       "      <td>0.071429</td>\n",
       "    </tr>\n",
       "    <tr>\n",
       "      <th>2</th>\n",
       "      <td>8i Enterprises Acquisition Corp.</td>\n",
       "      <td>1753648</td>\n",
       "      <td>2020-09</td>\n",
       "      <td>https://www.sec.gov/Archives/edgar/data/175364...</td>\n",
       "      <td>&lt;DOCUMENT&gt;\\n&lt;TYPE&gt;10-K\\n&lt;SEQUENCE&gt;1\\n&lt;FILENAME...</td>\n",
       "      <td>UNITED\\nSTATES\\nSECURITIES\\nAND EXCHANGE COMMI...</td>\n",
       "      <td>UNITED\\nSTATES\\nSECURITIES\\nAND EXCHANGE COMMI...</td>\n",
       "      <td>0.978947</td>\n",
       "      <td>0.021053</td>\n",
       "      <td>0.000000</td>\n",
       "    </tr>\n",
       "    <tr>\n",
       "      <th>3</th>\n",
       "      <td>A-Mark Precious Metals, Inc.</td>\n",
       "      <td>1591588</td>\n",
       "      <td>2020-09</td>\n",
       "      <td>https://www.sec.gov/Archives/edgar/data/159158...</td>\n",
       "      <td>&lt;DOCUMENT&gt;\\n&lt;TYPE&gt;10-K\\n&lt;SEQUENCE&gt;1\\n&lt;FILENAME...</td>\n",
       "      <td>UNITED STATES\\nSECURITIES AND EXCHANGE COMMISS...</td>\n",
       "      <td>UNITED STATES\\nSECURITIES AND EXCHANGE COMMISS...</td>\n",
       "      <td>0.877301</td>\n",
       "      <td>0.024540</td>\n",
       "      <td>0.098160</td>\n",
       "    </tr>\n",
       "    <tr>\n",
       "      <th>4</th>\n",
       "      <td>AAR CORP</td>\n",
       "      <td>1750</td>\n",
       "      <td>2020-07</td>\n",
       "      <td>https://www.sec.gov/ix?doc=/Archives/edgar/dat...</td>\n",
       "      <td>&lt;?xml version=\"1.0\" encoding=\"UTF-8\"?&gt;\\n&lt;!DOCT...</td>\n",
       "      <td></td>\n",
       "      <td></td>\n",
       "      <td>0.000000</td>\n",
       "      <td>0.000000</td>\n",
       "      <td>0.000000</td>\n",
       "    </tr>\n",
       "  </tbody>\n",
       "</table>\n",
       "</div>"
      ],
      "text/plain": [
       "                       Company Name      CIK Date Filed  \\\n",
       "0             1 800 FLOWERS COM INC  1084869    2020-09   \n",
       "1              3AM TECHNOLOGIES INC  1667615    2020-09   \n",
       "2  8i Enterprises Acquisition Corp.  1753648    2020-09   \n",
       "3      A-Mark Precious Metals, Inc.  1591588    2020-09   \n",
       "4                          AAR CORP     1750    2020-07   \n",
       "\n",
       "                                          Filing URL  \\\n",
       "0  https://www.sec.gov/Archives/edgar/data/108486...   \n",
       "1  https://www.sec.gov/Archives/edgar/data/166761...   \n",
       "2  https://www.sec.gov/Archives/edgar/data/175364...   \n",
       "3  https://www.sec.gov/Archives/edgar/data/159158...   \n",
       "4  https://www.sec.gov/ix?doc=/Archives/edgar/dat...   \n",
       "\n",
       "                                         Filing Text  \\\n",
       "0  <DOCUMENT>\\n<TYPE>10-K\\n<SEQUENCE>1\\n<FILENAME...   \n",
       "1  <DOCUMENT>\\n<TYPE>10-K\\n<SEQUENCE>1\\n<FILENAME...   \n",
       "2  <DOCUMENT>\\n<TYPE>10-K\\n<SEQUENCE>1\\n<FILENAME...   \n",
       "3  <DOCUMENT>\\n<TYPE>10-K\\n<SEQUENCE>1\\n<FILENAME...   \n",
       "4  <?xml version=\"1.0\" encoding=\"UTF-8\"?>\\n<!DOCT...   \n",
       "\n",
       "                                        Cleaned Text  \\\n",
       "0  Table of Contents\\nUNITED STATES SECURITIES AN...   \n",
       "1  UNITED STATES SECURITIES AND EXCHANGE COMMISSI...   \n",
       "2  UNITED\\nSTATES\\nSECURITIES\\nAND EXCHANGE COMMI...   \n",
       "3  UNITED STATES\\nSECURITIES AND EXCHANGE COMMISS...   \n",
       "4                                                      \n",
       "\n",
       "                                        cleaned_text  negative   neutral  \\\n",
       "0  Table of Contents\\nUNITED STATES SECURITIES AN...  0.666667  0.142857   \n",
       "1  UNITED STATES SECURITIES AND EXCHANGE COMMISSI...  0.928571  0.000000   \n",
       "2  UNITED\\nSTATES\\nSECURITIES\\nAND EXCHANGE COMMI...  0.978947  0.021053   \n",
       "3  UNITED STATES\\nSECURITIES AND EXCHANGE COMMISS...  0.877301  0.024540   \n",
       "4                                                     0.000000  0.000000   \n",
       "\n",
       "   positive  \n",
       "0  0.190476  \n",
       "1  0.071429  \n",
       "2  0.000000  \n",
       "3  0.098160  \n",
       "4  0.000000  "
      ]
     },
     "execution_count": 31,
     "metadata": {},
     "output_type": "execute_result"
    }
   ],
   "source": [
    "final_df.head()"
   ]
  },
  {
   "cell_type": "code",
   "execution_count": 32,
   "id": "6281ab6f",
   "metadata": {},
   "outputs": [
    {
     "data": {
      "text/html": [
       "<div>\n",
       "<style scoped>\n",
       "    .dataframe tbody tr th:only-of-type {\n",
       "        vertical-align: middle;\n",
       "    }\n",
       "\n",
       "    .dataframe tbody tr th {\n",
       "        vertical-align: top;\n",
       "    }\n",
       "\n",
       "    .dataframe thead th {\n",
       "        text-align: right;\n",
       "    }\n",
       "</style>\n",
       "<table border=\"1\" class=\"dataframe\">\n",
       "  <thead>\n",
       "    <tr style=\"text-align: right;\">\n",
       "      <th></th>\n",
       "      <th>positive</th>\n",
       "      <th>neutral</th>\n",
       "      <th>negative</th>\n",
       "    </tr>\n",
       "  </thead>\n",
       "  <tbody>\n",
       "    <tr>\n",
       "      <th>count</th>\n",
       "      <td>100.000000</td>\n",
       "      <td>100.000000</td>\n",
       "      <td>100.000000</td>\n",
       "    </tr>\n",
       "    <tr>\n",
       "      <th>mean</th>\n",
       "      <td>0.063315</td>\n",
       "      <td>0.012926</td>\n",
       "      <td>0.553759</td>\n",
       "    </tr>\n",
       "    <tr>\n",
       "      <th>std</th>\n",
       "      <td>0.075750</td>\n",
       "      <td>0.024526</td>\n",
       "      <td>0.432330</td>\n",
       "    </tr>\n",
       "    <tr>\n",
       "      <th>min</th>\n",
       "      <td>0.000000</td>\n",
       "      <td>0.000000</td>\n",
       "      <td>0.000000</td>\n",
       "    </tr>\n",
       "    <tr>\n",
       "      <th>25%</th>\n",
       "      <td>0.000000</td>\n",
       "      <td>0.000000</td>\n",
       "      <td>0.000000</td>\n",
       "    </tr>\n",
       "    <tr>\n",
       "      <th>50%</th>\n",
       "      <td>0.026280</td>\n",
       "      <td>0.000000</td>\n",
       "      <td>0.799866</td>\n",
       "    </tr>\n",
       "    <tr>\n",
       "      <th>75%</th>\n",
       "      <td>0.126111</td>\n",
       "      <td>0.016841</td>\n",
       "      <td>0.925893</td>\n",
       "    </tr>\n",
       "    <tr>\n",
       "      <th>max</th>\n",
       "      <td>0.245902</td>\n",
       "      <td>0.142857</td>\n",
       "      <td>1.000000</td>\n",
       "    </tr>\n",
       "  </tbody>\n",
       "</table>\n",
       "</div>"
      ],
      "text/plain": [
       "         positive     neutral    negative\n",
       "count  100.000000  100.000000  100.000000\n",
       "mean     0.063315    0.012926    0.553759\n",
       "std      0.075750    0.024526    0.432330\n",
       "min      0.000000    0.000000    0.000000\n",
       "25%      0.000000    0.000000    0.000000\n",
       "50%      0.026280    0.000000    0.799866\n",
       "75%      0.126111    0.016841    0.925893\n",
       "max      0.245902    0.142857    1.000000"
      ]
     },
     "execution_count": 32,
     "metadata": {},
     "output_type": "execute_result"
    }
   ],
   "source": [
    "final_df[['positive', 'neutral', 'negative']].describe()"
   ]
  },
  {
   "cell_type": "code",
   "execution_count": 33,
   "id": "16b3b24c",
   "metadata": {},
   "outputs": [
    {
     "name": "stdout",
     "output_type": "stream",
     "text": [
      "Average Sentiment Scores:\n",
      " positive    0.063315\n",
      "neutral     0.012926\n",
      "negative    0.553759\n",
      "dtype: float64\n"
     ]
    }
   ],
   "source": [
    "avg_sentiment = final_df[['positive', 'neutral', 'negative']].mean()\n",
    "print(\"Average Sentiment Scores:\\n\", avg_sentiment)"
   ]
  },
  {
   "cell_type": "code",
   "execution_count": 34,
   "id": "042989e5",
   "metadata": {},
   "outputs": [
    {
     "ename": "TypeError",
     "evalue": "'>' not supported between instances of 'NoneType' and 'NoneType'",
     "output_type": "error",
     "traceback": [
      "\u001b[31m---------------------------------------------------------------------------\u001b[39m",
      "\u001b[31mTypeError\u001b[39m                                 Traceback (most recent call last)",
      "\u001b[36mCell\u001b[39m\u001b[36m \u001b[39m\u001b[32mIn[34]\u001b[39m\u001b[32m, line 4\u001b[39m\n\u001b[32m      1\u001b[39m \u001b[38;5;28;01mdef\u001b[39;00m\u001b[38;5;250m \u001b[39m\u001b[34mdominant_sentiment\u001b[39m(row):\n\u001b[32m      2\u001b[39m     \u001b[38;5;28;01mreturn\u001b[39;00m \u001b[38;5;28mmax\u001b[39m(row, key=row.get)\n\u001b[32m----> \u001b[39m\u001b[32m4\u001b[39m final_df[\u001b[33m'\u001b[39m\u001b[33mdominant_sentiment\u001b[39m\u001b[33m'\u001b[39m] = \u001b[43mfinal_df\u001b[49m\u001b[43m[\u001b[49m\u001b[43m[\u001b[49m\u001b[33;43m'\u001b[39;49m\u001b[33;43mpositive\u001b[39;49m\u001b[33;43m'\u001b[39;49m\u001b[43m,\u001b[49m\u001b[43m \u001b[49m\u001b[33;43m'\u001b[39;49m\u001b[33;43mneutral\u001b[39;49m\u001b[33;43m'\u001b[39;49m\u001b[43m,\u001b[49m\u001b[43m \u001b[49m\u001b[33;43m'\u001b[39;49m\u001b[33;43mnegative\u001b[39;49m\u001b[33;43m'\u001b[39;49m\u001b[43m]\u001b[49m\u001b[43m]\u001b[49m\u001b[43m.\u001b[49m\u001b[43mapply\u001b[49m\u001b[43m(\u001b[49m\u001b[43mdominant_sentiment\u001b[49m\u001b[43m,\u001b[49m\u001b[43m \u001b[49m\u001b[43maxis\u001b[49m\u001b[43m=\u001b[49m\u001b[32;43m1\u001b[39;49m\u001b[43m)\u001b[49m\n\u001b[32m      6\u001b[39m \u001b[38;5;66;03m# Count occurrences\u001b[39;00m\n\u001b[32m      7\u001b[39m final_df[\u001b[33m'\u001b[39m\u001b[33mdominant_sentiment\u001b[39m\u001b[33m'\u001b[39m].value_counts()\n",
      "\u001b[36mFile \u001b[39m\u001b[32m~/.virtualenv/project10k/lib/python3.13/site-packages/pandas/core/frame.py:10374\u001b[39m, in \u001b[36mDataFrame.apply\u001b[39m\u001b[34m(self, func, axis, raw, result_type, args, by_row, engine, engine_kwargs, **kwargs)\u001b[39m\n\u001b[32m  10360\u001b[39m \u001b[38;5;28;01mfrom\u001b[39;00m\u001b[38;5;250m \u001b[39m\u001b[34;01mpandas\u001b[39;00m\u001b[34;01m.\u001b[39;00m\u001b[34;01mcore\u001b[39;00m\u001b[34;01m.\u001b[39;00m\u001b[34;01mapply\u001b[39;00m\u001b[38;5;250m \u001b[39m\u001b[38;5;28;01mimport\u001b[39;00m frame_apply\n\u001b[32m  10362\u001b[39m op = frame_apply(\n\u001b[32m  10363\u001b[39m     \u001b[38;5;28mself\u001b[39m,\n\u001b[32m  10364\u001b[39m     func=func,\n\u001b[32m   (...)\u001b[39m\u001b[32m  10372\u001b[39m     kwargs=kwargs,\n\u001b[32m  10373\u001b[39m )\n\u001b[32m> \u001b[39m\u001b[32m10374\u001b[39m \u001b[38;5;28;01mreturn\u001b[39;00m \u001b[43mop\u001b[49m\u001b[43m.\u001b[49m\u001b[43mapply\u001b[49m\u001b[43m(\u001b[49m\u001b[43m)\u001b[49m.__finalize__(\u001b[38;5;28mself\u001b[39m, method=\u001b[33m\"\u001b[39m\u001b[33mapply\u001b[39m\u001b[33m\"\u001b[39m)\n",
      "\u001b[36mFile \u001b[39m\u001b[32m~/.virtualenv/project10k/lib/python3.13/site-packages/pandas/core/apply.py:916\u001b[39m, in \u001b[36mFrameApply.apply\u001b[39m\u001b[34m(self)\u001b[39m\n\u001b[32m    913\u001b[39m \u001b[38;5;28;01melif\u001b[39;00m \u001b[38;5;28mself\u001b[39m.raw:\n\u001b[32m    914\u001b[39m     \u001b[38;5;28;01mreturn\u001b[39;00m \u001b[38;5;28mself\u001b[39m.apply_raw(engine=\u001b[38;5;28mself\u001b[39m.engine, engine_kwargs=\u001b[38;5;28mself\u001b[39m.engine_kwargs)\n\u001b[32m--> \u001b[39m\u001b[32m916\u001b[39m \u001b[38;5;28;01mreturn\u001b[39;00m \u001b[38;5;28;43mself\u001b[39;49m\u001b[43m.\u001b[49m\u001b[43mapply_standard\u001b[49m\u001b[43m(\u001b[49m\u001b[43m)\u001b[49m\n",
      "\u001b[36mFile \u001b[39m\u001b[32m~/.virtualenv/project10k/lib/python3.13/site-packages/pandas/core/apply.py:1063\u001b[39m, in \u001b[36mFrameApply.apply_standard\u001b[39m\u001b[34m(self)\u001b[39m\n\u001b[32m   1061\u001b[39m \u001b[38;5;28;01mdef\u001b[39;00m\u001b[38;5;250m \u001b[39m\u001b[34mapply_standard\u001b[39m(\u001b[38;5;28mself\u001b[39m):\n\u001b[32m   1062\u001b[39m     \u001b[38;5;28;01mif\u001b[39;00m \u001b[38;5;28mself\u001b[39m.engine == \u001b[33m\"\u001b[39m\u001b[33mpython\u001b[39m\u001b[33m\"\u001b[39m:\n\u001b[32m-> \u001b[39m\u001b[32m1063\u001b[39m         results, res_index = \u001b[38;5;28;43mself\u001b[39;49m\u001b[43m.\u001b[49m\u001b[43mapply_series_generator\u001b[49m\u001b[43m(\u001b[49m\u001b[43m)\u001b[49m\n\u001b[32m   1064\u001b[39m     \u001b[38;5;28;01melse\u001b[39;00m:\n\u001b[32m   1065\u001b[39m         results, res_index = \u001b[38;5;28mself\u001b[39m.apply_series_numba()\n",
      "\u001b[36mFile \u001b[39m\u001b[32m~/.virtualenv/project10k/lib/python3.13/site-packages/pandas/core/apply.py:1081\u001b[39m, in \u001b[36mFrameApply.apply_series_generator\u001b[39m\u001b[34m(self)\u001b[39m\n\u001b[32m   1078\u001b[39m \u001b[38;5;28;01mwith\u001b[39;00m option_context(\u001b[33m\"\u001b[39m\u001b[33mmode.chained_assignment\u001b[39m\u001b[33m\"\u001b[39m, \u001b[38;5;28;01mNone\u001b[39;00m):\n\u001b[32m   1079\u001b[39m     \u001b[38;5;28;01mfor\u001b[39;00m i, v \u001b[38;5;129;01min\u001b[39;00m \u001b[38;5;28menumerate\u001b[39m(series_gen):\n\u001b[32m   1080\u001b[39m         \u001b[38;5;66;03m# ignore SettingWithCopy here in case the user mutates\u001b[39;00m\n\u001b[32m-> \u001b[39m\u001b[32m1081\u001b[39m         results[i] = \u001b[38;5;28;43mself\u001b[39;49m\u001b[43m.\u001b[49m\u001b[43mfunc\u001b[49m\u001b[43m(\u001b[49m\u001b[43mv\u001b[49m\u001b[43m,\u001b[49m\u001b[43m \u001b[49m\u001b[43m*\u001b[49m\u001b[38;5;28;43mself\u001b[39;49m\u001b[43m.\u001b[49m\u001b[43margs\u001b[49m\u001b[43m,\u001b[49m\u001b[43m \u001b[49m\u001b[43m*\u001b[49m\u001b[43m*\u001b[49m\u001b[38;5;28;43mself\u001b[39;49m\u001b[43m.\u001b[49m\u001b[43mkwargs\u001b[49m\u001b[43m)\u001b[49m\n\u001b[32m   1082\u001b[39m         \u001b[38;5;28;01mif\u001b[39;00m \u001b[38;5;28misinstance\u001b[39m(results[i], ABCSeries):\n\u001b[32m   1083\u001b[39m             \u001b[38;5;66;03m# If we have a view on v, we need to make a copy because\u001b[39;00m\n\u001b[32m   1084\u001b[39m             \u001b[38;5;66;03m#  series_generator will swap out the underlying data\u001b[39;00m\n\u001b[32m   1085\u001b[39m             results[i] = results[i].copy(deep=\u001b[38;5;28;01mFalse\u001b[39;00m)\n",
      "\u001b[36mCell\u001b[39m\u001b[36m \u001b[39m\u001b[32mIn[34]\u001b[39m\u001b[32m, line 2\u001b[39m, in \u001b[36mdominant_sentiment\u001b[39m\u001b[34m(row)\u001b[39m\n\u001b[32m      1\u001b[39m \u001b[38;5;28;01mdef\u001b[39;00m\u001b[38;5;250m \u001b[39m\u001b[34mdominant_sentiment\u001b[39m(row):\n\u001b[32m----> \u001b[39m\u001b[32m2\u001b[39m     \u001b[38;5;28;01mreturn\u001b[39;00m \u001b[38;5;28;43mmax\u001b[39;49m\u001b[43m(\u001b[49m\u001b[43mrow\u001b[49m\u001b[43m,\u001b[49m\u001b[43m \u001b[49m\u001b[43mkey\u001b[49m\u001b[43m=\u001b[49m\u001b[43mrow\u001b[49m\u001b[43m.\u001b[49m\u001b[43mget\u001b[49m\u001b[43m)\u001b[49m\n",
      "\u001b[31mTypeError\u001b[39m: '>' not supported between instances of 'NoneType' and 'NoneType'"
     ]
    }
   ],
   "source": [
    "def dominant_sentiment(row):\n",
    "    return max(row, key=row.get)\n",
    "\n",
    "final_df['dominant_sentiment'] = final_df[['positive', 'neutral', 'negative']].apply(dominant_sentiment, axis=1)\n",
    "\n",
    "# Count occurrences\n",
    "final_df['dominant_sentiment'].value_counts()"
   ]
  },
  {
   "cell_type": "code",
   "execution_count": 42,
   "id": "cda3e579",
   "metadata": {},
   "outputs": [],
   "source": [
    "import re\n",
    "\n",
    "# def extract_section(text, item_title):\n",
    "#     \"\"\"\n",
    "#     Extracts the section of a 10-K filing based on the provided item title.\n",
    "#     \"\"\"\n",
    "#     text = text.upper()\n",
    "#     item_title = item_title.upper().strip()\n",
    "\n",
    "#     # Handle different spacing and numbering formats (e.g., ITEM 1A, ITEM1A.)\n",
    "#     pattern = rf\"{item_title}.*?(?=ITEM\\s+\\d+[A-Z]?[.\\s])\"\n",
    "#     match = re.search(pattern, text, re.DOTALL)\n",
    "#     if match:\n",
    "#         return match.group().strip()\n",
    "#     return \"\"\n",
    "\n",
    "def extract_section(text, item_title):\n",
    "    text = text.upper()\n",
    "    item_title = item_title.upper().strip()\n",
    "    pattern = rf\"{item_title}.*?(?=ITEM\\s+\\d+[A-Z]?[.\\s])\"\n",
    "    match = re.search(pattern, text, re.DOTALL)\n",
    "    if match:\n",
    "        return match.group().strip()\n",
    "    return \"\""
   ]
  },
  {
   "cell_type": "code",
   "execution_count": 41,
   "id": "721e9842",
   "metadata": {},
   "outputs": [],
   "source": [
    "SECTION_MAP = {\n",
    "    \"risk\": \"ITEM 1A. RISK FACTORS\",\n",
    "    \"mdna\": \"ITEM 7. MANAGEMENT’S DISCUSSION AND ANALYSIS\",\n",
    "    \"business\": \"ITEM 1. BUSINESS\"\n",
    "}"
   ]
  },
  {
   "cell_type": "code",
   "execution_count": 43,
   "id": "916c5af5",
   "metadata": {},
   "outputs": [
    {
     "name": "stderr",
     "output_type": "stream",
     "text": [
      "100%|██████████| 100/100 [02:43<00:00,  1.64s/it]\n"
     ]
    }
   ],
   "source": [
    "from tqdm import tqdm\n",
    "\n",
    "all_section_sentiments = []\n",
    "\n",
    "for i, row in tqdm(df.iterrows(), total=len(df)):\n",
    "    row_result = {}\n",
    "\n",
    "    for section_key, section_title in SECTION_MAP.items():\n",
    "        try:\n",
    "            section_text = extract_section(row['cleaned_text'], section_title)\n",
    "            if not section_text or len(section_text.split()) < 20:\n",
    "                row_result[f\"{section_key}_sentiment_positive\"] = 0\n",
    "                row_result[f\"{section_key}_sentiment_neutral\"] = 0\n",
    "                row_result[f\"{section_key}_sentiment_negative\"] = 0\n",
    "                continue\n",
    "\n",
    "            # Chunk, Analyze, Aggregate\n",
    "            chunks = chunk_text_by_tokens(section_text, tokenizer)\n",
    "            sentiments = get_sentiment_scores(chunks)\n",
    "            aggregated = aggregate_sentiment(sentiments)\n",
    "\n",
    "            # Store results\n",
    "            for sentiment_type in ['positive', 'neutral', 'negative']:\n",
    "                row_result[f\"{section_key}_sentiment_{sentiment_type}\"] = aggregated[sentiment_type]\n",
    "\n",
    "        except Exception as e:\n",
    "            print(f\"Error in row {i}, section {section_key}: {e}\")\n",
    "            for sentiment_type in ['positive', 'neutral', 'negative']:\n",
    "                row_result[f\"{section_key}_sentiment_{sentiment_type}\"] = None\n",
    "\n",
    "    all_section_sentiments.append(row_result)"
   ]
  },
  {
   "cell_type": "code",
   "execution_count": 44,
   "id": "0ea5b996",
   "metadata": {},
   "outputs": [],
   "source": [
    "section_df = pd.DataFrame(all_section_sentiments)\n",
    "final_df = pd.concat([df.reset_index(drop=True), section_df], axis=1)\n",
    "final_df.to_csv(\"section_wise_10k_sentiment.csv\", index=False)"
   ]
  },
  {
   "cell_type": "code",
   "execution_count": 49,
   "id": "4b053337",
   "metadata": {},
   "outputs": [
    {
     "data": {
      "text/html": [
       "<div>\n",
       "<style scoped>\n",
       "    .dataframe tbody tr th:only-of-type {\n",
       "        vertical-align: middle;\n",
       "    }\n",
       "\n",
       "    .dataframe tbody tr th {\n",
       "        vertical-align: top;\n",
       "    }\n",
       "\n",
       "    .dataframe thead th {\n",
       "        text-align: right;\n",
       "    }\n",
       "</style>\n",
       "<table border=\"1\" class=\"dataframe\">\n",
       "  <thead>\n",
       "    <tr style=\"text-align: right;\">\n",
       "      <th></th>\n",
       "      <th>Company Name</th>\n",
       "      <th>CIK</th>\n",
       "      <th>Date Filed</th>\n",
       "      <th>Filing URL</th>\n",
       "      <th>Filing Text</th>\n",
       "      <th>Cleaned Text</th>\n",
       "      <th>cleaned_text</th>\n",
       "      <th>risk_sentiment_positive</th>\n",
       "      <th>risk_sentiment_neutral</th>\n",
       "      <th>risk_sentiment_negative</th>\n",
       "      <th>mdna_sentiment_positive</th>\n",
       "      <th>mdna_sentiment_neutral</th>\n",
       "      <th>mdna_sentiment_negative</th>\n",
       "      <th>business_sentiment_positive</th>\n",
       "      <th>business_sentiment_neutral</th>\n",
       "      <th>business_sentiment_negative</th>\n",
       "    </tr>\n",
       "  </thead>\n",
       "  <tbody>\n",
       "    <tr>\n",
       "      <th>0</th>\n",
       "      <td>1 800 FLOWERS COM INC</td>\n",
       "      <td>1084869</td>\n",
       "      <td>2020-09</td>\n",
       "      <td>https://www.sec.gov/Archives/edgar/data/108486...</td>\n",
       "      <td>&lt;DOCUMENT&gt;\\n&lt;TYPE&gt;10-K\\n&lt;SEQUENCE&gt;1\\n&lt;FILENAME...</td>\n",
       "      <td>Table of Contents\\nUNITED STATES SECURITIES AN...</td>\n",
       "      <td>Table of Contents\\nUNITED STATES SECURITIES AN...</td>\n",
       "      <td>0.0</td>\n",
       "      <td>0.0</td>\n",
       "      <td>0.0</td>\n",
       "      <td>0.000000</td>\n",
       "      <td>0.0</td>\n",
       "      <td>0.000000</td>\n",
       "      <td>0.0</td>\n",
       "      <td>0.0</td>\n",
       "      <td>0.0</td>\n",
       "    </tr>\n",
       "    <tr>\n",
       "      <th>1</th>\n",
       "      <td>3AM TECHNOLOGIES INC</td>\n",
       "      <td>1667615</td>\n",
       "      <td>2020-09</td>\n",
       "      <td>https://www.sec.gov/Archives/edgar/data/166761...</td>\n",
       "      <td>&lt;DOCUMENT&gt;\\n&lt;TYPE&gt;10-K\\n&lt;SEQUENCE&gt;1\\n&lt;FILENAME...</td>\n",
       "      <td>UNITED STATES SECURITIES AND EXCHANGE COMMISSI...</td>\n",
       "      <td>UNITED STATES SECURITIES AND EXCHANGE COMMISSI...</td>\n",
       "      <td>0.0</td>\n",
       "      <td>0.0</td>\n",
       "      <td>0.0</td>\n",
       "      <td>0.166667</td>\n",
       "      <td>0.0</td>\n",
       "      <td>0.833333</td>\n",
       "      <td>0.0</td>\n",
       "      <td>0.0</td>\n",
       "      <td>1.0</td>\n",
       "    </tr>\n",
       "    <tr>\n",
       "      <th>2</th>\n",
       "      <td>8i Enterprises Acquisition Corp.</td>\n",
       "      <td>1753648</td>\n",
       "      <td>2020-09</td>\n",
       "      <td>https://www.sec.gov/Archives/edgar/data/175364...</td>\n",
       "      <td>&lt;DOCUMENT&gt;\\n&lt;TYPE&gt;10-K\\n&lt;SEQUENCE&gt;1\\n&lt;FILENAME...</td>\n",
       "      <td>UNITED\\nSTATES\\nSECURITIES\\nAND EXCHANGE COMMI...</td>\n",
       "      <td>UNITED\\nSTATES\\nSECURITIES\\nAND EXCHANGE COMMI...</td>\n",
       "      <td>0.0</td>\n",
       "      <td>0.0</td>\n",
       "      <td>0.0</td>\n",
       "      <td>0.000000</td>\n",
       "      <td>0.0</td>\n",
       "      <td>0.000000</td>\n",
       "      <td>0.0</td>\n",
       "      <td>0.0</td>\n",
       "      <td>0.0</td>\n",
       "    </tr>\n",
       "    <tr>\n",
       "      <th>3</th>\n",
       "      <td>A-Mark Precious Metals, Inc.</td>\n",
       "      <td>1591588</td>\n",
       "      <td>2020-09</td>\n",
       "      <td>https://www.sec.gov/Archives/edgar/data/159158...</td>\n",
       "      <td>&lt;DOCUMENT&gt;\\n&lt;TYPE&gt;10-K\\n&lt;SEQUENCE&gt;1\\n&lt;FILENAME...</td>\n",
       "      <td>UNITED STATES\\nSECURITIES AND EXCHANGE COMMISS...</td>\n",
       "      <td>UNITED STATES\\nSECURITIES AND EXCHANGE COMMISS...</td>\n",
       "      <td>0.0</td>\n",
       "      <td>0.0</td>\n",
       "      <td>0.0</td>\n",
       "      <td>0.000000</td>\n",
       "      <td>0.0</td>\n",
       "      <td>0.000000</td>\n",
       "      <td>0.0</td>\n",
       "      <td>0.0</td>\n",
       "      <td>0.0</td>\n",
       "    </tr>\n",
       "    <tr>\n",
       "      <th>4</th>\n",
       "      <td>AAR CORP</td>\n",
       "      <td>1750</td>\n",
       "      <td>2020-07</td>\n",
       "      <td>https://www.sec.gov/ix?doc=/Archives/edgar/dat...</td>\n",
       "      <td>&lt;?xml version=\"1.0\" encoding=\"UTF-8\"?&gt;\\n&lt;!DOCT...</td>\n",
       "      <td></td>\n",
       "      <td></td>\n",
       "      <td>0.0</td>\n",
       "      <td>0.0</td>\n",
       "      <td>0.0</td>\n",
       "      <td>0.000000</td>\n",
       "      <td>0.0</td>\n",
       "      <td>0.000000</td>\n",
       "      <td>0.0</td>\n",
       "      <td>0.0</td>\n",
       "      <td>0.0</td>\n",
       "    </tr>\n",
       "  </tbody>\n",
       "</table>\n",
       "</div>"
      ],
      "text/plain": [
       "                       Company Name      CIK Date Filed  \\\n",
       "0             1 800 FLOWERS COM INC  1084869    2020-09   \n",
       "1              3AM TECHNOLOGIES INC  1667615    2020-09   \n",
       "2  8i Enterprises Acquisition Corp.  1753648    2020-09   \n",
       "3      A-Mark Precious Metals, Inc.  1591588    2020-09   \n",
       "4                          AAR CORP     1750    2020-07   \n",
       "\n",
       "                                          Filing URL  \\\n",
       "0  https://www.sec.gov/Archives/edgar/data/108486...   \n",
       "1  https://www.sec.gov/Archives/edgar/data/166761...   \n",
       "2  https://www.sec.gov/Archives/edgar/data/175364...   \n",
       "3  https://www.sec.gov/Archives/edgar/data/159158...   \n",
       "4  https://www.sec.gov/ix?doc=/Archives/edgar/dat...   \n",
       "\n",
       "                                         Filing Text  \\\n",
       "0  <DOCUMENT>\\n<TYPE>10-K\\n<SEQUENCE>1\\n<FILENAME...   \n",
       "1  <DOCUMENT>\\n<TYPE>10-K\\n<SEQUENCE>1\\n<FILENAME...   \n",
       "2  <DOCUMENT>\\n<TYPE>10-K\\n<SEQUENCE>1\\n<FILENAME...   \n",
       "3  <DOCUMENT>\\n<TYPE>10-K\\n<SEQUENCE>1\\n<FILENAME...   \n",
       "4  <?xml version=\"1.0\" encoding=\"UTF-8\"?>\\n<!DOCT...   \n",
       "\n",
       "                                        Cleaned Text  \\\n",
       "0  Table of Contents\\nUNITED STATES SECURITIES AN...   \n",
       "1  UNITED STATES SECURITIES AND EXCHANGE COMMISSI...   \n",
       "2  UNITED\\nSTATES\\nSECURITIES\\nAND EXCHANGE COMMI...   \n",
       "3  UNITED STATES\\nSECURITIES AND EXCHANGE COMMISS...   \n",
       "4                                                      \n",
       "\n",
       "                                        cleaned_text  risk_sentiment_positive  \\\n",
       "0  Table of Contents\\nUNITED STATES SECURITIES AN...                      0.0   \n",
       "1  UNITED STATES SECURITIES AND EXCHANGE COMMISSI...                      0.0   \n",
       "2  UNITED\\nSTATES\\nSECURITIES\\nAND EXCHANGE COMMI...                      0.0   \n",
       "3  UNITED STATES\\nSECURITIES AND EXCHANGE COMMISS...                      0.0   \n",
       "4                                                                         0.0   \n",
       "\n",
       "   risk_sentiment_neutral  risk_sentiment_negative  mdna_sentiment_positive  \\\n",
       "0                     0.0                      0.0                 0.000000   \n",
       "1                     0.0                      0.0                 0.166667   \n",
       "2                     0.0                      0.0                 0.000000   \n",
       "3                     0.0                      0.0                 0.000000   \n",
       "4                     0.0                      0.0                 0.000000   \n",
       "\n",
       "   mdna_sentiment_neutral  mdna_sentiment_negative  \\\n",
       "0                     0.0                 0.000000   \n",
       "1                     0.0                 0.833333   \n",
       "2                     0.0                 0.000000   \n",
       "3                     0.0                 0.000000   \n",
       "4                     0.0                 0.000000   \n",
       "\n",
       "   business_sentiment_positive  business_sentiment_neutral  \\\n",
       "0                          0.0                         0.0   \n",
       "1                          0.0                         0.0   \n",
       "2                          0.0                         0.0   \n",
       "3                          0.0                         0.0   \n",
       "4                          0.0                         0.0   \n",
       "\n",
       "   business_sentiment_negative  \n",
       "0                          0.0  \n",
       "1                          1.0  \n",
       "2                          0.0  \n",
       "3                          0.0  \n",
       "4                          0.0  "
      ]
     },
     "execution_count": 49,
     "metadata": {},
     "output_type": "execute_result"
    }
   ],
   "source": [
    "final_df.head()"
   ]
  },
  {
   "cell_type": "code",
   "execution_count": 36,
   "id": "c42140ae",
   "metadata": {},
   "outputs": [],
   "source": [
    "def get_sentiment_scores(chunks):\n",
    "    sentiments = []\n",
    "    for chunk in chunks:\n",
    "        inputs = tokenizer(chunk, return_tensors=\"pt\", truncation=True, padding=True, max_length=512)\n",
    "        \n",
    "        if inputs['input_ids'].shape[1] > 512:\n",
    "            print(\"Skipping oversized chunk\")\n",
    "            continue\n",
    "\n",
    "        inputs = inputs.to(device)\n",
    "\n",
    "        with torch.no_grad():\n",
    "            outputs = model(**inputs)\n",
    "\n",
    "        probs = torch.nn.functional.softmax(outputs.logits, dim=-1)\n",
    "        label = torch.argmax(probs, dim=1).item()\n",
    "        sentiments.append(label)\n",
    "\n",
    "    return sentiments"
   ]
  },
  {
   "cell_type": "code",
   "execution_count": 37,
   "id": "226ba902",
   "metadata": {},
   "outputs": [],
   "source": [
    "from tqdm import tqdm\n",
    "\n",
    "def extract_relevant_sections(full_text):\n",
    "    \"\"\"\n",
    "    Extracts important 10-K sections for sentiment analysis.\n",
    "    \"\"\"\n",
    "    sections = [\n",
    "        \"ITEM 1A. RISK FACTORS\",\n",
    "        \"ITEM 7. MANAGEMENT’S DISCUSSION AND ANALYSIS\",\n",
    "        \"ITEM 1. BUSINESS\"\n",
    "    ]\n",
    "    extracted = \"\"\n",
    "    for section in sections:\n",
    "        extracted += \"\\n\" + extract_section(full_text, section)\n",
    "    return extracted.strip()"
   ]
  },
  {
   "cell_type": "code",
   "execution_count": 38,
   "id": "cdada258",
   "metadata": {},
   "outputs": [
    {
     "name": "stderr",
     "output_type": "stream",
     "text": [
      "  0%|          | 0/100 [00:00<?, ?it/s]"
     ]
    },
    {
     "name": "stdout",
     "output_type": "stream",
     "text": [
      "Processing 1/100: 1 800 FLOWERS COM INC\n",
      "Processing 2/100: 3AM TECHNOLOGIES INC\n"
     ]
    },
    {
     "name": "stderr",
     "output_type": "stream",
     "text": [
      "  2%|▏         | 2/100 [00:03<02:48,  1.72s/it]"
     ]
    },
    {
     "name": "stdout",
     "output_type": "stream",
     "text": [
      "Processing 3/100: 8i Enterprises Acquisition Corp.\n",
      "Processing 4/100: A-Mark Precious Metals, Inc.\n",
      "Processing 5/100: AAR CORP\n",
      "Processing 6/100: ABCO Energy, Inc.\n"
     ]
    },
    {
     "name": "stderr",
     "output_type": "stream",
     "text": [
      "  6%|▌         | 6/100 [00:07<01:50,  1.17s/it]"
     ]
    },
    {
     "name": "stdout",
     "output_type": "stream",
     "text": [
      "Processing 7/100: ACCURAY INC\n",
      "Processing 8/100: ADM TRONICS UNLIMITED, INC.\n"
     ]
    },
    {
     "name": "stderr",
     "output_type": "stream",
     "text": [
      "  8%|▊         | 8/100 [00:11<02:20,  1.52s/it]"
     ]
    },
    {
     "name": "stdout",
     "output_type": "stream",
     "text": [
      "Processing 9/100: ADMIRAL FINANCIAL CORP\n",
      "Processing 10/100: ADVANCED OXYGEN TECHNOLOGIES INC\n"
     ]
    },
    {
     "name": "stderr",
     "output_type": "stream",
     "text": [
      " 10%|█         | 10/100 [00:13<01:50,  1.23s/it]"
     ]
    },
    {
     "name": "stdout",
     "output_type": "stream",
     "text": [
      "Processing 11/100: AEHR TEST SYSTEMS\n"
     ]
    },
    {
     "name": "stderr",
     "output_type": "stream",
     "text": [
      " 11%|█         | 11/100 [00:13<01:32,  1.04s/it]"
     ]
    },
    {
     "name": "stdout",
     "output_type": "stream",
     "text": [
      "Processing 12/100: ALKALINE WATER Co INC\n"
     ]
    },
    {
     "name": "stderr",
     "output_type": "stream",
     "text": [
      " 12%|█▏        | 12/100 [00:24<04:47,  3.26s/it]"
     ]
    },
    {
     "name": "stdout",
     "output_type": "stream",
     "text": [
      "Processing 13/100: ALLIED HEALTHCARE PRODUCTS INC\n"
     ]
    },
    {
     "name": "stderr",
     "output_type": "stream",
     "text": [
      " 13%|█▎        | 13/100 [00:27<04:24,  3.05s/it]"
     ]
    },
    {
     "name": "stdout",
     "output_type": "stream",
     "text": [
      "Processing 14/100: ALPHA & OMEGA SEMICONDUCTOR Ltd\n",
      "Processing 15/100: ALPHA ENERGY INC\n"
     ]
    },
    {
     "name": "stderr",
     "output_type": "stream",
     "text": [
      " 15%|█▌        | 15/100 [00:35<05:01,  3.54s/it]"
     ]
    },
    {
     "name": "stdout",
     "output_type": "stream",
     "text": [
      "Processing 16/100: AMERICAN SOFTWARE INC\n"
     ]
    },
    {
     "name": "stderr",
     "output_type": "stream",
     "text": [
      " 16%|█▌        | 16/100 [00:36<03:59,  2.85s/it]"
     ]
    },
    {
     "name": "stdout",
     "output_type": "stream",
     "text": [
      "Processing 17/100: AMERITYRE CORP\n",
      "Processing 18/100: AMMO, INC.\n",
      "Processing 19/100: AMREP CORP.\n",
      "Processing 20/100: ANDES 7 INC.\n"
     ]
    },
    {
     "name": "stderr",
     "output_type": "stream",
     "text": [
      " 20%|██        | 20/100 [00:38<02:11,  1.64s/it]"
     ]
    },
    {
     "name": "stdout",
     "output_type": "stream",
     "text": [
      "Processing 21/100: ANGIODYNAMICS INC\n",
      "Processing 22/100: ANVI GLOBAL HOLDINGS, INC.\n"
     ]
    },
    {
     "name": "stderr",
     "output_type": "stream",
     "text": [
      " 22%|██▏       | 22/100 [00:40<01:55,  1.48s/it]"
     ]
    },
    {
     "name": "stdout",
     "output_type": "stream",
     "text": [
      "Processing 23/100: APPIPHANY TECHNOLOGIES HOLDINGS CORP\n"
     ]
    },
    {
     "name": "stderr",
     "output_type": "stream",
     "text": [
      " 26%|██▌       | 26/100 [00:41<00:58,  1.27it/s]"
     ]
    },
    {
     "name": "stdout",
     "output_type": "stream",
     "text": [
      "Processing 24/100: APPLIED GENETIC TECHNOLOGIES CORP\n",
      "Processing 25/100: APPLIED INDUSTRIAL TECHNOLOGIES INC\n",
      "Processing 26/100: APPlife Digital Solutions Inc\n",
      "Processing 27/100: ASPEN GROUP, INC.\n",
      "Processing 28/100: ASTROTECH Corp\n"
     ]
    },
    {
     "name": "stderr",
     "output_type": "stream",
     "text": [
      " 28%|██▊       | 28/100 [00:59<03:42,  3.09s/it]"
     ]
    },
    {
     "name": "stdout",
     "output_type": "stream",
     "text": [
      "Processing 29/100: AURA SYSTEMS INC\n"
     ]
    },
    {
     "name": "stderr",
     "output_type": "stream",
     "text": [
      " 29%|██▉       | 29/100 [01:01<03:28,  2.94s/it]"
     ]
    },
    {
     "name": "stdout",
     "output_type": "stream",
     "text": [
      "Processing 30/100: AUTOMATIC DATA PROCESSING INC\n",
      "Processing 31/100: AVIAT NETWORKS, INC.\n",
      "Processing 32/100: AVNET INC\n",
      "Processing 33/100: AXELEREX CORP.\n"
     ]
    },
    {
     "name": "stderr",
     "output_type": "stream",
     "text": [
      " 33%|███▎      | 33/100 [01:02<01:47,  1.61s/it]"
     ]
    },
    {
     "name": "stdout",
     "output_type": "stream",
     "text": [
      "Processing 34/100: Achison Inc\n"
     ]
    },
    {
     "name": "stderr",
     "output_type": "stream",
     "text": [
      " 34%|███▍      | 34/100 [01:03<01:36,  1.46s/it]"
     ]
    },
    {
     "name": "stdout",
     "output_type": "stream",
     "text": [
      "Processing 35/100: Addus HomeCare Corp\n",
      "Processing 36/100: Adtalem Global Education Inc.\n",
      "Processing 37/100: Akerna Corp.\n",
      "Processing 38/100: Akoustis Technologies, Inc.\n"
     ]
    },
    {
     "name": "stderr",
     "output_type": "stream",
     "text": [
      " 38%|███▊      | 38/100 [01:06<01:14,  1.20s/it]"
     ]
    },
    {
     "name": "stdout",
     "output_type": "stream",
     "text": [
      "Processing 39/100: All State Properties Holdings, Inc.\n"
     ]
    },
    {
     "name": "stderr",
     "output_type": "stream",
     "text": [
      " 39%|███▉      | 39/100 [01:08<01:21,  1.33s/it]"
     ]
    },
    {
     "name": "stdout",
     "output_type": "stream",
     "text": [
      "Processing 40/100: All State Properties Holdings, Inc.\n"
     ]
    },
    {
     "name": "stderr",
     "output_type": "stream",
     "text": [
      " 40%|████      | 40/100 [01:10<01:27,  1.46s/it]"
     ]
    },
    {
     "name": "stdout",
     "output_type": "stream",
     "text": [
      "Processing 41/100: Amcor plc\n",
      "Processing 42/100: Amesite Inc.\n"
     ]
    },
    {
     "name": "stderr",
     "output_type": "stream",
     "text": [
      " 45%|████▌     | 45/100 [01:16<01:00,  1.10s/it]"
     ]
    },
    {
     "name": "stdout",
     "output_type": "stream",
     "text": [
      "Processing 43/100: Anvia Holdings Corp\n",
      "Processing 44/100: Ariel Clean Energy, Inc.\n",
      "Processing 45/100: Arma Services Inc\n",
      "Processing 46/100: Arrestage International, Inc.\n",
      "Processing 47/100: Artificial Intelligence Technology Solutions Inc.\n"
     ]
    },
    {
     "name": "stderr",
     "output_type": "stream",
     "text": [
      " 47%|████▋     | 47/100 [01:24<01:43,  1.96s/it]"
     ]
    },
    {
     "name": "stdout",
     "output_type": "stream",
     "text": [
      "Processing 48/100: Avita Therapeutics, Inc.\n"
     ]
    },
    {
     "name": "stderr",
     "output_type": "stream",
     "text": [
      " 48%|████▊     | 48/100 [01:26<01:40,  1.94s/it]"
     ]
    },
    {
     "name": "stdout",
     "output_type": "stream",
     "text": [
      "Processing 49/100: Axos Financial, Inc.\n",
      "Processing 50/100: B2Digital, Inc.\n",
      "Processing 51/100: BIO-TECHNE Corp\n",
      "Processing 52/100: BIOMERICA INC\n"
     ]
    },
    {
     "name": "stderr",
     "output_type": "stream",
     "text": [
      " 52%|█████▏    | 52/100 [01:39<02:01,  2.53s/it]"
     ]
    },
    {
     "name": "stdout",
     "output_type": "stream",
     "text": [
      "Processing 53/100: BION ENVIRONMENTAL TECHNOLOGIES INC\n"
     ]
    },
    {
     "name": "stderr",
     "output_type": "stream",
     "text": [
      " 55%|█████▌    | 55/100 [02:02<03:00,  4.01s/it]"
     ]
    },
    {
     "name": "stdout",
     "output_type": "stream",
     "text": [
      "Processing 54/100: BIOSYNERGY INC\n",
      "Processing 55/100: BIOTRICITY INC.\n",
      "Processing 56/100: BIOVIE INC.\n",
      "Processing 57/100: BLACK CACTUS GLOBAL, INC.\n"
     ]
    },
    {
     "name": "stderr",
     "output_type": "stream",
     "text": [
      " 57%|█████▋    | 57/100 [02:06<02:23,  3.34s/it]"
     ]
    },
    {
     "name": "stdout",
     "output_type": "stream",
     "text": [
      "Processing 58/100: BOTTOMLINE TECHNOLOGIES INC /DE/\n",
      "Processing 59/100: BOWL AMERICA INC\n"
     ]
    },
    {
     "name": "stderr",
     "output_type": "stream",
     "text": [
      " 59%|█████▉    | 59/100 [02:07<01:40,  2.46s/it]"
     ]
    },
    {
     "name": "stdout",
     "output_type": "stream",
     "text": [
      "Processing 60/100: BRADY CORP\n",
      "Processing 61/100: BRIDGEWAY NATIONAL CORP.\n"
     ]
    },
    {
     "name": "stderr",
     "output_type": "stream",
     "text": [
      " 64%|██████▍   | 64/100 [02:07<00:39,  1.09s/it]"
     ]
    },
    {
     "name": "stdout",
     "output_type": "stream",
     "text": [
      "Processing 62/100: BRINKER INTERNATIONAL, INC\n",
      "Processing 63/100: BROADRIDGE FINANCIAL SOLUTIONS, INC.\n",
      "Processing 64/100: BUTLER NATIONAL CORP\n",
      "Processing 65/100: Barnes & Noble Education, Inc.\n"
     ]
    },
    {
     "name": "stderr",
     "output_type": "stream",
     "text": [
      " 66%|██████▌   | 66/100 [02:08<00:31,  1.08it/s]"
     ]
    },
    {
     "name": "stdout",
     "output_type": "stream",
     "text": [
      "Processing 66/100: Benitec Biopharma Inc.\n",
      "Processing 67/100: Bill.com Holdings, Inc.\n",
      "Processing 68/100: Blox, Inc.\n",
      "Processing 69/100: Blubuzzard, Inc.\n"
     ]
    },
    {
     "name": "stderr",
     "output_type": "stream",
     "text": [
      " 69%|██████▉   | 69/100 [02:10<00:25,  1.22it/s]"
     ]
    },
    {
     "name": "stdout",
     "output_type": "stream",
     "text": [
      "Processing 70/100: Blue Line Protection Group, Inc.\n",
      "Processing 71/100: Bunker Hill Mining Corp.\n",
      "Processing 72/100: C & C TOURS INC\n"
     ]
    },
    {
     "name": "stderr",
     "output_type": "stream",
     "text": [
      " 72%|███████▏  | 72/100 [02:12<00:21,  1.30it/s]"
     ]
    },
    {
     "name": "stdout",
     "output_type": "stream",
     "text": [
      "Processing 73/100: CACI INTERNATIONAL INC /DE/\n",
      "Processing 74/100: CAL-MAINE FOODS INC\n",
      "Processing 75/100: CAMPBELL SOUP CO\n",
      "Processing 76/100: CANNABIS SUISSE CORP.\n",
      "Processing 77/100: CANTEL MEDICAL CORP\n",
      "Processing 78/100: CARDINAL HEALTH INC\n",
      "Processing 79/100: CARPENTER TECHNOLOGY CORP\n",
      "Processing 80/100: CARVER BANCORP INC\n",
      "Processing 81/100: CCUR Holdings, Inc.\n"
     ]
    },
    {
     "name": "stderr",
     "output_type": "stream",
     "text": [
      " 81%|████████  | 81/100 [02:15<00:10,  1.86it/s]"
     ]
    },
    {
     "name": "stdout",
     "output_type": "stream",
     "text": [
      "Processing 82/100: CDK Global, Inc.\n",
      "Processing 83/100: CHAMPIONS ONCOLOGY, INC.\n",
      "Processing 84/100: CHARLES & COLVARD LTD\n",
      "Processing 85/100: CHASE GENERAL CORP\n",
      "Processing 86/100: CHINA JO-JO DRUGSTORES, INC.\n",
      "Processing 87/100: CHINA MEDIA INC.\n",
      "Processing 88/100: CIMPRESS plc\n",
      "Processing 89/100: CINTAS CORP\n",
      "Processing 90/100: CISCO SYSTEMS, INC.\n",
      "Processing 91/100: CLOROX CO /DE/\n",
      "Processing 92/100: CLS Holdings USA, Inc.\n"
     ]
    },
    {
     "name": "stderr",
     "output_type": "stream",
     "text": [
      "100%|██████████| 100/100 [02:44<00:00,  1.65s/it]"
     ]
    },
    {
     "name": "stdout",
     "output_type": "stream",
     "text": [
      "Processing 93/100: COCOLUV INC.\n",
      "Processing 94/100: COLLECTORS UNIVERSE INC\n",
      "Processing 95/100: COMTECH TELECOMMUNICATIONS CORP /DE/\n",
      "Processing 96/100: CONAGRA BRANDS INC.\n",
      "Processing 97/100: CONCIERGE TECHNOLOGIES INC\n",
      "Processing 98/100: CONSUMERS BANCORP INC /OH/\n",
      "Processing 99/100: COPART INC\n",
      "Processing 100/100: COTY INC.\n"
     ]
    },
    {
     "name": "stderr",
     "output_type": "stream",
     "text": [
      "\n"
     ]
    }
   ],
   "source": [
    "sentiment_results = []\n",
    "\n",
    "for i, row in tqdm(df.iterrows(), total=len(df)):\n",
    "    try:\n",
    "        print(f\"Processing {i+1}/{len(df)}: {row['Company Name']}\")\n",
    "\n",
    "        # Step 1: Extract key sections\n",
    "        focus_text = extract_relevant_sections(row['cleaned_text'])\n",
    "\n",
    "        # Step 2: Chunk by tokens\n",
    "        text_chunks = chunk_text_by_tokens(focus_text, tokenizer)\n",
    "\n",
    "        # Step 3: Get chunk-level sentiments\n",
    "        chunk_sentiments = get_sentiment_scores(text_chunks)\n",
    "\n",
    "        # Step 4: Aggregate to document-level\n",
    "        result = aggregate_sentiment(chunk_sentiments)\n",
    "\n",
    "    except Exception as e:\n",
    "        print(f\"Error on row {i}: {e}\")\n",
    "        result = {\"negative\": None, \"neutral\": None, \"positive\": None}\n",
    "\n",
    "    sentiment_results.append(result)"
   ]
  },
  {
   "cell_type": "code",
   "execution_count": 39,
   "id": "b5baefed",
   "metadata": {},
   "outputs": [],
   "source": [
    "# Join results and export\n",
    "sentiment_df = pd.DataFrame(sentiment_results)\n",
    "final_df = pd.concat([df.reset_index(drop=True), sentiment_df], axis=1)\n",
    "final_df.to_csv(\"10k_sentiment_focused_sections.csv\", index=False)"
   ]
  },
  {
   "cell_type": "code",
   "execution_count": 40,
   "id": "ef46cad2",
   "metadata": {},
   "outputs": [
    {
     "data": {
      "text/html": [
       "<div>\n",
       "<style scoped>\n",
       "    .dataframe tbody tr th:only-of-type {\n",
       "        vertical-align: middle;\n",
       "    }\n",
       "\n",
       "    .dataframe tbody tr th {\n",
       "        vertical-align: top;\n",
       "    }\n",
       "\n",
       "    .dataframe thead th {\n",
       "        text-align: right;\n",
       "    }\n",
       "</style>\n",
       "<table border=\"1\" class=\"dataframe\">\n",
       "  <thead>\n",
       "    <tr style=\"text-align: right;\">\n",
       "      <th></th>\n",
       "      <th>Company Name</th>\n",
       "      <th>CIK</th>\n",
       "      <th>Date Filed</th>\n",
       "      <th>Filing URL</th>\n",
       "      <th>Filing Text</th>\n",
       "      <th>Cleaned Text</th>\n",
       "      <th>cleaned_text</th>\n",
       "      <th>negative</th>\n",
       "      <th>neutral</th>\n",
       "      <th>positive</th>\n",
       "    </tr>\n",
       "  </thead>\n",
       "  <tbody>\n",
       "    <tr>\n",
       "      <th>0</th>\n",
       "      <td>1 800 FLOWERS COM INC</td>\n",
       "      <td>1084869</td>\n",
       "      <td>2020-09</td>\n",
       "      <td>https://www.sec.gov/Archives/edgar/data/108486...</td>\n",
       "      <td>&lt;DOCUMENT&gt;\\n&lt;TYPE&gt;10-K\\n&lt;SEQUENCE&gt;1\\n&lt;FILENAME...</td>\n",
       "      <td>Table of Contents\\nUNITED STATES SECURITIES AN...</td>\n",
       "      <td>Table of Contents\\nUNITED STATES SECURITIES AN...</td>\n",
       "      <td>0.0</td>\n",
       "      <td>0.0</td>\n",
       "      <td>0.0</td>\n",
       "    </tr>\n",
       "    <tr>\n",
       "      <th>1</th>\n",
       "      <td>3AM TECHNOLOGIES INC</td>\n",
       "      <td>1667615</td>\n",
       "      <td>2020-09</td>\n",
       "      <td>https://www.sec.gov/Archives/edgar/data/166761...</td>\n",
       "      <td>&lt;DOCUMENT&gt;\\n&lt;TYPE&gt;10-K\\n&lt;SEQUENCE&gt;1\\n&lt;FILENAME...</td>\n",
       "      <td>UNITED STATES SECURITIES AND EXCHANGE COMMISSI...</td>\n",
       "      <td>UNITED STATES SECURITIES AND EXCHANGE COMMISSI...</td>\n",
       "      <td>1.0</td>\n",
       "      <td>0.0</td>\n",
       "      <td>0.0</td>\n",
       "    </tr>\n",
       "    <tr>\n",
       "      <th>2</th>\n",
       "      <td>8i Enterprises Acquisition Corp.</td>\n",
       "      <td>1753648</td>\n",
       "      <td>2020-09</td>\n",
       "      <td>https://www.sec.gov/Archives/edgar/data/175364...</td>\n",
       "      <td>&lt;DOCUMENT&gt;\\n&lt;TYPE&gt;10-K\\n&lt;SEQUENCE&gt;1\\n&lt;FILENAME...</td>\n",
       "      <td>UNITED\\nSTATES\\nSECURITIES\\nAND EXCHANGE COMMI...</td>\n",
       "      <td>UNITED\\nSTATES\\nSECURITIES\\nAND EXCHANGE COMMI...</td>\n",
       "      <td>0.0</td>\n",
       "      <td>0.0</td>\n",
       "      <td>0.0</td>\n",
       "    </tr>\n",
       "    <tr>\n",
       "      <th>3</th>\n",
       "      <td>A-Mark Precious Metals, Inc.</td>\n",
       "      <td>1591588</td>\n",
       "      <td>2020-09</td>\n",
       "      <td>https://www.sec.gov/Archives/edgar/data/159158...</td>\n",
       "      <td>&lt;DOCUMENT&gt;\\n&lt;TYPE&gt;10-K\\n&lt;SEQUENCE&gt;1\\n&lt;FILENAME...</td>\n",
       "      <td>UNITED STATES\\nSECURITIES AND EXCHANGE COMMISS...</td>\n",
       "      <td>UNITED STATES\\nSECURITIES AND EXCHANGE COMMISS...</td>\n",
       "      <td>0.0</td>\n",
       "      <td>0.0</td>\n",
       "      <td>0.0</td>\n",
       "    </tr>\n",
       "    <tr>\n",
       "      <th>4</th>\n",
       "      <td>AAR CORP</td>\n",
       "      <td>1750</td>\n",
       "      <td>2020-07</td>\n",
       "      <td>https://www.sec.gov/ix?doc=/Archives/edgar/dat...</td>\n",
       "      <td>&lt;?xml version=\"1.0\" encoding=\"UTF-8\"?&gt;\\n&lt;!DOCT...</td>\n",
       "      <td></td>\n",
       "      <td></td>\n",
       "      <td>0.0</td>\n",
       "      <td>0.0</td>\n",
       "      <td>0.0</td>\n",
       "    </tr>\n",
       "  </tbody>\n",
       "</table>\n",
       "</div>"
      ],
      "text/plain": [
       "                       Company Name      CIK Date Filed  \\\n",
       "0             1 800 FLOWERS COM INC  1084869    2020-09   \n",
       "1              3AM TECHNOLOGIES INC  1667615    2020-09   \n",
       "2  8i Enterprises Acquisition Corp.  1753648    2020-09   \n",
       "3      A-Mark Precious Metals, Inc.  1591588    2020-09   \n",
       "4                          AAR CORP     1750    2020-07   \n",
       "\n",
       "                                          Filing URL  \\\n",
       "0  https://www.sec.gov/Archives/edgar/data/108486...   \n",
       "1  https://www.sec.gov/Archives/edgar/data/166761...   \n",
       "2  https://www.sec.gov/Archives/edgar/data/175364...   \n",
       "3  https://www.sec.gov/Archives/edgar/data/159158...   \n",
       "4  https://www.sec.gov/ix?doc=/Archives/edgar/dat...   \n",
       "\n",
       "                                         Filing Text  \\\n",
       "0  <DOCUMENT>\\n<TYPE>10-K\\n<SEQUENCE>1\\n<FILENAME...   \n",
       "1  <DOCUMENT>\\n<TYPE>10-K\\n<SEQUENCE>1\\n<FILENAME...   \n",
       "2  <DOCUMENT>\\n<TYPE>10-K\\n<SEQUENCE>1\\n<FILENAME...   \n",
       "3  <DOCUMENT>\\n<TYPE>10-K\\n<SEQUENCE>1\\n<FILENAME...   \n",
       "4  <?xml version=\"1.0\" encoding=\"UTF-8\"?>\\n<!DOCT...   \n",
       "\n",
       "                                        Cleaned Text  \\\n",
       "0  Table of Contents\\nUNITED STATES SECURITIES AN...   \n",
       "1  UNITED STATES SECURITIES AND EXCHANGE COMMISSI...   \n",
       "2  UNITED\\nSTATES\\nSECURITIES\\nAND EXCHANGE COMMI...   \n",
       "3  UNITED STATES\\nSECURITIES AND EXCHANGE COMMISS...   \n",
       "4                                                      \n",
       "\n",
       "                                        cleaned_text  negative  neutral  \\\n",
       "0  Table of Contents\\nUNITED STATES SECURITIES AN...       0.0      0.0   \n",
       "1  UNITED STATES SECURITIES AND EXCHANGE COMMISSI...       1.0      0.0   \n",
       "2  UNITED\\nSTATES\\nSECURITIES\\nAND EXCHANGE COMMI...       0.0      0.0   \n",
       "3  UNITED STATES\\nSECURITIES AND EXCHANGE COMMISS...       0.0      0.0   \n",
       "4                                                          0.0      0.0   \n",
       "\n",
       "   positive  \n",
       "0       0.0  \n",
       "1       0.0  \n",
       "2       0.0  \n",
       "3       0.0  \n",
       "4       0.0  "
      ]
     },
     "execution_count": 40,
     "metadata": {},
     "output_type": "execute_result"
    }
   ],
   "source": [
    "final_df.head()"
   ]
  },
  {
   "cell_type": "code",
   "execution_count": null,
   "id": "f164c4fe",
   "metadata": {},
   "outputs": [
    {
     "name": "stderr",
     "output_type": "stream",
     "text": [
      "Asking to truncate to max_length but no maximum length is provided and the model has no predefined maximum length. Default to no truncation.\n"
     ]
    },
    {
     "name": "stdout",
     "output_type": "stream",
     "text": [
      "Processing 1/100: 1 800 FLOWERS COM INC\n"
     ]
    },
    {
     "ename": "RuntimeError",
     "evalue": "The size of tensor a (597) must match the size of tensor b (512) at non-singleton dimension 1",
     "output_type": "error",
     "traceback": [
      "\u001b[31m---------------------------------------------------------------------------\u001b[39m",
      "\u001b[31mRuntimeError\u001b[39m                              Traceback (most recent call last)",
      "\u001b[36mCell\u001b[39m\u001b[36m \u001b[39m\u001b[32mIn[23]\u001b[39m\u001b[32m, line 16\u001b[39m\n\u001b[32m     14\u001b[39m \u001b[38;5;28mprint\u001b[39m(\u001b[33mf\u001b[39m\u001b[33m\"\u001b[39m\u001b[33mProcessing \u001b[39m\u001b[38;5;132;01m{\u001b[39;00mi+\u001b[32m1\u001b[39m\u001b[38;5;132;01m}\u001b[39;00m\u001b[33m/\u001b[39m\u001b[38;5;132;01m{\u001b[39;00m\u001b[38;5;28mlen\u001b[39m(df)\u001b[38;5;132;01m}\u001b[39;00m\u001b[33m: \u001b[39m\u001b[38;5;132;01m{\u001b[39;00mrow[\u001b[33m'\u001b[39m\u001b[33mCompany Name\u001b[39m\u001b[33m'\u001b[39m]\u001b[38;5;132;01m}\u001b[39;00m\u001b[33m\"\u001b[39m)\n\u001b[32m     15\u001b[39m text_chunks = chunk_text(row[\u001b[33m'\u001b[39m\u001b[33mcleaned_text\u001b[39m\u001b[33m'\u001b[39m])\n\u001b[32m---> \u001b[39m\u001b[32m16\u001b[39m chunk_sentiments = \u001b[43mget_sentiment_scores\u001b[49m\u001b[43m(\u001b[49m\u001b[43mtext_chunks\u001b[49m\u001b[43m)\u001b[49m\n\u001b[32m     17\u001b[39m result = aggregate_sentiment(chunk_sentiments)\n\u001b[32m     18\u001b[39m sentiment_results.append(result)\n",
      "\u001b[36mCell\u001b[39m\u001b[36m \u001b[39m\u001b[32mIn[21]\u001b[39m\u001b[32m, line 6\u001b[39m, in \u001b[36mget_sentiment_scores\u001b[39m\u001b[34m(chunks)\u001b[39m\n\u001b[32m      4\u001b[39m inputs = tokenizer(chunk, return_tensors=\u001b[33m\"\u001b[39m\u001b[33mpt\u001b[39m\u001b[33m\"\u001b[39m, truncation=\u001b[38;5;28;01mTrue\u001b[39;00m, padding=\u001b[38;5;28;01mTrue\u001b[39;00m).to(device)\n\u001b[32m      5\u001b[39m \u001b[38;5;28;01mwith\u001b[39;00m torch.no_grad():\n\u001b[32m----> \u001b[39m\u001b[32m6\u001b[39m     outputs = \u001b[43mmodel\u001b[49m\u001b[43m(\u001b[49m\u001b[43m*\u001b[49m\u001b[43m*\u001b[49m\u001b[43minputs\u001b[49m\u001b[43m)\u001b[49m\n\u001b[32m      7\u001b[39m probs = torch.nn.functional.softmax(outputs.logits, dim=-\u001b[32m1\u001b[39m)\n\u001b[32m      8\u001b[39m label = torch.argmax(probs, dim=\u001b[32m1\u001b[39m).item()\n",
      "\u001b[36mFile \u001b[39m\u001b[32m~/.virtualenv/project10k/lib/python3.13/site-packages/torch/nn/modules/module.py:1739\u001b[39m, in \u001b[36mModule._wrapped_call_impl\u001b[39m\u001b[34m(self, *args, **kwargs)\u001b[39m\n\u001b[32m   1737\u001b[39m     \u001b[38;5;28;01mreturn\u001b[39;00m \u001b[38;5;28mself\u001b[39m._compiled_call_impl(*args, **kwargs)  \u001b[38;5;66;03m# type: ignore[misc]\u001b[39;00m\n\u001b[32m   1738\u001b[39m \u001b[38;5;28;01melse\u001b[39;00m:\n\u001b[32m-> \u001b[39m\u001b[32m1739\u001b[39m     \u001b[38;5;28;01mreturn\u001b[39;00m \u001b[38;5;28;43mself\u001b[39;49m\u001b[43m.\u001b[49m\u001b[43m_call_impl\u001b[49m\u001b[43m(\u001b[49m\u001b[43m*\u001b[49m\u001b[43margs\u001b[49m\u001b[43m,\u001b[49m\u001b[43m \u001b[49m\u001b[43m*\u001b[49m\u001b[43m*\u001b[49m\u001b[43mkwargs\u001b[49m\u001b[43m)\u001b[49m\n",
      "\u001b[36mFile \u001b[39m\u001b[32m~/.virtualenv/project10k/lib/python3.13/site-packages/torch/nn/modules/module.py:1750\u001b[39m, in \u001b[36mModule._call_impl\u001b[39m\u001b[34m(self, *args, **kwargs)\u001b[39m\n\u001b[32m   1745\u001b[39m \u001b[38;5;66;03m# If we don't have any hooks, we want to skip the rest of the logic in\u001b[39;00m\n\u001b[32m   1746\u001b[39m \u001b[38;5;66;03m# this function, and just call forward.\u001b[39;00m\n\u001b[32m   1747\u001b[39m \u001b[38;5;28;01mif\u001b[39;00m \u001b[38;5;129;01mnot\u001b[39;00m (\u001b[38;5;28mself\u001b[39m._backward_hooks \u001b[38;5;129;01mor\u001b[39;00m \u001b[38;5;28mself\u001b[39m._backward_pre_hooks \u001b[38;5;129;01mor\u001b[39;00m \u001b[38;5;28mself\u001b[39m._forward_hooks \u001b[38;5;129;01mor\u001b[39;00m \u001b[38;5;28mself\u001b[39m._forward_pre_hooks\n\u001b[32m   1748\u001b[39m         \u001b[38;5;129;01mor\u001b[39;00m _global_backward_pre_hooks \u001b[38;5;129;01mor\u001b[39;00m _global_backward_hooks\n\u001b[32m   1749\u001b[39m         \u001b[38;5;129;01mor\u001b[39;00m _global_forward_hooks \u001b[38;5;129;01mor\u001b[39;00m _global_forward_pre_hooks):\n\u001b[32m-> \u001b[39m\u001b[32m1750\u001b[39m     \u001b[38;5;28;01mreturn\u001b[39;00m \u001b[43mforward_call\u001b[49m\u001b[43m(\u001b[49m\u001b[43m*\u001b[49m\u001b[43margs\u001b[49m\u001b[43m,\u001b[49m\u001b[43m \u001b[49m\u001b[43m*\u001b[49m\u001b[43m*\u001b[49m\u001b[43mkwargs\u001b[49m\u001b[43m)\u001b[49m\n\u001b[32m   1752\u001b[39m result = \u001b[38;5;28;01mNone\u001b[39;00m\n\u001b[32m   1753\u001b[39m called_always_called_hooks = \u001b[38;5;28mset\u001b[39m()\n",
      "\u001b[36mFile \u001b[39m\u001b[32m~/.virtualenv/project10k/lib/python3.13/site-packages/transformers/models/bert/modeling_bert.py:1673\u001b[39m, in \u001b[36mBertForSequenceClassification.forward\u001b[39m\u001b[34m(self, input_ids, attention_mask, token_type_ids, position_ids, head_mask, inputs_embeds, labels, output_attentions, output_hidden_states, return_dict)\u001b[39m\n\u001b[32m   1665\u001b[39m \u001b[38;5;250m\u001b[39m\u001b[33mr\u001b[39m\u001b[33;03m\"\"\"\u001b[39;00m\n\u001b[32m   1666\u001b[39m \u001b[33;03mlabels (`torch.LongTensor` of shape `(batch_size,)`, *optional*):\u001b[39;00m\n\u001b[32m   1667\u001b[39m \u001b[33;03m    Labels for computing the sequence classification/regression loss. Indices should be in `[0, ...,\u001b[39;00m\n\u001b[32m   1668\u001b[39m \u001b[33;03m    config.num_labels - 1]`. If `config.num_labels == 1` a regression loss is computed (Mean-Square loss), If\u001b[39;00m\n\u001b[32m   1669\u001b[39m \u001b[33;03m    `config.num_labels > 1` a classification loss is computed (Cross-Entropy).\u001b[39;00m\n\u001b[32m   1670\u001b[39m \u001b[33;03m\"\"\"\u001b[39;00m\n\u001b[32m   1671\u001b[39m return_dict = return_dict \u001b[38;5;28;01mif\u001b[39;00m return_dict \u001b[38;5;129;01mis\u001b[39;00m \u001b[38;5;129;01mnot\u001b[39;00m \u001b[38;5;28;01mNone\u001b[39;00m \u001b[38;5;28;01melse\u001b[39;00m \u001b[38;5;28mself\u001b[39m.config.use_return_dict\n\u001b[32m-> \u001b[39m\u001b[32m1673\u001b[39m outputs = \u001b[38;5;28;43mself\u001b[39;49m\u001b[43m.\u001b[49m\u001b[43mbert\u001b[49m\u001b[43m(\u001b[49m\n\u001b[32m   1674\u001b[39m \u001b[43m    \u001b[49m\u001b[43minput_ids\u001b[49m\u001b[43m,\u001b[49m\n\u001b[32m   1675\u001b[39m \u001b[43m    \u001b[49m\u001b[43mattention_mask\u001b[49m\u001b[43m=\u001b[49m\u001b[43mattention_mask\u001b[49m\u001b[43m,\u001b[49m\n\u001b[32m   1676\u001b[39m \u001b[43m    \u001b[49m\u001b[43mtoken_type_ids\u001b[49m\u001b[43m=\u001b[49m\u001b[43mtoken_type_ids\u001b[49m\u001b[43m,\u001b[49m\n\u001b[32m   1677\u001b[39m \u001b[43m    \u001b[49m\u001b[43mposition_ids\u001b[49m\u001b[43m=\u001b[49m\u001b[43mposition_ids\u001b[49m\u001b[43m,\u001b[49m\n\u001b[32m   1678\u001b[39m \u001b[43m    \u001b[49m\u001b[43mhead_mask\u001b[49m\u001b[43m=\u001b[49m\u001b[43mhead_mask\u001b[49m\u001b[43m,\u001b[49m\n\u001b[32m   1679\u001b[39m \u001b[43m    \u001b[49m\u001b[43minputs_embeds\u001b[49m\u001b[43m=\u001b[49m\u001b[43minputs_embeds\u001b[49m\u001b[43m,\u001b[49m\n\u001b[32m   1680\u001b[39m \u001b[43m    \u001b[49m\u001b[43moutput_attentions\u001b[49m\u001b[43m=\u001b[49m\u001b[43moutput_attentions\u001b[49m\u001b[43m,\u001b[49m\n\u001b[32m   1681\u001b[39m \u001b[43m    \u001b[49m\u001b[43moutput_hidden_states\u001b[49m\u001b[43m=\u001b[49m\u001b[43moutput_hidden_states\u001b[49m\u001b[43m,\u001b[49m\n\u001b[32m   1682\u001b[39m \u001b[43m    \u001b[49m\u001b[43mreturn_dict\u001b[49m\u001b[43m=\u001b[49m\u001b[43mreturn_dict\u001b[49m\u001b[43m,\u001b[49m\n\u001b[32m   1683\u001b[39m \u001b[43m\u001b[49m\u001b[43m)\u001b[49m\n\u001b[32m   1685\u001b[39m pooled_output = outputs[\u001b[32m1\u001b[39m]\n\u001b[32m   1687\u001b[39m pooled_output = \u001b[38;5;28mself\u001b[39m.dropout(pooled_output)\n",
      "\u001b[36mFile \u001b[39m\u001b[32m~/.virtualenv/project10k/lib/python3.13/site-packages/torch/nn/modules/module.py:1739\u001b[39m, in \u001b[36mModule._wrapped_call_impl\u001b[39m\u001b[34m(self, *args, **kwargs)\u001b[39m\n\u001b[32m   1737\u001b[39m     \u001b[38;5;28;01mreturn\u001b[39;00m \u001b[38;5;28mself\u001b[39m._compiled_call_impl(*args, **kwargs)  \u001b[38;5;66;03m# type: ignore[misc]\u001b[39;00m\n\u001b[32m   1738\u001b[39m \u001b[38;5;28;01melse\u001b[39;00m:\n\u001b[32m-> \u001b[39m\u001b[32m1739\u001b[39m     \u001b[38;5;28;01mreturn\u001b[39;00m \u001b[38;5;28;43mself\u001b[39;49m\u001b[43m.\u001b[49m\u001b[43m_call_impl\u001b[49m\u001b[43m(\u001b[49m\u001b[43m*\u001b[49m\u001b[43margs\u001b[49m\u001b[43m,\u001b[49m\u001b[43m \u001b[49m\u001b[43m*\u001b[49m\u001b[43m*\u001b[49m\u001b[43mkwargs\u001b[49m\u001b[43m)\u001b[49m\n",
      "\u001b[36mFile \u001b[39m\u001b[32m~/.virtualenv/project10k/lib/python3.13/site-packages/torch/nn/modules/module.py:1750\u001b[39m, in \u001b[36mModule._call_impl\u001b[39m\u001b[34m(self, *args, **kwargs)\u001b[39m\n\u001b[32m   1745\u001b[39m \u001b[38;5;66;03m# If we don't have any hooks, we want to skip the rest of the logic in\u001b[39;00m\n\u001b[32m   1746\u001b[39m \u001b[38;5;66;03m# this function, and just call forward.\u001b[39;00m\n\u001b[32m   1747\u001b[39m \u001b[38;5;28;01mif\u001b[39;00m \u001b[38;5;129;01mnot\u001b[39;00m (\u001b[38;5;28mself\u001b[39m._backward_hooks \u001b[38;5;129;01mor\u001b[39;00m \u001b[38;5;28mself\u001b[39m._backward_pre_hooks \u001b[38;5;129;01mor\u001b[39;00m \u001b[38;5;28mself\u001b[39m._forward_hooks \u001b[38;5;129;01mor\u001b[39;00m \u001b[38;5;28mself\u001b[39m._forward_pre_hooks\n\u001b[32m   1748\u001b[39m         \u001b[38;5;129;01mor\u001b[39;00m _global_backward_pre_hooks \u001b[38;5;129;01mor\u001b[39;00m _global_backward_hooks\n\u001b[32m   1749\u001b[39m         \u001b[38;5;129;01mor\u001b[39;00m _global_forward_hooks \u001b[38;5;129;01mor\u001b[39;00m _global_forward_pre_hooks):\n\u001b[32m-> \u001b[39m\u001b[32m1750\u001b[39m     \u001b[38;5;28;01mreturn\u001b[39;00m \u001b[43mforward_call\u001b[49m\u001b[43m(\u001b[49m\u001b[43m*\u001b[49m\u001b[43margs\u001b[49m\u001b[43m,\u001b[49m\u001b[43m \u001b[49m\u001b[43m*\u001b[49m\u001b[43m*\u001b[49m\u001b[43mkwargs\u001b[49m\u001b[43m)\u001b[49m\n\u001b[32m   1752\u001b[39m result = \u001b[38;5;28;01mNone\u001b[39;00m\n\u001b[32m   1753\u001b[39m called_always_called_hooks = \u001b[38;5;28mset\u001b[39m()\n",
      "\u001b[36mFile \u001b[39m\u001b[32m~/.virtualenv/project10k/lib/python3.13/site-packages/transformers/models/bert/modeling_bert.py:1078\u001b[39m, in \u001b[36mBertModel.forward\u001b[39m\u001b[34m(self, input_ids, attention_mask, token_type_ids, position_ids, head_mask, inputs_embeds, encoder_hidden_states, encoder_attention_mask, past_key_values, use_cache, output_attentions, output_hidden_states, return_dict)\u001b[39m\n\u001b[32m   1075\u001b[39m     \u001b[38;5;28;01melse\u001b[39;00m:\n\u001b[32m   1076\u001b[39m         token_type_ids = torch.zeros(input_shape, dtype=torch.long, device=device)\n\u001b[32m-> \u001b[39m\u001b[32m1078\u001b[39m embedding_output = \u001b[38;5;28;43mself\u001b[39;49m\u001b[43m.\u001b[49m\u001b[43membeddings\u001b[49m\u001b[43m(\u001b[49m\n\u001b[32m   1079\u001b[39m \u001b[43m    \u001b[49m\u001b[43minput_ids\u001b[49m\u001b[43m=\u001b[49m\u001b[43minput_ids\u001b[49m\u001b[43m,\u001b[49m\n\u001b[32m   1080\u001b[39m \u001b[43m    \u001b[49m\u001b[43mposition_ids\u001b[49m\u001b[43m=\u001b[49m\u001b[43mposition_ids\u001b[49m\u001b[43m,\u001b[49m\n\u001b[32m   1081\u001b[39m \u001b[43m    \u001b[49m\u001b[43mtoken_type_ids\u001b[49m\u001b[43m=\u001b[49m\u001b[43mtoken_type_ids\u001b[49m\u001b[43m,\u001b[49m\n\u001b[32m   1082\u001b[39m \u001b[43m    \u001b[49m\u001b[43minputs_embeds\u001b[49m\u001b[43m=\u001b[49m\u001b[43minputs_embeds\u001b[49m\u001b[43m,\u001b[49m\n\u001b[32m   1083\u001b[39m \u001b[43m    \u001b[49m\u001b[43mpast_key_values_length\u001b[49m\u001b[43m=\u001b[49m\u001b[43mpast_key_values_length\u001b[49m\u001b[43m,\u001b[49m\n\u001b[32m   1084\u001b[39m \u001b[43m\u001b[49m\u001b[43m)\u001b[49m\n\u001b[32m   1086\u001b[39m \u001b[38;5;28;01mif\u001b[39;00m attention_mask \u001b[38;5;129;01mis\u001b[39;00m \u001b[38;5;28;01mNone\u001b[39;00m:\n\u001b[32m   1087\u001b[39m     attention_mask = torch.ones((batch_size, seq_length + past_key_values_length), device=device)\n",
      "\u001b[36mFile \u001b[39m\u001b[32m~/.virtualenv/project10k/lib/python3.13/site-packages/torch/nn/modules/module.py:1739\u001b[39m, in \u001b[36mModule._wrapped_call_impl\u001b[39m\u001b[34m(self, *args, **kwargs)\u001b[39m\n\u001b[32m   1737\u001b[39m     \u001b[38;5;28;01mreturn\u001b[39;00m \u001b[38;5;28mself\u001b[39m._compiled_call_impl(*args, **kwargs)  \u001b[38;5;66;03m# type: ignore[misc]\u001b[39;00m\n\u001b[32m   1738\u001b[39m \u001b[38;5;28;01melse\u001b[39;00m:\n\u001b[32m-> \u001b[39m\u001b[32m1739\u001b[39m     \u001b[38;5;28;01mreturn\u001b[39;00m \u001b[38;5;28;43mself\u001b[39;49m\u001b[43m.\u001b[49m\u001b[43m_call_impl\u001b[49m\u001b[43m(\u001b[49m\u001b[43m*\u001b[49m\u001b[43margs\u001b[49m\u001b[43m,\u001b[49m\u001b[43m \u001b[49m\u001b[43m*\u001b[49m\u001b[43m*\u001b[49m\u001b[43mkwargs\u001b[49m\u001b[43m)\u001b[49m\n",
      "\u001b[36mFile \u001b[39m\u001b[32m~/.virtualenv/project10k/lib/python3.13/site-packages/torch/nn/modules/module.py:1750\u001b[39m, in \u001b[36mModule._call_impl\u001b[39m\u001b[34m(self, *args, **kwargs)\u001b[39m\n\u001b[32m   1745\u001b[39m \u001b[38;5;66;03m# If we don't have any hooks, we want to skip the rest of the logic in\u001b[39;00m\n\u001b[32m   1746\u001b[39m \u001b[38;5;66;03m# this function, and just call forward.\u001b[39;00m\n\u001b[32m   1747\u001b[39m \u001b[38;5;28;01mif\u001b[39;00m \u001b[38;5;129;01mnot\u001b[39;00m (\u001b[38;5;28mself\u001b[39m._backward_hooks \u001b[38;5;129;01mor\u001b[39;00m \u001b[38;5;28mself\u001b[39m._backward_pre_hooks \u001b[38;5;129;01mor\u001b[39;00m \u001b[38;5;28mself\u001b[39m._forward_hooks \u001b[38;5;129;01mor\u001b[39;00m \u001b[38;5;28mself\u001b[39m._forward_pre_hooks\n\u001b[32m   1748\u001b[39m         \u001b[38;5;129;01mor\u001b[39;00m _global_backward_pre_hooks \u001b[38;5;129;01mor\u001b[39;00m _global_backward_hooks\n\u001b[32m   1749\u001b[39m         \u001b[38;5;129;01mor\u001b[39;00m _global_forward_hooks \u001b[38;5;129;01mor\u001b[39;00m _global_forward_pre_hooks):\n\u001b[32m-> \u001b[39m\u001b[32m1750\u001b[39m     \u001b[38;5;28;01mreturn\u001b[39;00m \u001b[43mforward_call\u001b[49m\u001b[43m(\u001b[49m\u001b[43m*\u001b[49m\u001b[43margs\u001b[49m\u001b[43m,\u001b[49m\u001b[43m \u001b[49m\u001b[43m*\u001b[49m\u001b[43m*\u001b[49m\u001b[43mkwargs\u001b[49m\u001b[43m)\u001b[49m\n\u001b[32m   1752\u001b[39m result = \u001b[38;5;28;01mNone\u001b[39;00m\n\u001b[32m   1753\u001b[39m called_always_called_hooks = \u001b[38;5;28mset\u001b[39m()\n",
      "\u001b[36mFile \u001b[39m\u001b[32m~/.virtualenv/project10k/lib/python3.13/site-packages/transformers/models/bert/modeling_bert.py:217\u001b[39m, in \u001b[36mBertEmbeddings.forward\u001b[39m\u001b[34m(self, input_ids, token_type_ids, position_ids, inputs_embeds, past_key_values_length)\u001b[39m\n\u001b[32m    215\u001b[39m \u001b[38;5;28;01mif\u001b[39;00m \u001b[38;5;28mself\u001b[39m.position_embedding_type == \u001b[33m\"\u001b[39m\u001b[33mabsolute\u001b[39m\u001b[33m\"\u001b[39m:\n\u001b[32m    216\u001b[39m     position_embeddings = \u001b[38;5;28mself\u001b[39m.position_embeddings(position_ids)\n\u001b[32m--> \u001b[39m\u001b[32m217\u001b[39m     \u001b[43membeddings\u001b[49m\u001b[43m \u001b[49m\u001b[43m+\u001b[49m\u001b[43m=\u001b[49m\u001b[43m \u001b[49m\u001b[43mposition_embeddings\u001b[49m\n\u001b[32m    218\u001b[39m embeddings = \u001b[38;5;28mself\u001b[39m.LayerNorm(embeddings)\n\u001b[32m    219\u001b[39m embeddings = \u001b[38;5;28mself\u001b[39m.dropout(embeddings)\n",
      "\u001b[31mRuntimeError\u001b[39m: The size of tensor a (597) must match the size of tensor b (512) at non-singleton dimension 1"
     ]
    }
   ],
   "source": [
    "# import pandas as pd\n",
    "# # # Load your dataframe\n",
    "# # df = pd.read_csv(\"your_cleaned_10k_dataframe.csv\")\n",
    "\n",
    "# # Optional: keep only non-null cleaned_text\n",
    "# df = df_100[df_100['cleaned_text'].notnull()].reset_index(drop=True)\n",
    "\n",
    "# # Storage\n",
    "# sentiment_results = []\n",
    "\n",
    "# # Iterate through each filing\n",
    "# for i, row in df.iterrows():\n",
    "#     print(f\"Processing {i+1}/{len(df)}: {row['Company Name']}\")\n",
    "#     text_chunks = chunk_text(row['cleaned_text'])\n",
    "#     chunk_sentiments = get_sentiment_scores(text_chunks)\n",
    "#     result = aggregate_sentiment(chunk_sentiments)\n",
    "#     sentiment_results.append(result)\n",
    "\n",
    "# # Convert results to DataFrame\n",
    "# sentiment_df = pd.DataFrame(sentiment_results)\n",
    "\n",
    "# # Combine with original data\n",
    "# final_df = pd.concat([df, sentiment_df], axis=1)"
   ]
  },
  {
   "cell_type": "code",
   "execution_count": null,
   "id": "88da0184-1200-4d28-a892-86919c1196ce",
   "metadata": {},
   "outputs": [],
   "source": [
    "#df.to_csv(\"10K_filings_cleaned.csv\", index=False)"
   ]
  },
  {
   "cell_type": "code",
   "execution_count": 7,
   "id": "bc5052f6",
   "metadata": {},
   "outputs": [
    {
     "name": "stdout",
     "output_type": "stream",
     "text": [
      "Requirement already satisfied: transformers in /Users/nareshchethala/.virtualenv/project10k/lib/python3.13/site-packages (4.50.3)\n",
      "Requirement already satisfied: filelock in /Users/nareshchethala/.virtualenv/project10k/lib/python3.13/site-packages (from transformers) (3.18.0)\n",
      "Requirement already satisfied: huggingface-hub<1.0,>=0.26.0 in /Users/nareshchethala/.virtualenv/project10k/lib/python3.13/site-packages (from transformers) (0.30.1)\n",
      "Requirement already satisfied: numpy>=1.17 in /Users/nareshchethala/.virtualenv/project10k/lib/python3.13/site-packages (from transformers) (2.2.4)\n",
      "Requirement already satisfied: packaging>=20.0 in /Users/nareshchethala/.virtualenv/project10k/lib/python3.13/site-packages (from transformers) (24.2)\n",
      "Requirement already satisfied: pyyaml>=5.1 in /Users/nareshchethala/.virtualenv/project10k/lib/python3.13/site-packages (from transformers) (6.0.2)\n",
      "Requirement already satisfied: regex!=2019.12.17 in /Users/nareshchethala/.virtualenv/project10k/lib/python3.13/site-packages (from transformers) (2024.11.6)\n",
      "Requirement already satisfied: requests in /Users/nareshchethala/.virtualenv/project10k/lib/python3.13/site-packages (from transformers) (2.32.3)\n",
      "Requirement already satisfied: tokenizers<0.22,>=0.21 in /Users/nareshchethala/.virtualenv/project10k/lib/python3.13/site-packages (from transformers) (0.21.1)\n",
      "Requirement already satisfied: safetensors>=0.4.3 in /Users/nareshchethala/.virtualenv/project10k/lib/python3.13/site-packages (from transformers) (0.5.3)\n",
      "Requirement already satisfied: tqdm>=4.27 in /Users/nareshchethala/.virtualenv/project10k/lib/python3.13/site-packages (from transformers) (4.67.1)\n",
      "Requirement already satisfied: fsspec>=2023.5.0 in /Users/nareshchethala/.virtualenv/project10k/lib/python3.13/site-packages (from huggingface-hub<1.0,>=0.26.0->transformers) (2025.3.2)\n",
      "Requirement already satisfied: typing-extensions>=3.7.4.3 in /Users/nareshchethala/.virtualenv/project10k/lib/python3.13/site-packages (from huggingface-hub<1.0,>=0.26.0->transformers) (4.13.0)\n",
      "Requirement already satisfied: charset-normalizer<4,>=2 in /Users/nareshchethala/.virtualenv/project10k/lib/python3.13/site-packages (from requests->transformers) (3.4.1)\n",
      "Requirement already satisfied: idna<4,>=2.5 in /Users/nareshchethala/.virtualenv/project10k/lib/python3.13/site-packages (from requests->transformers) (3.10)\n",
      "Requirement already satisfied: urllib3<3,>=1.21.1 in /Users/nareshchethala/.virtualenv/project10k/lib/python3.13/site-packages (from requests->transformers) (2.3.0)\n",
      "Requirement already satisfied: certifi>=2017.4.17 in /Users/nareshchethala/.virtualenv/project10k/lib/python3.13/site-packages (from requests->transformers) (2025.1.31)\n",
      "Note: you may need to restart the kernel to use updated packages.\n"
     ]
    }
   ],
   "source": [
    "pip install transformers"
   ]
  },
  {
   "cell_type": "code",
   "execution_count": 4,
   "id": "19ce1ad4-7ba0-486e-9e76-059efc52c8a4",
   "metadata": {},
   "outputs": [],
   "source": [
    "import re\n",
    "\n",
    "def extract_item(text, item_number):\n",
    "    \"\"\"\n",
    "    Extracts section like ITEM 1A, ITEM 7 from 10-K text\n",
    "    \"\"\"\n",
    "    pattern = rf'(ITEM\\s+{item_number}[^\\n]*)(.*?)(ITEM\\s+\\d+[A-Z]?)'\n",
    "    match = re.search(pattern, text, re.IGNORECASE | re.DOTALL)\n",
    "    if match:\n",
    "        return match.group(2).strip()\n",
    "    return None"
   ]
  },
  {
   "cell_type": "code",
   "execution_count": 8,
   "id": "fbe02928",
   "metadata": {},
   "outputs": [],
   "source": [
    "def chunk_text(text, chunk_size=500, overlap=50):\n",
    "    words = text.split()\n",
    "    chunks = []\n",
    "    for i in range(0, len(words), chunk_size - overlap):\n",
    "        chunk = \" \".join(words[i:i + chunk_size])\n",
    "        chunks.append(chunk)\n",
    "    return chunks"
   ]
  },
  {
   "cell_type": "code",
   "execution_count": 23,
   "id": "839d3179",
   "metadata": {},
   "outputs": [
    {
     "name": "stderr",
     "output_type": "stream",
     "text": [
      "18283.26s - pydevd: Sending message related to process being replaced timed-out after 5 seconds\n"
     ]
    },
    {
     "name": "stdout",
     "output_type": "stream",
     "text": [
      "Requirement already satisfied: torch in /Users/nareshchethala/.virtualenv/project10k/lib/python3.13/site-packages (2.6.0)\n",
      "Requirement already satisfied: torchvision in /Users/nareshchethala/.virtualenv/project10k/lib/python3.13/site-packages (0.21.0)\n",
      "Requirement already satisfied: torchaudio in /Users/nareshchethala/.virtualenv/project10k/lib/python3.13/site-packages (2.6.0)\n",
      "Requirement already satisfied: filelock in /Users/nareshchethala/.virtualenv/project10k/lib/python3.13/site-packages (from torch) (3.18.0)\n",
      "Requirement already satisfied: typing-extensions>=4.10.0 in /Users/nareshchethala/.virtualenv/project10k/lib/python3.13/site-packages (from torch) (4.13.0)\n",
      "Requirement already satisfied: networkx in /Users/nareshchethala/.virtualenv/project10k/lib/python3.13/site-packages (from torch) (3.4.2)\n",
      "Requirement already satisfied: jinja2 in /Users/nareshchethala/.virtualenv/project10k/lib/python3.13/site-packages (from torch) (3.1.6)\n",
      "Requirement already satisfied: fsspec in /Users/nareshchethala/.virtualenv/project10k/lib/python3.13/site-packages (from torch) (2025.3.2)\n",
      "Requirement already satisfied: setuptools in /Users/nareshchethala/.virtualenv/project10k/lib/python3.13/site-packages (from torch) (78.1.0)\n",
      "Requirement already satisfied: sympy==1.13.1 in /Users/nareshchethala/.virtualenv/project10k/lib/python3.13/site-packages (from torch) (1.13.1)\n",
      "Requirement already satisfied: mpmath<1.4,>=1.1.0 in /Users/nareshchethala/.virtualenv/project10k/lib/python3.13/site-packages (from sympy==1.13.1->torch) (1.3.0)\n",
      "Requirement already satisfied: numpy in /Users/nareshchethala/.virtualenv/project10k/lib/python3.13/site-packages (from torchvision) (2.2.4)\n",
      "Requirement already satisfied: pillow!=8.3.*,>=5.3.0 in /Users/nareshchethala/.virtualenv/project10k/lib/python3.13/site-packages (from torchvision) (11.1.0)\n",
      "Requirement already satisfied: MarkupSafe>=2.0 in /Users/nareshchethala/.virtualenv/project10k/lib/python3.13/site-packages (from jinja2->torch) (3.0.2)\n",
      "Note: you may need to restart the kernel to use updated packages.\n"
     ]
    }
   ],
   "source": [
    "pip install torch torchvision torchaudio"
   ]
  },
  {
   "cell_type": "code",
   "execution_count": null,
   "id": "377319e1",
   "metadata": {},
   "outputs": [],
   "source": [
    "pip install torch torchvision torchaudio"
   ]
  },
  {
   "cell_type": "code",
   "execution_count": 9,
   "id": "ffec2876",
   "metadata": {},
   "outputs": [
    {
     "name": "stderr",
     "output_type": "stream",
     "text": [
      "Xet Storage is enabled for this repo, but the 'hf_xet' package is not installed. Falling back to regular HTTP download. For better performance, install the package with: `pip install huggingface_hub[hf_xet]` or `pip install hf_xet`\n"
     ]
    },
    {
     "data": {
      "application/vnd.jupyter.widget-view+json": {
       "model_id": "56dfb4de787b47d3aab4868ea0645292",
       "version_major": 2,
       "version_minor": 0
      },
      "text/plain": [
       "pytorch_model.bin:   0%|          | 0.00/438M [00:00<?, ?B/s]"
      ]
     },
     "metadata": {},
     "output_type": "display_data"
    },
    {
     "name": "stderr",
     "output_type": "stream",
     "text": [
      "Xet Storage is enabled for this repo, but the 'hf_xet' package is not installed. Falling back to regular HTTP download. For better performance, install the package with: `pip install huggingface_hub[hf_xet]` or `pip install hf_xet`\n"
     ]
    },
    {
     "data": {
      "application/vnd.jupyter.widget-view+json": {
       "model_id": "10adb0bebb79429797e509ce1c8c1393",
       "version_major": 2,
       "version_minor": 0
      },
      "text/plain": [
       "model.safetensors:   0%|          | 0.00/438M [00:00<?, ?B/s]"
      ]
     },
     "metadata": {},
     "output_type": "display_data"
    }
   ],
   "source": [
    "# Load model directly\n",
    "from transformers import AutoTokenizer, AutoModelForSequenceClassification\n",
    "\n",
    "tokenizer = AutoTokenizer.from_pretrained(\"ProsusAI/finbert\")\n",
    "model = AutoModelForSequenceClassification.from_pretrained(\"ProsusAI/finbert\")"
   ]
  },
  {
   "cell_type": "code",
   "execution_count": 13,
   "id": "5601fdc9",
   "metadata": {},
   "outputs": [
    {
     "name": "stderr",
     "output_type": "stream",
     "text": [
      "Device set to use mps:0\n"
     ]
    }
   ],
   "source": [
    "from transformers import pipeline\n",
    "\n",
    "finbert = pipeline(\"sentiment-analysis\", model=model, tokenizer=tokenizer)"
   ]
  },
  {
   "cell_type": "code",
   "execution_count": 10,
   "id": "6694a5ac",
   "metadata": {},
   "outputs": [],
   "source": [
    "from collections import Counter\n",
    "\n",
    "def analyze_sentiment(text):\n",
    "    chunks = chunk_text(text)\n",
    "    labels = []\n",
    "\n",
    "    for chunk in chunks:\n",
    "        result = finbert(chunk[:512])[0]  # Truncate to 512 tokens\n",
    "        labels.append(result[\"label\"])\n",
    "\n",
    "    # Aggregate: count the most common sentiment\n",
    "    count = Counter(labels)\n",
    "    dominant_sentiment = count.most_common(1)[0][0]\n",
    "    \n",
    "    return dominant_sentiment, dict(count)"
   ]
  },
  {
   "cell_type": "code",
   "execution_count": 11,
   "id": "bfbb015c",
   "metadata": {},
   "outputs": [],
   "source": [
    "df_1000 = df.head(1000)"
   ]
  },
  {
   "cell_type": "code",
   "execution_count": 14,
   "id": "ce1e3744",
   "metadata": {},
   "outputs": [
    {
     "name": "stderr",
     "output_type": "stream",
     "text": [
      "/var/folders/w1/vt1xc8rs7w9f0fs5spyxbzcc0000gn/T/ipykernel_16162/2872544260.py:2: SettingWithCopyWarning: \n",
      "A value is trying to be set on a copy of a slice from a DataFrame.\n",
      "Try using .loc[row_indexer,col_indexer] = value instead\n",
      "\n",
      "See the caveats in the documentation: https://pandas.pydata.org/pandas-docs/stable/user_guide/indexing.html#returning-a-view-versus-a-copy\n",
      "  df_1000[\"sentiment_result\"] = df_1000[\"cleaned_text\"].apply(lambda x: analyze_sentiment(x)[0])\n",
      "/var/folders/w1/vt1xc8rs7w9f0fs5spyxbzcc0000gn/T/ipykernel_16162/2872544260.py:3: SettingWithCopyWarning: \n",
      "A value is trying to be set on a copy of a slice from a DataFrame.\n",
      "Try using .loc[row_indexer,col_indexer] = value instead\n",
      "\n",
      "See the caveats in the documentation: https://pandas.pydata.org/pandas-docs/stable/user_guide/indexing.html#returning-a-view-versus-a-copy\n",
      "  df_1000[\"sentiment_breakdown\"] = df_1000[\"cleaned_text\"].apply(lambda x: analyze_sentiment(x)[1])\n"
     ]
    }
   ],
   "source": [
    "# Assuming df_1000 contains a 'cleaned_text' column\n",
    "df_1000[\"sentiment_result\"] = df_1000[\"cleaned_text\"].apply(lambda x: analyze_sentiment(x)[0])\n",
    "df_1000[\"sentiment_breakdown\"] = df_1000[\"cleaned_text\"].apply(lambda x: analyze_sentiment(x)[1])"
   ]
  },
  {
   "cell_type": "code",
   "execution_count": 16,
   "id": "b1ac91c2",
   "metadata": {},
   "outputs": [
    {
     "data": {
      "text/html": [
       "<div>\n",
       "<style scoped>\n",
       "    .dataframe tbody tr th:only-of-type {\n",
       "        vertical-align: middle;\n",
       "    }\n",
       "\n",
       "    .dataframe tbody tr th {\n",
       "        vertical-align: top;\n",
       "    }\n",
       "\n",
       "    .dataframe thead th {\n",
       "        text-align: right;\n",
       "    }\n",
       "</style>\n",
       "<table border=\"1\" class=\"dataframe\">\n",
       "  <thead>\n",
       "    <tr style=\"text-align: right;\">\n",
       "      <th></th>\n",
       "      <th>year_folder</th>\n",
       "      <th>quarter_folder</th>\n",
       "      <th>filing_date</th>\n",
       "      <th>year</th>\n",
       "      <th>month</th>\n",
       "      <th>day</th>\n",
       "      <th>filing_type</th>\n",
       "      <th>cik</th>\n",
       "      <th>accession</th>\n",
       "      <th>filename</th>\n",
       "      <th>text</th>\n",
       "      <th>cleaned_text</th>\n",
       "      <th>sentiment_result</th>\n",
       "      <th>sentiment_breakdown</th>\n",
       "    </tr>\n",
       "  </thead>\n",
       "  <tbody>\n",
       "    <tr>\n",
       "      <th>0</th>\n",
       "      <td>2022</td>\n",
       "      <td>QTR2</td>\n",
       "      <td>20220520</td>\n",
       "      <td>2022</td>\n",
       "      <td>5</td>\n",
       "      <td>20</td>\n",
       "      <td>10-K</td>\n",
       "      <td>data</td>\n",
       "      <td>849399</td>\n",
       "      <td>20220520_10-K_edgar_data_849399_0000849399-22-...</td>\n",
       "      <td>&lt;Header&gt;\\n&lt;FileStats&gt;\\n    &lt;FileName&gt;20220520_...</td>\n",
       "      <td>20220520_10-K_edgar_data_849399_0000849399-22-...</td>\n",
       "      <td>neutral</td>\n",
       "      <td>{'neutral': 72, 'positive': 11, 'negative': 16}</td>\n",
       "    </tr>\n",
       "    <tr>\n",
       "      <th>1</th>\n",
       "      <td>2022</td>\n",
       "      <td>QTR2</td>\n",
       "      <td>20220613</td>\n",
       "      <td>2022</td>\n",
       "      <td>6</td>\n",
       "      <td>13</td>\n",
       "      <td>10-K</td>\n",
       "      <td>data</td>\n",
       "      <td>1857910</td>\n",
       "      <td>20220613_10-K_edgar_data_1857910_0001599916-22...</td>\n",
       "      <td>&lt;Header&gt;\\n&lt;FileStats&gt;\\n    &lt;FileName&gt;20220613_...</td>\n",
       "      <td>20220613_10-K_edgar_data_1857910_0001599916-22...</td>\n",
       "      <td>neutral</td>\n",
       "      <td>{'neutral': 27, 'positive': 2, 'negative': 3}</td>\n",
       "    </tr>\n",
       "    <tr>\n",
       "      <th>2</th>\n",
       "      <td>2022</td>\n",
       "      <td>QTR2</td>\n",
       "      <td>20220414</td>\n",
       "      <td>2022</td>\n",
       "      <td>4</td>\n",
       "      <td>14</td>\n",
       "      <td>10-K</td>\n",
       "      <td>data</td>\n",
       "      <td>1855751</td>\n",
       "      <td>20220414_10-K_edgar_data_1855751_0001493152-22...</td>\n",
       "      <td>&lt;Header&gt;\\n&lt;FileStats&gt;\\n    &lt;FileName&gt;20220414_...</td>\n",
       "      <td>20220414_10-K_edgar_data_1855751_0001493152-22...</td>\n",
       "      <td>neutral</td>\n",
       "      <td>{'neutral': 101, 'positive': 4, 'negative': 9}</td>\n",
       "    </tr>\n",
       "    <tr>\n",
       "      <th>3</th>\n",
       "      <td>2022</td>\n",
       "      <td>QTR2</td>\n",
       "      <td>20220404</td>\n",
       "      <td>2022</td>\n",
       "      <td>4</td>\n",
       "      <td>4</td>\n",
       "      <td>10-K</td>\n",
       "      <td>data</td>\n",
       "      <td>748790</td>\n",
       "      <td>20220404_10-K_edgar_data_748790_0001575872-22-...</td>\n",
       "      <td>&lt;Header&gt;\\n&lt;FileStats&gt;\\n    &lt;FileName&gt;20220404_...</td>\n",
       "      <td>20220404_10-K_edgar_data_748790_0001575872-22-...</td>\n",
       "      <td>neutral</td>\n",
       "      <td>{'neutral': 144, 'positive': 13, 'negative': 14}</td>\n",
       "    </tr>\n",
       "    <tr>\n",
       "      <th>4</th>\n",
       "      <td>2022</td>\n",
       "      <td>QTR2</td>\n",
       "      <td>20220408</td>\n",
       "      <td>2022</td>\n",
       "      <td>4</td>\n",
       "      <td>8</td>\n",
       "      <td>10-K</td>\n",
       "      <td>data</td>\n",
       "      <td>1512927</td>\n",
       "      <td>20220408_10-K_edgar_data_1512927_0001410578-22...</td>\n",
       "      <td>&lt;Header&gt;\\n&lt;FileStats&gt;\\n    &lt;FileName&gt;20220408_...</td>\n",
       "      <td>20220408_10-K_edgar_data_1512927_0001410578-22...</td>\n",
       "      <td>neutral</td>\n",
       "      <td>{'neutral': 102, 'positive': 6, 'negative': 9}</td>\n",
       "    </tr>\n",
       "  </tbody>\n",
       "</table>\n",
       "</div>"
      ],
      "text/plain": [
       "   year_folder quarter_folder  filing_date  year  month  day filing_type  \\\n",
       "0         2022           QTR2     20220520  2022      5   20        10-K   \n",
       "1         2022           QTR2     20220613  2022      6   13        10-K   \n",
       "2         2022           QTR2     20220414  2022      4   14        10-K   \n",
       "3         2022           QTR2     20220404  2022      4    4        10-K   \n",
       "4         2022           QTR2     20220408  2022      4    8        10-K   \n",
       "\n",
       "    cik  accession                                           filename  \\\n",
       "0  data     849399  20220520_10-K_edgar_data_849399_0000849399-22-...   \n",
       "1  data    1857910  20220613_10-K_edgar_data_1857910_0001599916-22...   \n",
       "2  data    1855751  20220414_10-K_edgar_data_1855751_0001493152-22...   \n",
       "3  data     748790  20220404_10-K_edgar_data_748790_0001575872-22-...   \n",
       "4  data    1512927  20220408_10-K_edgar_data_1512927_0001410578-22...   \n",
       "\n",
       "                                                text  \\\n",
       "0  <Header>\\n<FileStats>\\n    <FileName>20220520_...   \n",
       "1  <Header>\\n<FileStats>\\n    <FileName>20220613_...   \n",
       "2  <Header>\\n<FileStats>\\n    <FileName>20220414_...   \n",
       "3  <Header>\\n<FileStats>\\n    <FileName>20220404_...   \n",
       "4  <Header>\\n<FileStats>\\n    <FileName>20220408_...   \n",
       "\n",
       "                                        cleaned_text sentiment_result  \\\n",
       "0  20220520_10-K_edgar_data_849399_0000849399-22-...          neutral   \n",
       "1  20220613_10-K_edgar_data_1857910_0001599916-22...          neutral   \n",
       "2  20220414_10-K_edgar_data_1855751_0001493152-22...          neutral   \n",
       "3  20220404_10-K_edgar_data_748790_0001575872-22-...          neutral   \n",
       "4  20220408_10-K_edgar_data_1512927_0001410578-22...          neutral   \n",
       "\n",
       "                                sentiment_breakdown  \n",
       "0   {'neutral': 72, 'positive': 11, 'negative': 16}  \n",
       "1     {'neutral': 27, 'positive': 2, 'negative': 3}  \n",
       "2    {'neutral': 101, 'positive': 4, 'negative': 9}  \n",
       "3  {'neutral': 144, 'positive': 13, 'negative': 14}  \n",
       "4    {'neutral': 102, 'positive': 6, 'negative': 9}  "
      ]
     },
     "execution_count": 16,
     "metadata": {},
     "output_type": "execute_result"
    }
   ],
   "source": [
    "df_1000.head()"
   ]
  },
  {
   "cell_type": "code",
   "execution_count": 17,
   "id": "e186341a",
   "metadata": {},
   "outputs": [],
   "source": [
    "df_1000.to_csv(\"10K_with_sentiment.csv\", index=False)\n",
    "#df_1000[[\"file_name\", \"sentiment_result\", \"sentiment_breakdown\"]].head()"
   ]
  },
  {
   "cell_type": "markdown",
   "id": "2158dcfa",
   "metadata": {},
   "source": [
    "## Using LM lexicon"
   ]
  },
  {
   "cell_type": "code",
   "execution_count": 1,
   "id": "10656ddd-7e65-404c-a47a-2f7937fc4d99",
   "metadata": {},
   "outputs": [],
   "source": [
    "import pandas as pd\n",
    "df = pd.read_csv(\"/Users/nareshchethala/Desktop/University/Spring_25/BAIM_660/Project/10K_filings_all_years.csv\")  #5m 33sec"
   ]
  },
  {
   "cell_type": "code",
   "execution_count": 2,
   "id": "80860415",
   "metadata": {},
   "outputs": [
    {
     "data": {
      "text/html": [
       "<div>\n",
       "<style scoped>\n",
       "    .dataframe tbody tr th:only-of-type {\n",
       "        vertical-align: middle;\n",
       "    }\n",
       "\n",
       "    .dataframe tbody tr th {\n",
       "        vertical-align: top;\n",
       "    }\n",
       "\n",
       "    .dataframe thead th {\n",
       "        text-align: right;\n",
       "    }\n",
       "</style>\n",
       "<table border=\"1\" class=\"dataframe\">\n",
       "  <thead>\n",
       "    <tr style=\"text-align: right;\">\n",
       "      <th></th>\n",
       "      <th>year_folder</th>\n",
       "      <th>quarter_folder</th>\n",
       "      <th>filing_date</th>\n",
       "      <th>year</th>\n",
       "      <th>month</th>\n",
       "      <th>day</th>\n",
       "      <th>filing_type</th>\n",
       "      <th>cik</th>\n",
       "      <th>accession</th>\n",
       "      <th>filename</th>\n",
       "      <th>text</th>\n",
       "    </tr>\n",
       "  </thead>\n",
       "  <tbody>\n",
       "    <tr>\n",
       "      <th>0</th>\n",
       "      <td>2022</td>\n",
       "      <td>QTR2</td>\n",
       "      <td>20220520</td>\n",
       "      <td>2022</td>\n",
       "      <td>5</td>\n",
       "      <td>20</td>\n",
       "      <td>10-K</td>\n",
       "      <td>data</td>\n",
       "      <td>849399</td>\n",
       "      <td>20220520_10-K_edgar_data_849399_0000849399-22-...</td>\n",
       "      <td>&lt;Header&gt;\\n&lt;FileStats&gt;\\n    &lt;FileName&gt;20220520_...</td>\n",
       "    </tr>\n",
       "    <tr>\n",
       "      <th>1</th>\n",
       "      <td>2022</td>\n",
       "      <td>QTR2</td>\n",
       "      <td>20220613</td>\n",
       "      <td>2022</td>\n",
       "      <td>6</td>\n",
       "      <td>13</td>\n",
       "      <td>10-K</td>\n",
       "      <td>data</td>\n",
       "      <td>1857910</td>\n",
       "      <td>20220613_10-K_edgar_data_1857910_0001599916-22...</td>\n",
       "      <td>&lt;Header&gt;\\n&lt;FileStats&gt;\\n    &lt;FileName&gt;20220613_...</td>\n",
       "    </tr>\n",
       "    <tr>\n",
       "      <th>2</th>\n",
       "      <td>2022</td>\n",
       "      <td>QTR2</td>\n",
       "      <td>20220414</td>\n",
       "      <td>2022</td>\n",
       "      <td>4</td>\n",
       "      <td>14</td>\n",
       "      <td>10-K</td>\n",
       "      <td>data</td>\n",
       "      <td>1855751</td>\n",
       "      <td>20220414_10-K_edgar_data_1855751_0001493152-22...</td>\n",
       "      <td>&lt;Header&gt;\\n&lt;FileStats&gt;\\n    &lt;FileName&gt;20220414_...</td>\n",
       "    </tr>\n",
       "    <tr>\n",
       "      <th>3</th>\n",
       "      <td>2022</td>\n",
       "      <td>QTR2</td>\n",
       "      <td>20220404</td>\n",
       "      <td>2022</td>\n",
       "      <td>4</td>\n",
       "      <td>4</td>\n",
       "      <td>10-K</td>\n",
       "      <td>data</td>\n",
       "      <td>748790</td>\n",
       "      <td>20220404_10-K_edgar_data_748790_0001575872-22-...</td>\n",
       "      <td>&lt;Header&gt;\\n&lt;FileStats&gt;\\n    &lt;FileName&gt;20220404_...</td>\n",
       "    </tr>\n",
       "    <tr>\n",
       "      <th>4</th>\n",
       "      <td>2022</td>\n",
       "      <td>QTR2</td>\n",
       "      <td>20220408</td>\n",
       "      <td>2022</td>\n",
       "      <td>4</td>\n",
       "      <td>8</td>\n",
       "      <td>10-K</td>\n",
       "      <td>data</td>\n",
       "      <td>1512927</td>\n",
       "      <td>20220408_10-K_edgar_data_1512927_0001410578-22...</td>\n",
       "      <td>&lt;Header&gt;\\n&lt;FileStats&gt;\\n    &lt;FileName&gt;20220408_...</td>\n",
       "    </tr>\n",
       "  </tbody>\n",
       "</table>\n",
       "</div>"
      ],
      "text/plain": [
       "   year_folder quarter_folder  filing_date  year  month  day filing_type  \\\n",
       "0         2022           QTR2     20220520  2022      5   20        10-K   \n",
       "1         2022           QTR2     20220613  2022      6   13        10-K   \n",
       "2         2022           QTR2     20220414  2022      4   14        10-K   \n",
       "3         2022           QTR2     20220404  2022      4    4        10-K   \n",
       "4         2022           QTR2     20220408  2022      4    8        10-K   \n",
       "\n",
       "    cik  accession                                           filename  \\\n",
       "0  data     849399  20220520_10-K_edgar_data_849399_0000849399-22-...   \n",
       "1  data    1857910  20220613_10-K_edgar_data_1857910_0001599916-22...   \n",
       "2  data    1855751  20220414_10-K_edgar_data_1855751_0001493152-22...   \n",
       "3  data     748790  20220404_10-K_edgar_data_748790_0001575872-22-...   \n",
       "4  data    1512927  20220408_10-K_edgar_data_1512927_0001410578-22...   \n",
       "\n",
       "                                                text  \n",
       "0  <Header>\\n<FileStats>\\n    <FileName>20220520_...  \n",
       "1  <Header>\\n<FileStats>\\n    <FileName>20220613_...  \n",
       "2  <Header>\\n<FileStats>\\n    <FileName>20220414_...  \n",
       "3  <Header>\\n<FileStats>\\n    <FileName>20220404_...  \n",
       "4  <Header>\\n<FileStats>\\n    <FileName>20220408_...  "
      ]
     },
     "execution_count": 2,
     "metadata": {},
     "output_type": "execute_result"
    }
   ],
   "source": [
    "df.head()"
   ]
  },
  {
   "cell_type": "code",
   "execution_count": 3,
   "id": "dc0c0b4e",
   "metadata": {},
   "outputs": [],
   "source": [
    "def basic_cleaner(text):\n",
    "    if pd.isna(text):\n",
    "        return \"\"\n",
    "\n",
    "    # Remove HTML/XML tags\n",
    "    text = re.sub(r'<[^>]+>', ' ', text)\n",
    "\n",
    "    # Remove SEC headers\n",
    "    text = re.sub(r'(?s)<SEC-Header>.*?</SEC-Header>', ' ', text)\n",
    "    text = re.sub(r'(?s)<Header>.*?</Header>', ' ', text)\n",
    "\n",
    "    # Remove file meta like \"file name xyz.txt\"\n",
    "    text = re.sub(r'(?i)file name.*?\\.txt', ' ', text)\n",
    "\n",
    "    # Remove URLs\n",
    "    text = re.sub(r'http\\S+', ' ', text)\n",
    "\n",
    "    # Remove excessive punctuation and underscores\n",
    "    text = re.sub(r'[_*=-]{2,}', ' ', text)\n",
    "\n",
    "    # Collapse multiple newlines and spaces\n",
    "    text = re.sub(r'\\n+', '\\n', text)\n",
    "    text = re.sub(r'\\s{2,}', ' ', text)\n",
    "\n",
    "    return text.strip()"
   ]
  },
  {
   "cell_type": "code",
   "execution_count": 9,
   "id": "59c500c4",
   "metadata": {},
   "outputs": [],
   "source": [
    "df_100=df.head(100)"
   ]
  },
  {
   "cell_type": "code",
   "execution_count": 10,
   "id": "56cdf337",
   "metadata": {},
   "outputs": [
    {
     "name": "stderr",
     "output_type": "stream",
     "text": [
      "/var/folders/w1/vt1xc8rs7w9f0fs5spyxbzcc0000gn/T/ipykernel_56483/4209915209.py:2: SettingWithCopyWarning: \n",
      "A value is trying to be set on a copy of a slice from a DataFrame.\n",
      "Try using .loc[row_indexer,col_indexer] = value instead\n",
      "\n",
      "See the caveats in the documentation: https://pandas.pydata.org/pandas-docs/stable/user_guide/indexing.html#returning-a-view-versus-a-copy\n",
      "  df_100[\"cleaned_text\"] = df_100[\"text\"].apply(basic_cleaner) #10min 32.4\n"
     ]
    }
   ],
   "source": [
    "\n",
    "# Apply initial cleaning\n",
    "df_100[\"cleaned_text\"] = df_100[\"text\"].apply(basic_cleaner) #10min 32.4"
   ]
  },
  {
   "cell_type": "code",
   "execution_count": 10,
   "id": "5df003f2",
   "metadata": {},
   "outputs": [
    {
     "name": "stdout",
     "output_type": "stream",
     "text": [
      "Requirement already satisfied: nltk in /Users/nareshchethala/.virtualenv/project10k/lib/python3.13/site-packages (3.9.1)\n",
      "Requirement already satisfied: click in /Users/nareshchethala/.virtualenv/project10k/lib/python3.13/site-packages (from nltk) (8.1.8)\n",
      "Requirement already satisfied: joblib in /Users/nareshchethala/.virtualenv/project10k/lib/python3.13/site-packages (from nltk) (1.4.2)\n",
      "Requirement already satisfied: regex>=2021.8.3 in /Users/nareshchethala/.virtualenv/project10k/lib/python3.13/site-packages (from nltk) (2024.11.6)\n",
      "Requirement already satisfied: tqdm in /Users/nareshchethala/.virtualenv/project10k/lib/python3.13/site-packages (from nltk) (4.67.1)\n",
      "Note: you may need to restart the kernel to use updated packages.\n"
     ]
    }
   ],
   "source": [
    "pip install nltk"
   ]
  },
  {
   "cell_type": "code",
   "execution_count": 11,
   "id": "cb1d23db",
   "metadata": {},
   "outputs": [
    {
     "name": "stderr",
     "output_type": "stream",
     "text": [
      "[nltk_data] Downloading package stopwords to\n",
      "[nltk_data]     /Users/nareshchethala/nltk_data...\n",
      "[nltk_data]   Package stopwords is already up-to-date!\n"
     ]
    }
   ],
   "source": [
    "# Download stopwords\n",
    "import nltk\n",
    "from nltk.corpus import stopwords\n",
    "nltk.download(\"stopwords\")\n",
    "stop_words = set(stopwords.words(\"english\"))"
   ]
  },
  {
   "cell_type": "code",
   "execution_count": 12,
   "id": "a923c92b",
   "metadata": {},
   "outputs": [
    {
     "name": "stderr",
     "output_type": "stream",
     "text": [
      "/var/folders/w1/vt1xc8rs7w9f0fs5spyxbzcc0000gn/T/ipykernel_56483/1067324900.py:15: SettingWithCopyWarning: \n",
      "A value is trying to be set on a copy of a slice from a DataFrame.\n",
      "Try using .loc[row_indexer,col_indexer] = value instead\n",
      "\n",
      "See the caveats in the documentation: https://pandas.pydata.org/pandas-docs/stable/user_guide/indexing.html#returning-a-view-versus-a-copy\n",
      "  df_100[\"normalized_text\"] = df_100[\"cleaned_text\"].apply(clean_for_lm_modeling)\n"
     ]
    }
   ],
   "source": [
    "# Final preprocessing for LM-based sentiment\n",
    "def clean_for_lm_modeling(text):\n",
    "    if not isinstance(text, str):\n",
    "        return \"\"\n",
    "\n",
    "    text = text.lower()\n",
    "    text = text.encode(\"ascii\", \"ignore\").decode()\n",
    "    text = re.sub(r\"[^\\w\\s]\", \" \", text)\n",
    "    text = re.sub(r\"\\d+\", \" \", text)\n",
    "    words = text.split()\n",
    "    filtered_words = [word for word in words if word not in stop_words]\n",
    "    return \" \".join(filtered_words)\n",
    "\n",
    "# Apply to cleaned_text\n",
    "df_100[\"normalized_text\"] = df_100[\"cleaned_text\"].apply(clean_for_lm_modeling)"
   ]
  },
  {
   "cell_type": "code",
   "execution_count": 13,
   "id": "f5411d03",
   "metadata": {},
   "outputs": [
    {
     "data": {
      "text/html": [
       "<div>\n",
       "<style scoped>\n",
       "    .dataframe tbody tr th:only-of-type {\n",
       "        vertical-align: middle;\n",
       "    }\n",
       "\n",
       "    .dataframe tbody tr th {\n",
       "        vertical-align: top;\n",
       "    }\n",
       "\n",
       "    .dataframe thead th {\n",
       "        text-align: right;\n",
       "    }\n",
       "</style>\n",
       "<table border=\"1\" class=\"dataframe\">\n",
       "  <thead>\n",
       "    <tr style=\"text-align: right;\">\n",
       "      <th></th>\n",
       "      <th>year_folder</th>\n",
       "      <th>quarter_folder</th>\n",
       "      <th>filing_date</th>\n",
       "      <th>year</th>\n",
       "      <th>month</th>\n",
       "      <th>day</th>\n",
       "      <th>filing_type</th>\n",
       "      <th>cik</th>\n",
       "      <th>accession</th>\n",
       "      <th>filename</th>\n",
       "      <th>text</th>\n",
       "      <th>cleaned_text</th>\n",
       "      <th>normalized_text</th>\n",
       "    </tr>\n",
       "  </thead>\n",
       "  <tbody>\n",
       "    <tr>\n",
       "      <th>0</th>\n",
       "      <td>2022</td>\n",
       "      <td>QTR2</td>\n",
       "      <td>20220520</td>\n",
       "      <td>2022</td>\n",
       "      <td>5</td>\n",
       "      <td>20</td>\n",
       "      <td>10-K</td>\n",
       "      <td>data</td>\n",
       "      <td>849399</td>\n",
       "      <td>20220520_10-K_edgar_data_849399_0000849399-22-...</td>\n",
       "      <td>&lt;Header&gt;\\n&lt;FileStats&gt;\\n    &lt;FileName&gt;20220520_...</td>\n",
       "      <td>20220520_10-K_edgar_data_849399_0000849399-22-...</td>\n",
       "      <td>_ k_edgar_data_ _ txt hdr sgml accession numbe...</td>\n",
       "    </tr>\n",
       "    <tr>\n",
       "      <th>1</th>\n",
       "      <td>2022</td>\n",
       "      <td>QTR2</td>\n",
       "      <td>20220613</td>\n",
       "      <td>2022</td>\n",
       "      <td>6</td>\n",
       "      <td>13</td>\n",
       "      <td>10-K</td>\n",
       "      <td>data</td>\n",
       "      <td>1857910</td>\n",
       "      <td>20220613_10-K_edgar_data_1857910_0001599916-22...</td>\n",
       "      <td>&lt;Header&gt;\\n&lt;FileStats&gt;\\n    &lt;FileName&gt;20220613_...</td>\n",
       "      <td>20220613_10-K_edgar_data_1857910_0001599916-22...</td>\n",
       "      <td>_ k_edgar_data_ _ txt hdr sgml accession numbe...</td>\n",
       "    </tr>\n",
       "    <tr>\n",
       "      <th>2</th>\n",
       "      <td>2022</td>\n",
       "      <td>QTR2</td>\n",
       "      <td>20220414</td>\n",
       "      <td>2022</td>\n",
       "      <td>4</td>\n",
       "      <td>14</td>\n",
       "      <td>10-K</td>\n",
       "      <td>data</td>\n",
       "      <td>1855751</td>\n",
       "      <td>20220414_10-K_edgar_data_1855751_0001493152-22...</td>\n",
       "      <td>&lt;Header&gt;\\n&lt;FileStats&gt;\\n    &lt;FileName&gt;20220414_...</td>\n",
       "      <td>20220414_10-K_edgar_data_1855751_0001493152-22...</td>\n",
       "      <td>_ k_edgar_data_ _ txt hdr sgml accession numbe...</td>\n",
       "    </tr>\n",
       "    <tr>\n",
       "      <th>3</th>\n",
       "      <td>2022</td>\n",
       "      <td>QTR2</td>\n",
       "      <td>20220404</td>\n",
       "      <td>2022</td>\n",
       "      <td>4</td>\n",
       "      <td>4</td>\n",
       "      <td>10-K</td>\n",
       "      <td>data</td>\n",
       "      <td>748790</td>\n",
       "      <td>20220404_10-K_edgar_data_748790_0001575872-22-...</td>\n",
       "      <td>&lt;Header&gt;\\n&lt;FileStats&gt;\\n    &lt;FileName&gt;20220404_...</td>\n",
       "      <td>20220404_10-K_edgar_data_748790_0001575872-22-...</td>\n",
       "      <td>_ k_edgar_data_ _ txt hdr sgml accession numbe...</td>\n",
       "    </tr>\n",
       "    <tr>\n",
       "      <th>4</th>\n",
       "      <td>2022</td>\n",
       "      <td>QTR2</td>\n",
       "      <td>20220408</td>\n",
       "      <td>2022</td>\n",
       "      <td>4</td>\n",
       "      <td>8</td>\n",
       "      <td>10-K</td>\n",
       "      <td>data</td>\n",
       "      <td>1512927</td>\n",
       "      <td>20220408_10-K_edgar_data_1512927_0001410578-22...</td>\n",
       "      <td>&lt;Header&gt;\\n&lt;FileStats&gt;\\n    &lt;FileName&gt;20220408_...</td>\n",
       "      <td>20220408_10-K_edgar_data_1512927_0001410578-22...</td>\n",
       "      <td>_ k_edgar_data_ _ txt hdr sgml accession numbe...</td>\n",
       "    </tr>\n",
       "  </tbody>\n",
       "</table>\n",
       "</div>"
      ],
      "text/plain": [
       "   year_folder quarter_folder  filing_date  year  month  day filing_type  \\\n",
       "0         2022           QTR2     20220520  2022      5   20        10-K   \n",
       "1         2022           QTR2     20220613  2022      6   13        10-K   \n",
       "2         2022           QTR2     20220414  2022      4   14        10-K   \n",
       "3         2022           QTR2     20220404  2022      4    4        10-K   \n",
       "4         2022           QTR2     20220408  2022      4    8        10-K   \n",
       "\n",
       "    cik  accession                                           filename  \\\n",
       "0  data     849399  20220520_10-K_edgar_data_849399_0000849399-22-...   \n",
       "1  data    1857910  20220613_10-K_edgar_data_1857910_0001599916-22...   \n",
       "2  data    1855751  20220414_10-K_edgar_data_1855751_0001493152-22...   \n",
       "3  data     748790  20220404_10-K_edgar_data_748790_0001575872-22-...   \n",
       "4  data    1512927  20220408_10-K_edgar_data_1512927_0001410578-22...   \n",
       "\n",
       "                                                text  \\\n",
       "0  <Header>\\n<FileStats>\\n    <FileName>20220520_...   \n",
       "1  <Header>\\n<FileStats>\\n    <FileName>20220613_...   \n",
       "2  <Header>\\n<FileStats>\\n    <FileName>20220414_...   \n",
       "3  <Header>\\n<FileStats>\\n    <FileName>20220404_...   \n",
       "4  <Header>\\n<FileStats>\\n    <FileName>20220408_...   \n",
       "\n",
       "                                        cleaned_text  \\\n",
       "0  20220520_10-K_edgar_data_849399_0000849399-22-...   \n",
       "1  20220613_10-K_edgar_data_1857910_0001599916-22...   \n",
       "2  20220414_10-K_edgar_data_1855751_0001493152-22...   \n",
       "3  20220404_10-K_edgar_data_748790_0001575872-22-...   \n",
       "4  20220408_10-K_edgar_data_1512927_0001410578-22...   \n",
       "\n",
       "                                     normalized_text  \n",
       "0  _ k_edgar_data_ _ txt hdr sgml accession numbe...  \n",
       "1  _ k_edgar_data_ _ txt hdr sgml accession numbe...  \n",
       "2  _ k_edgar_data_ _ txt hdr sgml accession numbe...  \n",
       "3  _ k_edgar_data_ _ txt hdr sgml accession numbe...  \n",
       "4  _ k_edgar_data_ _ txt hdr sgml accession numbe...  "
      ]
     },
     "execution_count": 13,
     "metadata": {},
     "output_type": "execute_result"
    }
   ],
   "source": [
    "df_100.head()"
   ]
  },
  {
   "cell_type": "code",
   "execution_count": null,
   "id": "adb72f59",
   "metadata": {},
   "outputs": [],
   "source": [
    "#df_1000 = df.head(1000).copy()"
   ]
  },
  {
   "cell_type": "code",
   "execution_count": null,
   "id": "549ad98a",
   "metadata": {},
   "outputs": [
    {
     "data": {
      "text/html": [
       "<div>\n",
       "<style scoped>\n",
       "    .dataframe tbody tr th:only-of-type {\n",
       "        vertical-align: middle;\n",
       "    }\n",
       "\n",
       "    .dataframe tbody tr th {\n",
       "        vertical-align: top;\n",
       "    }\n",
       "\n",
       "    .dataframe thead th {\n",
       "        text-align: right;\n",
       "    }\n",
       "</style>\n",
       "<table border=\"1\" class=\"dataframe\">\n",
       "  <thead>\n",
       "    <tr style=\"text-align: right;\">\n",
       "      <th></th>\n",
       "      <th>year_folder</th>\n",
       "      <th>quarter_folder</th>\n",
       "      <th>filing_date</th>\n",
       "      <th>year</th>\n",
       "      <th>month</th>\n",
       "      <th>day</th>\n",
       "      <th>filing_type</th>\n",
       "      <th>cik</th>\n",
       "      <th>accession</th>\n",
       "      <th>filename</th>\n",
       "      <th>text</th>\n",
       "      <th>cleaned_text</th>\n",
       "      <th>normalized_text</th>\n",
       "    </tr>\n",
       "  </thead>\n",
       "  <tbody>\n",
       "    <tr>\n",
       "      <th>0</th>\n",
       "      <td>2022</td>\n",
       "      <td>QTR2</td>\n",
       "      <td>20220520</td>\n",
       "      <td>2022</td>\n",
       "      <td>5</td>\n",
       "      <td>20</td>\n",
       "      <td>10-K</td>\n",
       "      <td>data</td>\n",
       "      <td>849399</td>\n",
       "      <td>20220520_10-K_edgar_data_849399_0000849399-22-...</td>\n",
       "      <td>&lt;Header&gt;\\n&lt;FileStats&gt;\\n    &lt;FileName&gt;20220520_...</td>\n",
       "      <td>20220520_10-K_edgar_data_849399_0000849399-22-...</td>\n",
       "      <td>_ k_edgar_data_ _ txt hdr sgml accession numbe...</td>\n",
       "    </tr>\n",
       "    <tr>\n",
       "      <th>1</th>\n",
       "      <td>2022</td>\n",
       "      <td>QTR2</td>\n",
       "      <td>20220613</td>\n",
       "      <td>2022</td>\n",
       "      <td>6</td>\n",
       "      <td>13</td>\n",
       "      <td>10-K</td>\n",
       "      <td>data</td>\n",
       "      <td>1857910</td>\n",
       "      <td>20220613_10-K_edgar_data_1857910_0001599916-22...</td>\n",
       "      <td>&lt;Header&gt;\\n&lt;FileStats&gt;\\n    &lt;FileName&gt;20220613_...</td>\n",
       "      <td>20220613_10-K_edgar_data_1857910_0001599916-22...</td>\n",
       "      <td>_ k_edgar_data_ _ txt hdr sgml accession numbe...</td>\n",
       "    </tr>\n",
       "    <tr>\n",
       "      <th>2</th>\n",
       "      <td>2022</td>\n",
       "      <td>QTR2</td>\n",
       "      <td>20220414</td>\n",
       "      <td>2022</td>\n",
       "      <td>4</td>\n",
       "      <td>14</td>\n",
       "      <td>10-K</td>\n",
       "      <td>data</td>\n",
       "      <td>1855751</td>\n",
       "      <td>20220414_10-K_edgar_data_1855751_0001493152-22...</td>\n",
       "      <td>&lt;Header&gt;\\n&lt;FileStats&gt;\\n    &lt;FileName&gt;20220414_...</td>\n",
       "      <td>20220414_10-K_edgar_data_1855751_0001493152-22...</td>\n",
       "      <td>_ k_edgar_data_ _ txt hdr sgml accession numbe...</td>\n",
       "    </tr>\n",
       "    <tr>\n",
       "      <th>3</th>\n",
       "      <td>2022</td>\n",
       "      <td>QTR2</td>\n",
       "      <td>20220404</td>\n",
       "      <td>2022</td>\n",
       "      <td>4</td>\n",
       "      <td>4</td>\n",
       "      <td>10-K</td>\n",
       "      <td>data</td>\n",
       "      <td>748790</td>\n",
       "      <td>20220404_10-K_edgar_data_748790_0001575872-22-...</td>\n",
       "      <td>&lt;Header&gt;\\n&lt;FileStats&gt;\\n    &lt;FileName&gt;20220404_...</td>\n",
       "      <td>20220404_10-K_edgar_data_748790_0001575872-22-...</td>\n",
       "      <td>_ k_edgar_data_ _ txt hdr sgml accession numbe...</td>\n",
       "    </tr>\n",
       "    <tr>\n",
       "      <th>4</th>\n",
       "      <td>2022</td>\n",
       "      <td>QTR2</td>\n",
       "      <td>20220408</td>\n",
       "      <td>2022</td>\n",
       "      <td>4</td>\n",
       "      <td>8</td>\n",
       "      <td>10-K</td>\n",
       "      <td>data</td>\n",
       "      <td>1512927</td>\n",
       "      <td>20220408_10-K_edgar_data_1512927_0001410578-22...</td>\n",
       "      <td>&lt;Header&gt;\\n&lt;FileStats&gt;\\n    &lt;FileName&gt;20220408_...</td>\n",
       "      <td>20220408_10-K_edgar_data_1512927_0001410578-22...</td>\n",
       "      <td>_ k_edgar_data_ _ txt hdr sgml accession numbe...</td>\n",
       "    </tr>\n",
       "  </tbody>\n",
       "</table>\n",
       "</div>"
      ],
      "text/plain": [
       "   year_folder quarter_folder  filing_date  year  month  day filing_type  \\\n",
       "0         2022           QTR2     20220520  2022      5   20        10-K   \n",
       "1         2022           QTR2     20220613  2022      6   13        10-K   \n",
       "2         2022           QTR2     20220414  2022      4   14        10-K   \n",
       "3         2022           QTR2     20220404  2022      4    4        10-K   \n",
       "4         2022           QTR2     20220408  2022      4    8        10-K   \n",
       "\n",
       "    cik  accession                                           filename  \\\n",
       "0  data     849399  20220520_10-K_edgar_data_849399_0000849399-22-...   \n",
       "1  data    1857910  20220613_10-K_edgar_data_1857910_0001599916-22...   \n",
       "2  data    1855751  20220414_10-K_edgar_data_1855751_0001493152-22...   \n",
       "3  data     748790  20220404_10-K_edgar_data_748790_0001575872-22-...   \n",
       "4  data    1512927  20220408_10-K_edgar_data_1512927_0001410578-22...   \n",
       "\n",
       "                                                text  \\\n",
       "0  <Header>\\n<FileStats>\\n    <FileName>20220520_...   \n",
       "1  <Header>\\n<FileStats>\\n    <FileName>20220613_...   \n",
       "2  <Header>\\n<FileStats>\\n    <FileName>20220414_...   \n",
       "3  <Header>\\n<FileStats>\\n    <FileName>20220404_...   \n",
       "4  <Header>\\n<FileStats>\\n    <FileName>20220408_...   \n",
       "\n",
       "                                        cleaned_text  \\\n",
       "0  20220520_10-K_edgar_data_849399_0000849399-22-...   \n",
       "1  20220613_10-K_edgar_data_1857910_0001599916-22...   \n",
       "2  20220414_10-K_edgar_data_1855751_0001493152-22...   \n",
       "3  20220404_10-K_edgar_data_748790_0001575872-22-...   \n",
       "4  20220408_10-K_edgar_data_1512927_0001410578-22...   \n",
       "\n",
       "                                     normalized_text  \n",
       "0  _ k_edgar_data_ _ txt hdr sgml accession numbe...  \n",
       "1  _ k_edgar_data_ _ txt hdr sgml accession numbe...  \n",
       "2  _ k_edgar_data_ _ txt hdr sgml accession numbe...  \n",
       "3  _ k_edgar_data_ _ txt hdr sgml accession numbe...  \n",
       "4  _ k_edgar_data_ _ txt hdr sgml accession numbe...  "
      ]
     },
     "execution_count": 15,
     "metadata": {},
     "output_type": "execute_result"
    }
   ],
   "source": [
    "#df_1000.head()"
   ]
  },
  {
   "cell_type": "code",
   "execution_count": 14,
   "id": "85776789",
   "metadata": {},
   "outputs": [],
   "source": [
    "lm_df = pd.read_csv(\"/Users/nareshchethala/Desktop/University/Spring_25/BAIM_660/Project/Loughran-McDonald_MasterDictionary_1993-2024.csv\")"
   ]
  },
  {
   "cell_type": "code",
   "execution_count": 15,
   "id": "3d999d18",
   "metadata": {},
   "outputs": [],
   "source": [
    "# Load dictionary and lowercase words\n",
    "lm_df[\"Word\"] = lm_df[\"Word\"].str.lower()"
   ]
  },
  {
   "cell_type": "code",
   "execution_count": 16,
   "id": "25044f55",
   "metadata": {},
   "outputs": [
    {
     "data": {
      "text/html": [
       "<div>\n",
       "<style scoped>\n",
       "    .dataframe tbody tr th:only-of-type {\n",
       "        vertical-align: middle;\n",
       "    }\n",
       "\n",
       "    .dataframe tbody tr th {\n",
       "        vertical-align: top;\n",
       "    }\n",
       "\n",
       "    .dataframe thead th {\n",
       "        text-align: right;\n",
       "    }\n",
       "</style>\n",
       "<table border=\"1\" class=\"dataframe\">\n",
       "  <thead>\n",
       "    <tr style=\"text-align: right;\">\n",
       "      <th></th>\n",
       "      <th>Word</th>\n",
       "      <th>Seq_num</th>\n",
       "      <th>Word Count</th>\n",
       "      <th>Word Proportion</th>\n",
       "      <th>Average Proportion</th>\n",
       "      <th>Std Dev</th>\n",
       "      <th>Doc Count</th>\n",
       "      <th>Negative</th>\n",
       "      <th>Positive</th>\n",
       "      <th>Uncertainty</th>\n",
       "      <th>Litigious</th>\n",
       "      <th>Strong_Modal</th>\n",
       "      <th>Weak_Modal</th>\n",
       "      <th>Constraining</th>\n",
       "      <th>Complexity</th>\n",
       "      <th>Syllables</th>\n",
       "      <th>Source</th>\n",
       "    </tr>\n",
       "  </thead>\n",
       "  <tbody>\n",
       "    <tr>\n",
       "      <th>0</th>\n",
       "      <td>aardvark</td>\n",
       "      <td>1</td>\n",
       "      <td>755</td>\n",
       "      <td>2.955070e-08</td>\n",
       "      <td>1.945421e-08</td>\n",
       "      <td>4.078069e-06</td>\n",
       "      <td>140</td>\n",
       "      <td>0</td>\n",
       "      <td>0</td>\n",
       "      <td>0</td>\n",
       "      <td>0</td>\n",
       "      <td>0</td>\n",
       "      <td>0</td>\n",
       "      <td>0</td>\n",
       "      <td>0</td>\n",
       "      <td>2</td>\n",
       "      <td>12of12inf</td>\n",
       "    </tr>\n",
       "    <tr>\n",
       "      <th>1</th>\n",
       "      <td>aardvarks</td>\n",
       "      <td>2</td>\n",
       "      <td>3</td>\n",
       "      <td>1.174200e-10</td>\n",
       "      <td>8.060019e-12</td>\n",
       "      <td>8.919011e-09</td>\n",
       "      <td>1</td>\n",
       "      <td>0</td>\n",
       "      <td>0</td>\n",
       "      <td>0</td>\n",
       "      <td>0</td>\n",
       "      <td>0</td>\n",
       "      <td>0</td>\n",
       "      <td>0</td>\n",
       "      <td>0</td>\n",
       "      <td>2</td>\n",
       "      <td>12of12inf</td>\n",
       "    </tr>\n",
       "    <tr>\n",
       "      <th>2</th>\n",
       "      <td>abaci</td>\n",
       "      <td>3</td>\n",
       "      <td>9</td>\n",
       "      <td>3.522600e-10</td>\n",
       "      <td>1.089343e-10</td>\n",
       "      <td>5.105359e-08</td>\n",
       "      <td>7</td>\n",
       "      <td>0</td>\n",
       "      <td>0</td>\n",
       "      <td>0</td>\n",
       "      <td>0</td>\n",
       "      <td>0</td>\n",
       "      <td>0</td>\n",
       "      <td>0</td>\n",
       "      <td>0</td>\n",
       "      <td>3</td>\n",
       "      <td>12of12inf</td>\n",
       "    </tr>\n",
       "    <tr>\n",
       "      <th>3</th>\n",
       "      <td>aback</td>\n",
       "      <td>4</td>\n",
       "      <td>29</td>\n",
       "      <td>1.135060e-09</td>\n",
       "      <td>6.197922e-10</td>\n",
       "      <td>1.539279e-07</td>\n",
       "      <td>28</td>\n",
       "      <td>0</td>\n",
       "      <td>0</td>\n",
       "      <td>0</td>\n",
       "      <td>0</td>\n",
       "      <td>0</td>\n",
       "      <td>0</td>\n",
       "      <td>0</td>\n",
       "      <td>0</td>\n",
       "      <td>2</td>\n",
       "      <td>12of12inf</td>\n",
       "    </tr>\n",
       "    <tr>\n",
       "      <th>4</th>\n",
       "      <td>abacus</td>\n",
       "      <td>5</td>\n",
       "      <td>9620</td>\n",
       "      <td>3.765268e-07</td>\n",
       "      <td>3.825261e-07</td>\n",
       "      <td>3.421836e-05</td>\n",
       "      <td>1295</td>\n",
       "      <td>0</td>\n",
       "      <td>0</td>\n",
       "      <td>0</td>\n",
       "      <td>0</td>\n",
       "      <td>0</td>\n",
       "      <td>0</td>\n",
       "      <td>0</td>\n",
       "      <td>0</td>\n",
       "      <td>3</td>\n",
       "      <td>12of12inf</td>\n",
       "    </tr>\n",
       "    <tr>\n",
       "      <th>5</th>\n",
       "      <td>abacuses</td>\n",
       "      <td>6</td>\n",
       "      <td>0</td>\n",
       "      <td>0.000000e+00</td>\n",
       "      <td>0.000000e+00</td>\n",
       "      <td>0.000000e+00</td>\n",
       "      <td>0</td>\n",
       "      <td>0</td>\n",
       "      <td>0</td>\n",
       "      <td>0</td>\n",
       "      <td>0</td>\n",
       "      <td>0</td>\n",
       "      <td>0</td>\n",
       "      <td>0</td>\n",
       "      <td>0</td>\n",
       "      <td>4</td>\n",
       "      <td>12of12inf</td>\n",
       "    </tr>\n",
       "    <tr>\n",
       "      <th>6</th>\n",
       "      <td>abaft</td>\n",
       "      <td>7</td>\n",
       "      <td>4</td>\n",
       "      <td>1.565600e-10</td>\n",
       "      <td>2.144787e-11</td>\n",
       "      <td>2.373367e-08</td>\n",
       "      <td>1</td>\n",
       "      <td>0</td>\n",
       "      <td>0</td>\n",
       "      <td>0</td>\n",
       "      <td>0</td>\n",
       "      <td>0</td>\n",
       "      <td>0</td>\n",
       "      <td>0</td>\n",
       "      <td>0</td>\n",
       "      <td>2</td>\n",
       "      <td>12of12inf</td>\n",
       "    </tr>\n",
       "    <tr>\n",
       "      <th>7</th>\n",
       "      <td>abalone</td>\n",
       "      <td>8</td>\n",
       "      <td>149</td>\n",
       "      <td>5.831860e-09</td>\n",
       "      <td>4.729504e-09</td>\n",
       "      <td>1.031859e-06</td>\n",
       "      <td>52</td>\n",
       "      <td>0</td>\n",
       "      <td>0</td>\n",
       "      <td>0</td>\n",
       "      <td>0</td>\n",
       "      <td>0</td>\n",
       "      <td>0</td>\n",
       "      <td>0</td>\n",
       "      <td>0</td>\n",
       "      <td>4</td>\n",
       "      <td>12of12inf</td>\n",
       "    </tr>\n",
       "    <tr>\n",
       "      <th>8</th>\n",
       "      <td>abalones</td>\n",
       "      <td>9</td>\n",
       "      <td>1</td>\n",
       "      <td>3.914000e-11</td>\n",
       "      <td>7.715206e-11</td>\n",
       "      <td>8.537449e-08</td>\n",
       "      <td>1</td>\n",
       "      <td>0</td>\n",
       "      <td>0</td>\n",
       "      <td>0</td>\n",
       "      <td>0</td>\n",
       "      <td>0</td>\n",
       "      <td>0</td>\n",
       "      <td>0</td>\n",
       "      <td>0</td>\n",
       "      <td>4</td>\n",
       "      <td>12of12inf</td>\n",
       "    </tr>\n",
       "    <tr>\n",
       "      <th>9</th>\n",
       "      <td>abandon</td>\n",
       "      <td>10</td>\n",
       "      <td>154158</td>\n",
       "      <td>6.033745e-06</td>\n",
       "      <td>4.824004e-06</td>\n",
       "      <td>3.261271e-05</td>\n",
       "      <td>76324</td>\n",
       "      <td>2009</td>\n",
       "      <td>0</td>\n",
       "      <td>0</td>\n",
       "      <td>0</td>\n",
       "      <td>0</td>\n",
       "      <td>0</td>\n",
       "      <td>0</td>\n",
       "      <td>0</td>\n",
       "      <td>3</td>\n",
       "      <td>12of12inf</td>\n",
       "    </tr>\n",
       "  </tbody>\n",
       "</table>\n",
       "</div>"
      ],
      "text/plain": [
       "        Word  Seq_num  Word Count  Word Proportion  Average Proportion  \\\n",
       "0   aardvark        1         755     2.955070e-08        1.945421e-08   \n",
       "1  aardvarks        2           3     1.174200e-10        8.060019e-12   \n",
       "2      abaci        3           9     3.522600e-10        1.089343e-10   \n",
       "3      aback        4          29     1.135060e-09        6.197922e-10   \n",
       "4     abacus        5        9620     3.765268e-07        3.825261e-07   \n",
       "5   abacuses        6           0     0.000000e+00        0.000000e+00   \n",
       "6      abaft        7           4     1.565600e-10        2.144787e-11   \n",
       "7    abalone        8         149     5.831860e-09        4.729504e-09   \n",
       "8   abalones        9           1     3.914000e-11        7.715206e-11   \n",
       "9    abandon       10      154158     6.033745e-06        4.824004e-06   \n",
       "\n",
       "        Std Dev  Doc Count  Negative  Positive  Uncertainty  Litigious  \\\n",
       "0  4.078069e-06        140         0         0            0          0   \n",
       "1  8.919011e-09          1         0         0            0          0   \n",
       "2  5.105359e-08          7         0         0            0          0   \n",
       "3  1.539279e-07         28         0         0            0          0   \n",
       "4  3.421836e-05       1295         0         0            0          0   \n",
       "5  0.000000e+00          0         0         0            0          0   \n",
       "6  2.373367e-08          1         0         0            0          0   \n",
       "7  1.031859e-06         52         0         0            0          0   \n",
       "8  8.537449e-08          1         0         0            0          0   \n",
       "9  3.261271e-05      76324      2009         0            0          0   \n",
       "\n",
       "   Strong_Modal  Weak_Modal  Constraining  Complexity  Syllables     Source  \n",
       "0             0           0             0           0          2  12of12inf  \n",
       "1             0           0             0           0          2  12of12inf  \n",
       "2             0           0             0           0          3  12of12inf  \n",
       "3             0           0             0           0          2  12of12inf  \n",
       "4             0           0             0           0          3  12of12inf  \n",
       "5             0           0             0           0          4  12of12inf  \n",
       "6             0           0             0           0          2  12of12inf  \n",
       "7             0           0             0           0          4  12of12inf  \n",
       "8             0           0             0           0          4  12of12inf  \n",
       "9             0           0             0           0          3  12of12inf  "
      ]
     },
     "metadata": {},
     "output_type": "display_data"
    }
   ],
   "source": [
    "display(lm_df.head(10))"
   ]
  },
  {
   "cell_type": "code",
   "execution_count": null,
   "id": "a0aa2109",
   "metadata": {},
   "outputs": [],
   "source": [
    "# Mapping column names to simplified category names\n",
    "category_columns = {\n",
    "    \"positive\": \"Positive\",\n",
    "    \"negative\": \"Negative\",\n",
    "    \"uncertainty\": \"Uncertainty\",\n",
    "    \"litigious\": \"Litigious\",\n",
    "    \"strong_modal\": \"Strong_Modal\",\n",
    "    \"weak_modal\": \"Weak_Modal\",\n",
    "    \"constraining\": \"Constraining\"\n",
    "}\n",
    "\n",
    "# Create a dictionary of category sets\n",
    "lm_lexicons = {\n",
    "    category: set(lm_df[lm_df[col] > 0][\"Word\"].str.lower())\n",
    "    for category, col in category_columns.items()\n",
    "}"
   ]
  },
  {
   "cell_type": "code",
   "execution_count": 19,
   "id": "bd3886c9",
   "metadata": {},
   "outputs": [],
   "source": [
    "# Mapping column names to simplified category names\n",
    "category_columns = {\n",
    "    \"positive\": \"Positive\",\n",
    "    \"negative\": \"Negative\",\n",
    "}\n",
    "\n",
    "# Create a dictionary of category sets\n",
    "lm_lexicons = {\n",
    "    category: set(lm_df[lm_df[col] > 0][\"Word\"].str.lower())\n",
    "    for category, col in category_columns.items()\n",
    "}"
   ]
  },
  {
   "cell_type": "code",
   "execution_count": 20,
   "id": "1272a966",
   "metadata": {},
   "outputs": [],
   "source": [
    "import re\n",
    "from collections import defaultdict\n",
    "\n",
    "def lm_sentiment_all_classes(text):\n",
    "    words = re.findall(r'\\b\\w+\\b', text.lower())\n",
    "    counts = defaultdict(int)\n",
    "\n",
    "    for word in words:\n",
    "        for category, word_set in lm_lexicons.items():\n",
    "            if word in word_set:\n",
    "                counts[category] += 1\n",
    "\n",
    "    return dict(counts)"
   ]
  },
  {
   "cell_type": "code",
   "execution_count": 21,
   "id": "c3575b21",
   "metadata": {},
   "outputs": [
    {
     "name": "stderr",
     "output_type": "stream",
     "text": [
      "/var/folders/w1/vt1xc8rs7w9f0fs5spyxbzcc0000gn/T/ipykernel_56483/3426006730.py:1: SettingWithCopyWarning: \n",
      "A value is trying to be set on a copy of a slice from a DataFrame.\n",
      "Try using .loc[row_indexer,col_indexer] = value instead\n",
      "\n",
      "See the caveats in the documentation: https://pandas.pydata.org/pandas-docs/stable/user_guide/indexing.html#returning-a-view-versus-a-copy\n",
      "  df_100[\"lm_sentiment_breakdown\"] = df_100[\"normalized_text\"].apply(lm_sentiment_all_classes)\n"
     ]
    }
   ],
   "source": [
    "df_100[\"lm_sentiment_breakdown\"] = df_100[\"normalized_text\"].apply(lm_sentiment_all_classes)"
   ]
  },
  {
   "cell_type": "code",
   "execution_count": 22,
   "id": "a4542f51",
   "metadata": {},
   "outputs": [
    {
     "data": {
      "text/html": [
       "<div>\n",
       "<style scoped>\n",
       "    .dataframe tbody tr th:only-of-type {\n",
       "        vertical-align: middle;\n",
       "    }\n",
       "\n",
       "    .dataframe tbody tr th {\n",
       "        vertical-align: top;\n",
       "    }\n",
       "\n",
       "    .dataframe thead th {\n",
       "        text-align: right;\n",
       "    }\n",
       "</style>\n",
       "<table border=\"1\" class=\"dataframe\">\n",
       "  <thead>\n",
       "    <tr style=\"text-align: right;\">\n",
       "      <th></th>\n",
       "      <th>year_folder</th>\n",
       "      <th>quarter_folder</th>\n",
       "      <th>filing_date</th>\n",
       "      <th>year</th>\n",
       "      <th>month</th>\n",
       "      <th>day</th>\n",
       "      <th>filing_type</th>\n",
       "      <th>cik</th>\n",
       "      <th>accession</th>\n",
       "      <th>filename</th>\n",
       "      <th>text</th>\n",
       "      <th>cleaned_text</th>\n",
       "      <th>normalized_text</th>\n",
       "      <th>lm_sentiment_breakdown</th>\n",
       "    </tr>\n",
       "  </thead>\n",
       "  <tbody>\n",
       "    <tr>\n",
       "      <th>0</th>\n",
       "      <td>2022</td>\n",
       "      <td>QTR2</td>\n",
       "      <td>20220520</td>\n",
       "      <td>2022</td>\n",
       "      <td>5</td>\n",
       "      <td>20</td>\n",
       "      <td>10-K</td>\n",
       "      <td>data</td>\n",
       "      <td>849399</td>\n",
       "      <td>20220520_10-K_edgar_data_849399_0000849399-22-...</td>\n",
       "      <td>&lt;Header&gt;\\n&lt;FileStats&gt;\\n    &lt;FileName&gt;20220520_...</td>\n",
       "      <td>20220520_10-K_edgar_data_849399_0000849399-22-...</td>\n",
       "      <td>_ k_edgar_data_ _ txt hdr sgml accession numbe...</td>\n",
       "      <td>{'positive': 279, 'negative': 1082}</td>\n",
       "    </tr>\n",
       "    <tr>\n",
       "      <th>1</th>\n",
       "      <td>2022</td>\n",
       "      <td>QTR2</td>\n",
       "      <td>20220613</td>\n",
       "      <td>2022</td>\n",
       "      <td>6</td>\n",
       "      <td>13</td>\n",
       "      <td>10-K</td>\n",
       "      <td>data</td>\n",
       "      <td>1857910</td>\n",
       "      <td>20220613_10-K_edgar_data_1857910_0001599916-22...</td>\n",
       "      <td>&lt;Header&gt;\\n&lt;FileStats&gt;\\n    &lt;FileName&gt;20220613_...</td>\n",
       "      <td>20220613_10-K_edgar_data_1857910_0001599916-22...</td>\n",
       "      <td>_ k_edgar_data_ _ txt hdr sgml accession numbe...</td>\n",
       "      <td>{'negative': 163, 'positive': 59}</td>\n",
       "    </tr>\n",
       "    <tr>\n",
       "      <th>2</th>\n",
       "      <td>2022</td>\n",
       "      <td>QTR2</td>\n",
       "      <td>20220414</td>\n",
       "      <td>2022</td>\n",
       "      <td>4</td>\n",
       "      <td>14</td>\n",
       "      <td>10-K</td>\n",
       "      <td>data</td>\n",
       "      <td>1855751</td>\n",
       "      <td>20220414_10-K_edgar_data_1855751_0001493152-22...</td>\n",
       "      <td>&lt;Header&gt;\\n&lt;FileStats&gt;\\n    &lt;FileName&gt;20220414_...</td>\n",
       "      <td>20220414_10-K_edgar_data_1855751_0001493152-22...</td>\n",
       "      <td>_ k_edgar_data_ _ txt hdr sgml accession numbe...</td>\n",
       "      <td>{'negative': 741, 'positive': 275}</td>\n",
       "    </tr>\n",
       "    <tr>\n",
       "      <th>3</th>\n",
       "      <td>2022</td>\n",
       "      <td>QTR2</td>\n",
       "      <td>20220404</td>\n",
       "      <td>2022</td>\n",
       "      <td>4</td>\n",
       "      <td>4</td>\n",
       "      <td>10-K</td>\n",
       "      <td>data</td>\n",
       "      <td>748790</td>\n",
       "      <td>20220404_10-K_edgar_data_748790_0001575872-22-...</td>\n",
       "      <td>&lt;Header&gt;\\n&lt;FileStats&gt;\\n    &lt;FileName&gt;20220404_...</td>\n",
       "      <td>20220404_10-K_edgar_data_748790_0001575872-22-...</td>\n",
       "      <td>_ k_edgar_data_ _ txt hdr sgml accession numbe...</td>\n",
       "      <td>{'negative': 1192, 'positive': 349}</td>\n",
       "    </tr>\n",
       "    <tr>\n",
       "      <th>4</th>\n",
       "      <td>2022</td>\n",
       "      <td>QTR2</td>\n",
       "      <td>20220408</td>\n",
       "      <td>2022</td>\n",
       "      <td>4</td>\n",
       "      <td>8</td>\n",
       "      <td>10-K</td>\n",
       "      <td>data</td>\n",
       "      <td>1512927</td>\n",
       "      <td>20220408_10-K_edgar_data_1512927_0001410578-22...</td>\n",
       "      <td>&lt;Header&gt;\\n&lt;FileStats&gt;\\n    &lt;FileName&gt;20220408_...</td>\n",
       "      <td>20220408_10-K_edgar_data_1512927_0001410578-22...</td>\n",
       "      <td>_ k_edgar_data_ _ txt hdr sgml accession numbe...</td>\n",
       "      <td>{'negative': 507, 'positive': 289}</td>\n",
       "    </tr>\n",
       "  </tbody>\n",
       "</table>\n",
       "</div>"
      ],
      "text/plain": [
       "   year_folder quarter_folder  filing_date  year  month  day filing_type  \\\n",
       "0         2022           QTR2     20220520  2022      5   20        10-K   \n",
       "1         2022           QTR2     20220613  2022      6   13        10-K   \n",
       "2         2022           QTR2     20220414  2022      4   14        10-K   \n",
       "3         2022           QTR2     20220404  2022      4    4        10-K   \n",
       "4         2022           QTR2     20220408  2022      4    8        10-K   \n",
       "\n",
       "    cik  accession                                           filename  \\\n",
       "0  data     849399  20220520_10-K_edgar_data_849399_0000849399-22-...   \n",
       "1  data    1857910  20220613_10-K_edgar_data_1857910_0001599916-22...   \n",
       "2  data    1855751  20220414_10-K_edgar_data_1855751_0001493152-22...   \n",
       "3  data     748790  20220404_10-K_edgar_data_748790_0001575872-22-...   \n",
       "4  data    1512927  20220408_10-K_edgar_data_1512927_0001410578-22...   \n",
       "\n",
       "                                                text  \\\n",
       "0  <Header>\\n<FileStats>\\n    <FileName>20220520_...   \n",
       "1  <Header>\\n<FileStats>\\n    <FileName>20220613_...   \n",
       "2  <Header>\\n<FileStats>\\n    <FileName>20220414_...   \n",
       "3  <Header>\\n<FileStats>\\n    <FileName>20220404_...   \n",
       "4  <Header>\\n<FileStats>\\n    <FileName>20220408_...   \n",
       "\n",
       "                                        cleaned_text  \\\n",
       "0  20220520_10-K_edgar_data_849399_0000849399-22-...   \n",
       "1  20220613_10-K_edgar_data_1857910_0001599916-22...   \n",
       "2  20220414_10-K_edgar_data_1855751_0001493152-22...   \n",
       "3  20220404_10-K_edgar_data_748790_0001575872-22-...   \n",
       "4  20220408_10-K_edgar_data_1512927_0001410578-22...   \n",
       "\n",
       "                                     normalized_text  \\\n",
       "0  _ k_edgar_data_ _ txt hdr sgml accession numbe...   \n",
       "1  _ k_edgar_data_ _ txt hdr sgml accession numbe...   \n",
       "2  _ k_edgar_data_ _ txt hdr sgml accession numbe...   \n",
       "3  _ k_edgar_data_ _ txt hdr sgml accession numbe...   \n",
       "4  _ k_edgar_data_ _ txt hdr sgml accession numbe...   \n",
       "\n",
       "                lm_sentiment_breakdown  \n",
       "0  {'positive': 279, 'negative': 1082}  \n",
       "1    {'negative': 163, 'positive': 59}  \n",
       "2   {'negative': 741, 'positive': 275}  \n",
       "3  {'negative': 1192, 'positive': 349}  \n",
       "4   {'negative': 507, 'positive': 289}  "
      ]
     },
     "execution_count": 22,
     "metadata": {},
     "output_type": "execute_result"
    }
   ],
   "source": [
    "df_100.head()"
   ]
  },
  {
   "cell_type": "code",
   "execution_count": 23,
   "id": "6ecfb911",
   "metadata": {},
   "outputs": [
    {
     "data": {
      "text/html": [
       "<div>\n",
       "<style scoped>\n",
       "    .dataframe tbody tr th:only-of-type {\n",
       "        vertical-align: middle;\n",
       "    }\n",
       "\n",
       "    .dataframe tbody tr th {\n",
       "        vertical-align: top;\n",
       "    }\n",
       "\n",
       "    .dataframe thead th {\n",
       "        text-align: right;\n",
       "    }\n",
       "</style>\n",
       "<table border=\"1\" class=\"dataframe\">\n",
       "  <thead>\n",
       "    <tr style=\"text-align: right;\">\n",
       "      <th></th>\n",
       "      <th>filename</th>\n",
       "      <th>lm_sentiment_breakdown</th>\n",
       "    </tr>\n",
       "  </thead>\n",
       "  <tbody>\n",
       "    <tr>\n",
       "      <th>0</th>\n",
       "      <td>20220520_10-K_edgar_data_849399_0000849399-22-...</td>\n",
       "      <td>{'positive': 279, 'negative': 1082}</td>\n",
       "    </tr>\n",
       "    <tr>\n",
       "      <th>1</th>\n",
       "      <td>20220613_10-K_edgar_data_1857910_0001599916-22...</td>\n",
       "      <td>{'negative': 163, 'positive': 59}</td>\n",
       "    </tr>\n",
       "    <tr>\n",
       "      <th>2</th>\n",
       "      <td>20220414_10-K_edgar_data_1855751_0001493152-22...</td>\n",
       "      <td>{'negative': 741, 'positive': 275}</td>\n",
       "    </tr>\n",
       "    <tr>\n",
       "      <th>3</th>\n",
       "      <td>20220404_10-K_edgar_data_748790_0001575872-22-...</td>\n",
       "      <td>{'negative': 1192, 'positive': 349}</td>\n",
       "    </tr>\n",
       "    <tr>\n",
       "      <th>4</th>\n",
       "      <td>20220408_10-K_edgar_data_1512927_0001410578-22...</td>\n",
       "      <td>{'negative': 507, 'positive': 289}</td>\n",
       "    </tr>\n",
       "    <tr>\n",
       "      <th>5</th>\n",
       "      <td>20220401_10-K_edgar_data_1511820_0001493152-22...</td>\n",
       "      <td>{'negative': 203, 'positive': 39}</td>\n",
       "    </tr>\n",
       "    <tr>\n",
       "      <th>6</th>\n",
       "      <td>20220429_10-K_edgar_data_1676047_0001213900-22...</td>\n",
       "      <td>{'negative': 897, 'positive': 285}</td>\n",
       "    </tr>\n",
       "    <tr>\n",
       "      <th>7</th>\n",
       "      <td>20220414_10-K_edgar_data_1637866_0001493152-22...</td>\n",
       "      <td>{'negative': 633, 'positive': 263}</td>\n",
       "    </tr>\n",
       "    <tr>\n",
       "      <th>8</th>\n",
       "      <td>20220413_10-K_edgar_data_1868269_0001104659-22...</td>\n",
       "      <td>{'negative': 1061, 'positive': 465}</td>\n",
       "    </tr>\n",
       "    <tr>\n",
       "      <th>9</th>\n",
       "      <td>20220412_10-K_edgar_data_1652958_0001683168-22...</td>\n",
       "      <td>{'negative': 822, 'positive': 147}</td>\n",
       "    </tr>\n",
       "  </tbody>\n",
       "</table>\n",
       "</div>"
      ],
      "text/plain": [
       "                                            filename  \\\n",
       "0  20220520_10-K_edgar_data_849399_0000849399-22-...   \n",
       "1  20220613_10-K_edgar_data_1857910_0001599916-22...   \n",
       "2  20220414_10-K_edgar_data_1855751_0001493152-22...   \n",
       "3  20220404_10-K_edgar_data_748790_0001575872-22-...   \n",
       "4  20220408_10-K_edgar_data_1512927_0001410578-22...   \n",
       "5  20220401_10-K_edgar_data_1511820_0001493152-22...   \n",
       "6  20220429_10-K_edgar_data_1676047_0001213900-22...   \n",
       "7  20220414_10-K_edgar_data_1637866_0001493152-22...   \n",
       "8  20220413_10-K_edgar_data_1868269_0001104659-22...   \n",
       "9  20220412_10-K_edgar_data_1652958_0001683168-22...   \n",
       "\n",
       "                lm_sentiment_breakdown  \n",
       "0  {'positive': 279, 'negative': 1082}  \n",
       "1    {'negative': 163, 'positive': 59}  \n",
       "2   {'negative': 741, 'positive': 275}  \n",
       "3  {'negative': 1192, 'positive': 349}  \n",
       "4   {'negative': 507, 'positive': 289}  \n",
       "5    {'negative': 203, 'positive': 39}  \n",
       "6   {'negative': 897, 'positive': 285}  \n",
       "7   {'negative': 633, 'positive': 263}  \n",
       "8  {'negative': 1061, 'positive': 465}  \n",
       "9   {'negative': 822, 'positive': 147}  "
      ]
     },
     "execution_count": 23,
     "metadata": {},
     "output_type": "execute_result"
    }
   ],
   "source": [
    "df_100[[\"filename\", \"lm_sentiment_breakdown\"]].head(10)"
   ]
  },
  {
   "cell_type": "code",
   "execution_count": 27,
   "id": "6f2edd16",
   "metadata": {},
   "outputs": [],
   "source": [
    "df_1000.to_csv(\"10K_with_lm_sentiment_1000.csv\", index=False)"
   ]
  },
  {
   "cell_type": "code",
   "execution_count": 24,
   "id": "e5e8933a",
   "metadata": {},
   "outputs": [
    {
     "name": "stderr",
     "output_type": "stream",
     "text": [
      "/var/folders/w1/vt1xc8rs7w9f0fs5spyxbzcc0000gn/T/ipykernel_56483/1919811944.py:6: SettingWithCopyWarning: \n",
      "A value is trying to be set on a copy of a slice from a DataFrame.\n",
      "Try using .loc[row_indexer,col_indexer] = value instead\n",
      "\n",
      "See the caveats in the documentation: https://pandas.pydata.org/pandas-docs/stable/user_guide/indexing.html#returning-a-view-versus-a-copy\n",
      "  df_100[\"lm_dominant_sentiment\"] = df_100[\"lm_sentiment_breakdown\"].apply(dominant_lm_category)\n"
     ]
    }
   ],
   "source": [
    "def dominant_lm_category(counts_dict):\n",
    "    if not counts_dict:\n",
    "        return \"NEUTRAL\"\n",
    "    return max(counts_dict.items(), key=lambda x: x[1])[0].upper()\n",
    "\n",
    "df_100[\"lm_dominant_sentiment\"] = df_100[\"lm_sentiment_breakdown\"].apply(dominant_lm_category)"
   ]
  },
  {
   "cell_type": "code",
   "execution_count": 25,
   "id": "da00f573",
   "metadata": {},
   "outputs": [
    {
     "data": {
      "text/html": [
       "<div>\n",
       "<style scoped>\n",
       "    .dataframe tbody tr th:only-of-type {\n",
       "        vertical-align: middle;\n",
       "    }\n",
       "\n",
       "    .dataframe tbody tr th {\n",
       "        vertical-align: top;\n",
       "    }\n",
       "\n",
       "    .dataframe thead th {\n",
       "        text-align: right;\n",
       "    }\n",
       "</style>\n",
       "<table border=\"1\" class=\"dataframe\">\n",
       "  <thead>\n",
       "    <tr style=\"text-align: right;\">\n",
       "      <th></th>\n",
       "      <th>filename</th>\n",
       "      <th>lm_dominant_sentiment</th>\n",
       "    </tr>\n",
       "  </thead>\n",
       "  <tbody>\n",
       "    <tr>\n",
       "      <th>0</th>\n",
       "      <td>20220520_10-K_edgar_data_849399_0000849399-22-...</td>\n",
       "      <td>NEGATIVE</td>\n",
       "    </tr>\n",
       "    <tr>\n",
       "      <th>1</th>\n",
       "      <td>20220613_10-K_edgar_data_1857910_0001599916-22...</td>\n",
       "      <td>NEGATIVE</td>\n",
       "    </tr>\n",
       "    <tr>\n",
       "      <th>2</th>\n",
       "      <td>20220414_10-K_edgar_data_1855751_0001493152-22...</td>\n",
       "      <td>NEGATIVE</td>\n",
       "    </tr>\n",
       "    <tr>\n",
       "      <th>3</th>\n",
       "      <td>20220404_10-K_edgar_data_748790_0001575872-22-...</td>\n",
       "      <td>NEGATIVE</td>\n",
       "    </tr>\n",
       "    <tr>\n",
       "      <th>4</th>\n",
       "      <td>20220408_10-K_edgar_data_1512927_0001410578-22...</td>\n",
       "      <td>NEGATIVE</td>\n",
       "    </tr>\n",
       "    <tr>\n",
       "      <th>5</th>\n",
       "      <td>20220401_10-K_edgar_data_1511820_0001493152-22...</td>\n",
       "      <td>NEGATIVE</td>\n",
       "    </tr>\n",
       "    <tr>\n",
       "      <th>6</th>\n",
       "      <td>20220429_10-K_edgar_data_1676047_0001213900-22...</td>\n",
       "      <td>NEGATIVE</td>\n",
       "    </tr>\n",
       "    <tr>\n",
       "      <th>7</th>\n",
       "      <td>20220414_10-K_edgar_data_1637866_0001493152-22...</td>\n",
       "      <td>NEGATIVE</td>\n",
       "    </tr>\n",
       "    <tr>\n",
       "      <th>8</th>\n",
       "      <td>20220413_10-K_edgar_data_1868269_0001104659-22...</td>\n",
       "      <td>NEGATIVE</td>\n",
       "    </tr>\n",
       "    <tr>\n",
       "      <th>9</th>\n",
       "      <td>20220412_10-K_edgar_data_1652958_0001683168-22...</td>\n",
       "      <td>NEGATIVE</td>\n",
       "    </tr>\n",
       "  </tbody>\n",
       "</table>\n",
       "</div>"
      ],
      "text/plain": [
       "                                            filename lm_dominant_sentiment\n",
       "0  20220520_10-K_edgar_data_849399_0000849399-22-...              NEGATIVE\n",
       "1  20220613_10-K_edgar_data_1857910_0001599916-22...              NEGATIVE\n",
       "2  20220414_10-K_edgar_data_1855751_0001493152-22...              NEGATIVE\n",
       "3  20220404_10-K_edgar_data_748790_0001575872-22-...              NEGATIVE\n",
       "4  20220408_10-K_edgar_data_1512927_0001410578-22...              NEGATIVE\n",
       "5  20220401_10-K_edgar_data_1511820_0001493152-22...              NEGATIVE\n",
       "6  20220429_10-K_edgar_data_1676047_0001213900-22...              NEGATIVE\n",
       "7  20220414_10-K_edgar_data_1637866_0001493152-22...              NEGATIVE\n",
       "8  20220413_10-K_edgar_data_1868269_0001104659-22...              NEGATIVE\n",
       "9  20220412_10-K_edgar_data_1652958_0001683168-22...              NEGATIVE"
      ]
     },
     "execution_count": 25,
     "metadata": {},
     "output_type": "execute_result"
    }
   ],
   "source": [
    "df_100[[\"filename\", \"lm_dominant_sentiment\"]].head(10)"
   ]
  },
  {
   "cell_type": "code",
   "execution_count": 28,
   "id": "df8663f1",
   "metadata": {},
   "outputs": [
    {
     "name": "stdout",
     "output_type": "stream",
     "text": [
      "<class 'pandas.core.frame.DataFrame'>\n",
      "RangeIndex: 100 entries, 0 to 99\n",
      "Data columns (total 15 columns):\n",
      " #   Column                  Non-Null Count  Dtype \n",
      "---  ------                  --------------  ----- \n",
      " 0   year_folder             100 non-null    int64 \n",
      " 1   quarter_folder          100 non-null    object\n",
      " 2   filing_date             100 non-null    int64 \n",
      " 3   year                    100 non-null    int64 \n",
      " 4   month                   100 non-null    int64 \n",
      " 5   day                     100 non-null    int64 \n",
      " 6   filing_type             100 non-null    object\n",
      " 7   cik                     100 non-null    object\n",
      " 8   accession               100 non-null    int64 \n",
      " 9   filename                100 non-null    object\n",
      " 10  text                    100 non-null    object\n",
      " 11  cleaned_text            100 non-null    object\n",
      " 12  normalized_text         100 non-null    object\n",
      " 13  lm_sentiment_breakdown  100 non-null    object\n",
      " 14  lm_dominant_sentiment   100 non-null    object\n",
      "dtypes: int64(6), object(9)\n",
      "memory usage: 11.8+ KB\n"
     ]
    }
   ],
   "source": [
    "df_100.info()"
   ]
  },
  {
   "cell_type": "code",
   "execution_count": 30,
   "id": "feb3f0a6",
   "metadata": {},
   "outputs": [
    {
     "data": {
      "text/plain": [
       "count          100\n",
       "unique           1\n",
       "top       NEGATIVE\n",
       "freq           100\n",
       "Name: lm_dominant_sentiment, dtype: object"
      ]
     },
     "execution_count": 30,
     "metadata": {},
     "output_type": "execute_result"
    }
   ],
   "source": [
    "df_100[\"lm_dominant_sentiment\"].describe()"
   ]
  },
  {
   "cell_type": "code",
   "execution_count": null,
   "id": "dc0d8771",
   "metadata": {},
   "outputs": [],
   "source": []
  }
 ],
 "metadata": {
  "kernelspec": {
   "display_name": "Project10K",
   "language": "python",
   "name": "project10k"
  },
  "language_info": {
   "codemirror_mode": {
    "name": "ipython",
    "version": 3
   },
   "file_extension": ".py",
   "mimetype": "text/x-python",
   "name": "python",
   "nbconvert_exporter": "python",
   "pygments_lexer": "ipython3",
   "version": "3.13.0"
  }
 },
 "nbformat": 4,
 "nbformat_minor": 5
}
